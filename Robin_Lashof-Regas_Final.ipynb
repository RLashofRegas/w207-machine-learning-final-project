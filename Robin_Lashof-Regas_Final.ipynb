{
  "nbformat": 4,
  "nbformat_minor": 0,
  "metadata": {
    "colab": {
      "name": "Untitled0.ipynb",
      "provenance": [],
      "collapsed_sections": []
    },
    "kernelspec": {
      "name": "python3",
      "display_name": "Python 3"
    }
  },
  "cells": [
    {
      "cell_type": "code",
      "metadata": {
        "id": "zifcD9RhmIoS",
        "colab_type": "code",
        "outputId": "48a88adf-fb33-489c-e681-dca1cb670638",
        "colab": {
          "resources": {
            "http://localhost:8080/nbextensions/google.colab/files.js": {
              "data": "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",
              "ok": true,
              "headers": [
                [
                  "content-type",
                  "application/javascript"
                ]
              ],
              "status": 200,
              "status_text": ""
            }
          },
          "base_uri": "https://localhost:8080/",
          "height": 108
        }
      },
      "source": [
        "# load data files\n",
        "# execute this cell and choose train.csv and test.csv\n",
        "from google.colab import files\n",
        "uploaded = files.upload()"
      ],
      "execution_count": 2,
      "outputs": [
        {
          "output_type": "display_data",
          "data": {
            "text/html": [
              "\n",
              "     <input type=\"file\" id=\"files-ea35406c-80b5-4739-ab93-9a9f07f732a0\" name=\"files[]\" multiple disabled />\n",
              "     <output id=\"result-ea35406c-80b5-4739-ab93-9a9f07f732a0\">\n",
              "      Upload widget is only available when the cell has been executed in the\n",
              "      current browser session. Please rerun this cell to enable.\n",
              "      </output>\n",
              "      <script src=\"/nbextensions/google.colab/files.js\"></script> "
            ],
            "text/plain": [
              "<IPython.core.display.HTML object>"
            ]
          },
          "metadata": {
            "tags": []
          }
        },
        {
          "output_type": "stream",
          "text": [
            "Saving test.csv to test.csv\n",
            "Saving train.csv to train.csv\n"
          ],
          "name": "stdout"
        }
      ]
    },
    {
      "cell_type": "code",
      "metadata": {
        "id": "3rfqUoGix3xL",
        "colab_type": "code",
        "colab": {}
      },
      "source": [
        "# imports\n",
        "import pandas as pd\n",
        "import io\n",
        "import seaborn as sb\n",
        "import numpy as np\n",
        "import matplotlib.pyplot as plt\n",
        "from sklearn.linear_model import LinearRegression, Lasso, LassoCV\n",
        "from sklearn.metrics import mean_squared_log_error\n",
        "from math import sqrt, log, exp\n",
        "from sklearn.preprocessing import LabelEncoder, OrdinalEncoder\n",
        "from sklearn.decomposition import PCA\n",
        "from sklearn.svm import SVR\n",
        "from sklearn.neural_network import MLPRegressor"
      ],
      "execution_count": 0,
      "outputs": []
    },
    {
      "cell_type": "code",
      "metadata": {
        "id": "r9oo9GJvySZ9",
        "colab_type": "code",
        "colab": {}
      },
      "source": [
        "# load data into dataframes\n",
        "train_raw = pd.read_csv(io.StringIO(uploaded['train.csv'].decode('utf-8'))).sample(frac=1).reset_index(drop=True)\n",
        "train_data = train_raw[:1000]\n",
        "test_data = train_raw[1000:]"
      ],
      "execution_count": 0,
      "outputs": []
    },
    {
      "cell_type": "code",
      "metadata": {
        "id": "mMSf1_imPlPH",
        "colab_type": "code",
        "outputId": "dbd59881-41ed-4036-b619-997b1c6ef239",
        "colab": {
          "base_uri": "https://localhost:8080/",
          "height": 439
        }
      },
      "source": [
        "# inspect columns\n",
        "train_data"
      ],
      "execution_count": 176,
      "outputs": [
        {
          "output_type": "execute_result",
          "data": {
            "text/html": [
              "<div>\n",
              "<style scoped>\n",
              "    .dataframe tbody tr th:only-of-type {\n",
              "        vertical-align: middle;\n",
              "    }\n",
              "\n",
              "    .dataframe tbody tr th {\n",
              "        vertical-align: top;\n",
              "    }\n",
              "\n",
              "    .dataframe thead th {\n",
              "        text-align: right;\n",
              "    }\n",
              "</style>\n",
              "<table border=\"1\" class=\"dataframe\">\n",
              "  <thead>\n",
              "    <tr style=\"text-align: right;\">\n",
              "      <th></th>\n",
              "      <th>Id</th>\n",
              "      <th>MSSubClass</th>\n",
              "      <th>MSZoning</th>\n",
              "      <th>LotFrontage</th>\n",
              "      <th>LotArea</th>\n",
              "      <th>Street</th>\n",
              "      <th>Alley</th>\n",
              "      <th>LotShape</th>\n",
              "      <th>LandContour</th>\n",
              "      <th>Utilities</th>\n",
              "      <th>LotConfig</th>\n",
              "      <th>LandSlope</th>\n",
              "      <th>Neighborhood</th>\n",
              "      <th>Condition1</th>\n",
              "      <th>Condition2</th>\n",
              "      <th>BldgType</th>\n",
              "      <th>HouseStyle</th>\n",
              "      <th>OverallQual</th>\n",
              "      <th>OverallCond</th>\n",
              "      <th>YearBuilt</th>\n",
              "      <th>YearRemodAdd</th>\n",
              "      <th>RoofStyle</th>\n",
              "      <th>RoofMatl</th>\n",
              "      <th>Exterior1st</th>\n",
              "      <th>Exterior2nd</th>\n",
              "      <th>MasVnrType</th>\n",
              "      <th>MasVnrArea</th>\n",
              "      <th>ExterQual</th>\n",
              "      <th>ExterCond</th>\n",
              "      <th>Foundation</th>\n",
              "      <th>BsmtQual</th>\n",
              "      <th>BsmtCond</th>\n",
              "      <th>BsmtExposure</th>\n",
              "      <th>BsmtFinType1</th>\n",
              "      <th>BsmtFinSF1</th>\n",
              "      <th>BsmtFinType2</th>\n",
              "      <th>BsmtFinSF2</th>\n",
              "      <th>BsmtUnfSF</th>\n",
              "      <th>TotalBsmtSF</th>\n",
              "      <th>Heating</th>\n",
              "      <th>HeatingQC</th>\n",
              "      <th>CentralAir</th>\n",
              "      <th>Electrical</th>\n",
              "      <th>1stFlrSF</th>\n",
              "      <th>2ndFlrSF</th>\n",
              "      <th>LowQualFinSF</th>\n",
              "      <th>GrLivArea</th>\n",
              "      <th>BsmtFullBath</th>\n",
              "      <th>BsmtHalfBath</th>\n",
              "      <th>FullBath</th>\n",
              "      <th>HalfBath</th>\n",
              "      <th>BedroomAbvGr</th>\n",
              "      <th>KitchenAbvGr</th>\n",
              "      <th>KitchenQual</th>\n",
              "      <th>TotRmsAbvGrd</th>\n",
              "      <th>Functional</th>\n",
              "      <th>Fireplaces</th>\n",
              "      <th>FireplaceQu</th>\n",
              "      <th>GarageType</th>\n",
              "      <th>GarageYrBlt</th>\n",
              "      <th>GarageFinish</th>\n",
              "      <th>GarageCars</th>\n",
              "      <th>GarageArea</th>\n",
              "      <th>GarageQual</th>\n",
              "      <th>GarageCond</th>\n",
              "      <th>PavedDrive</th>\n",
              "      <th>WoodDeckSF</th>\n",
              "      <th>OpenPorchSF</th>\n",
              "      <th>EnclosedPorch</th>\n",
              "      <th>3SsnPorch</th>\n",
              "      <th>ScreenPorch</th>\n",
              "      <th>PoolArea</th>\n",
              "      <th>PoolQC</th>\n",
              "      <th>Fence</th>\n",
              "      <th>MiscFeature</th>\n",
              "      <th>MiscVal</th>\n",
              "      <th>MoSold</th>\n",
              "      <th>YrSold</th>\n",
              "      <th>SaleType</th>\n",
              "      <th>SaleCondition</th>\n",
              "      <th>SalePrice</th>\n",
              "    </tr>\n",
              "  </thead>\n",
              "  <tbody>\n",
              "    <tr>\n",
              "      <th>0</th>\n",
              "      <td>506</td>\n",
              "      <td>90</td>\n",
              "      <td>RM</td>\n",
              "      <td>60.0</td>\n",
              "      <td>7596</td>\n",
              "      <td>Pave</td>\n",
              "      <td>Grvl</td>\n",
              "      <td>Reg</td>\n",
              "      <td>Lvl</td>\n",
              "      <td>AllPub</td>\n",
              "      <td>Inside</td>\n",
              "      <td>Gtl</td>\n",
              "      <td>OldTown</td>\n",
              "      <td>Artery</td>\n",
              "      <td>Norm</td>\n",
              "      <td>Duplex</td>\n",
              "      <td>2Story</td>\n",
              "      <td>5</td>\n",
              "      <td>5</td>\n",
              "      <td>1952</td>\n",
              "      <td>1952</td>\n",
              "      <td>Hip</td>\n",
              "      <td>CompShg</td>\n",
              "      <td>Wd Sdng</td>\n",
              "      <td>Wd Sdng</td>\n",
              "      <td>BrkFace</td>\n",
              "      <td>360.0</td>\n",
              "      <td>TA</td>\n",
              "      <td>TA</td>\n",
              "      <td>CBlock</td>\n",
              "      <td>TA</td>\n",
              "      <td>TA</td>\n",
              "      <td>No</td>\n",
              "      <td>Unf</td>\n",
              "      <td>0</td>\n",
              "      <td>Unf</td>\n",
              "      <td>0</td>\n",
              "      <td>960</td>\n",
              "      <td>960</td>\n",
              "      <td>GasA</td>\n",
              "      <td>Gd</td>\n",
              "      <td>Y</td>\n",
              "      <td>SBrkr</td>\n",
              "      <td>960</td>\n",
              "      <td>1000</td>\n",
              "      <td>0</td>\n",
              "      <td>1960</td>\n",
              "      <td>0</td>\n",
              "      <td>0</td>\n",
              "      <td>2</td>\n",
              "      <td>0</td>\n",
              "      <td>4</td>\n",
              "      <td>2</td>\n",
              "      <td>TA</td>\n",
              "      <td>10</td>\n",
              "      <td>Typ</td>\n",
              "      <td>0</td>\n",
              "      <td>NaN</td>\n",
              "      <td>Detchd</td>\n",
              "      <td>1952.0</td>\n",
              "      <td>Unf</td>\n",
              "      <td>2</td>\n",
              "      <td>400</td>\n",
              "      <td>TA</td>\n",
              "      <td>TA</td>\n",
              "      <td>N</td>\n",
              "      <td>0</td>\n",
              "      <td>0</td>\n",
              "      <td>0</td>\n",
              "      <td>0</td>\n",
              "      <td>0</td>\n",
              "      <td>0</td>\n",
              "      <td>NaN</td>\n",
              "      <td>NaN</td>\n",
              "      <td>NaN</td>\n",
              "      <td>0</td>\n",
              "      <td>7</td>\n",
              "      <td>2009</td>\n",
              "      <td>COD</td>\n",
              "      <td>Normal</td>\n",
              "      <td>124500</td>\n",
              "    </tr>\n",
              "    <tr>\n",
              "      <th>1</th>\n",
              "      <td>590</td>\n",
              "      <td>40</td>\n",
              "      <td>RM</td>\n",
              "      <td>50.0</td>\n",
              "      <td>9100</td>\n",
              "      <td>Pave</td>\n",
              "      <td>NaN</td>\n",
              "      <td>Reg</td>\n",
              "      <td>Lvl</td>\n",
              "      <td>AllPub</td>\n",
              "      <td>Inside</td>\n",
              "      <td>Gtl</td>\n",
              "      <td>BrkSide</td>\n",
              "      <td>RRAn</td>\n",
              "      <td>Feedr</td>\n",
              "      <td>1Fam</td>\n",
              "      <td>1Story</td>\n",
              "      <td>5</td>\n",
              "      <td>6</td>\n",
              "      <td>1930</td>\n",
              "      <td>1960</td>\n",
              "      <td>Gable</td>\n",
              "      <td>CompShg</td>\n",
              "      <td>VinylSd</td>\n",
              "      <td>VinylSd</td>\n",
              "      <td>None</td>\n",
              "      <td>0.0</td>\n",
              "      <td>TA</td>\n",
              "      <td>TA</td>\n",
              "      <td>BrkTil</td>\n",
              "      <td>TA</td>\n",
              "      <td>TA</td>\n",
              "      <td>No</td>\n",
              "      <td>Unf</td>\n",
              "      <td>0</td>\n",
              "      <td>Unf</td>\n",
              "      <td>0</td>\n",
              "      <td>742</td>\n",
              "      <td>742</td>\n",
              "      <td>GasA</td>\n",
              "      <td>TA</td>\n",
              "      <td>Y</td>\n",
              "      <td>FuseA</td>\n",
              "      <td>779</td>\n",
              "      <td>0</td>\n",
              "      <td>156</td>\n",
              "      <td>935</td>\n",
              "      <td>0</td>\n",
              "      <td>0</td>\n",
              "      <td>1</td>\n",
              "      <td>0</td>\n",
              "      <td>2</td>\n",
              "      <td>1</td>\n",
              "      <td>TA</td>\n",
              "      <td>4</td>\n",
              "      <td>Typ</td>\n",
              "      <td>0</td>\n",
              "      <td>NaN</td>\n",
              "      <td>Detchd</td>\n",
              "      <td>1988.0</td>\n",
              "      <td>Unf</td>\n",
              "      <td>1</td>\n",
              "      <td>308</td>\n",
              "      <td>TA</td>\n",
              "      <td>TA</td>\n",
              "      <td>P</td>\n",
              "      <td>0</td>\n",
              "      <td>0</td>\n",
              "      <td>0</td>\n",
              "      <td>0</td>\n",
              "      <td>0</td>\n",
              "      <td>0</td>\n",
              "      <td>NaN</td>\n",
              "      <td>NaN</td>\n",
              "      <td>Shed</td>\n",
              "      <td>600</td>\n",
              "      <td>8</td>\n",
              "      <td>2008</td>\n",
              "      <td>WD</td>\n",
              "      <td>Normal</td>\n",
              "      <td>79500</td>\n",
              "    </tr>\n",
              "    <tr>\n",
              "      <th>2</th>\n",
              "      <td>487</td>\n",
              "      <td>20</td>\n",
              "      <td>RL</td>\n",
              "      <td>79.0</td>\n",
              "      <td>10289</td>\n",
              "      <td>Pave</td>\n",
              "      <td>NaN</td>\n",
              "      <td>Reg</td>\n",
              "      <td>Lvl</td>\n",
              "      <td>AllPub</td>\n",
              "      <td>Inside</td>\n",
              "      <td>Gtl</td>\n",
              "      <td>NAmes</td>\n",
              "      <td>Norm</td>\n",
              "      <td>Norm</td>\n",
              "      <td>1Fam</td>\n",
              "      <td>1Story</td>\n",
              "      <td>5</td>\n",
              "      <td>7</td>\n",
              "      <td>1965</td>\n",
              "      <td>1965</td>\n",
              "      <td>Hip</td>\n",
              "      <td>CompShg</td>\n",
              "      <td>MetalSd</td>\n",
              "      <td>MetalSd</td>\n",
              "      <td>BrkFace</td>\n",
              "      <td>168.0</td>\n",
              "      <td>TA</td>\n",
              "      <td>TA</td>\n",
              "      <td>CBlock</td>\n",
              "      <td>TA</td>\n",
              "      <td>TA</td>\n",
              "      <td>No</td>\n",
              "      <td>ALQ</td>\n",
              "      <td>836</td>\n",
              "      <td>Unf</td>\n",
              "      <td>0</td>\n",
              "      <td>237</td>\n",
              "      <td>1073</td>\n",
              "      <td>GasA</td>\n",
              "      <td>TA</td>\n",
              "      <td>Y</td>\n",
              "      <td>SBrkr</td>\n",
              "      <td>1073</td>\n",
              "      <td>0</td>\n",
              "      <td>0</td>\n",
              "      <td>1073</td>\n",
              "      <td>1</td>\n",
              "      <td>0</td>\n",
              "      <td>1</td>\n",
              "      <td>1</td>\n",
              "      <td>3</td>\n",
              "      <td>1</td>\n",
              "      <td>TA</td>\n",
              "      <td>6</td>\n",
              "      <td>Typ</td>\n",
              "      <td>0</td>\n",
              "      <td>NaN</td>\n",
              "      <td>Attchd</td>\n",
              "      <td>1965.0</td>\n",
              "      <td>RFn</td>\n",
              "      <td>2</td>\n",
              "      <td>515</td>\n",
              "      <td>TA</td>\n",
              "      <td>TA</td>\n",
              "      <td>Y</td>\n",
              "      <td>0</td>\n",
              "      <td>0</td>\n",
              "      <td>0</td>\n",
              "      <td>0</td>\n",
              "      <td>0</td>\n",
              "      <td>0</td>\n",
              "      <td>NaN</td>\n",
              "      <td>NaN</td>\n",
              "      <td>NaN</td>\n",
              "      <td>0</td>\n",
              "      <td>6</td>\n",
              "      <td>2007</td>\n",
              "      <td>WD</td>\n",
              "      <td>Normal</td>\n",
              "      <td>156000</td>\n",
              "    </tr>\n",
              "    <tr>\n",
              "      <th>3</th>\n",
              "      <td>206</td>\n",
              "      <td>20</td>\n",
              "      <td>RL</td>\n",
              "      <td>99.0</td>\n",
              "      <td>11851</td>\n",
              "      <td>Pave</td>\n",
              "      <td>NaN</td>\n",
              "      <td>Reg</td>\n",
              "      <td>Lvl</td>\n",
              "      <td>AllPub</td>\n",
              "      <td>Corner</td>\n",
              "      <td>Gtl</td>\n",
              "      <td>Gilbert</td>\n",
              "      <td>Norm</td>\n",
              "      <td>Norm</td>\n",
              "      <td>1Fam</td>\n",
              "      <td>1Story</td>\n",
              "      <td>7</td>\n",
              "      <td>5</td>\n",
              "      <td>1990</td>\n",
              "      <td>1990</td>\n",
              "      <td>Gable</td>\n",
              "      <td>CompShg</td>\n",
              "      <td>HdBoard</td>\n",
              "      <td>HdBoard</td>\n",
              "      <td>None</td>\n",
              "      <td>0.0</td>\n",
              "      <td>TA</td>\n",
              "      <td>TA</td>\n",
              "      <td>PConc</td>\n",
              "      <td>Gd</td>\n",
              "      <td>TA</td>\n",
              "      <td>No</td>\n",
              "      <td>Unf</td>\n",
              "      <td>0</td>\n",
              "      <td>Unf</td>\n",
              "      <td>0</td>\n",
              "      <td>1424</td>\n",
              "      <td>1424</td>\n",
              "      <td>GasA</td>\n",
              "      <td>Ex</td>\n",
              "      <td>Y</td>\n",
              "      <td>SBrkr</td>\n",
              "      <td>1442</td>\n",
              "      <td>0</td>\n",
              "      <td>0</td>\n",
              "      <td>1442</td>\n",
              "      <td>0</td>\n",
              "      <td>0</td>\n",
              "      <td>2</td>\n",
              "      <td>0</td>\n",
              "      <td>3</td>\n",
              "      <td>1</td>\n",
              "      <td>TA</td>\n",
              "      <td>5</td>\n",
              "      <td>Typ</td>\n",
              "      <td>0</td>\n",
              "      <td>NaN</td>\n",
              "      <td>Attchd</td>\n",
              "      <td>1990.0</td>\n",
              "      <td>RFn</td>\n",
              "      <td>2</td>\n",
              "      <td>500</td>\n",
              "      <td>TA</td>\n",
              "      <td>TA</td>\n",
              "      <td>Y</td>\n",
              "      <td>0</td>\n",
              "      <td>34</td>\n",
              "      <td>0</td>\n",
              "      <td>508</td>\n",
              "      <td>0</td>\n",
              "      <td>0</td>\n",
              "      <td>NaN</td>\n",
              "      <td>NaN</td>\n",
              "      <td>NaN</td>\n",
              "      <td>0</td>\n",
              "      <td>5</td>\n",
              "      <td>2009</td>\n",
              "      <td>WD</td>\n",
              "      <td>Normal</td>\n",
              "      <td>180500</td>\n",
              "    </tr>\n",
              "    <tr>\n",
              "      <th>4</th>\n",
              "      <td>1132</td>\n",
              "      <td>20</td>\n",
              "      <td>RL</td>\n",
              "      <td>63.0</td>\n",
              "      <td>10712</td>\n",
              "      <td>Pave</td>\n",
              "      <td>NaN</td>\n",
              "      <td>Reg</td>\n",
              "      <td>Lvl</td>\n",
              "      <td>AllPub</td>\n",
              "      <td>Inside</td>\n",
              "      <td>Gtl</td>\n",
              "      <td>Mitchel</td>\n",
              "      <td>Norm</td>\n",
              "      <td>Norm</td>\n",
              "      <td>1Fam</td>\n",
              "      <td>1Story</td>\n",
              "      <td>5</td>\n",
              "      <td>5</td>\n",
              "      <td>1991</td>\n",
              "      <td>1992</td>\n",
              "      <td>Gable</td>\n",
              "      <td>CompShg</td>\n",
              "      <td>HdBoard</td>\n",
              "      <td>HdBoard</td>\n",
              "      <td>None</td>\n",
              "      <td>0.0</td>\n",
              "      <td>TA</td>\n",
              "      <td>TA</td>\n",
              "      <td>PConc</td>\n",
              "      <td>Gd</td>\n",
              "      <td>TA</td>\n",
              "      <td>Mn</td>\n",
              "      <td>BLQ</td>\n",
              "      <td>212</td>\n",
              "      <td>Unf</td>\n",
              "      <td>0</td>\n",
              "      <td>762</td>\n",
              "      <td>974</td>\n",
              "      <td>GasA</td>\n",
              "      <td>TA</td>\n",
              "      <td>Y</td>\n",
              "      <td>SBrkr</td>\n",
              "      <td>974</td>\n",
              "      <td>0</td>\n",
              "      <td>0</td>\n",
              "      <td>974</td>\n",
              "      <td>0</td>\n",
              "      <td>0</td>\n",
              "      <td>1</td>\n",
              "      <td>0</td>\n",
              "      <td>3</td>\n",
              "      <td>1</td>\n",
              "      <td>TA</td>\n",
              "      <td>5</td>\n",
              "      <td>Typ</td>\n",
              "      <td>0</td>\n",
              "      <td>NaN</td>\n",
              "      <td>NaN</td>\n",
              "      <td>NaN</td>\n",
              "      <td>NaN</td>\n",
              "      <td>0</td>\n",
              "      <td>0</td>\n",
              "      <td>NaN</td>\n",
              "      <td>NaN</td>\n",
              "      <td>Y</td>\n",
              "      <td>0</td>\n",
              "      <td>28</td>\n",
              "      <td>0</td>\n",
              "      <td>0</td>\n",
              "      <td>0</td>\n",
              "      <td>0</td>\n",
              "      <td>NaN</td>\n",
              "      <td>MnPrv</td>\n",
              "      <td>NaN</td>\n",
              "      <td>0</td>\n",
              "      <td>9</td>\n",
              "      <td>2007</td>\n",
              "      <td>Oth</td>\n",
              "      <td>Abnorml</td>\n",
              "      <td>93500</td>\n",
              "    </tr>\n",
              "    <tr>\n",
              "      <th>...</th>\n",
              "      <td>...</td>\n",
              "      <td>...</td>\n",
              "      <td>...</td>\n",
              "      <td>...</td>\n",
              "      <td>...</td>\n",
              "      <td>...</td>\n",
              "      <td>...</td>\n",
              "      <td>...</td>\n",
              "      <td>...</td>\n",
              "      <td>...</td>\n",
              "      <td>...</td>\n",
              "      <td>...</td>\n",
              "      <td>...</td>\n",
              "      <td>...</td>\n",
              "      <td>...</td>\n",
              "      <td>...</td>\n",
              "      <td>...</td>\n",
              "      <td>...</td>\n",
              "      <td>...</td>\n",
              "      <td>...</td>\n",
              "      <td>...</td>\n",
              "      <td>...</td>\n",
              "      <td>...</td>\n",
              "      <td>...</td>\n",
              "      <td>...</td>\n",
              "      <td>...</td>\n",
              "      <td>...</td>\n",
              "      <td>...</td>\n",
              "      <td>...</td>\n",
              "      <td>...</td>\n",
              "      <td>...</td>\n",
              "      <td>...</td>\n",
              "      <td>...</td>\n",
              "      <td>...</td>\n",
              "      <td>...</td>\n",
              "      <td>...</td>\n",
              "      <td>...</td>\n",
              "      <td>...</td>\n",
              "      <td>...</td>\n",
              "      <td>...</td>\n",
              "      <td>...</td>\n",
              "      <td>...</td>\n",
              "      <td>...</td>\n",
              "      <td>...</td>\n",
              "      <td>...</td>\n",
              "      <td>...</td>\n",
              "      <td>...</td>\n",
              "      <td>...</td>\n",
              "      <td>...</td>\n",
              "      <td>...</td>\n",
              "      <td>...</td>\n",
              "      <td>...</td>\n",
              "      <td>...</td>\n",
              "      <td>...</td>\n",
              "      <td>...</td>\n",
              "      <td>...</td>\n",
              "      <td>...</td>\n",
              "      <td>...</td>\n",
              "      <td>...</td>\n",
              "      <td>...</td>\n",
              "      <td>...</td>\n",
              "      <td>...</td>\n",
              "      <td>...</td>\n",
              "      <td>...</td>\n",
              "      <td>...</td>\n",
              "      <td>...</td>\n",
              "      <td>...</td>\n",
              "      <td>...</td>\n",
              "      <td>...</td>\n",
              "      <td>...</td>\n",
              "      <td>...</td>\n",
              "      <td>...</td>\n",
              "      <td>...</td>\n",
              "      <td>...</td>\n",
              "      <td>...</td>\n",
              "      <td>...</td>\n",
              "      <td>...</td>\n",
              "      <td>...</td>\n",
              "      <td>...</td>\n",
              "      <td>...</td>\n",
              "      <td>...</td>\n",
              "    </tr>\n",
              "    <tr>\n",
              "      <th>995</th>\n",
              "      <td>1078</td>\n",
              "      <td>20</td>\n",
              "      <td>RL</td>\n",
              "      <td>NaN</td>\n",
              "      <td>15870</td>\n",
              "      <td>Pave</td>\n",
              "      <td>NaN</td>\n",
              "      <td>IR1</td>\n",
              "      <td>Lvl</td>\n",
              "      <td>AllPub</td>\n",
              "      <td>Corner</td>\n",
              "      <td>Gtl</td>\n",
              "      <td>NAmes</td>\n",
              "      <td>Norm</td>\n",
              "      <td>Norm</td>\n",
              "      <td>1Fam</td>\n",
              "      <td>1Story</td>\n",
              "      <td>5</td>\n",
              "      <td>5</td>\n",
              "      <td>1969</td>\n",
              "      <td>1969</td>\n",
              "      <td>Gable</td>\n",
              "      <td>CompShg</td>\n",
              "      <td>VinylSd</td>\n",
              "      <td>Plywood</td>\n",
              "      <td>None</td>\n",
              "      <td>0.0</td>\n",
              "      <td>TA</td>\n",
              "      <td>TA</td>\n",
              "      <td>CBlock</td>\n",
              "      <td>TA</td>\n",
              "      <td>TA</td>\n",
              "      <td>Mn</td>\n",
              "      <td>BLQ</td>\n",
              "      <td>75</td>\n",
              "      <td>Rec</td>\n",
              "      <td>791</td>\n",
              "      <td>230</td>\n",
              "      <td>1096</td>\n",
              "      <td>GasA</td>\n",
              "      <td>Ex</td>\n",
              "      <td>Y</td>\n",
              "      <td>SBrkr</td>\n",
              "      <td>1096</td>\n",
              "      <td>0</td>\n",
              "      <td>0</td>\n",
              "      <td>1096</td>\n",
              "      <td>1</td>\n",
              "      <td>0</td>\n",
              "      <td>1</td>\n",
              "      <td>0</td>\n",
              "      <td>3</td>\n",
              "      <td>1</td>\n",
              "      <td>TA</td>\n",
              "      <td>6</td>\n",
              "      <td>Typ</td>\n",
              "      <td>0</td>\n",
              "      <td>NaN</td>\n",
              "      <td>Attchd</td>\n",
              "      <td>1969.0</td>\n",
              "      <td>Fin</td>\n",
              "      <td>1</td>\n",
              "      <td>299</td>\n",
              "      <td>TA</td>\n",
              "      <td>TA</td>\n",
              "      <td>Y</td>\n",
              "      <td>240</td>\n",
              "      <td>32</td>\n",
              "      <td>0</td>\n",
              "      <td>0</td>\n",
              "      <td>0</td>\n",
              "      <td>0</td>\n",
              "      <td>NaN</td>\n",
              "      <td>NaN</td>\n",
              "      <td>NaN</td>\n",
              "      <td>0</td>\n",
              "      <td>3</td>\n",
              "      <td>2006</td>\n",
              "      <td>WD</td>\n",
              "      <td>Abnorml</td>\n",
              "      <td>138800</td>\n",
              "    </tr>\n",
              "    <tr>\n",
              "      <th>996</th>\n",
              "      <td>1140</td>\n",
              "      <td>30</td>\n",
              "      <td>RL</td>\n",
              "      <td>98.0</td>\n",
              "      <td>8731</td>\n",
              "      <td>Pave</td>\n",
              "      <td>NaN</td>\n",
              "      <td>IR1</td>\n",
              "      <td>Lvl</td>\n",
              "      <td>AllPub</td>\n",
              "      <td>Inside</td>\n",
              "      <td>Gtl</td>\n",
              "      <td>BrkSide</td>\n",
              "      <td>Norm</td>\n",
              "      <td>Norm</td>\n",
              "      <td>1Fam</td>\n",
              "      <td>1Story</td>\n",
              "      <td>5</td>\n",
              "      <td>5</td>\n",
              "      <td>1920</td>\n",
              "      <td>1950</td>\n",
              "      <td>Gable</td>\n",
              "      <td>CompShg</td>\n",
              "      <td>Stucco</td>\n",
              "      <td>Stucco</td>\n",
              "      <td>None</td>\n",
              "      <td>0.0</td>\n",
              "      <td>TA</td>\n",
              "      <td>Fa</td>\n",
              "      <td>BrkTil</td>\n",
              "      <td>TA</td>\n",
              "      <td>TA</td>\n",
              "      <td>No</td>\n",
              "      <td>BLQ</td>\n",
              "      <td>645</td>\n",
              "      <td>Unf</td>\n",
              "      <td>0</td>\n",
              "      <td>270</td>\n",
              "      <td>915</td>\n",
              "      <td>GasA</td>\n",
              "      <td>TA</td>\n",
              "      <td>Y</td>\n",
              "      <td>SBrkr</td>\n",
              "      <td>1167</td>\n",
              "      <td>0</td>\n",
              "      <td>0</td>\n",
              "      <td>1167</td>\n",
              "      <td>0</td>\n",
              "      <td>0</td>\n",
              "      <td>1</td>\n",
              "      <td>0</td>\n",
              "      <td>3</td>\n",
              "      <td>1</td>\n",
              "      <td>TA</td>\n",
              "      <td>6</td>\n",
              "      <td>Maj1</td>\n",
              "      <td>1</td>\n",
              "      <td>Gd</td>\n",
              "      <td>Detchd</td>\n",
              "      <td>1972.0</td>\n",
              "      <td>Unf</td>\n",
              "      <td>2</td>\n",
              "      <td>495</td>\n",
              "      <td>TA</td>\n",
              "      <td>TA</td>\n",
              "      <td>Y</td>\n",
              "      <td>0</td>\n",
              "      <td>0</td>\n",
              "      <td>216</td>\n",
              "      <td>0</td>\n",
              "      <td>126</td>\n",
              "      <td>0</td>\n",
              "      <td>NaN</td>\n",
              "      <td>NaN</td>\n",
              "      <td>NaN</td>\n",
              "      <td>0</td>\n",
              "      <td>5</td>\n",
              "      <td>2007</td>\n",
              "      <td>WD</td>\n",
              "      <td>Normal</td>\n",
              "      <td>144000</td>\n",
              "    </tr>\n",
              "    <tr>\n",
              "      <th>997</th>\n",
              "      <td>89</td>\n",
              "      <td>50</td>\n",
              "      <td>C (all)</td>\n",
              "      <td>105.0</td>\n",
              "      <td>8470</td>\n",
              "      <td>Pave</td>\n",
              "      <td>NaN</td>\n",
              "      <td>IR1</td>\n",
              "      <td>Lvl</td>\n",
              "      <td>AllPub</td>\n",
              "      <td>Corner</td>\n",
              "      <td>Gtl</td>\n",
              "      <td>IDOTRR</td>\n",
              "      <td>Feedr</td>\n",
              "      <td>Feedr</td>\n",
              "      <td>1Fam</td>\n",
              "      <td>1.5Fin</td>\n",
              "      <td>3</td>\n",
              "      <td>2</td>\n",
              "      <td>1915</td>\n",
              "      <td>1982</td>\n",
              "      <td>Hip</td>\n",
              "      <td>CompShg</td>\n",
              "      <td>Plywood</td>\n",
              "      <td>Plywood</td>\n",
              "      <td>None</td>\n",
              "      <td>0.0</td>\n",
              "      <td>Fa</td>\n",
              "      <td>Fa</td>\n",
              "      <td>CBlock</td>\n",
              "      <td>TA</td>\n",
              "      <td>Fa</td>\n",
              "      <td>No</td>\n",
              "      <td>Unf</td>\n",
              "      <td>0</td>\n",
              "      <td>Unf</td>\n",
              "      <td>0</td>\n",
              "      <td>1013</td>\n",
              "      <td>1013</td>\n",
              "      <td>GasA</td>\n",
              "      <td>TA</td>\n",
              "      <td>N</td>\n",
              "      <td>SBrkr</td>\n",
              "      <td>1013</td>\n",
              "      <td>0</td>\n",
              "      <td>513</td>\n",
              "      <td>1526</td>\n",
              "      <td>0</td>\n",
              "      <td>0</td>\n",
              "      <td>1</td>\n",
              "      <td>0</td>\n",
              "      <td>2</td>\n",
              "      <td>1</td>\n",
              "      <td>Fa</td>\n",
              "      <td>6</td>\n",
              "      <td>Typ</td>\n",
              "      <td>0</td>\n",
              "      <td>NaN</td>\n",
              "      <td>NaN</td>\n",
              "      <td>NaN</td>\n",
              "      <td>NaN</td>\n",
              "      <td>0</td>\n",
              "      <td>0</td>\n",
              "      <td>NaN</td>\n",
              "      <td>NaN</td>\n",
              "      <td>N</td>\n",
              "      <td>0</td>\n",
              "      <td>0</td>\n",
              "      <td>156</td>\n",
              "      <td>0</td>\n",
              "      <td>0</td>\n",
              "      <td>0</td>\n",
              "      <td>NaN</td>\n",
              "      <td>MnPrv</td>\n",
              "      <td>NaN</td>\n",
              "      <td>0</td>\n",
              "      <td>10</td>\n",
              "      <td>2009</td>\n",
              "      <td>ConLD</td>\n",
              "      <td>Abnorml</td>\n",
              "      <td>85000</td>\n",
              "    </tr>\n",
              "    <tr>\n",
              "      <th>998</th>\n",
              "      <td>1329</td>\n",
              "      <td>50</td>\n",
              "      <td>RM</td>\n",
              "      <td>60.0</td>\n",
              "      <td>10440</td>\n",
              "      <td>Pave</td>\n",
              "      <td>Grvl</td>\n",
              "      <td>Reg</td>\n",
              "      <td>Lvl</td>\n",
              "      <td>AllPub</td>\n",
              "      <td>Corner</td>\n",
              "      <td>Gtl</td>\n",
              "      <td>OldTown</td>\n",
              "      <td>Norm</td>\n",
              "      <td>Norm</td>\n",
              "      <td>1Fam</td>\n",
              "      <td>1.5Fin</td>\n",
              "      <td>6</td>\n",
              "      <td>7</td>\n",
              "      <td>1920</td>\n",
              "      <td>1950</td>\n",
              "      <td>Gable</td>\n",
              "      <td>CompShg</td>\n",
              "      <td>BrkFace</td>\n",
              "      <td>Wd Sdng</td>\n",
              "      <td>None</td>\n",
              "      <td>0.0</td>\n",
              "      <td>Gd</td>\n",
              "      <td>Gd</td>\n",
              "      <td>BrkTil</td>\n",
              "      <td>Gd</td>\n",
              "      <td>TA</td>\n",
              "      <td>No</td>\n",
              "      <td>LwQ</td>\n",
              "      <td>493</td>\n",
              "      <td>Unf</td>\n",
              "      <td>0</td>\n",
              "      <td>1017</td>\n",
              "      <td>1510</td>\n",
              "      <td>GasW</td>\n",
              "      <td>Ex</td>\n",
              "      <td>Y</td>\n",
              "      <td>SBrkr</td>\n",
              "      <td>1584</td>\n",
              "      <td>1208</td>\n",
              "      <td>0</td>\n",
              "      <td>2792</td>\n",
              "      <td>0</td>\n",
              "      <td>0</td>\n",
              "      <td>2</td>\n",
              "      <td>0</td>\n",
              "      <td>5</td>\n",
              "      <td>1</td>\n",
              "      <td>TA</td>\n",
              "      <td>8</td>\n",
              "      <td>Mod</td>\n",
              "      <td>2</td>\n",
              "      <td>TA</td>\n",
              "      <td>Detchd</td>\n",
              "      <td>1920.0</td>\n",
              "      <td>Unf</td>\n",
              "      <td>2</td>\n",
              "      <td>520</td>\n",
              "      <td>Fa</td>\n",
              "      <td>TA</td>\n",
              "      <td>Y</td>\n",
              "      <td>0</td>\n",
              "      <td>547</td>\n",
              "      <td>0</td>\n",
              "      <td>0</td>\n",
              "      <td>480</td>\n",
              "      <td>0</td>\n",
              "      <td>NaN</td>\n",
              "      <td>MnPrv</td>\n",
              "      <td>Shed</td>\n",
              "      <td>1150</td>\n",
              "      <td>6</td>\n",
              "      <td>2008</td>\n",
              "      <td>WD</td>\n",
              "      <td>Normal</td>\n",
              "      <td>256000</td>\n",
              "    </tr>\n",
              "    <tr>\n",
              "      <th>999</th>\n",
              "      <td>66</td>\n",
              "      <td>60</td>\n",
              "      <td>RL</td>\n",
              "      <td>76.0</td>\n",
              "      <td>9591</td>\n",
              "      <td>Pave</td>\n",
              "      <td>NaN</td>\n",
              "      <td>Reg</td>\n",
              "      <td>Lvl</td>\n",
              "      <td>AllPub</td>\n",
              "      <td>Inside</td>\n",
              "      <td>Gtl</td>\n",
              "      <td>NridgHt</td>\n",
              "      <td>Norm</td>\n",
              "      <td>Norm</td>\n",
              "      <td>1Fam</td>\n",
              "      <td>2Story</td>\n",
              "      <td>8</td>\n",
              "      <td>5</td>\n",
              "      <td>2004</td>\n",
              "      <td>2005</td>\n",
              "      <td>Gable</td>\n",
              "      <td>CompShg</td>\n",
              "      <td>VinylSd</td>\n",
              "      <td>VinylSd</td>\n",
              "      <td>BrkFace</td>\n",
              "      <td>344.0</td>\n",
              "      <td>Gd</td>\n",
              "      <td>TA</td>\n",
              "      <td>PConc</td>\n",
              "      <td>Ex</td>\n",
              "      <td>TA</td>\n",
              "      <td>Av</td>\n",
              "      <td>Unf</td>\n",
              "      <td>0</td>\n",
              "      <td>Unf</td>\n",
              "      <td>0</td>\n",
              "      <td>1143</td>\n",
              "      <td>1143</td>\n",
              "      <td>GasA</td>\n",
              "      <td>Ex</td>\n",
              "      <td>Y</td>\n",
              "      <td>SBrkr</td>\n",
              "      <td>1143</td>\n",
              "      <td>1330</td>\n",
              "      <td>0</td>\n",
              "      <td>2473</td>\n",
              "      <td>0</td>\n",
              "      <td>0</td>\n",
              "      <td>2</td>\n",
              "      <td>1</td>\n",
              "      <td>4</td>\n",
              "      <td>1</td>\n",
              "      <td>Gd</td>\n",
              "      <td>9</td>\n",
              "      <td>Typ</td>\n",
              "      <td>1</td>\n",
              "      <td>Gd</td>\n",
              "      <td>BuiltIn</td>\n",
              "      <td>2004.0</td>\n",
              "      <td>RFn</td>\n",
              "      <td>3</td>\n",
              "      <td>852</td>\n",
              "      <td>TA</td>\n",
              "      <td>TA</td>\n",
              "      <td>Y</td>\n",
              "      <td>192</td>\n",
              "      <td>151</td>\n",
              "      <td>0</td>\n",
              "      <td>0</td>\n",
              "      <td>0</td>\n",
              "      <td>0</td>\n",
              "      <td>NaN</td>\n",
              "      <td>NaN</td>\n",
              "      <td>NaN</td>\n",
              "      <td>0</td>\n",
              "      <td>10</td>\n",
              "      <td>2007</td>\n",
              "      <td>WD</td>\n",
              "      <td>Normal</td>\n",
              "      <td>317000</td>\n",
              "    </tr>\n",
              "  </tbody>\n",
              "</table>\n",
              "<p>1000 rows × 81 columns</p>\n",
              "</div>"
            ],
            "text/plain": [
              "       Id  MSSubClass MSZoning  LotFrontage  LotArea Street Alley LotShape  \\\n",
              "0     506          90       RM         60.0     7596   Pave  Grvl      Reg   \n",
              "1     590          40       RM         50.0     9100   Pave   NaN      Reg   \n",
              "2     487          20       RL         79.0    10289   Pave   NaN      Reg   \n",
              "3     206          20       RL         99.0    11851   Pave   NaN      Reg   \n",
              "4    1132          20       RL         63.0    10712   Pave   NaN      Reg   \n",
              "..    ...         ...      ...          ...      ...    ...   ...      ...   \n",
              "995  1078          20       RL          NaN    15870   Pave   NaN      IR1   \n",
              "996  1140          30       RL         98.0     8731   Pave   NaN      IR1   \n",
              "997    89          50  C (all)        105.0     8470   Pave   NaN      IR1   \n",
              "998  1329          50       RM         60.0    10440   Pave  Grvl      Reg   \n",
              "999    66          60       RL         76.0     9591   Pave   NaN      Reg   \n",
              "\n",
              "    LandContour Utilities LotConfig LandSlope Neighborhood Condition1  \\\n",
              "0           Lvl    AllPub    Inside       Gtl      OldTown     Artery   \n",
              "1           Lvl    AllPub    Inside       Gtl      BrkSide       RRAn   \n",
              "2           Lvl    AllPub    Inside       Gtl        NAmes       Norm   \n",
              "3           Lvl    AllPub    Corner       Gtl      Gilbert       Norm   \n",
              "4           Lvl    AllPub    Inside       Gtl      Mitchel       Norm   \n",
              "..          ...       ...       ...       ...          ...        ...   \n",
              "995         Lvl    AllPub    Corner       Gtl        NAmes       Norm   \n",
              "996         Lvl    AllPub    Inside       Gtl      BrkSide       Norm   \n",
              "997         Lvl    AllPub    Corner       Gtl       IDOTRR      Feedr   \n",
              "998         Lvl    AllPub    Corner       Gtl      OldTown       Norm   \n",
              "999         Lvl    AllPub    Inside       Gtl      NridgHt       Norm   \n",
              "\n",
              "    Condition2 BldgType HouseStyle  OverallQual  OverallCond  YearBuilt  \\\n",
              "0         Norm   Duplex     2Story            5            5       1952   \n",
              "1        Feedr     1Fam     1Story            5            6       1930   \n",
              "2         Norm     1Fam     1Story            5            7       1965   \n",
              "3         Norm     1Fam     1Story            7            5       1990   \n",
              "4         Norm     1Fam     1Story            5            5       1991   \n",
              "..         ...      ...        ...          ...          ...        ...   \n",
              "995       Norm     1Fam     1Story            5            5       1969   \n",
              "996       Norm     1Fam     1Story            5            5       1920   \n",
              "997      Feedr     1Fam     1.5Fin            3            2       1915   \n",
              "998       Norm     1Fam     1.5Fin            6            7       1920   \n",
              "999       Norm     1Fam     2Story            8            5       2004   \n",
              "\n",
              "     YearRemodAdd RoofStyle RoofMatl Exterior1st Exterior2nd MasVnrType  \\\n",
              "0            1952       Hip  CompShg     Wd Sdng     Wd Sdng    BrkFace   \n",
              "1            1960     Gable  CompShg     VinylSd     VinylSd       None   \n",
              "2            1965       Hip  CompShg     MetalSd     MetalSd    BrkFace   \n",
              "3            1990     Gable  CompShg     HdBoard     HdBoard       None   \n",
              "4            1992     Gable  CompShg     HdBoard     HdBoard       None   \n",
              "..            ...       ...      ...         ...         ...        ...   \n",
              "995          1969     Gable  CompShg     VinylSd     Plywood       None   \n",
              "996          1950     Gable  CompShg      Stucco      Stucco       None   \n",
              "997          1982       Hip  CompShg     Plywood     Plywood       None   \n",
              "998          1950     Gable  CompShg     BrkFace     Wd Sdng       None   \n",
              "999          2005     Gable  CompShg     VinylSd     VinylSd    BrkFace   \n",
              "\n",
              "     MasVnrArea ExterQual ExterCond Foundation BsmtQual BsmtCond BsmtExposure  \\\n",
              "0         360.0        TA        TA     CBlock       TA       TA           No   \n",
              "1           0.0        TA        TA     BrkTil       TA       TA           No   \n",
              "2         168.0        TA        TA     CBlock       TA       TA           No   \n",
              "3           0.0        TA        TA      PConc       Gd       TA           No   \n",
              "4           0.0        TA        TA      PConc       Gd       TA           Mn   \n",
              "..          ...       ...       ...        ...      ...      ...          ...   \n",
              "995         0.0        TA        TA     CBlock       TA       TA           Mn   \n",
              "996         0.0        TA        Fa     BrkTil       TA       TA           No   \n",
              "997         0.0        Fa        Fa     CBlock       TA       Fa           No   \n",
              "998         0.0        Gd        Gd     BrkTil       Gd       TA           No   \n",
              "999       344.0        Gd        TA      PConc       Ex       TA           Av   \n",
              "\n",
              "    BsmtFinType1  BsmtFinSF1 BsmtFinType2  BsmtFinSF2  BsmtUnfSF  TotalBsmtSF  \\\n",
              "0            Unf           0          Unf           0        960          960   \n",
              "1            Unf           0          Unf           0        742          742   \n",
              "2            ALQ         836          Unf           0        237         1073   \n",
              "3            Unf           0          Unf           0       1424         1424   \n",
              "4            BLQ         212          Unf           0        762          974   \n",
              "..           ...         ...          ...         ...        ...          ...   \n",
              "995          BLQ          75          Rec         791        230         1096   \n",
              "996          BLQ         645          Unf           0        270          915   \n",
              "997          Unf           0          Unf           0       1013         1013   \n",
              "998          LwQ         493          Unf           0       1017         1510   \n",
              "999          Unf           0          Unf           0       1143         1143   \n",
              "\n",
              "    Heating HeatingQC CentralAir Electrical  1stFlrSF  2ndFlrSF  LowQualFinSF  \\\n",
              "0      GasA        Gd          Y      SBrkr       960      1000             0   \n",
              "1      GasA        TA          Y      FuseA       779         0           156   \n",
              "2      GasA        TA          Y      SBrkr      1073         0             0   \n",
              "3      GasA        Ex          Y      SBrkr      1442         0             0   \n",
              "4      GasA        TA          Y      SBrkr       974         0             0   \n",
              "..      ...       ...        ...        ...       ...       ...           ...   \n",
              "995    GasA        Ex          Y      SBrkr      1096         0             0   \n",
              "996    GasA        TA          Y      SBrkr      1167         0             0   \n",
              "997    GasA        TA          N      SBrkr      1013         0           513   \n",
              "998    GasW        Ex          Y      SBrkr      1584      1208             0   \n",
              "999    GasA        Ex          Y      SBrkr      1143      1330             0   \n",
              "\n",
              "     GrLivArea  BsmtFullBath  BsmtHalfBath  FullBath  HalfBath  BedroomAbvGr  \\\n",
              "0         1960             0             0         2         0             4   \n",
              "1          935             0             0         1         0             2   \n",
              "2         1073             1             0         1         1             3   \n",
              "3         1442             0             0         2         0             3   \n",
              "4          974             0             0         1         0             3   \n",
              "..         ...           ...           ...       ...       ...           ...   \n",
              "995       1096             1             0         1         0             3   \n",
              "996       1167             0             0         1         0             3   \n",
              "997       1526             0             0         1         0             2   \n",
              "998       2792             0             0         2         0             5   \n",
              "999       2473             0             0         2         1             4   \n",
              "\n",
              "     KitchenAbvGr KitchenQual  TotRmsAbvGrd Functional  Fireplaces  \\\n",
              "0               2          TA            10        Typ           0   \n",
              "1               1          TA             4        Typ           0   \n",
              "2               1          TA             6        Typ           0   \n",
              "3               1          TA             5        Typ           0   \n",
              "4               1          TA             5        Typ           0   \n",
              "..            ...         ...           ...        ...         ...   \n",
              "995             1          TA             6        Typ           0   \n",
              "996             1          TA             6       Maj1           1   \n",
              "997             1          Fa             6        Typ           0   \n",
              "998             1          TA             8        Mod           2   \n",
              "999             1          Gd             9        Typ           1   \n",
              "\n",
              "    FireplaceQu GarageType  GarageYrBlt GarageFinish  GarageCars  GarageArea  \\\n",
              "0           NaN     Detchd       1952.0          Unf           2         400   \n",
              "1           NaN     Detchd       1988.0          Unf           1         308   \n",
              "2           NaN     Attchd       1965.0          RFn           2         515   \n",
              "3           NaN     Attchd       1990.0          RFn           2         500   \n",
              "4           NaN        NaN          NaN          NaN           0           0   \n",
              "..          ...        ...          ...          ...         ...         ...   \n",
              "995         NaN     Attchd       1969.0          Fin           1         299   \n",
              "996          Gd     Detchd       1972.0          Unf           2         495   \n",
              "997         NaN        NaN          NaN          NaN           0           0   \n",
              "998          TA     Detchd       1920.0          Unf           2         520   \n",
              "999          Gd    BuiltIn       2004.0          RFn           3         852   \n",
              "\n",
              "    GarageQual GarageCond PavedDrive  WoodDeckSF  OpenPorchSF  EnclosedPorch  \\\n",
              "0           TA         TA          N           0            0              0   \n",
              "1           TA         TA          P           0            0              0   \n",
              "2           TA         TA          Y           0            0              0   \n",
              "3           TA         TA          Y           0           34              0   \n",
              "4          NaN        NaN          Y           0           28              0   \n",
              "..         ...        ...        ...         ...          ...            ...   \n",
              "995         TA         TA          Y         240           32              0   \n",
              "996         TA         TA          Y           0            0            216   \n",
              "997        NaN        NaN          N           0            0            156   \n",
              "998         Fa         TA          Y           0          547              0   \n",
              "999         TA         TA          Y         192          151              0   \n",
              "\n",
              "     3SsnPorch  ScreenPorch  PoolArea PoolQC  Fence MiscFeature  MiscVal  \\\n",
              "0            0            0         0    NaN    NaN         NaN        0   \n",
              "1            0            0         0    NaN    NaN        Shed      600   \n",
              "2            0            0         0    NaN    NaN         NaN        0   \n",
              "3          508            0         0    NaN    NaN         NaN        0   \n",
              "4            0            0         0    NaN  MnPrv         NaN        0   \n",
              "..         ...          ...       ...    ...    ...         ...      ...   \n",
              "995          0            0         0    NaN    NaN         NaN        0   \n",
              "996          0          126         0    NaN    NaN         NaN        0   \n",
              "997          0            0         0    NaN  MnPrv         NaN        0   \n",
              "998          0          480         0    NaN  MnPrv        Shed     1150   \n",
              "999          0            0         0    NaN    NaN         NaN        0   \n",
              "\n",
              "     MoSold  YrSold SaleType SaleCondition  SalePrice  \n",
              "0         7    2009      COD        Normal     124500  \n",
              "1         8    2008       WD        Normal      79500  \n",
              "2         6    2007       WD        Normal     156000  \n",
              "3         5    2009       WD        Normal     180500  \n",
              "4         9    2007      Oth       Abnorml      93500  \n",
              "..      ...     ...      ...           ...        ...  \n",
              "995       3    2006       WD       Abnorml     138800  \n",
              "996       5    2007       WD        Normal     144000  \n",
              "997      10    2009    ConLD       Abnorml      85000  \n",
              "998       6    2008       WD        Normal     256000  \n",
              "999      10    2007       WD        Normal     317000  \n",
              "\n",
              "[1000 rows x 81 columns]"
            ]
          },
          "metadata": {
            "tags": []
          },
          "execution_count": 176
        }
      ]
    },
    {
      "cell_type": "code",
      "metadata": {
        "id": "L5zdULYgPmvG",
        "colab_type": "code",
        "outputId": "62172f5b-f7e7-4497-a609-40fd4500dcd5",
        "colab": {
          "base_uri": "https://localhost:8080/",
          "height": 317
        }
      },
      "source": [
        "# inspect column distributions\n",
        "train_data.describe()"
      ],
      "execution_count": 0,
      "outputs": [
        {
          "output_type": "execute_result",
          "data": {
            "text/html": [
              "<div>\n",
              "<style scoped>\n",
              "    .dataframe tbody tr th:only-of-type {\n",
              "        vertical-align: middle;\n",
              "    }\n",
              "\n",
              "    .dataframe tbody tr th {\n",
              "        vertical-align: top;\n",
              "    }\n",
              "\n",
              "    .dataframe thead th {\n",
              "        text-align: right;\n",
              "    }\n",
              "</style>\n",
              "<table border=\"1\" class=\"dataframe\">\n",
              "  <thead>\n",
              "    <tr style=\"text-align: right;\">\n",
              "      <th></th>\n",
              "      <th>Id</th>\n",
              "      <th>MSSubClass</th>\n",
              "      <th>LotFrontage</th>\n",
              "      <th>LotArea</th>\n",
              "      <th>OverallQual</th>\n",
              "      <th>OverallCond</th>\n",
              "      <th>YearBuilt</th>\n",
              "      <th>YearRemodAdd</th>\n",
              "      <th>MasVnrArea</th>\n",
              "      <th>BsmtFinSF1</th>\n",
              "      <th>BsmtFinSF2</th>\n",
              "      <th>BsmtUnfSF</th>\n",
              "      <th>TotalBsmtSF</th>\n",
              "      <th>1stFlrSF</th>\n",
              "      <th>2ndFlrSF</th>\n",
              "      <th>LowQualFinSF</th>\n",
              "      <th>GrLivArea</th>\n",
              "      <th>BsmtFullBath</th>\n",
              "      <th>BsmtHalfBath</th>\n",
              "      <th>FullBath</th>\n",
              "      <th>HalfBath</th>\n",
              "      <th>BedroomAbvGr</th>\n",
              "      <th>KitchenAbvGr</th>\n",
              "      <th>TotRmsAbvGrd</th>\n",
              "      <th>Fireplaces</th>\n",
              "      <th>GarageYrBlt</th>\n",
              "      <th>GarageCars</th>\n",
              "      <th>GarageArea</th>\n",
              "      <th>WoodDeckSF</th>\n",
              "      <th>OpenPorchSF</th>\n",
              "      <th>EnclosedPorch</th>\n",
              "      <th>3SsnPorch</th>\n",
              "      <th>ScreenPorch</th>\n",
              "      <th>PoolArea</th>\n",
              "      <th>MiscVal</th>\n",
              "      <th>MoSold</th>\n",
              "      <th>YrSold</th>\n",
              "      <th>SalePrice</th>\n",
              "    </tr>\n",
              "  </thead>\n",
              "  <tbody>\n",
              "    <tr>\n",
              "      <th>count</th>\n",
              "      <td>1460.000000</td>\n",
              "      <td>1460.000000</td>\n",
              "      <td>1201.000000</td>\n",
              "      <td>1460.000000</td>\n",
              "      <td>1460.000000</td>\n",
              "      <td>1460.000000</td>\n",
              "      <td>1460.000000</td>\n",
              "      <td>1460.000000</td>\n",
              "      <td>1452.000000</td>\n",
              "      <td>1460.000000</td>\n",
              "      <td>1460.000000</td>\n",
              "      <td>1460.000000</td>\n",
              "      <td>1460.000000</td>\n",
              "      <td>1460.000000</td>\n",
              "      <td>1460.000000</td>\n",
              "      <td>1460.000000</td>\n",
              "      <td>1460.000000</td>\n",
              "      <td>1460.000000</td>\n",
              "      <td>1460.000000</td>\n",
              "      <td>1460.000000</td>\n",
              "      <td>1460.000000</td>\n",
              "      <td>1460.000000</td>\n",
              "      <td>1460.000000</td>\n",
              "      <td>1460.000000</td>\n",
              "      <td>1460.000000</td>\n",
              "      <td>1379.000000</td>\n",
              "      <td>1460.000000</td>\n",
              "      <td>1460.000000</td>\n",
              "      <td>1460.000000</td>\n",
              "      <td>1460.000000</td>\n",
              "      <td>1460.000000</td>\n",
              "      <td>1460.000000</td>\n",
              "      <td>1460.000000</td>\n",
              "      <td>1460.000000</td>\n",
              "      <td>1460.000000</td>\n",
              "      <td>1460.000000</td>\n",
              "      <td>1460.000000</td>\n",
              "      <td>1460.000000</td>\n",
              "    </tr>\n",
              "    <tr>\n",
              "      <th>mean</th>\n",
              "      <td>730.500000</td>\n",
              "      <td>56.897260</td>\n",
              "      <td>70.049958</td>\n",
              "      <td>10516.828082</td>\n",
              "      <td>6.099315</td>\n",
              "      <td>5.575342</td>\n",
              "      <td>1971.267808</td>\n",
              "      <td>1984.865753</td>\n",
              "      <td>103.685262</td>\n",
              "      <td>443.639726</td>\n",
              "      <td>46.549315</td>\n",
              "      <td>567.240411</td>\n",
              "      <td>1057.429452</td>\n",
              "      <td>1162.626712</td>\n",
              "      <td>346.992466</td>\n",
              "      <td>5.844521</td>\n",
              "      <td>1515.463699</td>\n",
              "      <td>0.425342</td>\n",
              "      <td>0.057534</td>\n",
              "      <td>1.565068</td>\n",
              "      <td>0.382877</td>\n",
              "      <td>2.866438</td>\n",
              "      <td>1.046575</td>\n",
              "      <td>6.517808</td>\n",
              "      <td>0.613014</td>\n",
              "      <td>1978.506164</td>\n",
              "      <td>1.767123</td>\n",
              "      <td>472.980137</td>\n",
              "      <td>94.244521</td>\n",
              "      <td>46.660274</td>\n",
              "      <td>21.954110</td>\n",
              "      <td>3.409589</td>\n",
              "      <td>15.060959</td>\n",
              "      <td>2.758904</td>\n",
              "      <td>43.489041</td>\n",
              "      <td>6.321918</td>\n",
              "      <td>2007.815753</td>\n",
              "      <td>180921.195890</td>\n",
              "    </tr>\n",
              "    <tr>\n",
              "      <th>std</th>\n",
              "      <td>421.610009</td>\n",
              "      <td>42.300571</td>\n",
              "      <td>24.284752</td>\n",
              "      <td>9981.264932</td>\n",
              "      <td>1.382997</td>\n",
              "      <td>1.112799</td>\n",
              "      <td>30.202904</td>\n",
              "      <td>20.645407</td>\n",
              "      <td>181.066207</td>\n",
              "      <td>456.098091</td>\n",
              "      <td>161.319273</td>\n",
              "      <td>441.866955</td>\n",
              "      <td>438.705324</td>\n",
              "      <td>386.587738</td>\n",
              "      <td>436.528436</td>\n",
              "      <td>48.623081</td>\n",
              "      <td>525.480383</td>\n",
              "      <td>0.518911</td>\n",
              "      <td>0.238753</td>\n",
              "      <td>0.550916</td>\n",
              "      <td>0.502885</td>\n",
              "      <td>0.815778</td>\n",
              "      <td>0.220338</td>\n",
              "      <td>1.625393</td>\n",
              "      <td>0.644666</td>\n",
              "      <td>24.689725</td>\n",
              "      <td>0.747315</td>\n",
              "      <td>213.804841</td>\n",
              "      <td>125.338794</td>\n",
              "      <td>66.256028</td>\n",
              "      <td>61.119149</td>\n",
              "      <td>29.317331</td>\n",
              "      <td>55.757415</td>\n",
              "      <td>40.177307</td>\n",
              "      <td>496.123024</td>\n",
              "      <td>2.703626</td>\n",
              "      <td>1.328095</td>\n",
              "      <td>79442.502883</td>\n",
              "    </tr>\n",
              "    <tr>\n",
              "      <th>min</th>\n",
              "      <td>1.000000</td>\n",
              "      <td>20.000000</td>\n",
              "      <td>21.000000</td>\n",
              "      <td>1300.000000</td>\n",
              "      <td>1.000000</td>\n",
              "      <td>1.000000</td>\n",
              "      <td>1872.000000</td>\n",
              "      <td>1950.000000</td>\n",
              "      <td>0.000000</td>\n",
              "      <td>0.000000</td>\n",
              "      <td>0.000000</td>\n",
              "      <td>0.000000</td>\n",
              "      <td>0.000000</td>\n",
              "      <td>334.000000</td>\n",
              "      <td>0.000000</td>\n",
              "      <td>0.000000</td>\n",
              "      <td>334.000000</td>\n",
              "      <td>0.000000</td>\n",
              "      <td>0.000000</td>\n",
              "      <td>0.000000</td>\n",
              "      <td>0.000000</td>\n",
              "      <td>0.000000</td>\n",
              "      <td>0.000000</td>\n",
              "      <td>2.000000</td>\n",
              "      <td>0.000000</td>\n",
              "      <td>1900.000000</td>\n",
              "      <td>0.000000</td>\n",
              "      <td>0.000000</td>\n",
              "      <td>0.000000</td>\n",
              "      <td>0.000000</td>\n",
              "      <td>0.000000</td>\n",
              "      <td>0.000000</td>\n",
              "      <td>0.000000</td>\n",
              "      <td>0.000000</td>\n",
              "      <td>0.000000</td>\n",
              "      <td>1.000000</td>\n",
              "      <td>2006.000000</td>\n",
              "      <td>34900.000000</td>\n",
              "    </tr>\n",
              "    <tr>\n",
              "      <th>25%</th>\n",
              "      <td>365.750000</td>\n",
              "      <td>20.000000</td>\n",
              "      <td>59.000000</td>\n",
              "      <td>7553.500000</td>\n",
              "      <td>5.000000</td>\n",
              "      <td>5.000000</td>\n",
              "      <td>1954.000000</td>\n",
              "      <td>1967.000000</td>\n",
              "      <td>0.000000</td>\n",
              "      <td>0.000000</td>\n",
              "      <td>0.000000</td>\n",
              "      <td>223.000000</td>\n",
              "      <td>795.750000</td>\n",
              "      <td>882.000000</td>\n",
              "      <td>0.000000</td>\n",
              "      <td>0.000000</td>\n",
              "      <td>1129.500000</td>\n",
              "      <td>0.000000</td>\n",
              "      <td>0.000000</td>\n",
              "      <td>1.000000</td>\n",
              "      <td>0.000000</td>\n",
              "      <td>2.000000</td>\n",
              "      <td>1.000000</td>\n",
              "      <td>5.000000</td>\n",
              "      <td>0.000000</td>\n",
              "      <td>1961.000000</td>\n",
              "      <td>1.000000</td>\n",
              "      <td>334.500000</td>\n",
              "      <td>0.000000</td>\n",
              "      <td>0.000000</td>\n",
              "      <td>0.000000</td>\n",
              "      <td>0.000000</td>\n",
              "      <td>0.000000</td>\n",
              "      <td>0.000000</td>\n",
              "      <td>0.000000</td>\n",
              "      <td>5.000000</td>\n",
              "      <td>2007.000000</td>\n",
              "      <td>129975.000000</td>\n",
              "    </tr>\n",
              "    <tr>\n",
              "      <th>50%</th>\n",
              "      <td>730.500000</td>\n",
              "      <td>50.000000</td>\n",
              "      <td>69.000000</td>\n",
              "      <td>9478.500000</td>\n",
              "      <td>6.000000</td>\n",
              "      <td>5.000000</td>\n",
              "      <td>1973.000000</td>\n",
              "      <td>1994.000000</td>\n",
              "      <td>0.000000</td>\n",
              "      <td>383.500000</td>\n",
              "      <td>0.000000</td>\n",
              "      <td>477.500000</td>\n",
              "      <td>991.500000</td>\n",
              "      <td>1087.000000</td>\n",
              "      <td>0.000000</td>\n",
              "      <td>0.000000</td>\n",
              "      <td>1464.000000</td>\n",
              "      <td>0.000000</td>\n",
              "      <td>0.000000</td>\n",
              "      <td>2.000000</td>\n",
              "      <td>0.000000</td>\n",
              "      <td>3.000000</td>\n",
              "      <td>1.000000</td>\n",
              "      <td>6.000000</td>\n",
              "      <td>1.000000</td>\n",
              "      <td>1980.000000</td>\n",
              "      <td>2.000000</td>\n",
              "      <td>480.000000</td>\n",
              "      <td>0.000000</td>\n",
              "      <td>25.000000</td>\n",
              "      <td>0.000000</td>\n",
              "      <td>0.000000</td>\n",
              "      <td>0.000000</td>\n",
              "      <td>0.000000</td>\n",
              "      <td>0.000000</td>\n",
              "      <td>6.000000</td>\n",
              "      <td>2008.000000</td>\n",
              "      <td>163000.000000</td>\n",
              "    </tr>\n",
              "    <tr>\n",
              "      <th>75%</th>\n",
              "      <td>1095.250000</td>\n",
              "      <td>70.000000</td>\n",
              "      <td>80.000000</td>\n",
              "      <td>11601.500000</td>\n",
              "      <td>7.000000</td>\n",
              "      <td>6.000000</td>\n",
              "      <td>2000.000000</td>\n",
              "      <td>2004.000000</td>\n",
              "      <td>166.000000</td>\n",
              "      <td>712.250000</td>\n",
              "      <td>0.000000</td>\n",
              "      <td>808.000000</td>\n",
              "      <td>1298.250000</td>\n",
              "      <td>1391.250000</td>\n",
              "      <td>728.000000</td>\n",
              "      <td>0.000000</td>\n",
              "      <td>1776.750000</td>\n",
              "      <td>1.000000</td>\n",
              "      <td>0.000000</td>\n",
              "      <td>2.000000</td>\n",
              "      <td>1.000000</td>\n",
              "      <td>3.000000</td>\n",
              "      <td>1.000000</td>\n",
              "      <td>7.000000</td>\n",
              "      <td>1.000000</td>\n",
              "      <td>2002.000000</td>\n",
              "      <td>2.000000</td>\n",
              "      <td>576.000000</td>\n",
              "      <td>168.000000</td>\n",
              "      <td>68.000000</td>\n",
              "      <td>0.000000</td>\n",
              "      <td>0.000000</td>\n",
              "      <td>0.000000</td>\n",
              "      <td>0.000000</td>\n",
              "      <td>0.000000</td>\n",
              "      <td>8.000000</td>\n",
              "      <td>2009.000000</td>\n",
              "      <td>214000.000000</td>\n",
              "    </tr>\n",
              "    <tr>\n",
              "      <th>max</th>\n",
              "      <td>1460.000000</td>\n",
              "      <td>190.000000</td>\n",
              "      <td>313.000000</td>\n",
              "      <td>215245.000000</td>\n",
              "      <td>10.000000</td>\n",
              "      <td>9.000000</td>\n",
              "      <td>2010.000000</td>\n",
              "      <td>2010.000000</td>\n",
              "      <td>1600.000000</td>\n",
              "      <td>5644.000000</td>\n",
              "      <td>1474.000000</td>\n",
              "      <td>2336.000000</td>\n",
              "      <td>6110.000000</td>\n",
              "      <td>4692.000000</td>\n",
              "      <td>2065.000000</td>\n",
              "      <td>572.000000</td>\n",
              "      <td>5642.000000</td>\n",
              "      <td>3.000000</td>\n",
              "      <td>2.000000</td>\n",
              "      <td>3.000000</td>\n",
              "      <td>2.000000</td>\n",
              "      <td>8.000000</td>\n",
              "      <td>3.000000</td>\n",
              "      <td>14.000000</td>\n",
              "      <td>3.000000</td>\n",
              "      <td>2010.000000</td>\n",
              "      <td>4.000000</td>\n",
              "      <td>1418.000000</td>\n",
              "      <td>857.000000</td>\n",
              "      <td>547.000000</td>\n",
              "      <td>552.000000</td>\n",
              "      <td>508.000000</td>\n",
              "      <td>480.000000</td>\n",
              "      <td>738.000000</td>\n",
              "      <td>15500.000000</td>\n",
              "      <td>12.000000</td>\n",
              "      <td>2010.000000</td>\n",
              "      <td>755000.000000</td>\n",
              "    </tr>\n",
              "  </tbody>\n",
              "</table>\n",
              "</div>"
            ],
            "text/plain": [
              "                Id   MSSubClass  ...       YrSold      SalePrice\n",
              "count  1460.000000  1460.000000  ...  1460.000000    1460.000000\n",
              "mean    730.500000    56.897260  ...  2007.815753  180921.195890\n",
              "std     421.610009    42.300571  ...     1.328095   79442.502883\n",
              "min       1.000000    20.000000  ...  2006.000000   34900.000000\n",
              "25%     365.750000    20.000000  ...  2007.000000  129975.000000\n",
              "50%     730.500000    50.000000  ...  2008.000000  163000.000000\n",
              "75%    1095.250000    70.000000  ...  2009.000000  214000.000000\n",
              "max    1460.000000   190.000000  ...  2010.000000  755000.000000\n",
              "\n",
              "[8 rows x 38 columns]"
            ]
          },
          "metadata": {
            "tags": []
          },
          "execution_count": 187
        }
      ]
    },
    {
      "cell_type": "code",
      "metadata": {
        "id": "f9M9FJegvkTK",
        "colab_type": "code",
        "outputId": "16d7e1bb-9f59-4110-c2ed-e354ae1b7c18",
        "colab": {
          "base_uri": "https://localhost:8080/",
          "height": 1000
        }
      },
      "source": [
        "train_data.info()"
      ],
      "execution_count": 0,
      "outputs": [
        {
          "output_type": "stream",
          "text": [
            "<class 'pandas.core.frame.DataFrame'>\n",
            "RangeIndex: 1460 entries, 0 to 1459\n",
            "Data columns (total 81 columns):\n",
            "Id               1460 non-null int64\n",
            "MSSubClass       1460 non-null int64\n",
            "MSZoning         1460 non-null object\n",
            "LotFrontage      1201 non-null float64\n",
            "LotArea          1460 non-null int64\n",
            "Street           1460 non-null object\n",
            "Alley            91 non-null object\n",
            "LotShape         1460 non-null object\n",
            "LandContour      1460 non-null object\n",
            "Utilities        1460 non-null object\n",
            "LotConfig        1460 non-null object\n",
            "LandSlope        1460 non-null object\n",
            "Neighborhood     1460 non-null object\n",
            "Condition1       1460 non-null object\n",
            "Condition2       1460 non-null object\n",
            "BldgType         1460 non-null object\n",
            "HouseStyle       1460 non-null object\n",
            "OverallQual      1460 non-null int64\n",
            "OverallCond      1460 non-null int64\n",
            "YearBuilt        1460 non-null int64\n",
            "YearRemodAdd     1460 non-null int64\n",
            "RoofStyle        1460 non-null object\n",
            "RoofMatl         1460 non-null object\n",
            "Exterior1st      1460 non-null object\n",
            "Exterior2nd      1460 non-null object\n",
            "MasVnrType       1452 non-null object\n",
            "MasVnrArea       1452 non-null float64\n",
            "ExterQual        1460 non-null object\n",
            "ExterCond        1460 non-null object\n",
            "Foundation       1460 non-null object\n",
            "BsmtQual         1423 non-null object\n",
            "BsmtCond         1423 non-null object\n",
            "BsmtExposure     1422 non-null object\n",
            "BsmtFinType1     1423 non-null object\n",
            "BsmtFinSF1       1460 non-null int64\n",
            "BsmtFinType2     1422 non-null object\n",
            "BsmtFinSF2       1460 non-null int64\n",
            "BsmtUnfSF        1460 non-null int64\n",
            "TotalBsmtSF      1460 non-null int64\n",
            "Heating          1460 non-null object\n",
            "HeatingQC        1460 non-null object\n",
            "CentralAir       1460 non-null object\n",
            "Electrical       1459 non-null object\n",
            "1stFlrSF         1460 non-null int64\n",
            "2ndFlrSF         1460 non-null int64\n",
            "LowQualFinSF     1460 non-null int64\n",
            "GrLivArea        1460 non-null int64\n",
            "BsmtFullBath     1460 non-null int64\n",
            "BsmtHalfBath     1460 non-null int64\n",
            "FullBath         1460 non-null int64\n",
            "HalfBath         1460 non-null int64\n",
            "BedroomAbvGr     1460 non-null int64\n",
            "KitchenAbvGr     1460 non-null int64\n",
            "KitchenQual      1460 non-null object\n",
            "TotRmsAbvGrd     1460 non-null int64\n",
            "Functional       1460 non-null object\n",
            "Fireplaces       1460 non-null int64\n",
            "FireplaceQu      770 non-null object\n",
            "GarageType       1379 non-null object\n",
            "GarageYrBlt      1379 non-null float64\n",
            "GarageFinish     1379 non-null object\n",
            "GarageCars       1460 non-null int64\n",
            "GarageArea       1460 non-null int64\n",
            "GarageQual       1379 non-null object\n",
            "GarageCond       1379 non-null object\n",
            "PavedDrive       1460 non-null object\n",
            "WoodDeckSF       1460 non-null int64\n",
            "OpenPorchSF      1460 non-null int64\n",
            "EnclosedPorch    1460 non-null int64\n",
            "3SsnPorch        1460 non-null int64\n",
            "ScreenPorch      1460 non-null int64\n",
            "PoolArea         1460 non-null int64\n",
            "PoolQC           7 non-null object\n",
            "Fence            281 non-null object\n",
            "MiscFeature      54 non-null object\n",
            "MiscVal          1460 non-null int64\n",
            "MoSold           1460 non-null int64\n",
            "YrSold           1460 non-null int64\n",
            "SaleType         1460 non-null object\n",
            "SaleCondition    1460 non-null object\n",
            "SalePrice        1460 non-null int64\n",
            "dtypes: float64(3), int64(35), object(43)\n",
            "memory usage: 924.0+ KB\n"
          ],
          "name": "stdout"
        }
      ]
    },
    {
      "cell_type": "markdown",
      "metadata": {
        "id": "hXNP8MHyxxWp",
        "colab_type": "text"
      },
      "source": [
        "Now analyze features 1 by 1 and decide if they are needed or if any changes are needed"
      ]
    },
    {
      "cell_type": "code",
      "metadata": {
        "id": "KBuHPXJwTMRU",
        "colab_type": "code",
        "colab": {}
      },
      "source": [
        "def get_pos_prox_score(x):\n",
        "  pos = 0\n",
        "  if(x['Condition1'] == 'PosA'  or x['Condition2'] == 'PosA'):\n",
        "    pos = 2\n",
        "  elif(x['Condition1'] == 'PosN'  or x['Condition2'] == 'PosN'):\n",
        "    pos = 1\n",
        "  return pos\n",
        "\n",
        "def get_neg_prox_score(x):\n",
        "  neg = 0\n",
        "  if(x['Condition1'] == 'RRAn' or x['Condition1'] == 'RRAe'  or x['Condition2'] == 'RRAn' or x['Condition2'] == 'RRAe'):\n",
        "    neg = 2\n",
        "  elif(x['Condition1'] == 'RRNn' or x['Condition1'] == 'RRNe'  or x['Condition2'] == 'RRNn' or x['Condition2'] == 'RRNe'):\n",
        "    neg = 1\n",
        "  return neg\n",
        "\n",
        "def preprocess_data(df):\n",
        "  train_data = df.copy()\n",
        "  one_hot_cols = ['MSSubClass', 'Neighborhood', 'RoofStyle', 'RoofMatl', \n",
        "                  'BsmtFinType1', 'BsmtFinType2', 'Heating', 'GarageType',\n",
        "                  'MiscFeature', 'SaleType', 'SaleCondition']\n",
        "  dropCols = ['Id', 'MSZoning', 'Street', 'Alley', 'LotShape', 'LandContour', \n",
        "              'Utilities', 'LotConfig', 'LandSlope', 'Condition1', 'Condition2',\n",
        "              'BldgType', 'HouseStyle', 'Exterior1st', 'Exterior2nd', \n",
        "              'MasVnrType', 'ExterQual', 'ExterCond', 'Foundation', 'BsmtQual',\n",
        "              'BsmtCond', 'BsmtExposure', 'TotalBsmtSF', 'HeatingQC', 'CentralAir',\n",
        "              'Electrical', 'KitchenQual', 'FireplaceQu', 'Functional', 'GarageQual',\n",
        "              'GarageCond', 'GarageFinish', 'PavedDrive', 'PoolQC', 'Fence'] \n",
        "\n",
        "  le = LabelEncoder()\n",
        "\n",
        "  # create two new features from MSZoning column\n",
        "  res_zones = ['FV','RH','RL','RP','RM']\n",
        "  train_data['ResZoned'] = train_data['MSZoning'].isin(res_zones)\n",
        "  train_data['Density'] = train_data.apply(lambda x: 4, axis= 1)\n",
        "  train_data.loc[train_data['MSZoning'].isin(['RL', 'RP', 'A']), 'Density'] = 1\n",
        "  train_data.loc[train_data['MSZoning'].isin(['RM', 'FV']), 'Density'] = 2\n",
        "  train_data.loc[train_data['MSZoning'] == 'RH', 'Density'] = 3\n",
        "\n",
        "  # street just has two possible values\n",
        "  train_data['RoadType'] = train_data[['Street']].apply(lambda col: le.fit_transform(col))\n",
        "\n",
        "  # add feature based on has alley, what type probably doesn't matter\n",
        "  train_data['HasAlley'] = train_data['Alley'].isin(['Grvl','Pave'])\n",
        "\n",
        "  # ordered feature for lot shape\n",
        "  oeShape = OrdinalEncoder(categories=[['Reg', 'IR1', 'IR2', 'IR3']])\n",
        "  train_data['Shape'] = oeShape.fit_transform(train_data[['LotShape']])\n",
        "\n",
        "  # ordered feature for what utilities are available\n",
        "  oeUtil = OrdinalEncoder(categories=[['ELO', 'NoSeWa', 'NoSewr', 'AllPub']])\n",
        "  train_data['Utils'] = oeUtil.fit_transform(train_data[['Utilities']])\n",
        "\n",
        "  # two new features based on lot_config\n",
        "  train_data['IsCulDSac'] = train_data['LotConfig'] == 'CulDSac'\n",
        "  train_data['HasFrontage'] = train_data['LotConfig'].isin(['FR2', 'FR3'])\n",
        "\n",
        "  # ordered feature for lot slope\n",
        "  oeSlope = OrdinalEncoder(categories=[['Gtl', 'Mod', 'Sev']])\n",
        "  train_data['Slope'] = oeSlope.fit_transform(train_data[['LandSlope']])\n",
        "\n",
        "  # get two new features for proximity\n",
        "  train_data['PosProxScore'] = train_data.apply(lambda x: get_pos_prox_score(x), axis=1)\n",
        "  train_data['NegProxScore'] = train_data.apply(lambda x: get_neg_prox_score(x), axis=1)\n",
        "\n",
        "  # get new feature for building type while fixing incorrect labels\n",
        "  oeBldg = OrdinalEncoder(categories=[['2FmCon', 'TwnhsI', 'TwnhsE', 'Duplx', '1Fam']])\n",
        "  train_data.loc[train_data['BldgType'] == '2fmCon', 'BldgType'] = '2FmCon'\n",
        "  train_data.loc[train_data['BldgType'] == 'Twnhs', 'BldgType'] = 'TwnhsI'\n",
        "  train_data.loc[train_data['BldgType'] == 'Duplex', 'BldgType'] = 'Duplx'\n",
        "  train_data['Bldg'] = oeBldg.fit_transform(train_data[['BldgType']])\n",
        "\n",
        "  # ordered feature for house style\n",
        "  oeHouse = OrdinalEncoder(categories=[['1Story', '1.5Unf', '1.5Fin', 'SFoyer', 'SLvl', '2Story', '2.5Unf', '2.5Fin']])\n",
        "  train_data['House'] = oeHouse.fit_transform(train_data[['HouseStyle']])\n",
        "\n",
        "  # combine dummies across these two columns (also fix incorrect labels)\n",
        "  ext_dummies = pd.get_dummies(train_data[['Exterior1st', 'Exterior2nd']], {'Exterior1st': 'Ext', 'Exterior2nd': 'Ext2'}, columns=['Exterior1st', 'Exterior2nd'])\n",
        "  rmvCols = []\n",
        "  for col in ext_dummies.columns:\n",
        "    if 'Ext2' in col:\n",
        "      mat = col.split('_')[1]\n",
        "      if mat == 'Brk Cmn':\n",
        "        mat = 'BrkComm'\n",
        "      if mat == 'CmentBd':\n",
        "        mat = 'CemntBd'\n",
        "      if mat == 'Wd Shng':\n",
        "        mat = 'WdShing'\n",
        "      extCol = 'Ext_' + mat\n",
        "      if extCol not in ext_dummies.columns:\n",
        "        ext_dummies[extCol] = ext_dummies[col]\n",
        "      ext_dummies[extCol] = ext_dummies[extCol] | ext_dummies[col]\n",
        "      rmvCols.append(col)\n",
        "  ext_dummies.drop(rmvCols, axis=1, inplace=True)\n",
        "  train_data = pd.concat([train_data, ext_dummies], axis=1)\n",
        "\n",
        "  # ordered column for masonry\n",
        "  train_data.loc[train_data['MasVnrType'].isna(), 'MasVnrType'] = 'None'\n",
        "  oeMasonry = OrdinalEncoder(categories=[['CBlock', 'None', 'BrkCmn', 'BrkFace', 'Stone']])\n",
        "  train_data['Masonry'] = oeMasonry.fit_transform(train_data[['MasVnrType']])\n",
        "\n",
        "  # ordered features for exterior qualit/condition\n",
        "  oeExtQ = OrdinalEncoder(categories=[['Po', 'Fa', 'TA', 'Gd', 'Ex']])\n",
        "  train_data['ExtQual'] = oeExtQ.fit_transform(train_data[['ExterQual']])\n",
        "  train_data['ExtCond'] = oeExtQ.fit_transform(train_data[['ExterCond']])\n",
        "\n",
        "  # ordered feature for foundation by mean of SalePrice distribution\n",
        "  oeFound = OrdinalEncoder(categories=[['Slab', 'BrkTil', 'CBlock', 'Stone', 'Wood', 'PConc']])\n",
        "  train_data['FoundationMat'] = oeFound.fit_transform(train_data[['Foundation']])\n",
        "\n",
        "  # ordered features for basement quality and condition\n",
        "  train_data.loc[train_data['BsmtQual'].isna(), 'BsmtQual'] = 'NA'\n",
        "  train_data.loc[train_data['BsmtCond'].isna(), 'BsmtCond'] = 'NA'\n",
        "  oeBsmtQ = OrdinalEncoder(categories=[['NA', 'Po', 'Fa', 'TA', 'Gd', 'Ex']])\n",
        "  train_data['BsmtQ'] = oeBsmtQ.fit_transform(train_data[['BsmtQual']])\n",
        "  train_data['BsmtC'] = oeBsmtQ.fit_transform(train_data[['BsmtCond']])\n",
        "\n",
        "  # ordered feature for basement exposure\n",
        "  train_data.loc[train_data['BsmtExposure'].isna(), 'BsmtExposure'] = 'NA'\n",
        "  oeBsmtExp = OrdinalEncoder(categories=[['NA', 'No', 'Mn', 'Av', 'Gd']])\n",
        "  train_data['BsmtExp'] = oeBsmtExp.fit_transform(train_data[['BsmtExposure']])\n",
        "\n",
        "  # add feature for finished bsmt area, also keep unfinished area\n",
        "  train_data['FinBsmtArea'] = train_data['TotalBsmtSF'] - train_data['BsmtUnfSF']\n",
        "\n",
        "  # ordered feature for heating quality\n",
        "  oeHeat = OrdinalEncoder(categories=[['Po', 'Fa', 'TA', 'Gd', 'Ex']])\n",
        "  train_data['HeatingQual'] = oeHeat.fit_transform(train_data[['HeatingQC']])\n",
        "\n",
        "  # only two values for central air\n",
        "  train_data['CentrlAir'] = train_data[['CentralAir']].apply(lambda col: le.fit_transform(col))\n",
        "\n",
        "  # ordered feature for fuse types\n",
        "  train_data.loc[train_data['Electrical'].isna(), 'Electrical'] = 'NA'\n",
        "  oeElec = OrdinalEncoder(categories=[['NA', 'FuseP', 'FuseF', 'Mix', 'FuseA', 'SBrkr']])\n",
        "  train_data['Elec'] = oeElec.fit_transform(train_data[['Electrical']])\n",
        "\n",
        "  # ordered feature for kitchen quality\n",
        "  oeKitch = OrdinalEncoder(categories=[['Po', 'Fa', 'TA', 'Gd', 'Ex']])\n",
        "  train_data['KitchQual'] = oeKitch.fit_transform(train_data[['KitchenQual']])\n",
        "\n",
        "  # ordered feature for home functionality\n",
        "  oeFunc = OrdinalEncoder(categories=[['Sal', 'Sev', 'Maj2', 'Maj1', 'Mod', 'Min2', 'Min1', 'Typ']])\n",
        "  train_data['HomeFunct'] = oeFunc.fit_transform(train_data[['Functional']])\n",
        "\n",
        "  # ordered feature for fireplace quality\n",
        "  train_data.loc[train_data['FireplaceQu'].isna(), 'FireplaceQu'] = 'NA'\n",
        "  oeFireQ = OrdinalEncoder(categories=[['NA', 'Po', 'Fa', 'TA', 'Gd', 'Ex']])\n",
        "  train_data['FireplQual'] = oeFireQ.fit_transform(train_data[['FireplaceQu']])\n",
        "\n",
        "  # ordered features for garage quality and condition\n",
        "  train_data.loc[train_data['GarageQual'].isna(), 'GarageQual'] = 'NA'\n",
        "  train_data.loc[train_data['GarageCond'].isna(), 'GarageCond'] = 'NA'\n",
        "  oeGarage = OrdinalEncoder(categories=[['NA', 'Po', 'Fa', 'TA', 'Gd', 'Ex']])\n",
        "  train_data['GarageQ'] = oeGarage.fit_transform(train_data[['GarageQual']])\n",
        "  train_data['GarageC'] = oeGarage.fit_transform(train_data[['GarageCond']])\n",
        "\n",
        "  # ordered feature for garage finish\n",
        "  train_data.loc[train_data['GarageFinish'].isna(), 'GarageFinish'] = 'NA'\n",
        "  oeGarageFin = OrdinalEncoder(categories=[['NA', 'Unf', 'RFn', 'Fin']])\n",
        "  train_data['GarageFin'] = oeGarageFin.fit_transform(train_data[['GarageFinish']])\n",
        "\n",
        "  # ordered feature for paved driveway\n",
        "  oeDrive = OrdinalEncoder(categories=[['N', 'P', 'Y']])\n",
        "  train_data['Driveway'] = oeDrive.fit_transform(train_data[['PavedDrive']])\n",
        "\n",
        "  # ordered feature for pool quality\n",
        "  train_data.loc[train_data['PoolQC'].isna(), 'PoolQC'] = 'NA'\n",
        "  oePool = OrdinalEncoder(categories=[['NA', 'Fa', 'TA', 'Gd', 'Ex']])\n",
        "  train_data['PoolQual'] = oePool.fit_transform(train_data[['PoolQC']])\n",
        "\n",
        "  # ordered feature for fence\n",
        "  train_data.loc[train_data['Fence'].isna(), 'Fence'] = 'NA'\n",
        "  oeFence = OrdinalEncoder(categories=[['NA', 'MnWw', 'GdWo', 'MnPrv', 'GdPrv']])\n",
        "  train_data['FenceQual'] = oeFence.fit_transform(train_data[['Fence']])\n",
        "\n",
        "  # fix NAs in numeric columns\n",
        "  train_data.loc[train_data['MasVnrArea'].isna(), 'MasVnrArea'] = 0\n",
        "  train_data.loc[train_data['LotFrontage'].isna(), 'LotFrontage'] = 0\n",
        "  train_data.loc[train_data['GarageYrBlt'].isna(), 'GarageYrBlt'] = train_data.loc[train_data['GarageYrBlt'].isna(), 'YearBuilt']\n",
        "\n",
        "  # one-hot encode columns with no obvious ordering\n",
        "  train_data = pd.get_dummies(train_data, columns=one_hot_cols)\n",
        "\n",
        "  # drop categorical features that we've extracted\n",
        "  train_data.drop(dropCols, axis=1, inplace=True)\n",
        "\n",
        "  return train_data"
      ],
      "execution_count": 0,
      "outputs": []
    },
    {
      "cell_type": "code",
      "metadata": {
        "id": "uHjzPoESylbE",
        "colab_type": "code",
        "outputId": "aca870c7-1b5a-4dcb-a939-6b7847c6eb61",
        "colab": {
          "base_uri": "https://localhost:8080/",
          "height": 627
        }
      },
      "source": [
        "# make heatmap of correllations\n",
        "corr = train_data.corr()\n",
        "\n",
        "mask = np.zeros_like(corr, dtype=np.bool)\n",
        "mask[np.triu_indices_from(mask)] = True\n",
        "\n",
        "fig, ax = plt.subplots(figsize=(9, 9))\n",
        "cmap = sb.diverging_palette(220, 10, as_cmap=True)\n",
        "sb.heatmap(corr, mask=mask, cmap=cmap, ax=ax,  square=True)\n",
        "fig.tight_layout()"
      ],
      "execution_count": 0,
      "outputs": [
        {
          "output_type": "display_data",
          "data": {
            "image/png": "[encoded data removed]",
            "text/plain": [
              "<Figure size 648x648 with 2 Axes>"
            ]
          },
          "metadata": {
            "tags": []
          }
        }
      ]
    },
    {
      "cell_type": "code",
      "metadata": {
        "id": "Nck72fHBTkeB",
        "colab_type": "code",
        "colab": {
          "base_uri": "https://localhost:8080/",
          "height": 483
        },
        "outputId": "2452a2a4-ebcd-4033-e501-84da7a98f829"
      },
      "source": [
        "# histogram of target to check for major outliers or strange distributions\n",
        "fig = plt.figure(figsize=(8,8))\n",
        "ax = fig.add_subplot(1,1,1)\n",
        "ax.hist(train_data['SalePrice'], bins=50)\n",
        "fig.show()"
      ],
      "execution_count": 279,
      "outputs": [
        {
          "output_type": "display_data",
          "data": {
            "image/png": "[encoded data removed]",
            "text/plain": [
              "<Figure size 576x576 with 1 Axes>"
            ]
          },
          "metadata": {
            "tags": []
          }
        }
      ]
    },
    {
      "cell_type": "code",
      "metadata": {
        "id": "jBwtrf3yWqgt",
        "colab_type": "code",
        "colab": {}
      },
      "source": [
        "def fix_cols(df_train, df_test):\n",
        "  new_test = df_test.copy()\n",
        "  for col in new_test.columns:\n",
        "    if col not in df_train.columns:\n",
        "      new_test.drop(col, axis=1, inplace=True)\n",
        "  for col in df_train:\n",
        "    if col not in new_test.columns:\n",
        "      new_test[col] = 0\n",
        "  return new_test\n",
        "\n",
        "def get_error(y_true, y_pred):\n",
        "  y_new = y_true[y_pred > 0]\n",
        "  y_pred_new = y_pred[y_pred > 0]\n",
        "  return sqrt(mean_squared_log_error(y_new, y_pred_new))\n"
      ],
      "execution_count": 0,
      "outputs": []
    },
    {
      "cell_type": "code",
      "metadata": {
        "id": "M0cbIS3Ygvsy",
        "colab_type": "code",
        "colab": {}
      },
      "source": [
        "processed = preprocess_data(train_data)\n",
        "processed_test = preprocess_data(test_data)\n",
        "processed_test = fix_cols(processed, processed_test)"
      ],
      "execution_count": 0,
      "outputs": []
    },
    {
      "cell_type": "code",
      "metadata": {
        "id": "IbGivXuSyyTS",
        "colab_type": "code",
        "colab": {}
      },
      "source": [
        "results = []"
      ],
      "execution_count": 0,
      "outputs": []
    },
    {
      "cell_type": "code",
      "metadata": {
        "id": "w0Nq_x1zaIka",
        "colab_type": "code",
        "colab": {
          "base_uri": "https://localhost:8080/",
          "height": 51
        },
        "outputId": "650895bb-91b0-4984-d810-a6089255c69b"
      },
      "source": [
        "# dumb linear model with all features converting all categorical variables to simple dummies\n",
        "dummies = pd.get_dummies(train_data).dropna()\n",
        "X = dummies.drop(['SalePrice', 'Id'], axis=1)\n",
        "y = dummies['SalePrice']\n",
        "lm = LinearRegression()\n",
        "lm.fit(X,y)\n",
        "dummies_test = pd.get_dummies(test_data).dropna()\n",
        "dummies_test = fix_cols(dummies, dummies_test)\n",
        "X_test = dummies_test.drop(['SalePrice', 'Id'], axis=1)\n",
        "y_pred = lm.predict(X_test)\n",
        "err = get_error(dummies_test['SalePrice'], y_pred)\n",
        "print(err)\n",
        "results.append(['dummy linear', err])\n",
        "results"
      ],
      "execution_count": 286,
      "outputs": [
        {
          "output_type": "stream",
          "text": [
            "1.0197956030097715\n"
          ],
          "name": "stdout"
        },
        {
          "output_type": "execute_result",
          "data": {
            "text/plain": [
              "[['dummy linear', 1.0197956030097715]]"
            ]
          },
          "metadata": {
            "tags": []
          },
          "execution_count": 286
        }
      ]
    },
    {
      "cell_type": "code",
      "metadata": {
        "id": "Ol0k3cI7jPZN",
        "colab_type": "code",
        "colab": {
          "base_uri": "https://localhost:8080/",
          "height": 68
        },
        "outputId": "613c8fee-2313-439b-ce20-a9310541f129"
      },
      "source": [
        "X = processed.drop(['SalePrice'], axis=1)\n",
        "y = processed['SalePrice']\n",
        "lm = LinearRegression()\n",
        "lm.fit(X,y)\n",
        "X_test = processed_test.drop(['SalePrice'], axis=1)\n",
        "y_pred = lm.predict(X_test)\n",
        "y_test = processed_test['SalePrice']\n",
        "err = get_error(y_test, y_pred)\n",
        "print(err)\n",
        "results.append(['processed linear', err])"
      ],
      "execution_count": 287,
      "outputs": [
        {
          "output_type": "stream",
          "text": [
            "0.9549865393227729\n"
          ],
          "name": "stdout"
        },
        {
          "output_type": "execute_result",
          "data": {
            "text/plain": [
              "[['dummy linear', 1.0197956030097715],\n",
              " ['processed linear', 0.9549865393227729]]"
            ]
          },
          "metadata": {
            "tags": []
          },
          "execution_count": 287
        }
      ]
    },
    {
      "cell_type": "code",
      "metadata": {
        "id": "sBNr646tjz7X",
        "colab_type": "code",
        "colab": {
          "base_uri": "https://localhost:8080/",
          "height": 320
        },
        "outputId": "4a353460-a15a-44d1-c002-a7c7325345ef"
      },
      "source": [
        "# inspect correlations of new features\n",
        "corr = processed.corr()\n",
        "corr['SalePrice']\n",
        "fig, ax = plt.subplots(figsize=(5, 5))\n",
        "ax.hist(corr['SalePrice'], bins = 50)\n",
        "fig.show()"
      ],
      "execution_count": 22,
      "outputs": [
        {
          "output_type": "display_data",
          "data": {
            "image/png": "[encoded data removed]",
            "text/plain": [
              "<Figure size 360x360 with 1 Axes>"
            ]
          },
          "metadata": {
            "tags": []
          }
        }
      ]
    },
    {
      "cell_type": "code",
      "metadata": {
        "id": "e6NwY9AilsQr",
        "colab_type": "code",
        "colab": {
          "base_uri": "https://localhost:8080/",
          "height": 34
        },
        "outputId": "8cff2766-c835-4834-ebb4-8ba4d3f0c20b"
      },
      "source": [
        "# try choosing features based on corr coeficients with SalePrice\n",
        "colsToUse = corr.index[(corr['SalePrice'] > 0.2) | (corr['SalePrice'] < -0.2)].tolist()\n",
        "X = processed[colsToUse].drop(['SalePrice'], axis=1)\n",
        "y = processed['SalePrice']\n",
        "lm = LinearRegression()\n",
        "lm.fit(X,y)\n",
        "X_test = processed_test[colsToUse].drop(['SalePrice'], axis=1)\n",
        "y_pred = lm.predict(X_test)\n",
        "y_test = processed_test['SalePrice']\n",
        "err = get_error(y_test, y_pred)\n",
        "print(err)\n",
        "results.append(['linear corr cols', err])"
      ],
      "execution_count": 289,
      "outputs": [
        {
          "output_type": "stream",
          "text": [
            "0.17411364597318915\n"
          ],
          "name": "stdout"
        }
      ]
    },
    {
      "cell_type": "code",
      "metadata": {
        "id": "c-A_A2NzMPiO",
        "colab_type": "code",
        "colab": {
          "base_uri": "https://localhost:8080/",
          "height": 934
        },
        "outputId": "7c4e414a-e146-441d-a4e3-32ea1566bf4b"
      },
      "source": [
        "# visualize features with highest correllations\n",
        "num_cols = 32\n",
        "topcorrs = corr[['SalePrice']].sort_values('SalePrice', ascending=False).index[1:num_cols+1]\n",
        "\n",
        "fig = plt.figure(figsize=(16,16))\n",
        "for idx,col in enumerate(topcorrs, start=1):\n",
        "  ax = fig.add_subplot(8,4,idx)\n",
        "  ax.scatter(processed[col], processed['SalePrice'])\n",
        "  plt.yscale('log') # added after the fact because plots had larger dispersion at high SalePrice\n",
        "  ax.set_title(col)\n",
        "fig.show()"
      ],
      "execution_count": 158,
      "outputs": [
        {
          "output_type": "display_data",
          "data": {
            "image/png": "[encoded data removed]",
            "text/plain": [
              "<Figure size 1152x1152 with 32 Axes>"
            ]
          },
          "metadata": {
            "tags": []
          }
        }
      ]
    },
    {
      "cell_type": "markdown",
      "metadata": {
        "id": "3D44a6NEelR1",
        "colab_type": "text"
      },
      "source": [
        "After looking at the plots above, from here on we predict to log(SalePrice) in our linear models."
      ]
    },
    {
      "cell_type": "code",
      "metadata": {
        "id": "ru0HHgZcMVXt",
        "colab_type": "code",
        "colab": {
          "base_uri": "https://localhost:8080/",
          "height": 34
        },
        "outputId": "721f58f5-402f-4e74-8f75-498e98552e64"
      },
      "source": [
        "# choose features based manually based on scatter plots\n",
        "colsToUse_scatter = ['OverallQual', 'GrLivArea', 'ExtQual', 'KitchQual', 'GarageArea', \n",
        "             '1stFlrSF', 'BsmtQ', 'FullBath', 'GarageFin', 'TotRmsAbvGrd', \n",
        "             'YearRemodAdd', 'MasVnrArea', 'FinBsmtArea', \n",
        "             'Neighborhood_NridgHt', 'Neighborhood_NoRidge', 'WoodDeckSF', \n",
        "             '2ndFlrSF']\n",
        "X = processed[colsToUse_scatter]\n",
        "y = processed[['SalePrice']]\n",
        "y_log = y.apply(lambda x: log(x), axis=1)\n",
        "lm = LinearRegression()\n",
        "lm.fit(X,y_log)\n",
        "X_test = processed_test[colsToUse_scatter]\n",
        "y_pred_log = lm.predict(X_test)\n",
        "y_pred = np.array([exp(x) for x in y_pred_log])\n",
        "y_test = processed_test['SalePrice']\n",
        "err = get_error(y_test, y_pred)\n",
        "print(err)\n",
        "results.append(['scatter visual linear (vs log(SP))', err])"
      ],
      "execution_count": 245,
      "outputs": [
        {
          "output_type": "stream",
          "text": [
            "0.15805735963883197\n"
          ],
          "name": "stdout"
        }
      ]
    },
    {
      "cell_type": "code",
      "metadata": {
        "id": "irbQuqOQ0eFz",
        "colab_type": "code",
        "colab": {
          "base_uri": "https://localhost:8080/",
          "height": 34
        },
        "outputId": "65d0f98f-de3a-4c36-9f80-11f5fb957d4a"
      },
      "source": [
        "# manually choose features based on intuition\n",
        "colsToUse_intuit = ['LotArea','OverallQual','OverallCond','YearRemodAdd','1stFlrSF',\n",
        " '2ndFlrSF','FullBath','HalfBath','BedroomAbvGr','KitchenAbvGr','TotRmsAbvGrd','Fireplaces',\n",
        " 'GarageArea','WoodDeckSF','OpenPorchSF','EnclosedPorch','3SsnPorch','ScreenPorch',\n",
        " 'PoolArea','Utils','PosProxScore','NegProxScore','ExtQual','ExtCond','BsmtQ',\n",
        " 'BsmtC','HeatingQual','CentrlAir','Elec','KitchQual','HomeFunct','FireplQual',\n",
        " 'GarageQ','GarageC','Neighborhood_Blmngtn','Neighborhood_Blueste','Neighborhood_BrDale',\n",
        " 'Neighborhood_BrkSide','Neighborhood_ClearCr','Neighborhood_CollgCr','Neighborhood_Crawfor',\n",
        " 'Neighborhood_Edwards','Neighborhood_Gilbert','Neighborhood_IDOTRR','Neighborhood_MeadowV',\n",
        " 'Neighborhood_Mitchel','Neighborhood_NAmes','Neighborhood_NPkVill','Neighborhood_NWAmes',\n",
        " 'Neighborhood_NoRidge','Neighborhood_NridgHt','Neighborhood_OldTown','Neighborhood_SWISU',\n",
        " 'Neighborhood_Sawyer','Neighborhood_SawyerW','Neighborhood_Somerst','Neighborhood_StoneBr',\n",
        " 'Neighborhood_Timber','Neighborhood_Veenker',\n",
        " ]\n",
        "X = processed[colsToUse_intuit]\n",
        "y = processed[['SalePrice']]\n",
        "y_log = y.apply(lambda x: log(x), axis=1)\n",
        "lm = LinearRegression()\n",
        "lm.fit(X,y_log)\n",
        "X_test = processed_test[colsToUse_intuit]\n",
        "y_pred_log = lm.predict(X_test)\n",
        "y_pred = np.array([exp(x) for x in y_pred_log])\n",
        "y_test = processed_test['SalePrice']\n",
        "err = get_error(y_test, y_pred)\n",
        "print(err)\n",
        "results.append(['intuitive linear (vs log(SP))', err])"
      ],
      "execution_count": 246,
      "outputs": [
        {
          "output_type": "stream",
          "text": [
            "0.1450300909718789\n"
          ],
          "name": "stdout"
        }
      ]
    },
    {
      "cell_type": "code",
      "metadata": {
        "id": "lyhWrxiifxHk",
        "colab_type": "code",
        "colab": {}
      },
      "source": [
        "def get_expvar_by_ncomp(pca):\n",
        "  total_exp_var = 0.0\n",
        "  points = np.empty([pca.n_components_, 2])\n",
        "  for (i, var) in enumerate(pca.explained_variance_ratio_):\n",
        "    total_exp_var += var\n",
        "    points[i,0] = i\n",
        "    points[i,1] = total_exp_var\n",
        "  return points\n"
      ],
      "execution_count": 0,
      "outputs": []
    },
    {
      "cell_type": "code",
      "metadata": {
        "id": "UA4B7S1Gzu7s",
        "colab_type": "code",
        "colab": {
          "base_uri": "https://localhost:8080/",
          "height": 483
        },
        "outputId": "690ecd4d-68cf-40d7-cef1-bb7f33ec5fca"
      },
      "source": [
        "# try PCA with different values of n_components\n",
        "pca = PCA(n_components=50)\n",
        "pca.fit(processed.drop(['SalePrice'], axis=1))\n",
        "points = get_expvar_by_ncomp(pca)\n",
        "x, y = points.T\n",
        "\n",
        "fig = plt.figure(figsize=(8,8))\n",
        "ax = fig.add_subplot(1,1,1)\n",
        "ax.plot(x, y)\n",
        "fig.show()"
      ],
      "execution_count": 210,
      "outputs": [
        {
          "output_type": "display_data",
          "data": {
            "image/png": "[encoded data removed]",
            "text/plain": [
              "<Figure size 576x576 with 1 Axes>"
            ]
          },
          "metadata": {
            "tags": []
          }
        }
      ]
    },
    {
      "cell_type": "code",
      "metadata": {
        "id": "WwQCjjpUjDM2",
        "colab_type": "code",
        "colab": {
          "base_uri": "https://localhost:8080/",
          "height": 34
        },
        "outputId": "1c8d5811-078a-493c-8090-82e634cacf19"
      },
      "source": [
        "# use PCA to reduce feature space dramatically\n",
        "pca = PCA(n_components=21)\n",
        "X = pca.fit_transform(processed.drop(['SalePrice'], axis=1))\n",
        "y = processed[['SalePrice']]\n",
        "y_log = y.apply(lambda x: log(x), axis=1)\n",
        "lm = LinearRegression()\n",
        "lm.fit(X,y_log)\n",
        "X_test = pca.transform(processed_test.drop(['SalePrice'], axis=1))\n",
        "y_pred_log = lm.predict(X_test)\n",
        "y_pred = np.array([exp(x) for x in y_pred_log])\n",
        "y_test = processed_test['SalePrice']\n",
        "err = get_error(y_test, y_pred)\n",
        "print(err)\n",
        "results.append(['pca (vs log(SP))', err])"
      ],
      "execution_count": 240,
      "outputs": [
        {
          "output_type": "stream",
          "text": [
            "0.1959401716412722\n"
          ],
          "name": "stdout"
        }
      ]
    },
    {
      "cell_type": "code",
      "metadata": {
        "id": "1HX2voDhlOKJ",
        "colab_type": "code",
        "colab": {
          "base_uri": "https://localhost:8080/",
          "height": 34
        },
        "outputId": "67e8fa5a-204c-4c47-9ccf-00e80bbeaa9d"
      },
      "source": [
        "# PCA error increases dramatically at the 22nd component and above, why is that?\n",
        "pca = PCA(n_components=50)\n",
        "X = pca.fit_transform(processed.drop(['SalePrice'], axis=1))\n",
        "y = processed[['SalePrice']]\n",
        "y_log = y.apply(lambda x: log(x), axis=1)\n",
        "lm = LinearRegression()\n",
        "lm.fit(X,y_log)\n",
        "X_test = pca.transform(processed_test.drop(['SalePrice'], axis=1))\n",
        "y_pred_log = lm.predict(X_test)\n",
        "y_pred = np.array([exp(x) for x in y_pred_log])\n",
        "y_test = processed_test['SalePrice']\n",
        "err = get_error(y_test, y_pred)\n",
        "print(err)\n",
        "results.append(['bad pca (vs log(SP))', err])"
      ],
      "execution_count": 239,
      "outputs": [
        {
          "output_type": "stream",
          "text": [
            "13.78218552172064\n"
          ],
          "name": "stdout"
        }
      ]
    },
    {
      "cell_type": "code",
      "metadata": {
        "id": "XjXbi2Et5KcI",
        "colab_type": "code",
        "colab": {
          "base_uri": "https://localhost:8080/",
          "height": 34
        },
        "outputId": "6387f70e-9258-4d7d-f9c1-4af4b3b7b4c9"
      },
      "source": [
        "# Support Vector Regression\n",
        "svr = SVR(gamma='scale')\n",
        "X = processed.drop(['SalePrice'], axis=1)\n",
        "y = processed[['SalePrice']]\n",
        "y_log = y.apply(lambda x: log(x), axis=1)\n",
        "svr.fit(X, y_log)\n",
        "X_test = processed_test.drop(['SalePrice'], axis=1)\n",
        "y_pred_log = svr.predict(X_test)\n",
        "y_pred = np.array([exp(x) for x in y_pred_log])\n",
        "y_test = processed_test['SalePrice']\n",
        "err = get_error(y_test, y_pred)\n",
        "print(err)\n",
        "results.append(['SVR (vs log(SP))', err])"
      ],
      "execution_count": 244,
      "outputs": [
        {
          "output_type": "stream",
          "text": [
            "0.22356935808252182\n"
          ],
          "name": "stdout"
        }
      ]
    },
    {
      "cell_type": "code",
      "metadata": {
        "id": "BYJi7HX36jjI",
        "colab_type": "code",
        "colab": {
          "base_uri": "https://localhost:8080/",
          "height": 34
        },
        "outputId": "bcbc47fd-4f1e-49c9-8bf3-65a4ff09b505"
      },
      "source": [
        "# lasso \n",
        "lasso = Lasso(alpha=0.01, max_iter=100000)\n",
        "X = processed.drop(['SalePrice'], axis=1)\n",
        "y = processed[['SalePrice']]\n",
        "y_log = y.apply(lambda x: log(x), axis=1)\n",
        "lasso.fit(X,y_log)\n",
        "X_test = processed_test.drop(['SalePrice'], axis=1)\n",
        "y_pred_log = lasso.predict(X_test)\n",
        "y_pred = np.array([exp(x) for x in y_pred_log])\n",
        "y_test = processed_test['SalePrice']\n",
        "err = get_error(y_test, y_pred)\n",
        "print(err)\n",
        "results.append(['Lasso (vs log(SP))', err])"
      ],
      "execution_count": 257,
      "outputs": [
        {
          "output_type": "stream",
          "text": [
            "0.17506676042176045\n"
          ],
          "name": "stdout"
        }
      ]
    },
    {
      "cell_type": "code",
      "metadata": {
        "id": "u4wVSsX-7jQa",
        "colab_type": "code",
        "colab": {
          "base_uri": "https://localhost:8080/",
          "height": 34
        },
        "outputId": "1da9a8ac-114c-4ade-e5df-3a9e8a6e79fc"
      },
      "source": [
        "# lasso with model selection\n",
        "lasso = LassoCV(cv=10, alphas=np.array([n/1000.0 for n in range(1,100,1)]), max_iter=100000)\n",
        "X = processed.drop(['SalePrice'], axis=1)\n",
        "y = processed[['SalePrice']]\n",
        "y_log = y.apply(lambda x: log(x), axis=1)\n",
        "lasso.fit(X,y_log)\n",
        "X_test = processed_test.drop(['SalePrice'], axis=1)\n",
        "y_pred_log = lasso.predict(X_test)\n",
        "y_pred = np.array([exp(x) for x in y_pred_log])\n",
        "y_test = processed_test['SalePrice']\n",
        "err = get_error(y_test, y_pred)\n",
        "print(err)\n",
        "results.append(['LassoCV (vs log(SP))', err])"
      ],
      "execution_count": 267,
      "outputs": [
        {
          "output_type": "stream",
          "text": [
            "4.047086442025843\n"
          ],
          "name": "stdout"
        }
      ]
    },
    {
      "cell_type": "code",
      "metadata": {
        "id": "RbQarVkS8ZMU",
        "colab_type": "code",
        "colab": {
          "base_uri": "https://localhost:8080/",
          "height": 34
        },
        "outputId": "4c2a8f43-db9e-434d-e3cf-85d06c328bf8"
      },
      "source": [
        "# neural net on preprocessed features\n",
        "net = MLPRegressor(hidden_layer_sizes=(50,50), max_iter=10000)\n",
        "X = processed.drop(['SalePrice'], axis=1)\n",
        "y = processed['SalePrice']\n",
        "net.fit(X, y)\n",
        "X_test = processed_test.drop(['SalePrice'], axis=1)\n",
        "y_pred = net.predict(X_test)\n",
        "y_test = processed_test['SalePrice']\n",
        "err = get_error(y_test, y_pred)\n",
        "print(err)\n",
        "results.append(['neural net preprocessed', err])"
      ],
      "execution_count": 271,
      "outputs": [
        {
          "output_type": "stream",
          "text": [
            "0.23450849408815608\n"
          ],
          "name": "stdout"
        }
      ]
    },
    {
      "cell_type": "code",
      "metadata": {
        "id": "erO_ucRu-ub7",
        "colab_type": "code",
        "colab": {
          "base_uri": "https://localhost:8080/",
          "height": 34
        },
        "outputId": "578faa80-5ec7-4464-fb8c-82c75d1d8c9b"
      },
      "source": [
        "# neural net on simple one-hot features\n",
        "net = MLPRegressor(hidden_layer_sizes=(50,50), max_iter=10000)\n",
        "dummies = pd.get_dummies(train_data).dropna()\n",
        "X = dummies.drop(['SalePrice', 'Id'], axis=1)\n",
        "y = dummies['SalePrice']\n",
        "net.fit(X,y)\n",
        "dummies_test = pd.get_dummies(test_data).dropna()\n",
        "dummies_test = fix_cols(dummies, dummies_test)\n",
        "X_test = dummies_test.drop(['SalePrice', 'Id'], axis=1)\n",
        "y_pred = net.predict(X_test)\n",
        "err = get_error(dummies_test['SalePrice'], y_pred)\n",
        "print(err)\n",
        "results.append(['neural net one-hot encoded', err])"
      ],
      "execution_count": 272,
      "outputs": [
        {
          "output_type": "stream",
          "text": [
            "0.2140096492978097\n"
          ],
          "name": "stdout"
        }
      ]
    },
    {
      "cell_type": "code",
      "metadata": {
        "id": "5FvAM667_3hq",
        "colab_type": "code",
        "colab": {
          "base_uri": "https://localhost:8080/",
          "height": 34
        },
        "outputId": "7aab9d8a-2f77-4eff-cf6c-5d414e38749e"
      },
      "source": [
        "# regression on log(SalePrice) with all dummies\n",
        "dummies = pd.get_dummies(train_data).dropna()\n",
        "X = dummies.drop(['SalePrice', 'Id'], axis=1)\n",
        "y = dummies[['SalePrice']]\n",
        "y_log = y.apply(lambda x: log(x), axis=1)\n",
        "lm = LinearRegression()\n",
        "lm.fit(X,y_log)\n",
        "dummies_test = pd.get_dummies(test_data).dropna()\n",
        "dummies_test = fix_cols(dummies, dummies_test)\n",
        "X_test = dummies_test.drop(['SalePrice', 'Id'], axis=1)\n",
        "y_pred_log = lm.predict(X_test)\n",
        "y_pred = np.array([exp(x) for x in y_pred_log])\n",
        "err = get_error(dummies_test['SalePrice'], y_pred)\n",
        "print(err)\n",
        "results.append(['dummy linear (vs log(SP))', err])"
      ],
      "execution_count": 273,
      "outputs": [
        {
          "output_type": "stream",
          "text": [
            "0.7423239605054586\n"
          ],
          "name": "stdout"
        }
      ]
    },
    {
      "cell_type": "code",
      "metadata": {
        "id": "dI1KcEUbD6M-",
        "colab_type": "code",
        "colab": {
          "base_uri": "https://localhost:8080/",
          "height": 34
        },
        "outputId": "17684a8a-17d6-43aa-ad8b-399e205aebff"
      },
      "source": [
        "# regression on log(SalePrice) with all preprocessed feats\n",
        "X = processed.drop(['SalePrice'], axis=1)\n",
        "y = processed[['SalePrice']]\n",
        "y_log = y.apply(lambda x: log(x), axis=1)\n",
        "lm = LinearRegression()\n",
        "lm.fit(X,y_log)\n",
        "X_test = processed_test.drop(['SalePrice'], axis=1)\n",
        "y_pred_log = lm.predict(X_test)\n",
        "y_pred = np.array([exp(x) for x in y_pred_log])\n",
        "y_test = processed_test['SalePrice']\n",
        "err = get_error(y_test, y_pred)\n",
        "print(err)\n",
        "results.append(['processed linear (vs log(SP))', err])"
      ],
      "execution_count": 280,
      "outputs": [
        {
          "output_type": "stream",
          "text": [
            "10.546376827571148\n"
          ],
          "name": "stdout"
        }
      ]
    },
    {
      "cell_type": "code",
      "metadata": {
        "id": "05-YLCuB1fPm",
        "colab_type": "code",
        "colab": {
          "base_uri": "https://localhost:8080/",
          "height": 173
        },
        "outputId": "ffdfd816-9f87-4945-8a0d-5eb9582ba1f8"
      },
      "source": [
        "pd.DataFrame(results, columns=['Method', 'MeanSquaredLogError'])"
      ],
      "execution_count": 290,
      "outputs": [
        {
          "output_type": "execute_result",
          "data": {
            "text/html": [
              "<div>\n",
              "<style scoped>\n",
              "    .dataframe tbody tr th:only-of-type {\n",
              "        vertical-align: middle;\n",
              "    }\n",
              "\n",
              "    .dataframe tbody tr th {\n",
              "        vertical-align: top;\n",
              "    }\n",
              "\n",
              "    .dataframe thead th {\n",
              "        text-align: right;\n",
              "    }\n",
              "</style>\n",
              "<table border=\"1\" class=\"dataframe\">\n",
              "  <thead>\n",
              "    <tr style=\"text-align: right;\">\n",
              "      <th></th>\n",
              "      <th>Method</th>\n",
              "      <th>MeanSquaredLogError</th>\n",
              "    </tr>\n",
              "  </thead>\n",
              "  <tbody>\n",
              "    <tr>\n",
              "      <th>0</th>\n",
              "      <td>dummy linear</td>\n",
              "      <td>1.019796</td>\n",
              "    </tr>\n",
              "    <tr>\n",
              "      <th>1</th>\n",
              "      <td>processed linear</td>\n",
              "      <td>0.954987</td>\n",
              "    </tr>\n",
              "    <tr>\n",
              "      <th>2</th>\n",
              "      <td>processed linear</td>\n",
              "      <td>0.174114</td>\n",
              "    </tr>\n",
              "    <tr>\n",
              "      <th>3</th>\n",
              "      <td>linear corr cols</td>\n",
              "      <td>0.174114</td>\n",
              "    </tr>\n",
              "  </tbody>\n",
              "</table>\n",
              "</div>"
            ],
            "text/plain": [
              "             Method  MeanSquaredLogError\n",
              "0      dummy linear             1.019796\n",
              "1  processed linear             0.954987\n",
              "2  processed linear             0.174114\n",
              "3  linear corr cols             0.174114"
            ]
          },
          "metadata": {
            "tags": []
          },
          "execution_count": 290
        }
      ]
    },
    {
      "cell_type": "markdown",
      "metadata": {
        "id": "dobxYjmLSIz7",
        "colab_type": "text"
      },
      "source": [
        "From the above analysis we notice a few key things to point out:\n",
        "\n",
        "\n",
        "*   The algorithm with the best accuracy is the intuitive linear regression model\n",
        "*   Simple One-Hot Encoding works very well\n",
        "*   Simple LinearRegression models work better than more complex ones like Neural Networks in many cases (especially when you don't have the time to do the necessary fine tuning neural networks require)\n",
        "*   Best to have domain knowledge\n",
        "*   \"Black Box\" Algorithms are hard to debug\n",
        "*   Large feature spaces are hard to debug and could decrease accuracy\n",
        "\n",
        "\n"
      ]
    },
    {
      "cell_type": "markdown",
      "metadata": {
        "id": "BH4ANDCois50",
        "colab_type": "text"
      },
      "source": [
        "Below is my original step by step analysis/processing of each feature. This has since been modified and added to the preprocess_data function but is kept here for reference."
      ]
    },
    {
      "cell_type": "code",
      "metadata": {
        "id": "qib3RFt5xa6C",
        "colab_type": "code",
        "colab": {}
      },
      "source": [
        "# drop Id column it shouldn't matter\n",
        "train_data.drop('Id', axis=1, inplace=True)"
      ],
      "execution_count": 0,
      "outputs": []
    },
    {
      "cell_type": "code",
      "metadata": {
        "id": "h95c_bRvLvje",
        "colab_type": "code",
        "colab": {}
      },
      "source": [
        "# MSSubClass is an int but it really represents a set of categories\n",
        "# the information in the categories is mostly contained in other features so let's drop it\n",
        "train_data.drop('MSSubClass', axis=1, inplace=True)"
      ],
      "execution_count": 0,
      "outputs": []
    },
    {
      "cell_type": "code",
      "metadata": {
        "id": "2FdFehtgre4C",
        "colab_type": "code",
        "outputId": "a688fb35-c233-495d-d19c-80605e22dcc1",
        "colab": {
          "base_uri": "https://localhost:8080/",
          "height": 34
        }
      },
      "source": [
        "train_data['MSZoning'].unique()"
      ],
      "execution_count": 0,
      "outputs": [
        {
          "output_type": "execute_result",
          "data": {
            "text/plain": [
              "array(['RL', 'RM', 'C (all)', 'FV', 'RH'], dtype=object)"
            ]
          },
          "metadata": {
            "tags": []
          },
          "execution_count": 193
        }
      ]
    },
    {
      "cell_type": "code",
      "metadata": {
        "id": "FGYnXRVS37IW",
        "colab_type": "code",
        "colab": {}
      },
      "source": [
        "res_zones = ['FV','RH','RL','RP','RM']\n",
        "train_data['ResZoned'] = train_data['MSZoning'].isin(res_zones)\n",
        "train_data['Density'] = train_data.apply(lambda x: 4, axis= 1)\n",
        "train_data.loc[train_data['MSZoning'].isin(['RL', 'RP', 'A']), 'Density'] = 1\n",
        "train_data.loc[train_data['MSZoning'].isin(['RM', 'FV']), 'Density'] = 2\n",
        "train_data.loc[train_data['MSZoning'] == 'RH', 'Density'] = 3"
      ],
      "execution_count": 0,
      "outputs": []
    },
    {
      "cell_type": "code",
      "metadata": {
        "id": "Qa4CdCrb4kUS",
        "colab_type": "code",
        "colab": {}
      },
      "source": [
        "train_data.drop('MSZoning', axis=1, inplace=True)"
      ],
      "execution_count": 0,
      "outputs": []
    },
    {
      "cell_type": "code",
      "metadata": {
        "id": "LoVghrWi9jpy",
        "colab_type": "code",
        "colab": {}
      },
      "source": [
        "le = LabelEncoder()"
      ],
      "execution_count": 0,
      "outputs": []
    },
    {
      "cell_type": "code",
      "metadata": {
        "id": "9YlzHtBx8g1P",
        "colab_type": "code",
        "colab": {}
      },
      "source": [
        "train_data['RoadType'] = train_data[['Street']].apply(lambda col: le.fit_transform(col))"
      ],
      "execution_count": 0,
      "outputs": []
    },
    {
      "cell_type": "code",
      "metadata": {
        "id": "4OLarzTW9vsm",
        "colab_type": "code",
        "colab": {}
      },
      "source": [
        "train_data.drop('Street', axis=1, inplace=True)"
      ],
      "execution_count": 0,
      "outputs": []
    },
    {
      "cell_type": "code",
      "metadata": {
        "id": "jMv4a9De98FB",
        "colab_type": "code",
        "colab": {}
      },
      "source": [
        "train_data['HasAlley'] = train_data['Alley'].isin(['Grvl','Pave'])"
      ],
      "execution_count": 0,
      "outputs": []
    },
    {
      "cell_type": "code",
      "metadata": {
        "id": "095mS9yT-aZR",
        "colab_type": "code",
        "colab": {}
      },
      "source": [
        "train_data.drop('Alley', axis=1, inplace=True)"
      ],
      "execution_count": 0,
      "outputs": []
    },
    {
      "cell_type": "code",
      "metadata": {
        "id": "gu5uFtfz-d2h",
        "colab_type": "code",
        "colab": {}
      },
      "source": [
        "oeShape = OrdinalEncoder(categories=[['Reg', 'IR1', 'IR2', 'IR3']])\n",
        "train_data['Shape'] = oeShape.fit_transform(train_data[['LotShape']])"
      ],
      "execution_count": 0,
      "outputs": []
    },
    {
      "cell_type": "code",
      "metadata": {
        "id": "27Ieku-rA7TH",
        "colab_type": "code",
        "colab": {}
      },
      "source": [
        "train_data.drop('LotShape', axis=1, inplace=True)"
      ],
      "execution_count": 0,
      "outputs": []
    },
    {
      "cell_type": "code",
      "metadata": {
        "id": "sxXYecBrBfa4",
        "colab_type": "code",
        "colab": {}
      },
      "source": [
        "train_data.drop('LandContour', axis=1, inplace=True)"
      ],
      "execution_count": 0,
      "outputs": []
    },
    {
      "cell_type": "code",
      "metadata": {
        "id": "YN3vlhYgCDnR",
        "colab_type": "code",
        "colab": {}
      },
      "source": [
        "oeUtil = OrdinalEncoder(categories=[['ELO', 'NoSeWa', 'NoSewr', 'AllPub']])\n",
        "train_data['Utils'] = oeUtil.fit_transform(train_data[['Utilities']])"
      ],
      "execution_count": 0,
      "outputs": []
    },
    {
      "cell_type": "code",
      "metadata": {
        "id": "fArXWJgBCohq",
        "colab_type": "code",
        "colab": {}
      },
      "source": [
        "train_data.drop('Utilities', axis=1, inplace=True)"
      ],
      "execution_count": 0,
      "outputs": []
    },
    {
      "cell_type": "code",
      "metadata": {
        "id": "FM7YbN20CtMY",
        "colab_type": "code",
        "colab": {}
      },
      "source": [
        "train_data['IsCulDSac'] = train_data['LotConfig'] == 'CulDSac'\n",
        "train_data['HasFrontage'] = train_data['LotConfig'].isin(['FR2', 'FR3'])"
      ],
      "execution_count": 0,
      "outputs": []
    },
    {
      "cell_type": "code",
      "metadata": {
        "id": "VJmA4mFEEDlR",
        "colab_type": "code",
        "colab": {}
      },
      "source": [
        "train_data.drop('LotConfig', axis=1, inplace=True)"
      ],
      "execution_count": 0,
      "outputs": []
    },
    {
      "cell_type": "code",
      "metadata": {
        "id": "hw6YpdxyEHJg",
        "colab_type": "code",
        "colab": {}
      },
      "source": [
        "oeSlope = OrdinalEncoder(categories=[['Gtl', 'Mod', 'Sev']])\n",
        "train_data['Slope'] = oeSlope.fit_transform(train_data[['LandSlope']])"
      ],
      "execution_count": 0,
      "outputs": []
    },
    {
      "cell_type": "code",
      "metadata": {
        "id": "OqphsdF3EaZ5",
        "colab_type": "code",
        "colab": {}
      },
      "source": [
        "train_data.drop('LandSlope', axis=1, inplace=True)"
      ],
      "execution_count": 0,
      "outputs": []
    },
    {
      "cell_type": "code",
      "metadata": {
        "id": "-2VzZuLYEiKp",
        "colab_type": "code",
        "colab": {}
      },
      "source": [
        "train_data = pd.concat([train_data, pd.get_dummies(train_data['Neighborhood'])], axis=1)"
      ],
      "execution_count": 0,
      "outputs": []
    },
    {
      "cell_type": "code",
      "metadata": {
        "id": "ec_TdYzXFOdx",
        "colab_type": "code",
        "colab": {}
      },
      "source": [
        "train_data.drop('Neighborhood', axis=1, inplace=True)"
      ],
      "execution_count": 0,
      "outputs": []
    },
    {
      "cell_type": "code",
      "metadata": {
        "id": "hdoi_ttvFQh6",
        "colab_type": "code",
        "colab": {}
      },
      "source": [
        "def get_prox_num(x):\n",
        "  pos = 0\n",
        "  neg = 0\n",
        "  if(x['Condition1'] == 'RRAn' or x['Condition1'] == 'RRAe'  or x['Condition2'] == 'RRAn' or x['Condition2'] == 'RRAe'):\n",
        "    neg = -2\n",
        "  elif(x['Condition1'] == 'RRNn' or x['Condition1'] == 'RRNe'  or x['Condition2'] == 'RRNn' or x['Condition2'] == 'RRNe'):\n",
        "    neg = -1\n",
        "  \n",
        "  if(x['Condition1'] == 'PosA'  or x['Condition2'] == 'PosA'):\n",
        "    pos = 2\n",
        "  elif(x['Condition1'] == 'PosN'  or x['Condition2'] == 'PosN'):\n",
        "    pos = 1\n",
        "\n",
        "  return pos + neg"
      ],
      "execution_count": 0,
      "outputs": []
    },
    {
      "cell_type": "code",
      "metadata": {
        "id": "JYruO0voGZxp",
        "colab_type": "code",
        "colab": {}
      },
      "source": [
        "train_data['ProximityScore'] = train_data.apply(lambda x: get_prox_num(x), axis=1)"
      ],
      "execution_count": 0,
      "outputs": []
    },
    {
      "cell_type": "code",
      "metadata": {
        "id": "Ec0DLbt_ii9m",
        "colab_type": "code",
        "colab": {}
      },
      "source": [
        "train_data.drop(['Condition1', 'Condition2'], axis=1, inplace=True)"
      ],
      "execution_count": 0,
      "outputs": []
    },
    {
      "cell_type": "code",
      "metadata": {
        "id": "hANj8cSooYk_",
        "colab_type": "code",
        "colab": {}
      },
      "source": [
        "\n",
        "oeBldg = OrdinalEncoder(categories=[['2FmCon', 'TwnhsI', 'TwnhsE', 'Duplx', '1Fam']])\n",
        "train_data.loc[train_data['BldgType'] == '2fmCon', 'BldgType'] = '2FmCon'\n",
        "train_data.loc[train_data['BldgType'] == 'Twnhs', 'BldgType'] = 'TwnhsI'\n",
        "train_data.loc[train_data['BldgType'] == 'Duplex', 'BldgType'] = 'Duplx'\n",
        "train_data['Bldg'] = oeBldg.fit_transform(train_data[['BldgType']])"
      ],
      "execution_count": 0,
      "outputs": []
    },
    {
      "cell_type": "code",
      "metadata": {
        "id": "upuDl1x-hm5x",
        "colab_type": "code",
        "colab": {}
      },
      "source": [
        "train_data.drop('BldgType', axis=1, inplace=True)"
      ],
      "execution_count": 0,
      "outputs": []
    },
    {
      "cell_type": "code",
      "metadata": {
        "id": "SehZnrIeiuHw",
        "colab_type": "code",
        "colab": {}
      },
      "source": [
        "oeHouse = OrdinalEncoder(categories=[['1Story', '1.5Unf', '1.5Fin', 'SFoyer', 'SLvl', '2Story', '2.5Unf', '2.5Fin']])\n",
        "train_data['House'] = oeHouse.fit_transform(train_data[['HouseStyle']])"
      ],
      "execution_count": 0,
      "outputs": []
    },
    {
      "cell_type": "code",
      "metadata": {
        "id": "pue86d_1i2Tv",
        "colab_type": "code",
        "colab": {}
      },
      "source": [
        "train_data.drop('HouseStyle', axis=1, inplace=True)"
      ],
      "execution_count": 0,
      "outputs": []
    },
    {
      "cell_type": "code",
      "metadata": {
        "id": "mQ5W-zHEi7rD",
        "colab_type": "code",
        "outputId": "ff3ea322-3cdd-4033-f484-6c87d45d599b",
        "colab": {
          "base_uri": "https://localhost:8080/",
          "height": 85
        }
      },
      "source": [
        "print(train_data['YearBuilt'].min())\n",
        "print(train_data['YearRemodAdd'].min())\n",
        "print(train_data['YearBuilt'].max())\n",
        "print(train_data['YearRemodAdd'].max())"
      ],
      "execution_count": 0,
      "outputs": [
        {
          "output_type": "stream",
          "text": [
            "1872\n",
            "1950\n",
            "2010\n",
            "2010\n"
          ],
          "name": "stdout"
        }
      ]
    },
    {
      "cell_type": "code",
      "metadata": {
        "id": "53j1-w24mUZr",
        "colab_type": "code",
        "outputId": "a34af877-6039-44dc-847d-7f04545e87f0",
        "colab": {
          "base_uri": "https://localhost:8080/",
          "height": 320
        }
      },
      "source": [
        "fig, ax = plt.subplots(figsize=(5, 5))\n",
        "ax.hist(train_data['YearBuilt'], bins = 50)\n",
        "fig.show()"
      ],
      "execution_count": 0,
      "outputs": [
        {
          "output_type": "display_data",
          "data": {
            "image/png": "[encoded data removed]",
            "text/plain": [
              "<Figure size 360x360 with 1 Axes>"
            ]
          },
          "metadata": {
            "tags": []
          }
        }
      ]
    },
    {
      "cell_type": "code",
      "metadata": {
        "id": "_6ubvsPHmxWE",
        "colab_type": "code",
        "colab": {}
      },
      "source": [
        "train_data.drop('RoofStyle', axis=1, inplace=True)"
      ],
      "execution_count": 0,
      "outputs": []
    },
    {
      "cell_type": "code",
      "metadata": {
        "id": "bHVwmnW7onpj",
        "colab_type": "code",
        "outputId": "07993b23-6b40-45b5-c9e2-b86e321af8ce",
        "colab": {
          "base_uri": "https://localhost:8080/",
          "height": 512
        }
      },
      "source": [
        "fig = plt.figure(figsize=(16,8))\n",
        "mats = train_data['RoofMatl'].unique()\n",
        "for idx,mat in enumerate(mats, start=1):\n",
        "  ax = fig.add_subplot(2,4,idx)\n",
        "  ax.hist(train_data.loc[train_data['RoofMatl'] == mat, 'SalePrice'], bins = 20)\n",
        "  ax.set_title(mat)\n",
        "fig.show()"
      ],
      "execution_count": 0,
      "outputs": [
        {
          "output_type": "display_data",
          "data": {
            "image/png": "[encoded data removed]",
            "text/plain": [
              "<Figure size 1152x576 with 8 Axes>"
            ]
          },
          "metadata": {
            "tags": []
          }
        }
      ]
    },
    {
      "cell_type": "code",
      "metadata": {
        "id": "mH_gZeIMph93",
        "colab_type": "code",
        "outputId": "e5864942-cb5c-422d-a801-3d036ccfc118",
        "colab": {
          "base_uri": "https://localhost:8080/",
          "height": 85
        }
      },
      "source": [
        "print(len(train_data.loc[train_data['RoofMatl'] == 'Metal']))\n",
        "print(len(train_data.loc[train_data['RoofMatl'] == 'Membran']))\n",
        "print(len(train_data.loc[train_data['RoofMatl'] == 'Roll']))\n",
        "print(len(train_data.loc[train_data['RoofMatl'] == 'ClyTile']))"
      ],
      "execution_count": 0,
      "outputs": [
        {
          "output_type": "stream",
          "text": [
            "1\n",
            "1\n",
            "1\n",
            "1\n"
          ],
          "name": "stdout"
        }
      ]
    },
    {
      "cell_type": "code",
      "metadata": {
        "id": "AlG8vvsZrSFR",
        "colab_type": "code",
        "colab": {}
      },
      "source": [
        "# not enough distribution on the values besides CompShg\n",
        "train_data.drop('RoofMatl', axis=1, inplace=True)"
      ],
      "execution_count": 0,
      "outputs": []
    },
    {
      "cell_type": "code",
      "metadata": {
        "id": "1tpWj5oUsEmh",
        "colab_type": "code",
        "colab": {}
      },
      "source": [
        "ext_dummies = pd.get_dummies(train_data[['Exterior1st', 'Exterior2nd']], {'Exterior1st': 'Ext', 'Exterior2nd': 'Ext2'}, columns=['Exterior1st', 'Exterior2nd'])\n",
        "\n",
        "rmvCols = []\n",
        "for col in ext_dummies.columns:\n",
        "  if 'Ext2' in col:\n",
        "    mat = col.split('_')[1]\n",
        "    if mat == 'Brk Cmn':\n",
        "      mat = 'BrkComm'\n",
        "    if mat == 'CmentBd':\n",
        "      mat = 'CemntBd'\n",
        "    if mat == 'Wd Shng':\n",
        "      mat = 'WdShing'\n",
        "    extCol = 'Ext_' + mat\n",
        "    if extCol not in ext_dummies.columns:\n",
        "      ext_dummies[extCol] = ext_dummies[col]\n",
        "    ext_dummies[extCol] = ext_dummies[extCol] | ext_dummies[col]\n",
        "    rmvCols.append(col)\n",
        "ext_dummies.drop(rmvCols, axis=1, inplace=True)\n",
        "\n",
        "train_data = pd.concat([train_data, ext_dummies], axis=1)"
      ],
      "execution_count": 0,
      "outputs": []
    },
    {
      "cell_type": "code",
      "metadata": {
        "id": "ZNqldN5Sx2Ky",
        "colab_type": "code",
        "colab": {}
      },
      "source": [
        "train_data.drop(['Exterior1st', 'Exterior2nd'], axis=1, inplace=True)"
      ],
      "execution_count": 0,
      "outputs": []
    },
    {
      "cell_type": "code",
      "metadata": {
        "id": "_2eDKsuc1toM",
        "colab_type": "code",
        "colab": {}
      },
      "source": [
        "train_data.loc[train_data['MasVnrType'].isna(), 'MasVnrType'] = 'None'\n",
        "oeMasonry = OrdinalEncoder(categories=[['CBlock', 'None', 'BrkCmn', 'BrkFace', 'Stone']])\n",
        "train_data['Masonry'] = oeMasonry.fit_transform(train_data[['MasVnrType']])"
      ],
      "execution_count": 0,
      "outputs": []
    },
    {
      "cell_type": "code",
      "metadata": {
        "id": "kPD5FsK42gEL",
        "colab_type": "code",
        "colab": {}
      },
      "source": [
        "train_data.drop('MasVnrType', axis=1, inplace=True)"
      ],
      "execution_count": 0,
      "outputs": []
    },
    {
      "cell_type": "code",
      "metadata": {
        "id": "FfBBS5Cm9aHp",
        "colab_type": "code",
        "colab": {}
      },
      "source": [
        "train_data.loc[train_data['MasVnrArea'].isna(), 'MasVnrArea'] = 0"
      ],
      "execution_count": 0,
      "outputs": []
    },
    {
      "cell_type": "code",
      "metadata": {
        "id": "kOK8inRZ9h36",
        "colab_type": "code",
        "colab": {}
      },
      "source": [
        "oeExtQ = OrdinalEncoder(categories=[['Po', 'Fa', 'TA', 'Gd', 'Ex']])\n",
        "train_data['ExtQual'] = oeExtQ.fit_transform(train_data[['ExterQual']])\n",
        "train_data['ExtCond'] = oeExtQ.fit_transform(train_data[['ExterCond']])"
      ],
      "execution_count": 0,
      "outputs": []
    },
    {
      "cell_type": "code",
      "metadata": {
        "id": "HQVc8DMN-jHX",
        "colab_type": "code",
        "colab": {}
      },
      "source": [
        "train_data.drop(['ExterQual', 'ExterCond'], axis=1, inplace=True)"
      ],
      "execution_count": 0,
      "outputs": []
    },
    {
      "cell_type": "code",
      "metadata": {
        "id": "7cWIpChZ-nGy",
        "colab_type": "code",
        "outputId": "c7c39991-36e6-46f2-ebe9-4a66812156a8",
        "colab": {
          "base_uri": "https://localhost:8080/",
          "height": 601
        }
      },
      "source": [
        "fig = plt.figure(figsize=(18,8))\n",
        "mats = train_data['Foundation'].unique()\n",
        "for idx,mat in enumerate(mats, start=1):\n",
        "  ax = fig.add_subplot(2,3,idx)\n",
        "  ax.hist(train_data.loc[train_data['Foundation'] == mat, 'SalePrice'], bins = 20)\n",
        "  ax.set_title(mat)\n",
        "  print(mat + ' mean= ' + str(train_data.loc[train_data['Foundation'] == mat, 'SalePrice'].mean()))\n",
        "fig.show()"
      ],
      "execution_count": 0,
      "outputs": [
        {
          "output_type": "stream",
          "text": [
            "PConc mean= 225230.44204018547\n",
            "CBlock mean= 149805.714511041\n",
            "BrkTil mean= 132291.07534246575\n",
            "Wood mean= 185666.66666666666\n",
            "Slab mean= 107365.625\n",
            "Stone mean= 165959.16666666666\n"
          ],
          "name": "stdout"
        },
        {
          "output_type": "display_data",
          "data": {
            "image/png": "[encoded data removed]",
            "text/plain": [
              "<Figure size 1296x576 with 6 Axes>"
            ]
          },
          "metadata": {
            "tags": []
          }
        }
      ]
    },
    {
      "cell_type": "code",
      "metadata": {
        "id": "rz9iUiZ__Am4",
        "colab_type": "code",
        "colab": {}
      },
      "source": [
        "oeFound = OrdinalEncoder(categories=[['Slab', 'BrkTil', 'CBlock', 'Stone', 'Wood', 'PConc']])\n",
        "train_data['FoundationMat'] = oeFound.fit_transform(train_data[['Foundation']])"
      ],
      "execution_count": 0,
      "outputs": []
    },
    {
      "cell_type": "code",
      "metadata": {
        "id": "DB07Y5tdAoKG",
        "colab_type": "code",
        "colab": {}
      },
      "source": [
        "train_data.drop('Foundation', axis=1, inplace=True)"
      ],
      "execution_count": 0,
      "outputs": []
    },
    {
      "cell_type": "code",
      "metadata": {
        "id": "7VQa0XefAs8E",
        "colab_type": "code",
        "colab": {}
      },
      "source": [
        "train_data.loc[train_data['BsmtQual'].isna(), 'BsmtQual'] = 'NA'\n",
        "train_data.loc[train_data['BsmtCond'].isna(), 'BsmtCond'] = 'NA'\n",
        "oeBsmtQ = OrdinalEncoder(categories=[['NA', 'Po', 'Fa', 'TA', 'Gd', 'Ex']])\n",
        "train_data['BsmtQ'] = oeBsmtQ.fit_transform(train_data[['BsmtQual']])\n",
        "train_data['BsmtC'] = oeBsmtQ.fit_transform(train_data[['BsmtCond']])"
      ],
      "execution_count": 0,
      "outputs": []
    },
    {
      "cell_type": "code",
      "metadata": {
        "id": "kVz1_gpyBkz8",
        "colab_type": "code",
        "colab": {}
      },
      "source": [
        "train_data.drop(['BsmtQual', 'BsmtCond'], axis=1, inplace=True)"
      ],
      "execution_count": 0,
      "outputs": []
    },
    {
      "cell_type": "code",
      "metadata": {
        "id": "AxdgUG8gCEUS",
        "colab_type": "code",
        "colab": {}
      },
      "source": [
        "train_data.loc[train_data['BsmtExposure'].isna(), 'BsmtExposure'] = 'NA'\n",
        "oeBsmtExp = OrdinalEncoder(categories=[['NA', 'No', 'Mn', 'Av', 'Gd']])\n",
        "train_data['BsmtExp'] = oeBsmtExp.fit_transform(train_data[['BsmtExposure']])"
      ],
      "execution_count": 0,
      "outputs": []
    },
    {
      "cell_type": "code",
      "metadata": {
        "id": "y5Txt9hNCvIk",
        "colab_type": "code",
        "colab": {}
      },
      "source": [
        "train_data.drop('BsmtExposure', axis=1, inplace=True)"
      ],
      "execution_count": 0,
      "outputs": []
    },
    {
      "cell_type": "code",
      "metadata": {
        "id": "a9lElF51DDwc",
        "colab_type": "code",
        "colab": {}
      },
      "source": [
        "train_data['FinBsmtArea'] = train_data['TotalBsmtSF'] - train_data['BsmtUnfSF']"
      ],
      "execution_count": 0,
      "outputs": []
    },
    {
      "cell_type": "code",
      "metadata": {
        "id": "dxOx1HDQEb5E",
        "colab_type": "code",
        "colab": {}
      },
      "source": [
        "train_data.drop(['BsmtFinType1', 'BsmtFinSF1', 'BsmtFinType2', 'BsmtFinSF2', 'TotalBsmtSF', 'BsmtUnfSF'], axis=1, inplace=True)"
      ],
      "execution_count": 0,
      "outputs": []
    },
    {
      "cell_type": "code",
      "metadata": {
        "id": "MPs_M6JNEt1a",
        "colab_type": "code",
        "colab": {}
      },
      "source": [
        "oeHeat = OrdinalEncoder(categories=[['Po', 'Fa', 'TA', 'Gd', 'Ex']])\n",
        "train_data['HeatingQual'] = oeHeat.fit_transform(train_data[['HeatingQC']])"
      ],
      "execution_count": 0,
      "outputs": []
    },
    {
      "cell_type": "code",
      "metadata": {
        "id": "J4pdcjH3FX5k",
        "colab_type": "code",
        "colab": {}
      },
      "source": [
        "train_data.drop(['HeatingQC', 'Heating'], axis=1, inplace=True)"
      ],
      "execution_count": 0,
      "outputs": []
    },
    {
      "cell_type": "code",
      "metadata": {
        "id": "jMhcD2h-GCvS",
        "colab_type": "code",
        "colab": {}
      },
      "source": [
        "train_data['CentrlAir'] = train_data[['CentralAir']].apply(lambda col: le.fit_transform(col))"
      ],
      "execution_count": 0,
      "outputs": []
    },
    {
      "cell_type": "code",
      "metadata": {
        "id": "sCJ7jY-cGhK7",
        "colab_type": "code",
        "colab": {}
      },
      "source": [
        "train_data.drop('CentralAir', axis=1, inplace=True)"
      ],
      "execution_count": 0,
      "outputs": []
    },
    {
      "cell_type": "code",
      "metadata": {
        "id": "IQnNZuULGskd",
        "colab_type": "code",
        "colab": {}
      },
      "source": [
        "train_data.loc[train_data['Electrical'].isna(), 'Electrical'] = 'NA'\n",
        "oeElec = OrdinalEncoder(categories=[['NA', 'FuseP', 'FuseF', 'Mix', 'FuseA', 'SBrkr']])\n",
        "train_data['Elec'] = oeElec.fit_transform(train_data[['Electrical']])"
      ],
      "execution_count": 0,
      "outputs": []
    },
    {
      "cell_type": "code",
      "metadata": {
        "id": "M5ORDKbiHMUM",
        "colab_type": "code",
        "colab": {}
      },
      "source": [
        "train_data.drop('Electrical', axis=1, inplace=True)"
      ],
      "execution_count": 0,
      "outputs": []
    },
    {
      "cell_type": "code",
      "metadata": {
        "id": "F6d_uyGUHg0C",
        "colab_type": "code",
        "colab": {}
      },
      "source": [
        "oeKitch = OrdinalEncoder(categories=[['Po', 'Fa', 'TA', 'Gd', 'Ex']])\n",
        "train_data['KitchQual'] = oeKitch.fit_transform(train_data[['KitchenQual']])"
      ],
      "execution_count": 0,
      "outputs": []
    },
    {
      "cell_type": "code",
      "metadata": {
        "id": "6ENjObWNIBjs",
        "colab_type": "code",
        "colab": {}
      },
      "source": [
        "train_data.drop('KitchenQual', axis=1, inplace=True)"
      ],
      "execution_count": 0,
      "outputs": []
    },
    {
      "cell_type": "code",
      "metadata": {
        "id": "GbZRKSnBIDn8",
        "colab_type": "code",
        "colab": {}
      },
      "source": [
        "oeFunc = OrdinalEncoder(categories=[['Sal', 'Sev', 'Maj2', 'Maj1', 'Mod', 'Min2', 'Min1', 'Typ']])\n",
        "train_data['HomeFunct'] = oeFunc.fit_transform(train_data[['Functional']])"
      ],
      "execution_count": 0,
      "outputs": []
    },
    {
      "cell_type": "code",
      "metadata": {
        "id": "AKJyyldRIldM",
        "colab_type": "code",
        "colab": {}
      },
      "source": [
        "train_data.drop('Functional', axis=1, inplace=True)"
      ],
      "execution_count": 0,
      "outputs": []
    },
    {
      "cell_type": "code",
      "metadata": {
        "id": "xNzoHe9XIowr",
        "colab_type": "code",
        "colab": {}
      },
      "source": [
        "train_data.loc[train_data['FireplaceQu'].isna(), 'FireplaceQu'] = 'NA'\n",
        "oeFireQ = OrdinalEncoder(categories=[['NA', 'Po', 'Fa', 'TA', 'Gd', 'Ex']])\n",
        "train_data['FireplQual'] = oeFireQ.fit_transform(train_data[['FireplaceQu']])"
      ],
      "execution_count": 0,
      "outputs": []
    },
    {
      "cell_type": "code",
      "metadata": {
        "id": "8SQJC9KfI9Se",
        "colab_type": "code",
        "colab": {}
      },
      "source": [
        "train_data.drop('FireplaceQu', axis=1, inplace=True)"
      ],
      "execution_count": 0,
      "outputs": []
    },
    {
      "cell_type": "code",
      "metadata": {
        "id": "zU3zGPmeJMC8",
        "colab_type": "code",
        "colab": {}
      },
      "source": [
        "train_data.loc[train_data['GarageQual'].isna(), 'GarageQual'] = 'NA'\n",
        "train_data.loc[train_data['GarageCond'].isna(), 'GarageCond'] = 'NA'\n",
        "oeGarage = OrdinalEncoder(categories=[['NA', 'Po', 'Fa', 'TA', 'Gd', 'Ex']])\n",
        "train_data['GarageQ'] = oeGarage.fit_transform(train_data[['GarageQual']])\n",
        "train_data['GarageC'] = oeGarage.fit_transform(train_data[['GarageCond']])"
      ],
      "execution_count": 0,
      "outputs": []
    },
    {
      "cell_type": "code",
      "metadata": {
        "id": "IAykf_OyKFX0",
        "colab_type": "code",
        "colab": {}
      },
      "source": [
        "train_data.loc[train_data['GarageFinish'].isna(), 'GarageFinish'] = 'NA'\n",
        "oeGarageFin = OrdinalEncoder(categories=[['NA', 'Unf', 'RFn', 'Fin']])\n",
        "train_data['GarageFin'] = oeGarageFin.fit_transform(train_data[['GarageFinish']])"
      ],
      "execution_count": 0,
      "outputs": []
    },
    {
      "cell_type": "code",
      "metadata": {
        "id": "LGcRi6L2Kdr7",
        "colab_type": "code",
        "colab": {}
      },
      "source": [
        "train_data.drop(['GarageType','GarageFinish','GarageQual','GarageCond'], axis=1, inplace=True)"
      ],
      "execution_count": 0,
      "outputs": []
    },
    {
      "cell_type": "code",
      "metadata": {
        "id": "ERw7X1uQK_Qc",
        "colab_type": "code",
        "colab": {}
      },
      "source": [
        "oeDrive = OrdinalEncoder(categories=[['N', 'P', 'Y']])\n",
        "train_data['Driveway'] = oeDrive.fit_transform(train_data[['PavedDrive']])"
      ],
      "execution_count": 0,
      "outputs": []
    },
    {
      "cell_type": "code",
      "metadata": {
        "id": "AwIUfgCNLQkc",
        "colab_type": "code",
        "colab": {}
      },
      "source": [
        "train_data.drop('PavedDrive', axis=1, inplace=True)"
      ],
      "execution_count": 0,
      "outputs": []
    },
    {
      "cell_type": "code",
      "metadata": {
        "id": "0a_2By4XLTc0",
        "colab_type": "code",
        "colab": {}
      },
      "source": [
        "train_data.loc[train_data['PoolQC'].isna(), 'PoolQC'] = 'NA'\n",
        "oePool = OrdinalEncoder(categories=[['NA', 'Fa', 'TA', 'Gd', 'Ex']])\n",
        "train_data['PoolQual'] = oePool.fit_transform(train_data[['PoolQC']])"
      ],
      "execution_count": 0,
      "outputs": []
    },
    {
      "cell_type": "code",
      "metadata": {
        "id": "MuRvf89SLzS1",
        "colab_type": "code",
        "colab": {}
      },
      "source": [
        "train_data.drop('PoolQC', axis=1, inplace=True)"
      ],
      "execution_count": 0,
      "outputs": []
    },
    {
      "cell_type": "code",
      "metadata": {
        "id": "K5p8LkQeL5Pt",
        "colab_type": "code",
        "colab": {}
      },
      "source": [
        "train_data.loc[train_data['Fence'].isna(), 'Fence'] = 'NA'\n",
        "oeFence = OrdinalEncoder(categories=[['NA', 'MnWw', 'GdWo', 'MnPrv', 'GdPrv']])\n",
        "train_data['FenceQual'] = oeFence.fit_transform(train_data[['Fence']])"
      ],
      "execution_count": 0,
      "outputs": []
    },
    {
      "cell_type": "code",
      "metadata": {
        "id": "q3HdKb61MPID",
        "colab_type": "code",
        "colab": {}
      },
      "source": [
        "train_data.drop('Fence', axis=1, inplace=True)"
      ],
      "execution_count": 0,
      "outputs": []
    },
    {
      "cell_type": "code",
      "metadata": {
        "id": "w2xNF2K7MTJE",
        "colab_type": "code",
        "colab": {}
      },
      "source": [
        "train_data = pd.get_dummies(train_data, columns=['MiscFeature', 'SaleType', 'SaleCondition'])"
      ],
      "execution_count": 0,
      "outputs": []
    },
    {
      "cell_type": "code",
      "metadata": {
        "id": "ygx7bzc5Mt18",
        "colab_type": "code",
        "outputId": "24106ce8-3938-4f92-e097-6c6d92d70931",
        "colab": {
          "base_uri": "https://localhost:8080/",
          "height": 1000
        }
      },
      "source": [
        "pd.options.display.max_rows = 200\n",
        "print(train_data.isna().any())\n",
        "pd.options.display.max_rows = 60"
      ],
      "execution_count": 0,
      "outputs": [
        {
          "output_type": "stream",
          "text": [
            "LotFrontage               True\n",
            "LotArea                  False\n",
            "OverallQual              False\n",
            "OverallCond              False\n",
            "YearBuilt                False\n",
            "YearRemodAdd             False\n",
            "MasVnrArea               False\n",
            "1stFlrSF                 False\n",
            "2ndFlrSF                 False\n",
            "LowQualFinSF             False\n",
            "GrLivArea                False\n",
            "BsmtFullBath             False\n",
            "BsmtHalfBath             False\n",
            "FullBath                 False\n",
            "HalfBath                 False\n",
            "BedroomAbvGr             False\n",
            "KitchenAbvGr             False\n",
            "TotRmsAbvGrd             False\n",
            "Fireplaces               False\n",
            "GarageYrBlt               True\n",
            "GarageCars               False\n",
            "GarageArea               False\n",
            "WoodDeckSF               False\n",
            "OpenPorchSF              False\n",
            "EnclosedPorch            False\n",
            "3SsnPorch                False\n",
            "ScreenPorch              False\n",
            "PoolArea                 False\n",
            "MiscVal                  False\n",
            "MoSold                   False\n",
            "YrSold                   False\n",
            "SalePrice                False\n",
            "ResZoned                 False\n",
            "Density                  False\n",
            "RoadType                 False\n",
            "HasAlley                 False\n",
            "Shape                    False\n",
            "Utils                    False\n",
            "IsCulDSac                False\n",
            "HasFrontage              False\n",
            "Slope                    False\n",
            "Blmngtn                  False\n",
            "Blueste                  False\n",
            "BrDale                   False\n",
            "BrkSide                  False\n",
            "ClearCr                  False\n",
            "CollgCr                  False\n",
            "Crawfor                  False\n",
            "Edwards                  False\n",
            "Gilbert                  False\n",
            "IDOTRR                   False\n",
            "MeadowV                  False\n",
            "Mitchel                  False\n",
            "NAmes                    False\n",
            "NPkVill                  False\n",
            "NWAmes                   False\n",
            "NoRidge                  False\n",
            "NridgHt                  False\n",
            "OldTown                  False\n",
            "SWISU                    False\n",
            "Sawyer                   False\n",
            "SawyerW                  False\n",
            "Somerst                  False\n",
            "StoneBr                  False\n",
            "Timber                   False\n",
            "Veenker                  False\n",
            "ProximityScore           False\n",
            "Bldg                     False\n",
            "House                    False\n",
            "Ext_AsbShng              False\n",
            "Ext_AsphShn              False\n",
            "Ext_BrkComm              False\n",
            "Ext_BrkFace              False\n",
            "Ext_CBlock               False\n",
            "Ext_CemntBd              False\n",
            "Ext_HdBoard              False\n",
            "Ext_ImStucc              False\n",
            "Ext_MetalSd              False\n",
            "Ext_Plywood              False\n",
            "Ext_Stone                False\n",
            "Ext_Stucco               False\n",
            "Ext_VinylSd              False\n",
            "Ext_Wd Sdng              False\n",
            "Ext_WdShing              False\n",
            "Ext_Other                False\n",
            "Masonry                  False\n",
            "ExtQual                  False\n",
            "ExtCond                  False\n",
            "FoundationMat            False\n",
            "BsmtQ                    False\n",
            "BsmtC                    False\n",
            "BsmtExp                  False\n",
            "FinBsmtArea              False\n",
            "HeatingQual              False\n",
            "CentrlAir                False\n",
            "Elec                     False\n",
            "KitchQual                False\n",
            "HomeFunct                False\n",
            "FireplQual               False\n",
            "GarageQ                  False\n",
            "GarageC                  False\n",
            "GarageFin                False\n",
            "Driveway                 False\n",
            "PoolQual                 False\n",
            "FenceQual                False\n",
            "MiscFeature_Gar2         False\n",
            "MiscFeature_Othr         False\n",
            "MiscFeature_Shed         False\n",
            "MiscFeature_TenC         False\n",
            "SaleType_COD             False\n",
            "SaleType_CWD             False\n",
            "SaleType_Con             False\n",
            "SaleType_ConLD           False\n",
            "SaleType_ConLI           False\n",
            "SaleType_ConLw           False\n",
            "SaleType_New             False\n",
            "SaleType_Oth             False\n",
            "SaleType_WD              False\n",
            "SaleCondition_Abnorml    False\n",
            "SaleCondition_AdjLand    False\n",
            "SaleCondition_Alloca     False\n",
            "SaleCondition_Family     False\n",
            "SaleCondition_Normal     False\n",
            "SaleCondition_Partial    False\n",
            "dtype: bool\n"
          ],
          "name": "stdout"
        }
      ]
    },
    {
      "cell_type": "code",
      "metadata": {
        "id": "meWG7aNEQZKH",
        "colab_type": "code",
        "colab": {}
      },
      "source": [
        "train_data.loc[train_data['LotFrontage'].isna(), 'LotFrontage'] = 0\n",
        "train_data.loc[train_data['GarageYrBlt'].isna(), 'GarageYrBlt'] = train_data.loc[train_data['GarageYrBlt'].isna(), 'YearBuilt']\n"
      ],
      "execution_count": 0,
      "outputs": []
    },
    {
      "cell_type": "code",
      "metadata": {
        "id": "fiOlWFyPOcAl",
        "colab_type": "code",
        "outputId": "9e08aa4d-2f63-4935-8da3-b2dfd4595c76",
        "colab": {
          "base_uri": "https://localhost:8080/",
          "height": 34
        }
      },
      "source": [
        "X = train_data.drop(['SalePrice'], axis=1)\n",
        "y = train_data['SalePrice']\n",
        "lm = LinearRegression()\n",
        "lm.fit(X,y)\n",
        "y_pred = lm.predict(X)\n",
        "sqrt(mean_squared_log_error(y, y_pred))"
      ],
      "execution_count": 0,
      "outputs": [
        {
          "output_type": "execute_result",
          "data": {
            "text/plain": [
              "0.14407511315937124"
            ]
          },
          "metadata": {
            "tags": []
          },
          "execution_count": 278
        }
      ]
    },
    {
      "cell_type": "code",
      "metadata": {
        "id": "-W8QWP1JPdqd",
        "colab_type": "code",
        "colab": {}
      },
      "source": [
        ""
      ],
      "execution_count": 0,
      "outputs": []
    }
  ]
}