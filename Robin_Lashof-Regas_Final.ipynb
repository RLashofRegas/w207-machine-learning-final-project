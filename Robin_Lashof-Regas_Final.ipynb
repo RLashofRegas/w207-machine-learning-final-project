{
  "nbformat": 4,
  "nbformat_minor": 0,
  "metadata": {
    "colab": {
      "name": "Untitled0.ipynb",
      "provenance": [],
      "collapsed_sections": []
    },
    "kernelspec": {
      "name": "python3",
      "display_name": "Python 3"
    }
  },
  "cells": [
    {
      "cell_type": "markdown",
      "metadata": {
        "id": "GRqJjXrm40LR",
        "colab_type": "text"
      },
      "source": [
        "# Housing Prices\n",
        "## Exploration of Advanced Regression Techniques and Feature Selection\n",
        "### Robin Lashof-Regas"
      ]
    },
    {
      "cell_type": "markdown",
      "metadata": {
        "id": "TNI0Hb9h5M8h",
        "colab_type": "text"
      },
      "source": [
        "## Introduction\n",
        "In this project I explore a number of regression techniques to try to estimate SalePrice of homes given a number of both categorical and numerical features. The problem and dataset used come from the [House Prices: Advanced Regression Techniques Kaggle competition](https://www.kaggle.com/c/house-prices-advanced-regression-techniques). The main focus of my project was to explore the tradeoffs of various techniques of feature extraction/selection, as well as the relative accuracies of various models compared to the amount of effort needed to tune and fit those models. \n",
        "\n",
        "First I perform some basic EDA on the dataset to understand the different features and distributions thereof. Next, I use my EDA to go through the arduous process of manual feature extraction and create a preprocessing method to extract important features from the given dataset. Finally I apply various regression techniques to my dataset, compare the results, and perform some error analysis to help understand the strengths and weaknesses of the various models and some possible next steps."
      ]
    },
    {
      "cell_type": "markdown",
      "metadata": {
        "id": "itDU2P097ooA",
        "colab_type": "text"
      },
      "source": [
        "## Imports"
      ]
    },
    {
      "cell_type": "code",
      "metadata": {
        "id": "3rfqUoGix3xL",
        "colab_type": "code",
        "colab": {}
      },
      "source": [
        "# imports\n",
        "from google.colab import files\n",
        "import pandas as pd\n",
        "import io\n",
        "import seaborn as sb\n",
        "import numpy as np\n",
        "import matplotlib.pyplot as plt\n",
        "from sklearn.linear_model import LinearRegression, Lasso, LassoCV\n",
        "from sklearn.metrics import mean_squared_log_error\n",
        "from math import sqrt, log, exp\n",
        "from sklearn.preprocessing import LabelEncoder, OrdinalEncoder\n",
        "from sklearn.decomposition import PCA\n",
        "from sklearn.svm import SVR\n",
        "from sklearn.neural_network import MLPRegressor"
      ],
      "execution_count": 0,
      "outputs": []
    },
    {
      "cell_type": "markdown",
      "metadata": {
        "id": "OKzK0l2h7yLl",
        "colab_type": "text"
      },
      "source": [
        "## Load Data\n",
        "In this section I load the data and separate out a train and test set. I have chosen to implement my entire analysis using the provided \"train.csv\" file from the aforementioned kaggle competition so that this notebook can be self contained."
      ]
    },
    {
      "cell_type": "code",
      "metadata": {
        "id": "zifcD9RhmIoS",
        "colab_type": "code",
        "outputId": "5747a6fe-8ff0-459b-94c2-64e702b6d99f",
        "colab": {
          "resources": {
            "http://localhost:8080/nbextensions/google.colab/files.js": {
              "data": "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",
              "ok": true,
              "headers": [
                [
                  "content-type",
                  "application/javascript"
                ]
              ],
              "status": 200,
              "status_text": ""
            }
          },
          "base_uri": "https://localhost:8080/",
          "height": 74
        }
      },
      "source": [
        "# load data files\n",
        "# execute this cell and choose train.csv\n",
        "uploaded = files.upload()"
      ],
      "execution_count": 3,
      "outputs": [
        {
          "output_type": "display_data",
          "data": {
            "text/html": [
              "\n",
              "     <input type=\"file\" id=\"files-cd369e7c-bdad-4cb0-949d-45b1925f74ec\" name=\"files[]\" multiple disabled />\n",
              "     <output id=\"result-cd369e7c-bdad-4cb0-949d-45b1925f74ec\">\n",
              "      Upload widget is only available when the cell has been executed in the\n",
              "      current browser session. Please rerun this cell to enable.\n",
              "      </output>\n",
              "      <script src=\"/nbextensions/google.colab/files.js\"></script> "
            ],
            "text/plain": [
              "<IPython.core.display.HTML object>"
            ]
          },
          "metadata": {
            "tags": []
          }
        },
        {
          "output_type": "stream",
          "text": [
            "Saving train.csv to train.csv\n"
          ],
          "name": "stdout"
        }
      ]
    },
    {
      "cell_type": "markdown",
      "metadata": {
        "id": "KFtuCIIV8gkn",
        "colab_type": "text"
      },
      "source": [
        "Here I split the data into train and test sets being sure to randomize the order of data rows."
      ]
    },
    {
      "cell_type": "code",
      "metadata": {
        "id": "r9oo9GJvySZ9",
        "colab_type": "code",
        "colab": {}
      },
      "source": [
        "# load data into dataframes\n",
        "train_raw = pd.read_csv(io.StringIO(uploaded['train.csv'].decode('utf-8'))).sample(frac=1).reset_index(drop=True)\n",
        "train_data = train_raw[:1000]\n",
        "test_data = train_raw[1000:]"
      ],
      "execution_count": 0,
      "outputs": []
    },
    {
      "cell_type": "markdown",
      "metadata": {
        "id": "cl9jUS3c9FGN",
        "colab_type": "text"
      },
      "source": [
        "## Exploratory Data Analysis\n",
        "First let's inspect the provided columns to understand what we're dealing with. First I look at the raw data, then the distributions for numeric features, and finally I inspect which features have been loaded in as numeric vs categorical. Next we look at the correlations between the numeric features and look at the distribution of the SalePrice variable to understand what outliers we might have and if any transformations might be needed when we evaluate our models. The provided \"data_description.txt\" document was also extremely helpful in understanding each column and the expected values.\n",
        "\n",
        "Please also see Appendix A for some ad hoc EDA done while analyzing each feature individually. This analysis greatly influenced the implementation of the `preprocess_data` method in the next section."
      ]
    },
    {
      "cell_type": "code",
      "metadata": {
        "id": "mMSf1_imPlPH",
        "colab_type": "code",
        "outputId": "f8805b01-2f90-4e19-da1b-0e0b1b9c1b0a",
        "colab": {
          "base_uri": "https://localhost:8080/",
          "height": 439
        }
      },
      "source": [
        "# inspect columns\n",
        "train_data"
      ],
      "execution_count": 0,
      "outputs": [
        {
          "output_type": "execute_result",
          "data": {
            "text/html": [
              "<div>\n",
              "<style scoped>\n",
              "    .dataframe tbody tr th:only-of-type {\n",
              "        vertical-align: middle;\n",
              "    }\n",
              "\n",
              "    .dataframe tbody tr th {\n",
              "        vertical-align: top;\n",
              "    }\n",
              "\n",
              "    .dataframe thead th {\n",
              "        text-align: right;\n",
              "    }\n",
              "</style>\n",
              "<table border=\"1\" class=\"dataframe\">\n",
              "  <thead>\n",
              "    <tr style=\"text-align: right;\">\n",
              "      <th></th>\n",
              "      <th>Id</th>\n",
              "      <th>MSSubClass</th>\n",
              "      <th>MSZoning</th>\n",
              "      <th>LotFrontage</th>\n",
              "      <th>LotArea</th>\n",
              "      <th>Street</th>\n",
              "      <th>Alley</th>\n",
              "      <th>LotShape</th>\n",
              "      <th>LandContour</th>\n",
              "      <th>Utilities</th>\n",
              "      <th>LotConfig</th>\n",
              "      <th>LandSlope</th>\n",
              "      <th>Neighborhood</th>\n",
              "      <th>Condition1</th>\n",
              "      <th>Condition2</th>\n",
              "      <th>BldgType</th>\n",
              "      <th>HouseStyle</th>\n",
              "      <th>OverallQual</th>\n",
              "      <th>OverallCond</th>\n",
              "      <th>YearBuilt</th>\n",
              "      <th>YearRemodAdd</th>\n",
              "      <th>RoofStyle</th>\n",
              "      <th>RoofMatl</th>\n",
              "      <th>Exterior1st</th>\n",
              "      <th>Exterior2nd</th>\n",
              "      <th>MasVnrType</th>\n",
              "      <th>MasVnrArea</th>\n",
              "      <th>ExterQual</th>\n",
              "      <th>ExterCond</th>\n",
              "      <th>Foundation</th>\n",
              "      <th>BsmtQual</th>\n",
              "      <th>BsmtCond</th>\n",
              "      <th>BsmtExposure</th>\n",
              "      <th>BsmtFinType1</th>\n",
              "      <th>BsmtFinSF1</th>\n",
              "      <th>BsmtFinType2</th>\n",
              "      <th>BsmtFinSF2</th>\n",
              "      <th>BsmtUnfSF</th>\n",
              "      <th>TotalBsmtSF</th>\n",
              "      <th>Heating</th>\n",
              "      <th>...</th>\n",
              "      <th>CentralAir</th>\n",
              "      <th>Electrical</th>\n",
              "      <th>1stFlrSF</th>\n",
              "      <th>2ndFlrSF</th>\n",
              "      <th>LowQualFinSF</th>\n",
              "      <th>GrLivArea</th>\n",
              "      <th>BsmtFullBath</th>\n",
              "      <th>BsmtHalfBath</th>\n",
              "      <th>FullBath</th>\n",
              "      <th>HalfBath</th>\n",
              "      <th>BedroomAbvGr</th>\n",
              "      <th>KitchenAbvGr</th>\n",
              "      <th>KitchenQual</th>\n",
              "      <th>TotRmsAbvGrd</th>\n",
              "      <th>Functional</th>\n",
              "      <th>Fireplaces</th>\n",
              "      <th>FireplaceQu</th>\n",
              "      <th>GarageType</th>\n",
              "      <th>GarageYrBlt</th>\n",
              "      <th>GarageFinish</th>\n",
              "      <th>GarageCars</th>\n",
              "      <th>GarageArea</th>\n",
              "      <th>GarageQual</th>\n",
              "      <th>GarageCond</th>\n",
              "      <th>PavedDrive</th>\n",
              "      <th>WoodDeckSF</th>\n",
              "      <th>OpenPorchSF</th>\n",
              "      <th>EnclosedPorch</th>\n",
              "      <th>3SsnPorch</th>\n",
              "      <th>ScreenPorch</th>\n",
              "      <th>PoolArea</th>\n",
              "      <th>PoolQC</th>\n",
              "      <th>Fence</th>\n",
              "      <th>MiscFeature</th>\n",
              "      <th>MiscVal</th>\n",
              "      <th>MoSold</th>\n",
              "      <th>YrSold</th>\n",
              "      <th>SaleType</th>\n",
              "      <th>SaleCondition</th>\n",
              "      <th>SalePrice</th>\n",
              "    </tr>\n",
              "  </thead>\n",
              "  <tbody>\n",
              "    <tr>\n",
              "      <th>0</th>\n",
              "      <td>809</td>\n",
              "      <td>80</td>\n",
              "      <td>RL</td>\n",
              "      <td>85.0</td>\n",
              "      <td>13400</td>\n",
              "      <td>Pave</td>\n",
              "      <td>NaN</td>\n",
              "      <td>Reg</td>\n",
              "      <td>Lvl</td>\n",
              "      <td>AllPub</td>\n",
              "      <td>Inside</td>\n",
              "      <td>Gtl</td>\n",
              "      <td>NAmes</td>\n",
              "      <td>Norm</td>\n",
              "      <td>Norm</td>\n",
              "      <td>1Fam</td>\n",
              "      <td>SLvl</td>\n",
              "      <td>5</td>\n",
              "      <td>5</td>\n",
              "      <td>1966</td>\n",
              "      <td>1966</td>\n",
              "      <td>Gable</td>\n",
              "      <td>CompShg</td>\n",
              "      <td>VinylSd</td>\n",
              "      <td>VinylSd</td>\n",
              "      <td>BrkFace</td>\n",
              "      <td>1047.0</td>\n",
              "      <td>TA</td>\n",
              "      <td>TA</td>\n",
              "      <td>CBlock</td>\n",
              "      <td>TA</td>\n",
              "      <td>TA</td>\n",
              "      <td>Av</td>\n",
              "      <td>ALQ</td>\n",
              "      <td>516</td>\n",
              "      <td>BLQ</td>\n",
              "      <td>128</td>\n",
              "      <td>380</td>\n",
              "      <td>1024</td>\n",
              "      <td>GasA</td>\n",
              "      <td>...</td>\n",
              "      <td>Y</td>\n",
              "      <td>SBrkr</td>\n",
              "      <td>1086</td>\n",
              "      <td>0</td>\n",
              "      <td>0</td>\n",
              "      <td>1086</td>\n",
              "      <td>1</td>\n",
              "      <td>0</td>\n",
              "      <td>1</td>\n",
              "      <td>0</td>\n",
              "      <td>3</td>\n",
              "      <td>1</td>\n",
              "      <td>TA</td>\n",
              "      <td>6</td>\n",
              "      <td>Typ</td>\n",
              "      <td>1</td>\n",
              "      <td>Gd</td>\n",
              "      <td>Attchd</td>\n",
              "      <td>1966.0</td>\n",
              "      <td>RFn</td>\n",
              "      <td>2</td>\n",
              "      <td>484</td>\n",
              "      <td>TA</td>\n",
              "      <td>TA</td>\n",
              "      <td>Y</td>\n",
              "      <td>0</td>\n",
              "      <td>0</td>\n",
              "      <td>0</td>\n",
              "      <td>0</td>\n",
              "      <td>0</td>\n",
              "      <td>0</td>\n",
              "      <td>NaN</td>\n",
              "      <td>GdWo</td>\n",
              "      <td>NaN</td>\n",
              "      <td>0</td>\n",
              "      <td>6</td>\n",
              "      <td>2006</td>\n",
              "      <td>WD</td>\n",
              "      <td>Normal</td>\n",
              "      <td>159950</td>\n",
              "    </tr>\n",
              "    <tr>\n",
              "      <th>1</th>\n",
              "      <td>247</td>\n",
              "      <td>190</td>\n",
              "      <td>RM</td>\n",
              "      <td>69.0</td>\n",
              "      <td>9142</td>\n",
              "      <td>Pave</td>\n",
              "      <td>Grvl</td>\n",
              "      <td>Reg</td>\n",
              "      <td>Lvl</td>\n",
              "      <td>AllPub</td>\n",
              "      <td>Inside</td>\n",
              "      <td>Gtl</td>\n",
              "      <td>OldTown</td>\n",
              "      <td>Norm</td>\n",
              "      <td>Norm</td>\n",
              "      <td>2fmCon</td>\n",
              "      <td>2Story</td>\n",
              "      <td>6</td>\n",
              "      <td>8</td>\n",
              "      <td>1910</td>\n",
              "      <td>1950</td>\n",
              "      <td>Gable</td>\n",
              "      <td>CompShg</td>\n",
              "      <td>AsbShng</td>\n",
              "      <td>AsbShng</td>\n",
              "      <td>None</td>\n",
              "      <td>0.0</td>\n",
              "      <td>TA</td>\n",
              "      <td>Fa</td>\n",
              "      <td>Stone</td>\n",
              "      <td>Fa</td>\n",
              "      <td>TA</td>\n",
              "      <td>No</td>\n",
              "      <td>Unf</td>\n",
              "      <td>0</td>\n",
              "      <td>Unf</td>\n",
              "      <td>0</td>\n",
              "      <td>1020</td>\n",
              "      <td>1020</td>\n",
              "      <td>GasA</td>\n",
              "      <td>...</td>\n",
              "      <td>N</td>\n",
              "      <td>FuseP</td>\n",
              "      <td>908</td>\n",
              "      <td>1020</td>\n",
              "      <td>0</td>\n",
              "      <td>1928</td>\n",
              "      <td>0</td>\n",
              "      <td>0</td>\n",
              "      <td>2</td>\n",
              "      <td>0</td>\n",
              "      <td>4</td>\n",
              "      <td>2</td>\n",
              "      <td>Fa</td>\n",
              "      <td>9</td>\n",
              "      <td>Typ</td>\n",
              "      <td>0</td>\n",
              "      <td>NaN</td>\n",
              "      <td>Detchd</td>\n",
              "      <td>1910.0</td>\n",
              "      <td>Unf</td>\n",
              "      <td>1</td>\n",
              "      <td>440</td>\n",
              "      <td>Po</td>\n",
              "      <td>Po</td>\n",
              "      <td>Y</td>\n",
              "      <td>0</td>\n",
              "      <td>60</td>\n",
              "      <td>112</td>\n",
              "      <td>0</td>\n",
              "      <td>0</td>\n",
              "      <td>0</td>\n",
              "      <td>NaN</td>\n",
              "      <td>NaN</td>\n",
              "      <td>NaN</td>\n",
              "      <td>0</td>\n",
              "      <td>4</td>\n",
              "      <td>2006</td>\n",
              "      <td>WD</td>\n",
              "      <td>Normal</td>\n",
              "      <td>137000</td>\n",
              "    </tr>\n",
              "    <tr>\n",
              "      <th>2</th>\n",
              "      <td>304</td>\n",
              "      <td>20</td>\n",
              "      <td>RL</td>\n",
              "      <td>70.0</td>\n",
              "      <td>9800</td>\n",
              "      <td>Pave</td>\n",
              "      <td>NaN</td>\n",
              "      <td>Reg</td>\n",
              "      <td>Lvl</td>\n",
              "      <td>AllPub</td>\n",
              "      <td>Corner</td>\n",
              "      <td>Gtl</td>\n",
              "      <td>CollgCr</td>\n",
              "      <td>Norm</td>\n",
              "      <td>Norm</td>\n",
              "      <td>1Fam</td>\n",
              "      <td>1Story</td>\n",
              "      <td>5</td>\n",
              "      <td>7</td>\n",
              "      <td>1972</td>\n",
              "      <td>1972</td>\n",
              "      <td>Gable</td>\n",
              "      <td>CompShg</td>\n",
              "      <td>VinylSd</td>\n",
              "      <td>VinylSd</td>\n",
              "      <td>None</td>\n",
              "      <td>0.0</td>\n",
              "      <td>TA</td>\n",
              "      <td>TA</td>\n",
              "      <td>PConc</td>\n",
              "      <td>TA</td>\n",
              "      <td>TA</td>\n",
              "      <td>No</td>\n",
              "      <td>ALQ</td>\n",
              "      <td>894</td>\n",
              "      <td>Unf</td>\n",
              "      <td>0</td>\n",
              "      <td>0</td>\n",
              "      <td>894</td>\n",
              "      <td>GasA</td>\n",
              "      <td>...</td>\n",
              "      <td>Y</td>\n",
              "      <td>SBrkr</td>\n",
              "      <td>894</td>\n",
              "      <td>0</td>\n",
              "      <td>0</td>\n",
              "      <td>894</td>\n",
              "      <td>1</td>\n",
              "      <td>0</td>\n",
              "      <td>1</td>\n",
              "      <td>0</td>\n",
              "      <td>3</td>\n",
              "      <td>1</td>\n",
              "      <td>TA</td>\n",
              "      <td>5</td>\n",
              "      <td>Typ</td>\n",
              "      <td>0</td>\n",
              "      <td>NaN</td>\n",
              "      <td>Attchd</td>\n",
              "      <td>1975.0</td>\n",
              "      <td>Unf</td>\n",
              "      <td>2</td>\n",
              "      <td>552</td>\n",
              "      <td>TA</td>\n",
              "      <td>TA</td>\n",
              "      <td>Y</td>\n",
              "      <td>256</td>\n",
              "      <td>0</td>\n",
              "      <td>0</td>\n",
              "      <td>0</td>\n",
              "      <td>0</td>\n",
              "      <td>0</td>\n",
              "      <td>NaN</td>\n",
              "      <td>GdWo</td>\n",
              "      <td>NaN</td>\n",
              "      <td>0</td>\n",
              "      <td>7</td>\n",
              "      <td>2006</td>\n",
              "      <td>WD</td>\n",
              "      <td>Abnorml</td>\n",
              "      <td>149900</td>\n",
              "    </tr>\n",
              "    <tr>\n",
              "      <th>3</th>\n",
              "      <td>1236</td>\n",
              "      <td>70</td>\n",
              "      <td>RL</td>\n",
              "      <td>96.0</td>\n",
              "      <td>13132</td>\n",
              "      <td>Pave</td>\n",
              "      <td>NaN</td>\n",
              "      <td>Reg</td>\n",
              "      <td>Lvl</td>\n",
              "      <td>AllPub</td>\n",
              "      <td>Inside</td>\n",
              "      <td>Gtl</td>\n",
              "      <td>Crawfor</td>\n",
              "      <td>Norm</td>\n",
              "      <td>Norm</td>\n",
              "      <td>1Fam</td>\n",
              "      <td>2Story</td>\n",
              "      <td>5</td>\n",
              "      <td>5</td>\n",
              "      <td>1914</td>\n",
              "      <td>1950</td>\n",
              "      <td>Gable</td>\n",
              "      <td>CompShg</td>\n",
              "      <td>Wd Sdng</td>\n",
              "      <td>Wd Sdng</td>\n",
              "      <td>None</td>\n",
              "      <td>0.0</td>\n",
              "      <td>TA</td>\n",
              "      <td>TA</td>\n",
              "      <td>BrkTil</td>\n",
              "      <td>Gd</td>\n",
              "      <td>TA</td>\n",
              "      <td>Mn</td>\n",
              "      <td>Unf</td>\n",
              "      <td>0</td>\n",
              "      <td>Unf</td>\n",
              "      <td>0</td>\n",
              "      <td>747</td>\n",
              "      <td>747</td>\n",
              "      <td>GasA</td>\n",
              "      <td>...</td>\n",
              "      <td>Y</td>\n",
              "      <td>FuseF</td>\n",
              "      <td>892</td>\n",
              "      <td>892</td>\n",
              "      <td>0</td>\n",
              "      <td>1784</td>\n",
              "      <td>0</td>\n",
              "      <td>0</td>\n",
              "      <td>1</td>\n",
              "      <td>1</td>\n",
              "      <td>4</td>\n",
              "      <td>1</td>\n",
              "      <td>TA</td>\n",
              "      <td>9</td>\n",
              "      <td>Typ</td>\n",
              "      <td>0</td>\n",
              "      <td>NaN</td>\n",
              "      <td>Detchd</td>\n",
              "      <td>1914.0</td>\n",
              "      <td>Unf</td>\n",
              "      <td>1</td>\n",
              "      <td>180</td>\n",
              "      <td>Fa</td>\n",
              "      <td>Fa</td>\n",
              "      <td>N</td>\n",
              "      <td>203</td>\n",
              "      <td>40</td>\n",
              "      <td>0</td>\n",
              "      <td>0</td>\n",
              "      <td>0</td>\n",
              "      <td>0</td>\n",
              "      <td>NaN</td>\n",
              "      <td>NaN</td>\n",
              "      <td>NaN</td>\n",
              "      <td>0</td>\n",
              "      <td>7</td>\n",
              "      <td>2006</td>\n",
              "      <td>WD</td>\n",
              "      <td>Normal</td>\n",
              "      <td>138887</td>\n",
              "    </tr>\n",
              "    <tr>\n",
              "      <th>4</th>\n",
              "      <td>314</td>\n",
              "      <td>20</td>\n",
              "      <td>RL</td>\n",
              "      <td>150.0</td>\n",
              "      <td>215245</td>\n",
              "      <td>Pave</td>\n",
              "      <td>NaN</td>\n",
              "      <td>IR3</td>\n",
              "      <td>Low</td>\n",
              "      <td>AllPub</td>\n",
              "      <td>Inside</td>\n",
              "      <td>Sev</td>\n",
              "      <td>Timber</td>\n",
              "      <td>Norm</td>\n",
              "      <td>Norm</td>\n",
              "      <td>1Fam</td>\n",
              "      <td>1Story</td>\n",
              "      <td>7</td>\n",
              "      <td>5</td>\n",
              "      <td>1965</td>\n",
              "      <td>1965</td>\n",
              "      <td>Hip</td>\n",
              "      <td>CompShg</td>\n",
              "      <td>BrkFace</td>\n",
              "      <td>BrkFace</td>\n",
              "      <td>None</td>\n",
              "      <td>0.0</td>\n",
              "      <td>TA</td>\n",
              "      <td>TA</td>\n",
              "      <td>CBlock</td>\n",
              "      <td>Gd</td>\n",
              "      <td>TA</td>\n",
              "      <td>Gd</td>\n",
              "      <td>ALQ</td>\n",
              "      <td>1236</td>\n",
              "      <td>Rec</td>\n",
              "      <td>820</td>\n",
              "      <td>80</td>\n",
              "      <td>2136</td>\n",
              "      <td>GasW</td>\n",
              "      <td>...</td>\n",
              "      <td>Y</td>\n",
              "      <td>SBrkr</td>\n",
              "      <td>2036</td>\n",
              "      <td>0</td>\n",
              "      <td>0</td>\n",
              "      <td>2036</td>\n",
              "      <td>2</td>\n",
              "      <td>0</td>\n",
              "      <td>2</td>\n",
              "      <td>0</td>\n",
              "      <td>3</td>\n",
              "      <td>1</td>\n",
              "      <td>TA</td>\n",
              "      <td>8</td>\n",
              "      <td>Typ</td>\n",
              "      <td>2</td>\n",
              "      <td>Gd</td>\n",
              "      <td>Attchd</td>\n",
              "      <td>1965.0</td>\n",
              "      <td>RFn</td>\n",
              "      <td>2</td>\n",
              "      <td>513</td>\n",
              "      <td>TA</td>\n",
              "      <td>TA</td>\n",
              "      <td>Y</td>\n",
              "      <td>0</td>\n",
              "      <td>0</td>\n",
              "      <td>0</td>\n",
              "      <td>0</td>\n",
              "      <td>0</td>\n",
              "      <td>0</td>\n",
              "      <td>NaN</td>\n",
              "      <td>NaN</td>\n",
              "      <td>NaN</td>\n",
              "      <td>0</td>\n",
              "      <td>6</td>\n",
              "      <td>2009</td>\n",
              "      <td>WD</td>\n",
              "      <td>Normal</td>\n",
              "      <td>375000</td>\n",
              "    </tr>\n",
              "    <tr>\n",
              "      <th>...</th>\n",
              "      <td>...</td>\n",
              "      <td>...</td>\n",
              "      <td>...</td>\n",
              "      <td>...</td>\n",
              "      <td>...</td>\n",
              "      <td>...</td>\n",
              "      <td>...</td>\n",
              "      <td>...</td>\n",
              "      <td>...</td>\n",
              "      <td>...</td>\n",
              "      <td>...</td>\n",
              "      <td>...</td>\n",
              "      <td>...</td>\n",
              "      <td>...</td>\n",
              "      <td>...</td>\n",
              "      <td>...</td>\n",
              "      <td>...</td>\n",
              "      <td>...</td>\n",
              "      <td>...</td>\n",
              "      <td>...</td>\n",
              "      <td>...</td>\n",
              "      <td>...</td>\n",
              "      <td>...</td>\n",
              "      <td>...</td>\n",
              "      <td>...</td>\n",
              "      <td>...</td>\n",
              "      <td>...</td>\n",
              "      <td>...</td>\n",
              "      <td>...</td>\n",
              "      <td>...</td>\n",
              "      <td>...</td>\n",
              "      <td>...</td>\n",
              "      <td>...</td>\n",
              "      <td>...</td>\n",
              "      <td>...</td>\n",
              "      <td>...</td>\n",
              "      <td>...</td>\n",
              "      <td>...</td>\n",
              "      <td>...</td>\n",
              "      <td>...</td>\n",
              "      <td>...</td>\n",
              "      <td>...</td>\n",
              "      <td>...</td>\n",
              "      <td>...</td>\n",
              "      <td>...</td>\n",
              "      <td>...</td>\n",
              "      <td>...</td>\n",
              "      <td>...</td>\n",
              "      <td>...</td>\n",
              "      <td>...</td>\n",
              "      <td>...</td>\n",
              "      <td>...</td>\n",
              "      <td>...</td>\n",
              "      <td>...</td>\n",
              "      <td>...</td>\n",
              "      <td>...</td>\n",
              "      <td>...</td>\n",
              "      <td>...</td>\n",
              "      <td>...</td>\n",
              "      <td>...</td>\n",
              "      <td>...</td>\n",
              "      <td>...</td>\n",
              "      <td>...</td>\n",
              "      <td>...</td>\n",
              "      <td>...</td>\n",
              "      <td>...</td>\n",
              "      <td>...</td>\n",
              "      <td>...</td>\n",
              "      <td>...</td>\n",
              "      <td>...</td>\n",
              "      <td>...</td>\n",
              "      <td>...</td>\n",
              "      <td>...</td>\n",
              "      <td>...</td>\n",
              "      <td>...</td>\n",
              "      <td>...</td>\n",
              "      <td>...</td>\n",
              "      <td>...</td>\n",
              "      <td>...</td>\n",
              "      <td>...</td>\n",
              "      <td>...</td>\n",
              "    </tr>\n",
              "    <tr>\n",
              "      <th>995</th>\n",
              "      <td>770</td>\n",
              "      <td>60</td>\n",
              "      <td>RL</td>\n",
              "      <td>47.0</td>\n",
              "      <td>53504</td>\n",
              "      <td>Pave</td>\n",
              "      <td>NaN</td>\n",
              "      <td>IR2</td>\n",
              "      <td>HLS</td>\n",
              "      <td>AllPub</td>\n",
              "      <td>CulDSac</td>\n",
              "      <td>Mod</td>\n",
              "      <td>StoneBr</td>\n",
              "      <td>Norm</td>\n",
              "      <td>Norm</td>\n",
              "      <td>1Fam</td>\n",
              "      <td>2Story</td>\n",
              "      <td>8</td>\n",
              "      <td>5</td>\n",
              "      <td>2003</td>\n",
              "      <td>2003</td>\n",
              "      <td>Hip</td>\n",
              "      <td>CompShg</td>\n",
              "      <td>CemntBd</td>\n",
              "      <td>Wd Shng</td>\n",
              "      <td>BrkFace</td>\n",
              "      <td>603.0</td>\n",
              "      <td>Ex</td>\n",
              "      <td>TA</td>\n",
              "      <td>PConc</td>\n",
              "      <td>Gd</td>\n",
              "      <td>TA</td>\n",
              "      <td>Gd</td>\n",
              "      <td>ALQ</td>\n",
              "      <td>1416</td>\n",
              "      <td>Unf</td>\n",
              "      <td>0</td>\n",
              "      <td>234</td>\n",
              "      <td>1650</td>\n",
              "      <td>GasA</td>\n",
              "      <td>...</td>\n",
              "      <td>Y</td>\n",
              "      <td>SBrkr</td>\n",
              "      <td>1690</td>\n",
              "      <td>1589</td>\n",
              "      <td>0</td>\n",
              "      <td>3279</td>\n",
              "      <td>1</td>\n",
              "      <td>0</td>\n",
              "      <td>3</td>\n",
              "      <td>1</td>\n",
              "      <td>4</td>\n",
              "      <td>1</td>\n",
              "      <td>Ex</td>\n",
              "      <td>12</td>\n",
              "      <td>Mod</td>\n",
              "      <td>1</td>\n",
              "      <td>Gd</td>\n",
              "      <td>BuiltIn</td>\n",
              "      <td>2003.0</td>\n",
              "      <td>Fin</td>\n",
              "      <td>3</td>\n",
              "      <td>841</td>\n",
              "      <td>TA</td>\n",
              "      <td>TA</td>\n",
              "      <td>Y</td>\n",
              "      <td>503</td>\n",
              "      <td>36</td>\n",
              "      <td>0</td>\n",
              "      <td>0</td>\n",
              "      <td>210</td>\n",
              "      <td>0</td>\n",
              "      <td>NaN</td>\n",
              "      <td>NaN</td>\n",
              "      <td>NaN</td>\n",
              "      <td>0</td>\n",
              "      <td>6</td>\n",
              "      <td>2010</td>\n",
              "      <td>WD</td>\n",
              "      <td>Normal</td>\n",
              "      <td>538000</td>\n",
              "    </tr>\n",
              "    <tr>\n",
              "      <th>996</th>\n",
              "      <td>938</td>\n",
              "      <td>60</td>\n",
              "      <td>RL</td>\n",
              "      <td>75.0</td>\n",
              "      <td>9675</td>\n",
              "      <td>Pave</td>\n",
              "      <td>NaN</td>\n",
              "      <td>Reg</td>\n",
              "      <td>Lvl</td>\n",
              "      <td>AllPub</td>\n",
              "      <td>Inside</td>\n",
              "      <td>Gtl</td>\n",
              "      <td>Somerst</td>\n",
              "      <td>Norm</td>\n",
              "      <td>Norm</td>\n",
              "      <td>1Fam</td>\n",
              "      <td>2Story</td>\n",
              "      <td>7</td>\n",
              "      <td>5</td>\n",
              "      <td>2005</td>\n",
              "      <td>2005</td>\n",
              "      <td>Gable</td>\n",
              "      <td>CompShg</td>\n",
              "      <td>VinylSd</td>\n",
              "      <td>VinylSd</td>\n",
              "      <td>None</td>\n",
              "      <td>0.0</td>\n",
              "      <td>Gd</td>\n",
              "      <td>TA</td>\n",
              "      <td>PConc</td>\n",
              "      <td>Gd</td>\n",
              "      <td>TA</td>\n",
              "      <td>Mn</td>\n",
              "      <td>GLQ</td>\n",
              "      <td>341</td>\n",
              "      <td>Unf</td>\n",
              "      <td>0</td>\n",
              "      <td>772</td>\n",
              "      <td>1113</td>\n",
              "      <td>GasA</td>\n",
              "      <td>...</td>\n",
              "      <td>Y</td>\n",
              "      <td>SBrkr</td>\n",
              "      <td>1113</td>\n",
              "      <td>858</td>\n",
              "      <td>0</td>\n",
              "      <td>1971</td>\n",
              "      <td>0</td>\n",
              "      <td>0</td>\n",
              "      <td>2</td>\n",
              "      <td>1</td>\n",
              "      <td>3</td>\n",
              "      <td>1</td>\n",
              "      <td>Gd</td>\n",
              "      <td>8</td>\n",
              "      <td>Typ</td>\n",
              "      <td>1</td>\n",
              "      <td>Gd</td>\n",
              "      <td>Attchd</td>\n",
              "      <td>2005.0</td>\n",
              "      <td>RFn</td>\n",
              "      <td>2</td>\n",
              "      <td>689</td>\n",
              "      <td>TA</td>\n",
              "      <td>TA</td>\n",
              "      <td>Y</td>\n",
              "      <td>0</td>\n",
              "      <td>48</td>\n",
              "      <td>0</td>\n",
              "      <td>0</td>\n",
              "      <td>0</td>\n",
              "      <td>0</td>\n",
              "      <td>NaN</td>\n",
              "      <td>NaN</td>\n",
              "      <td>NaN</td>\n",
              "      <td>0</td>\n",
              "      <td>2</td>\n",
              "      <td>2009</td>\n",
              "      <td>WD</td>\n",
              "      <td>Normal</td>\n",
              "      <td>253000</td>\n",
              "    </tr>\n",
              "    <tr>\n",
              "      <th>997</th>\n",
              "      <td>886</td>\n",
              "      <td>120</td>\n",
              "      <td>FV</td>\n",
              "      <td>50.0</td>\n",
              "      <td>5119</td>\n",
              "      <td>Pave</td>\n",
              "      <td>NaN</td>\n",
              "      <td>IR1</td>\n",
              "      <td>Lvl</td>\n",
              "      <td>AllPub</td>\n",
              "      <td>CulDSac</td>\n",
              "      <td>Gtl</td>\n",
              "      <td>Somerst</td>\n",
              "      <td>Norm</td>\n",
              "      <td>Norm</td>\n",
              "      <td>TwnhsE</td>\n",
              "      <td>1Story</td>\n",
              "      <td>9</td>\n",
              "      <td>5</td>\n",
              "      <td>1999</td>\n",
              "      <td>2000</td>\n",
              "      <td>Gable</td>\n",
              "      <td>CompShg</td>\n",
              "      <td>MetalSd</td>\n",
              "      <td>MetalSd</td>\n",
              "      <td>BrkFace</td>\n",
              "      <td>60.0</td>\n",
              "      <td>Gd</td>\n",
              "      <td>TA</td>\n",
              "      <td>PConc</td>\n",
              "      <td>Ex</td>\n",
              "      <td>TA</td>\n",
              "      <td>Av</td>\n",
              "      <td>GLQ</td>\n",
              "      <td>1238</td>\n",
              "      <td>Unf</td>\n",
              "      <td>0</td>\n",
              "      <td>460</td>\n",
              "      <td>1698</td>\n",
              "      <td>GasA</td>\n",
              "      <td>...</td>\n",
              "      <td>Y</td>\n",
              "      <td>SBrkr</td>\n",
              "      <td>1709</td>\n",
              "      <td>0</td>\n",
              "      <td>0</td>\n",
              "      <td>1709</td>\n",
              "      <td>1</td>\n",
              "      <td>0</td>\n",
              "      <td>2</td>\n",
              "      <td>0</td>\n",
              "      <td>2</td>\n",
              "      <td>1</td>\n",
              "      <td>Gd</td>\n",
              "      <td>5</td>\n",
              "      <td>Typ</td>\n",
              "      <td>1</td>\n",
              "      <td>TA</td>\n",
              "      <td>Attchd</td>\n",
              "      <td>1999.0</td>\n",
              "      <td>Fin</td>\n",
              "      <td>2</td>\n",
              "      <td>506</td>\n",
              "      <td>TA</td>\n",
              "      <td>TA</td>\n",
              "      <td>Y</td>\n",
              "      <td>97</td>\n",
              "      <td>65</td>\n",
              "      <td>0</td>\n",
              "      <td>0</td>\n",
              "      <td>0</td>\n",
              "      <td>0</td>\n",
              "      <td>NaN</td>\n",
              "      <td>NaN</td>\n",
              "      <td>NaN</td>\n",
              "      <td>0</td>\n",
              "      <td>1</td>\n",
              "      <td>2008</td>\n",
              "      <td>CWD</td>\n",
              "      <td>Abnorml</td>\n",
              "      <td>328900</td>\n",
              "    </tr>\n",
              "    <tr>\n",
              "      <th>998</th>\n",
              "      <td>20</td>\n",
              "      <td>20</td>\n",
              "      <td>RL</td>\n",
              "      <td>70.0</td>\n",
              "      <td>7560</td>\n",
              "      <td>Pave</td>\n",
              "      <td>NaN</td>\n",
              "      <td>Reg</td>\n",
              "      <td>Lvl</td>\n",
              "      <td>AllPub</td>\n",
              "      <td>Inside</td>\n",
              "      <td>Gtl</td>\n",
              "      <td>NAmes</td>\n",
              "      <td>Norm</td>\n",
              "      <td>Norm</td>\n",
              "      <td>1Fam</td>\n",
              "      <td>1Story</td>\n",
              "      <td>5</td>\n",
              "      <td>6</td>\n",
              "      <td>1958</td>\n",
              "      <td>1965</td>\n",
              "      <td>Hip</td>\n",
              "      <td>CompShg</td>\n",
              "      <td>BrkFace</td>\n",
              "      <td>Plywood</td>\n",
              "      <td>None</td>\n",
              "      <td>0.0</td>\n",
              "      <td>TA</td>\n",
              "      <td>TA</td>\n",
              "      <td>CBlock</td>\n",
              "      <td>TA</td>\n",
              "      <td>TA</td>\n",
              "      <td>No</td>\n",
              "      <td>LwQ</td>\n",
              "      <td>504</td>\n",
              "      <td>Unf</td>\n",
              "      <td>0</td>\n",
              "      <td>525</td>\n",
              "      <td>1029</td>\n",
              "      <td>GasA</td>\n",
              "      <td>...</td>\n",
              "      <td>Y</td>\n",
              "      <td>SBrkr</td>\n",
              "      <td>1339</td>\n",
              "      <td>0</td>\n",
              "      <td>0</td>\n",
              "      <td>1339</td>\n",
              "      <td>0</td>\n",
              "      <td>0</td>\n",
              "      <td>1</td>\n",
              "      <td>0</td>\n",
              "      <td>3</td>\n",
              "      <td>1</td>\n",
              "      <td>TA</td>\n",
              "      <td>6</td>\n",
              "      <td>Min1</td>\n",
              "      <td>0</td>\n",
              "      <td>NaN</td>\n",
              "      <td>Attchd</td>\n",
              "      <td>1958.0</td>\n",
              "      <td>Unf</td>\n",
              "      <td>1</td>\n",
              "      <td>294</td>\n",
              "      <td>TA</td>\n",
              "      <td>TA</td>\n",
              "      <td>Y</td>\n",
              "      <td>0</td>\n",
              "      <td>0</td>\n",
              "      <td>0</td>\n",
              "      <td>0</td>\n",
              "      <td>0</td>\n",
              "      <td>0</td>\n",
              "      <td>NaN</td>\n",
              "      <td>MnPrv</td>\n",
              "      <td>NaN</td>\n",
              "      <td>0</td>\n",
              "      <td>5</td>\n",
              "      <td>2009</td>\n",
              "      <td>COD</td>\n",
              "      <td>Abnorml</td>\n",
              "      <td>139000</td>\n",
              "    </tr>\n",
              "    <tr>\n",
              "      <th>999</th>\n",
              "      <td>229</td>\n",
              "      <td>20</td>\n",
              "      <td>RL</td>\n",
              "      <td>70.0</td>\n",
              "      <td>8521</td>\n",
              "      <td>Pave</td>\n",
              "      <td>NaN</td>\n",
              "      <td>Reg</td>\n",
              "      <td>Lvl</td>\n",
              "      <td>AllPub</td>\n",
              "      <td>FR2</td>\n",
              "      <td>Gtl</td>\n",
              "      <td>Sawyer</td>\n",
              "      <td>Feedr</td>\n",
              "      <td>Norm</td>\n",
              "      <td>1Fam</td>\n",
              "      <td>1Story</td>\n",
              "      <td>5</td>\n",
              "      <td>5</td>\n",
              "      <td>1967</td>\n",
              "      <td>1967</td>\n",
              "      <td>Gable</td>\n",
              "      <td>CompShg</td>\n",
              "      <td>HdBoard</td>\n",
              "      <td>HdBoard</td>\n",
              "      <td>None</td>\n",
              "      <td>0.0</td>\n",
              "      <td>TA</td>\n",
              "      <td>TA</td>\n",
              "      <td>CBlock</td>\n",
              "      <td>TA</td>\n",
              "      <td>TA</td>\n",
              "      <td>No</td>\n",
              "      <td>ALQ</td>\n",
              "      <td>842</td>\n",
              "      <td>Unf</td>\n",
              "      <td>0</td>\n",
              "      <td>70</td>\n",
              "      <td>912</td>\n",
              "      <td>GasA</td>\n",
              "      <td>...</td>\n",
              "      <td>Y</td>\n",
              "      <td>SBrkr</td>\n",
              "      <td>912</td>\n",
              "      <td>0</td>\n",
              "      <td>0</td>\n",
              "      <td>912</td>\n",
              "      <td>0</td>\n",
              "      <td>0</td>\n",
              "      <td>1</td>\n",
              "      <td>0</td>\n",
              "      <td>3</td>\n",
              "      <td>1</td>\n",
              "      <td>TA</td>\n",
              "      <td>5</td>\n",
              "      <td>Typ</td>\n",
              "      <td>1</td>\n",
              "      <td>Fa</td>\n",
              "      <td>Detchd</td>\n",
              "      <td>1974.0</td>\n",
              "      <td>Unf</td>\n",
              "      <td>1</td>\n",
              "      <td>336</td>\n",
              "      <td>TA</td>\n",
              "      <td>TA</td>\n",
              "      <td>Y</td>\n",
              "      <td>0</td>\n",
              "      <td>0</td>\n",
              "      <td>0</td>\n",
              "      <td>0</td>\n",
              "      <td>0</td>\n",
              "      <td>0</td>\n",
              "      <td>NaN</td>\n",
              "      <td>MnPrv</td>\n",
              "      <td>NaN</td>\n",
              "      <td>0</td>\n",
              "      <td>5</td>\n",
              "      <td>2010</td>\n",
              "      <td>WD</td>\n",
              "      <td>Normal</td>\n",
              "      <td>125000</td>\n",
              "    </tr>\n",
              "  </tbody>\n",
              "</table>\n",
              "<p>1000 rows × 81 columns</p>\n",
              "</div>"
            ],
            "text/plain": [
              "       Id  MSSubClass MSZoning  ...  SaleType  SaleCondition SalePrice\n",
              "0     809          80       RL  ...        WD         Normal    159950\n",
              "1     247         190       RM  ...        WD         Normal    137000\n",
              "2     304          20       RL  ...        WD        Abnorml    149900\n",
              "3    1236          70       RL  ...        WD         Normal    138887\n",
              "4     314          20       RL  ...        WD         Normal    375000\n",
              "..    ...         ...      ...  ...       ...            ...       ...\n",
              "995   770          60       RL  ...        WD         Normal    538000\n",
              "996   938          60       RL  ...        WD         Normal    253000\n",
              "997   886         120       FV  ...       CWD        Abnorml    328900\n",
              "998    20          20       RL  ...       COD        Abnorml    139000\n",
              "999   229          20       RL  ...        WD         Normal    125000\n",
              "\n",
              "[1000 rows x 81 columns]"
            ]
          },
          "metadata": {
            "tags": []
          },
          "execution_count": 5
        }
      ]
    },
    {
      "cell_type": "code",
      "metadata": {
        "id": "L5zdULYgPmvG",
        "colab_type": "code",
        "outputId": "54446d84-088e-4b0d-e864-9511ce9e885d",
        "colab": {
          "base_uri": "https://localhost:8080/",
          "height": 317
        }
      },
      "source": [
        "# inspect column distributions\n",
        "train_data.describe()"
      ],
      "execution_count": 0,
      "outputs": [
        {
          "output_type": "execute_result",
          "data": {
            "text/html": [
              "<div>\n",
              "<style scoped>\n",
              "    .dataframe tbody tr th:only-of-type {\n",
              "        vertical-align: middle;\n",
              "    }\n",
              "\n",
              "    .dataframe tbody tr th {\n",
              "        vertical-align: top;\n",
              "    }\n",
              "\n",
              "    .dataframe thead th {\n",
              "        text-align: right;\n",
              "    }\n",
              "</style>\n",
              "<table border=\"1\" class=\"dataframe\">\n",
              "  <thead>\n",
              "    <tr style=\"text-align: right;\">\n",
              "      <th></th>\n",
              "      <th>Id</th>\n",
              "      <th>MSSubClass</th>\n",
              "      <th>LotFrontage</th>\n",
              "      <th>LotArea</th>\n",
              "      <th>OverallQual</th>\n",
              "      <th>OverallCond</th>\n",
              "      <th>YearBuilt</th>\n",
              "      <th>YearRemodAdd</th>\n",
              "      <th>MasVnrArea</th>\n",
              "      <th>BsmtFinSF1</th>\n",
              "      <th>BsmtFinSF2</th>\n",
              "      <th>BsmtUnfSF</th>\n",
              "      <th>TotalBsmtSF</th>\n",
              "      <th>1stFlrSF</th>\n",
              "      <th>2ndFlrSF</th>\n",
              "      <th>LowQualFinSF</th>\n",
              "      <th>GrLivArea</th>\n",
              "      <th>BsmtFullBath</th>\n",
              "      <th>BsmtHalfBath</th>\n",
              "      <th>FullBath</th>\n",
              "      <th>HalfBath</th>\n",
              "      <th>BedroomAbvGr</th>\n",
              "      <th>KitchenAbvGr</th>\n",
              "      <th>TotRmsAbvGrd</th>\n",
              "      <th>Fireplaces</th>\n",
              "      <th>GarageYrBlt</th>\n",
              "      <th>GarageCars</th>\n",
              "      <th>GarageArea</th>\n",
              "      <th>WoodDeckSF</th>\n",
              "      <th>OpenPorchSF</th>\n",
              "      <th>EnclosedPorch</th>\n",
              "      <th>3SsnPorch</th>\n",
              "      <th>ScreenPorch</th>\n",
              "      <th>PoolArea</th>\n",
              "      <th>MiscVal</th>\n",
              "      <th>MoSold</th>\n",
              "      <th>YrSold</th>\n",
              "      <th>SalePrice</th>\n",
              "    </tr>\n",
              "  </thead>\n",
              "  <tbody>\n",
              "    <tr>\n",
              "      <th>count</th>\n",
              "      <td>1000.000000</td>\n",
              "      <td>1000.000000</td>\n",
              "      <td>820.000000</td>\n",
              "      <td>1000.000000</td>\n",
              "      <td>1000.000000</td>\n",
              "      <td>1000.000000</td>\n",
              "      <td>1000.000000</td>\n",
              "      <td>1000.000000</td>\n",
              "      <td>995.000000</td>\n",
              "      <td>1000.000000</td>\n",
              "      <td>1000.000000</td>\n",
              "      <td>1000.000000</td>\n",
              "      <td>1000.000000</td>\n",
              "      <td>1000.000000</td>\n",
              "      <td>1000.000000</td>\n",
              "      <td>1000.000000</td>\n",
              "      <td>1000.000000</td>\n",
              "      <td>1000.000000</td>\n",
              "      <td>1000.000000</td>\n",
              "      <td>1000.000000</td>\n",
              "      <td>1000.000000</td>\n",
              "      <td>1000.000000</td>\n",
              "      <td>1000.000000</td>\n",
              "      <td>1000.000000</td>\n",
              "      <td>1000.000000</td>\n",
              "      <td>938.000000</td>\n",
              "      <td>1000.000000</td>\n",
              "      <td>1000.000000</td>\n",
              "      <td>1000.000000</td>\n",
              "      <td>1000.000000</td>\n",
              "      <td>1000.000000</td>\n",
              "      <td>1000.000000</td>\n",
              "      <td>1000.0000</td>\n",
              "      <td>1000.000000</td>\n",
              "      <td>1000.000000</td>\n",
              "      <td>1000.000000</td>\n",
              "      <td>1000.000000</td>\n",
              "      <td>1000.000000</td>\n",
              "    </tr>\n",
              "    <tr>\n",
              "      <th>mean</th>\n",
              "      <td>731.149000</td>\n",
              "      <td>56.720000</td>\n",
              "      <td>69.760976</td>\n",
              "      <td>10557.057000</td>\n",
              "      <td>6.065000</td>\n",
              "      <td>5.583000</td>\n",
              "      <td>1970.276000</td>\n",
              "      <td>1984.604000</td>\n",
              "      <td>101.298492</td>\n",
              "      <td>446.195000</td>\n",
              "      <td>45.155000</td>\n",
              "      <td>553.737000</td>\n",
              "      <td>1045.087000</td>\n",
              "      <td>1152.649000</td>\n",
              "      <td>344.057000</td>\n",
              "      <td>7.395000</td>\n",
              "      <td>1504.101000</td>\n",
              "      <td>0.430000</td>\n",
              "      <td>0.060000</td>\n",
              "      <td>1.551000</td>\n",
              "      <td>0.371000</td>\n",
              "      <td>2.856000</td>\n",
              "      <td>1.046000</td>\n",
              "      <td>6.469000</td>\n",
              "      <td>0.613000</td>\n",
              "      <td>1978.218550</td>\n",
              "      <td>1.740000</td>\n",
              "      <td>466.253000</td>\n",
              "      <td>90.464000</td>\n",
              "      <td>46.349000</td>\n",
              "      <td>23.992000</td>\n",
              "      <td>3.984000</td>\n",
              "      <td>15.4740</td>\n",
              "      <td>2.804000</td>\n",
              "      <td>49.084000</td>\n",
              "      <td>6.292000</td>\n",
              "      <td>2007.839000</td>\n",
              "      <td>178467.699000</td>\n",
              "    </tr>\n",
              "    <tr>\n",
              "      <th>std</th>\n",
              "      <td>427.784718</td>\n",
              "      <td>42.082806</td>\n",
              "      <td>25.178657</td>\n",
              "      <td>10012.496146</td>\n",
              "      <td>1.373558</td>\n",
              "      <td>1.136839</td>\n",
              "      <td>30.362142</td>\n",
              "      <td>20.774233</td>\n",
              "      <td>182.550526</td>\n",
              "      <td>467.839469</td>\n",
              "      <td>158.652815</td>\n",
              "      <td>430.108052</td>\n",
              "      <td>451.157392</td>\n",
              "      <td>391.558317</td>\n",
              "      <td>433.192007</td>\n",
              "      <td>55.279044</td>\n",
              "      <td>532.870338</td>\n",
              "      <td>0.526666</td>\n",
              "      <td>0.245887</td>\n",
              "      <td>0.558311</td>\n",
              "      <td>0.501608</td>\n",
              "      <td>0.837834</td>\n",
              "      <td>0.223459</td>\n",
              "      <td>1.635149</td>\n",
              "      <td>0.647804</td>\n",
              "      <td>24.623054</td>\n",
              "      <td>0.751642</td>\n",
              "      <td>215.200935</td>\n",
              "      <td>122.383219</td>\n",
              "      <td>68.150214</td>\n",
              "      <td>64.480366</td>\n",
              "      <td>32.593006</td>\n",
              "      <td>56.2086</td>\n",
              "      <td>40.103864</td>\n",
              "      <td>535.086623</td>\n",
              "      <td>2.687743</td>\n",
              "      <td>1.341223</td>\n",
              "      <td>79176.267449</td>\n",
              "    </tr>\n",
              "    <tr>\n",
              "      <th>min</th>\n",
              "      <td>1.000000</td>\n",
              "      <td>20.000000</td>\n",
              "      <td>21.000000</td>\n",
              "      <td>1300.000000</td>\n",
              "      <td>1.000000</td>\n",
              "      <td>1.000000</td>\n",
              "      <td>1875.000000</td>\n",
              "      <td>1950.000000</td>\n",
              "      <td>0.000000</td>\n",
              "      <td>0.000000</td>\n",
              "      <td>0.000000</td>\n",
              "      <td>0.000000</td>\n",
              "      <td>0.000000</td>\n",
              "      <td>372.000000</td>\n",
              "      <td>0.000000</td>\n",
              "      <td>0.000000</td>\n",
              "      <td>438.000000</td>\n",
              "      <td>0.000000</td>\n",
              "      <td>0.000000</td>\n",
              "      <td>0.000000</td>\n",
              "      <td>0.000000</td>\n",
              "      <td>0.000000</td>\n",
              "      <td>0.000000</td>\n",
              "      <td>3.000000</td>\n",
              "      <td>0.000000</td>\n",
              "      <td>1906.000000</td>\n",
              "      <td>0.000000</td>\n",
              "      <td>0.000000</td>\n",
              "      <td>0.000000</td>\n",
              "      <td>0.000000</td>\n",
              "      <td>0.000000</td>\n",
              "      <td>0.000000</td>\n",
              "      <td>0.0000</td>\n",
              "      <td>0.000000</td>\n",
              "      <td>0.000000</td>\n",
              "      <td>1.000000</td>\n",
              "      <td>2006.000000</td>\n",
              "      <td>34900.000000</td>\n",
              "    </tr>\n",
              "    <tr>\n",
              "      <th>25%</th>\n",
              "      <td>349.750000</td>\n",
              "      <td>20.000000</td>\n",
              "      <td>57.000000</td>\n",
              "      <td>7500.000000</td>\n",
              "      <td>5.000000</td>\n",
              "      <td>5.000000</td>\n",
              "      <td>1952.000000</td>\n",
              "      <td>1966.000000</td>\n",
              "      <td>0.000000</td>\n",
              "      <td>0.000000</td>\n",
              "      <td>0.000000</td>\n",
              "      <td>215.000000</td>\n",
              "      <td>780.000000</td>\n",
              "      <td>864.000000</td>\n",
              "      <td>0.000000</td>\n",
              "      <td>0.000000</td>\n",
              "      <td>1113.750000</td>\n",
              "      <td>0.000000</td>\n",
              "      <td>0.000000</td>\n",
              "      <td>1.000000</td>\n",
              "      <td>0.000000</td>\n",
              "      <td>2.000000</td>\n",
              "      <td>1.000000</td>\n",
              "      <td>5.000000</td>\n",
              "      <td>0.000000</td>\n",
              "      <td>1961.000000</td>\n",
              "      <td>1.000000</td>\n",
              "      <td>312.000000</td>\n",
              "      <td>0.000000</td>\n",
              "      <td>0.000000</td>\n",
              "      <td>0.000000</td>\n",
              "      <td>0.000000</td>\n",
              "      <td>0.0000</td>\n",
              "      <td>0.000000</td>\n",
              "      <td>0.000000</td>\n",
              "      <td>5.000000</td>\n",
              "      <td>2007.000000</td>\n",
              "      <td>128375.000000</td>\n",
              "    </tr>\n",
              "    <tr>\n",
              "      <th>50%</th>\n",
              "      <td>741.500000</td>\n",
              "      <td>50.000000</td>\n",
              "      <td>68.000000</td>\n",
              "      <td>9451.000000</td>\n",
              "      <td>6.000000</td>\n",
              "      <td>5.000000</td>\n",
              "      <td>1972.000000</td>\n",
              "      <td>1993.000000</td>\n",
              "      <td>0.000000</td>\n",
              "      <td>370.500000</td>\n",
              "      <td>0.000000</td>\n",
              "      <td>469.000000</td>\n",
              "      <td>973.500000</td>\n",
              "      <td>1070.500000</td>\n",
              "      <td>0.000000</td>\n",
              "      <td>0.000000</td>\n",
              "      <td>1456.000000</td>\n",
              "      <td>0.000000</td>\n",
              "      <td>0.000000</td>\n",
              "      <td>2.000000</td>\n",
              "      <td>0.000000</td>\n",
              "      <td>3.000000</td>\n",
              "      <td>1.000000</td>\n",
              "      <td>6.000000</td>\n",
              "      <td>1.000000</td>\n",
              "      <td>1980.000000</td>\n",
              "      <td>2.000000</td>\n",
              "      <td>474.000000</td>\n",
              "      <td>0.000000</td>\n",
              "      <td>24.000000</td>\n",
              "      <td>0.000000</td>\n",
              "      <td>0.000000</td>\n",
              "      <td>0.0000</td>\n",
              "      <td>0.000000</td>\n",
              "      <td>0.000000</td>\n",
              "      <td>6.000000</td>\n",
              "      <td>2008.000000</td>\n",
              "      <td>161750.000000</td>\n",
              "    </tr>\n",
              "    <tr>\n",
              "      <th>75%</th>\n",
              "      <td>1109.250000</td>\n",
              "      <td>70.000000</td>\n",
              "      <td>80.000000</td>\n",
              "      <td>11648.250000</td>\n",
              "      <td>7.000000</td>\n",
              "      <td>6.000000</td>\n",
              "      <td>2000.000000</td>\n",
              "      <td>2004.000000</td>\n",
              "      <td>153.500000</td>\n",
              "      <td>712.250000</td>\n",
              "      <td>0.000000</td>\n",
              "      <td>794.250000</td>\n",
              "      <td>1291.500000</td>\n",
              "      <td>1391.250000</td>\n",
              "      <td>720.000000</td>\n",
              "      <td>0.000000</td>\n",
              "      <td>1751.500000</td>\n",
              "      <td>1.000000</td>\n",
              "      <td>0.000000</td>\n",
              "      <td>2.000000</td>\n",
              "      <td>1.000000</td>\n",
              "      <td>3.000000</td>\n",
              "      <td>1.000000</td>\n",
              "      <td>7.000000</td>\n",
              "      <td>1.000000</td>\n",
              "      <td>2001.000000</td>\n",
              "      <td>2.000000</td>\n",
              "      <td>576.000000</td>\n",
              "      <td>165.000000</td>\n",
              "      <td>66.000000</td>\n",
              "      <td>0.000000</td>\n",
              "      <td>0.000000</td>\n",
              "      <td>0.0000</td>\n",
              "      <td>0.000000</td>\n",
              "      <td>0.000000</td>\n",
              "      <td>8.000000</td>\n",
              "      <td>2009.000000</td>\n",
              "      <td>211250.000000</td>\n",
              "    </tr>\n",
              "    <tr>\n",
              "      <th>max</th>\n",
              "      <td>1459.000000</td>\n",
              "      <td>190.000000</td>\n",
              "      <td>313.000000</td>\n",
              "      <td>215245.000000</td>\n",
              "      <td>10.000000</td>\n",
              "      <td>9.000000</td>\n",
              "      <td>2010.000000</td>\n",
              "      <td>2010.000000</td>\n",
              "      <td>1600.000000</td>\n",
              "      <td>5644.000000</td>\n",
              "      <td>1474.000000</td>\n",
              "      <td>2121.000000</td>\n",
              "      <td>6110.000000</td>\n",
              "      <td>4692.000000</td>\n",
              "      <td>2065.000000</td>\n",
              "      <td>572.000000</td>\n",
              "      <td>5642.000000</td>\n",
              "      <td>3.000000</td>\n",
              "      <td>2.000000</td>\n",
              "      <td>3.000000</td>\n",
              "      <td>2.000000</td>\n",
              "      <td>8.000000</td>\n",
              "      <td>3.000000</td>\n",
              "      <td>14.000000</td>\n",
              "      <td>3.000000</td>\n",
              "      <td>2010.000000</td>\n",
              "      <td>4.000000</td>\n",
              "      <td>1418.000000</td>\n",
              "      <td>857.000000</td>\n",
              "      <td>547.000000</td>\n",
              "      <td>552.000000</td>\n",
              "      <td>508.000000</td>\n",
              "      <td>480.0000</td>\n",
              "      <td>738.000000</td>\n",
              "      <td>15500.000000</td>\n",
              "      <td>12.000000</td>\n",
              "      <td>2010.000000</td>\n",
              "      <td>755000.000000</td>\n",
              "    </tr>\n",
              "  </tbody>\n",
              "</table>\n",
              "</div>"
            ],
            "text/plain": [
              "                Id   MSSubClass  ...       YrSold      SalePrice\n",
              "count  1000.000000  1000.000000  ...  1000.000000    1000.000000\n",
              "mean    731.149000    56.720000  ...  2007.839000  178467.699000\n",
              "std     427.784718    42.082806  ...     1.341223   79176.267449\n",
              "min       1.000000    20.000000  ...  2006.000000   34900.000000\n",
              "25%     349.750000    20.000000  ...  2007.000000  128375.000000\n",
              "50%     741.500000    50.000000  ...  2008.000000  161750.000000\n",
              "75%    1109.250000    70.000000  ...  2009.000000  211250.000000\n",
              "max    1459.000000   190.000000  ...  2010.000000  755000.000000\n",
              "\n",
              "[8 rows x 38 columns]"
            ]
          },
          "metadata": {
            "tags": []
          },
          "execution_count": 6
        }
      ]
    },
    {
      "cell_type": "code",
      "metadata": {
        "id": "f9M9FJegvkTK",
        "colab_type": "code",
        "outputId": "e1b06a23-6ea7-4261-d623-f9711b6d5165",
        "colab": {
          "base_uri": "https://localhost:8080/",
          "height": 1000
        }
      },
      "source": [
        "train_data.info()"
      ],
      "execution_count": 0,
      "outputs": [
        {
          "output_type": "stream",
          "text": [
            "<class 'pandas.core.frame.DataFrame'>\n",
            "RangeIndex: 1000 entries, 0 to 999\n",
            "Data columns (total 81 columns):\n",
            "Id               1000 non-null int64\n",
            "MSSubClass       1000 non-null int64\n",
            "MSZoning         1000 non-null object\n",
            "LotFrontage      820 non-null float64\n",
            "LotArea          1000 non-null int64\n",
            "Street           1000 non-null object\n",
            "Alley            67 non-null object\n",
            "LotShape         1000 non-null object\n",
            "LandContour      1000 non-null object\n",
            "Utilities        1000 non-null object\n",
            "LotConfig        1000 non-null object\n",
            "LandSlope        1000 non-null object\n",
            "Neighborhood     1000 non-null object\n",
            "Condition1       1000 non-null object\n",
            "Condition2       1000 non-null object\n",
            "BldgType         1000 non-null object\n",
            "HouseStyle       1000 non-null object\n",
            "OverallQual      1000 non-null int64\n",
            "OverallCond      1000 non-null int64\n",
            "YearBuilt        1000 non-null int64\n",
            "YearRemodAdd     1000 non-null int64\n",
            "RoofStyle        1000 non-null object\n",
            "RoofMatl         1000 non-null object\n",
            "Exterior1st      1000 non-null object\n",
            "Exterior2nd      1000 non-null object\n",
            "MasVnrType       995 non-null object\n",
            "MasVnrArea       995 non-null float64\n",
            "ExterQual        1000 non-null object\n",
            "ExterCond        1000 non-null object\n",
            "Foundation       1000 non-null object\n",
            "BsmtQual         973 non-null object\n",
            "BsmtCond         973 non-null object\n",
            "BsmtExposure     972 non-null object\n",
            "BsmtFinType1     973 non-null object\n",
            "BsmtFinSF1       1000 non-null int64\n",
            "BsmtFinType2     972 non-null object\n",
            "BsmtFinSF2       1000 non-null int64\n",
            "BsmtUnfSF        1000 non-null int64\n",
            "TotalBsmtSF      1000 non-null int64\n",
            "Heating          1000 non-null object\n",
            "HeatingQC        1000 non-null object\n",
            "CentralAir       1000 non-null object\n",
            "Electrical       999 non-null object\n",
            "1stFlrSF         1000 non-null int64\n",
            "2ndFlrSF         1000 non-null int64\n",
            "LowQualFinSF     1000 non-null int64\n",
            "GrLivArea        1000 non-null int64\n",
            "BsmtFullBath     1000 non-null int64\n",
            "BsmtHalfBath     1000 non-null int64\n",
            "FullBath         1000 non-null int64\n",
            "HalfBath         1000 non-null int64\n",
            "BedroomAbvGr     1000 non-null int64\n",
            "KitchenAbvGr     1000 non-null int64\n",
            "KitchenQual      1000 non-null object\n",
            "TotRmsAbvGrd     1000 non-null int64\n",
            "Functional       1000 non-null object\n",
            "Fireplaces       1000 non-null int64\n",
            "FireplaceQu      526 non-null object\n",
            "GarageType       938 non-null object\n",
            "GarageYrBlt      938 non-null float64\n",
            "GarageFinish     938 non-null object\n",
            "GarageCars       1000 non-null int64\n",
            "GarageArea       1000 non-null int64\n",
            "GarageQual       938 non-null object\n",
            "GarageCond       938 non-null object\n",
            "PavedDrive       1000 non-null object\n",
            "WoodDeckSF       1000 non-null int64\n",
            "OpenPorchSF      1000 non-null int64\n",
            "EnclosedPorch    1000 non-null int64\n",
            "3SsnPorch        1000 non-null int64\n",
            "ScreenPorch      1000 non-null int64\n",
            "PoolArea         1000 non-null int64\n",
            "PoolQC           5 non-null object\n",
            "Fence            205 non-null object\n",
            "MiscFeature      42 non-null object\n",
            "MiscVal          1000 non-null int64\n",
            "MoSold           1000 non-null int64\n",
            "YrSold           1000 non-null int64\n",
            "SaleType         1000 non-null object\n",
            "SaleCondition    1000 non-null object\n",
            "SalePrice        1000 non-null int64\n",
            "dtypes: float64(3), int64(35), object(43)\n",
            "memory usage: 632.9+ KB\n"
          ],
          "name": "stdout"
        }
      ]
    },
    {
      "cell_type": "code",
      "metadata": {
        "id": "uHjzPoESylbE",
        "colab_type": "code",
        "outputId": "bd447f7b-dcf4-4218-dddd-4cccfe87091f",
        "colab": {
          "base_uri": "https://localhost:8080/",
          "height": 627
        }
      },
      "source": [
        "# make heatmap of correllations\n",
        "corr = train_data.corr()\n",
        "\n",
        "mask = np.zeros_like(corr, dtype=np.bool)\n",
        "mask[np.triu_indices_from(mask)] = True\n",
        "\n",
        "fig, ax = plt.subplots(figsize=(9, 9))\n",
        "cmap = sb.diverging_palette(220, 10, as_cmap=True)\n",
        "sb.heatmap(corr, mask=mask, cmap=cmap, ax=ax,  square=True)\n",
        "fig.tight_layout()"
      ],
      "execution_count": 0,
      "outputs": [
        {
          "output_type": "display_data",
          "data": {
            "image/png": "[encoded data removed]",
            "text/plain": [
              "<Figure size 648x648 with 2 Axes>"
            ]
          },
          "metadata": {
            "tags": []
          }
        }
      ]
    },
    {
      "cell_type": "code",
      "metadata": {
        "id": "Nck72fHBTkeB",
        "colab_type": "code",
        "outputId": "f4a5f5a9-3e04-4199-e80c-43a7cad9a277",
        "colab": {
          "base_uri": "https://localhost:8080/",
          "height": 499
        }
      },
      "source": [
        "# histogram of target to check for major outliers or strange distributions\n",
        "fig = plt.figure(figsize=(8,8))\n",
        "ax = fig.add_subplot(1,1,1)\n",
        "ax.hist(train_data['SalePrice'], bins=50)\n",
        "ax.set_title('Histogram of SalePrice')\n",
        "fig.show()"
      ],
      "execution_count": 0,
      "outputs": [
        {
          "output_type": "display_data",
          "data": {
            "image/png": "[encoded data removed]",
            "text/plain": [
              "<Figure size 576x576 with 1 Axes>"
            ]
          },
          "metadata": {
            "tags": []
          }
        }
      ]
    },
    {
      "cell_type": "markdown",
      "metadata": {
        "id": "hXNP8MHyxxWp",
        "colab_type": "text"
      },
      "source": [
        "## Feature Extraction\n",
        "The following methods display the techniques I used for feature extraction. The first step for each feature was to determine whether and ordinal encoding was warranted or whether a one-hot encoding should be implemented instead. This is where it became very clear that domain knowledge is quite important. For example, the \"RoofStyle\" and \"RoofMatl\" variables contained many roof styles and materials that likely, to a trained eye, have an obvious ordinal structure based on customer demand. Not being a real estate expert, I was forced to use a one-hot encoding for these features which loses out on some of the details contained within them. Other features had obvious ordinal categories that I used to extract numerical features that represent the categories quite well. Finally, a few features could be combined or reduced to create more interesting \"score\" type variables that capture additional info from these categorical features. One example is displayed below where the \"Condition1\" and \"Condition2\" fields can be processed into proximity scores that capture a property's proximity to positive or negative points of interest.\n",
        "\n",
        "In the next section we will compare models using these extracted features compared to using a simple one-hot encoding for all categorical features."
      ]
    },
    {
      "cell_type": "code",
      "metadata": {
        "id": "KBuHPXJwTMRU",
        "colab_type": "code",
        "colab": {}
      },
      "source": [
        "def get_pos_prox_score(x):\n",
        "  pos = 0\n",
        "  if(x['Condition1'] == 'PosA'  or x['Condition2'] == 'PosA'):\n",
        "    pos = 2\n",
        "  elif(x['Condition1'] == 'PosN'  or x['Condition2'] == 'PosN'):\n",
        "    pos = 1\n",
        "  return pos\n",
        "\n",
        "def get_neg_prox_score(x):\n",
        "  neg = 0\n",
        "  if(x['Condition1'] == 'RRAn' or x['Condition1'] == 'RRAe'  or x['Condition2'] == 'RRAn' or x['Condition2'] == 'RRAe'):\n",
        "    neg = 2\n",
        "  elif(x['Condition1'] == 'RRNn' or x['Condition1'] == 'RRNe'  or x['Condition2'] == 'RRNn' or x['Condition2'] == 'RRNe'):\n",
        "    neg = 1\n",
        "  return neg\n",
        "\n",
        "def preprocess_data(df):\n",
        "  train_data = df.copy()\n",
        "  one_hot_cols = ['MSSubClass', 'Neighborhood', 'RoofStyle', 'RoofMatl', \n",
        "                  'BsmtFinType1', 'BsmtFinType2', 'Heating', 'GarageType',\n",
        "                  'MiscFeature', 'SaleType', 'SaleCondition']\n",
        "  dropCols = ['Id', 'MSZoning', 'Street', 'Alley', 'LotShape', 'LandContour', \n",
        "              'Utilities', 'LotConfig', 'LandSlope', 'Condition1', 'Condition2',\n",
        "              'BldgType', 'HouseStyle', 'Exterior1st', 'Exterior2nd', \n",
        "              'MasVnrType', 'ExterQual', 'ExterCond', 'Foundation', 'BsmtQual',\n",
        "              'BsmtCond', 'BsmtExposure', 'TotalBsmtSF', 'HeatingQC', 'CentralAir',\n",
        "              'Electrical', 'KitchenQual', 'FireplaceQu', 'Functional', 'GarageQual',\n",
        "              'GarageCond', 'GarageFinish', 'PavedDrive', 'PoolQC', 'Fence'] \n",
        "\n",
        "  le = LabelEncoder()\n",
        "\n",
        "  # create two new features from MSZoning column\n",
        "  res_zones = ['FV','RH','RL','RP','RM']\n",
        "  train_data['ResZoned'] = train_data['MSZoning'].isin(res_zones)\n",
        "  train_data['Density'] = train_data.apply(lambda x: 4, axis= 1)\n",
        "  train_data.loc[train_data['MSZoning'].isin(['RL', 'RP', 'A']), 'Density'] = 1\n",
        "  train_data.loc[train_data['MSZoning'].isin(['RM', 'FV']), 'Density'] = 2\n",
        "  train_data.loc[train_data['MSZoning'] == 'RH', 'Density'] = 3\n",
        "\n",
        "  # street just has two possible values\n",
        "  train_data['RoadType'] = train_data[['Street']].apply(lambda col: le.fit_transform(col))\n",
        "\n",
        "  # add feature based on has alley, what type probably doesn't matter\n",
        "  train_data['HasAlley'] = train_data['Alley'].isin(['Grvl','Pave'])\n",
        "\n",
        "  # ordered feature for lot shape\n",
        "  oeShape = OrdinalEncoder(categories=[['Reg', 'IR1', 'IR2', 'IR3']])\n",
        "  train_data['Shape'] = oeShape.fit_transform(train_data[['LotShape']])\n",
        "\n",
        "  # ordered feature for what utilities are available\n",
        "  oeUtil = OrdinalEncoder(categories=[['ELO', 'NoSeWa', 'NoSewr', 'AllPub']])\n",
        "  train_data['Utils'] = oeUtil.fit_transform(train_data[['Utilities']])\n",
        "\n",
        "  # two new features based on lot_config\n",
        "  train_data['IsCulDSac'] = train_data['LotConfig'] == 'CulDSac'\n",
        "  train_data['HasFrontage'] = train_data['LotConfig'].isin(['FR2', 'FR3'])\n",
        "\n",
        "  # ordered feature for lot slope\n",
        "  oeSlope = OrdinalEncoder(categories=[['Gtl', 'Mod', 'Sev']])\n",
        "  train_data['Slope'] = oeSlope.fit_transform(train_data[['LandSlope']])\n",
        "\n",
        "  # get two new features for proximity\n",
        "  train_data['PosProxScore'] = train_data.apply(lambda x: get_pos_prox_score(x), axis=1)\n",
        "  train_data['NegProxScore'] = train_data.apply(lambda x: get_neg_prox_score(x), axis=1)\n",
        "\n",
        "  # get new feature for building type while fixing incorrect labels\n",
        "  oeBldg = OrdinalEncoder(categories=[['2FmCon', 'TwnhsI', 'TwnhsE', 'Duplx', '1Fam']])\n",
        "  train_data.loc[train_data['BldgType'] == '2fmCon', 'BldgType'] = '2FmCon'\n",
        "  train_data.loc[train_data['BldgType'] == 'Twnhs', 'BldgType'] = 'TwnhsI'\n",
        "  train_data.loc[train_data['BldgType'] == 'Duplex', 'BldgType'] = 'Duplx'\n",
        "  train_data['Bldg'] = oeBldg.fit_transform(train_data[['BldgType']])\n",
        "\n",
        "  # ordered feature for house style\n",
        "  oeHouse = OrdinalEncoder(categories=[['1Story', '1.5Unf', '1.5Fin', 'SFoyer', 'SLvl', '2Story', '2.5Unf', '2.5Fin']])\n",
        "  train_data['House'] = oeHouse.fit_transform(train_data[['HouseStyle']])\n",
        "\n",
        "  # combine dummies across these two columns (also fix incorrect labels)\n",
        "  ext_dummies = pd.get_dummies(train_data[['Exterior1st', 'Exterior2nd']], {'Exterior1st': 'Ext', 'Exterior2nd': 'Ext2'}, columns=['Exterior1st', 'Exterior2nd'])\n",
        "  rmvCols = []\n",
        "  for col in ext_dummies.columns:\n",
        "    if 'Ext2' in col:\n",
        "      mat = col.split('_')[1]\n",
        "      if mat == 'Brk Cmn':\n",
        "        mat = 'BrkComm'\n",
        "      if mat == 'CmentBd':\n",
        "        mat = 'CemntBd'\n",
        "      if mat == 'Wd Shng':\n",
        "        mat = 'WdShing'\n",
        "      extCol = 'Ext_' + mat\n",
        "      if extCol not in ext_dummies.columns:\n",
        "        ext_dummies[extCol] = ext_dummies[col]\n",
        "      ext_dummies[extCol] = ext_dummies[extCol] | ext_dummies[col]\n",
        "      rmvCols.append(col)\n",
        "  ext_dummies.drop(rmvCols, axis=1, inplace=True)\n",
        "  train_data = pd.concat([train_data, ext_dummies], axis=1)\n",
        "\n",
        "  # ordered column for masonry\n",
        "  train_data.loc[train_data['MasVnrType'].isna(), 'MasVnrType'] = 'None'\n",
        "  oeMasonry = OrdinalEncoder(categories=[['CBlock', 'None', 'BrkCmn', 'BrkFace', 'Stone']])\n",
        "  train_data['Masonry'] = oeMasonry.fit_transform(train_data[['MasVnrType']])\n",
        "\n",
        "  # ordered features for exterior qualit/condition\n",
        "  oeExtQ = OrdinalEncoder(categories=[['Po', 'Fa', 'TA', 'Gd', 'Ex']])\n",
        "  train_data['ExtQual'] = oeExtQ.fit_transform(train_data[['ExterQual']])\n",
        "  train_data['ExtCond'] = oeExtQ.fit_transform(train_data[['ExterCond']])\n",
        "\n",
        "  # ordered feature for foundation by mean of SalePrice distribution\n",
        "  oeFound = OrdinalEncoder(categories=[['Slab', 'BrkTil', 'CBlock', 'Stone', 'Wood', 'PConc']])\n",
        "  train_data['FoundationMat'] = oeFound.fit_transform(train_data[['Foundation']])\n",
        "\n",
        "  # ordered features for basement quality and condition\n",
        "  train_data.loc[train_data['BsmtQual'].isna(), 'BsmtQual'] = 'NA'\n",
        "  train_data.loc[train_data['BsmtCond'].isna(), 'BsmtCond'] = 'NA'\n",
        "  oeBsmtQ = OrdinalEncoder(categories=[['NA', 'Po', 'Fa', 'TA', 'Gd', 'Ex']])\n",
        "  train_data['BsmtQ'] = oeBsmtQ.fit_transform(train_data[['BsmtQual']])\n",
        "  train_data['BsmtC'] = oeBsmtQ.fit_transform(train_data[['BsmtCond']])\n",
        "\n",
        "  # ordered feature for basement exposure\n",
        "  train_data.loc[train_data['BsmtExposure'].isna(), 'BsmtExposure'] = 'NA'\n",
        "  oeBsmtExp = OrdinalEncoder(categories=[['NA', 'No', 'Mn', 'Av', 'Gd']])\n",
        "  train_data['BsmtExp'] = oeBsmtExp.fit_transform(train_data[['BsmtExposure']])\n",
        "\n",
        "  # add feature for finished bsmt area, also keep unfinished area\n",
        "  train_data['FinBsmtArea'] = train_data['TotalBsmtSF'] - train_data['BsmtUnfSF']\n",
        "\n",
        "  # ordered feature for heating quality\n",
        "  oeHeat = OrdinalEncoder(categories=[['Po', 'Fa', 'TA', 'Gd', 'Ex']])\n",
        "  train_data['HeatingQual'] = oeHeat.fit_transform(train_data[['HeatingQC']])\n",
        "\n",
        "  # only two values for central air\n",
        "  train_data['CentrlAir'] = train_data[['CentralAir']].apply(lambda col: le.fit_transform(col))\n",
        "\n",
        "  # ordered feature for fuse types\n",
        "  train_data.loc[train_data['Electrical'].isna(), 'Electrical'] = 'NA'\n",
        "  oeElec = OrdinalEncoder(categories=[['NA', 'FuseP', 'FuseF', 'Mix', 'FuseA', 'SBrkr']])\n",
        "  train_data['Elec'] = oeElec.fit_transform(train_data[['Electrical']])\n",
        "\n",
        "  # ordered feature for kitchen quality\n",
        "  oeKitch = OrdinalEncoder(categories=[['Po', 'Fa', 'TA', 'Gd', 'Ex']])\n",
        "  train_data['KitchQual'] = oeKitch.fit_transform(train_data[['KitchenQual']])\n",
        "\n",
        "  # ordered feature for home functionality\n",
        "  oeFunc = OrdinalEncoder(categories=[['Sal', 'Sev', 'Maj2', 'Maj1', 'Mod', 'Min2', 'Min1', 'Typ']])\n",
        "  train_data['HomeFunct'] = oeFunc.fit_transform(train_data[['Functional']])\n",
        "\n",
        "  # ordered feature for fireplace quality\n",
        "  train_data.loc[train_data['FireplaceQu'].isna(), 'FireplaceQu'] = 'NA'\n",
        "  oeFireQ = OrdinalEncoder(categories=[['NA', 'Po', 'Fa', 'TA', 'Gd', 'Ex']])\n",
        "  train_data['FireplQual'] = oeFireQ.fit_transform(train_data[['FireplaceQu']])\n",
        "\n",
        "  # ordered features for garage quality and condition\n",
        "  train_data.loc[train_data['GarageQual'].isna(), 'GarageQual'] = 'NA'\n",
        "  train_data.loc[train_data['GarageCond'].isna(), 'GarageCond'] = 'NA'\n",
        "  oeGarage = OrdinalEncoder(categories=[['NA', 'Po', 'Fa', 'TA', 'Gd', 'Ex']])\n",
        "  train_data['GarageQ'] = oeGarage.fit_transform(train_data[['GarageQual']])\n",
        "  train_data['GarageC'] = oeGarage.fit_transform(train_data[['GarageCond']])\n",
        "\n",
        "  # ordered feature for garage finish\n",
        "  train_data.loc[train_data['GarageFinish'].isna(), 'GarageFinish'] = 'NA'\n",
        "  oeGarageFin = OrdinalEncoder(categories=[['NA', 'Unf', 'RFn', 'Fin']])\n",
        "  train_data['GarageFin'] = oeGarageFin.fit_transform(train_data[['GarageFinish']])\n",
        "\n",
        "  # ordered feature for paved driveway\n",
        "  oeDrive = OrdinalEncoder(categories=[['N', 'P', 'Y']])\n",
        "  train_data['Driveway'] = oeDrive.fit_transform(train_data[['PavedDrive']])\n",
        "\n",
        "  # ordered feature for pool quality\n",
        "  train_data.loc[train_data['PoolQC'].isna(), 'PoolQC'] = 'NA'\n",
        "  oePool = OrdinalEncoder(categories=[['NA', 'Fa', 'TA', 'Gd', 'Ex']])\n",
        "  train_data['PoolQual'] = oePool.fit_transform(train_data[['PoolQC']])\n",
        "\n",
        "  # ordered feature for fence\n",
        "  train_data.loc[train_data['Fence'].isna(), 'Fence'] = 'NA'\n",
        "  oeFence = OrdinalEncoder(categories=[['NA', 'MnWw', 'GdWo', 'MnPrv', 'GdPrv']])\n",
        "  train_data['FenceQual'] = oeFence.fit_transform(train_data[['Fence']])\n",
        "\n",
        "  # fix NAs in numeric columns\n",
        "  train_data.loc[train_data['MasVnrArea'].isna(), 'MasVnrArea'] = 0\n",
        "  train_data.loc[train_data['LotFrontage'].isna(), 'LotFrontage'] = 0\n",
        "  train_data.loc[train_data['GarageYrBlt'].isna(), 'GarageYrBlt'] = train_data.loc[train_data['GarageYrBlt'].isna(), 'YearBuilt']\n",
        "\n",
        "  # one-hot encode columns with no obvious ordering\n",
        "  train_data = pd.get_dummies(train_data, columns=one_hot_cols)\n",
        "\n",
        "  # drop categorical features that we've extracted\n",
        "  train_data.drop(dropCols, axis=1, inplace=True)\n",
        "\n",
        "  return train_data"
      ],
      "execution_count": 0,
      "outputs": []
    },
    {
      "cell_type": "code",
      "metadata": {
        "id": "jBwtrf3yWqgt",
        "colab_type": "code",
        "colab": {}
      },
      "source": [
        "# helper functions for analyzing different models\n",
        "def fix_cols(df_train, df_test):\n",
        "  new_test = df_test.copy()\n",
        "  for col in new_test.columns:\n",
        "    if col not in df_train.columns:\n",
        "      new_test.drop(col, axis=1, inplace=True)\n",
        "  for col in df_train:\n",
        "    if col not in new_test.columns:\n",
        "      new_test[col] = 0\n",
        "  return new_test\n",
        "\n",
        "def get_error(y_true, y_pred):\n",
        "  y_new = y_true[y_pred > 0]\n",
        "  y_pred_new = y_pred[y_pred > 0]\n",
        "  return sqrt(mean_squared_log_error(y_new, y_pred_new))\n"
      ],
      "execution_count": 0,
      "outputs": []
    },
    {
      "cell_type": "code",
      "metadata": {
        "id": "M0cbIS3Ygvsy",
        "colab_type": "code",
        "colab": {}
      },
      "source": [
        "processed = preprocess_data(train_data)\n",
        "processed_test = preprocess_data(test_data)\n",
        "processed_test = fix_cols(processed, processed_test)"
      ],
      "execution_count": 0,
      "outputs": []
    },
    {
      "cell_type": "markdown",
      "metadata": {
        "id": "1jrOisbfHi6M",
        "colab_type": "text"
      },
      "source": [
        "## Model Execution\n",
        "In the following section we execute a number of regression models on both a simple one-hot encoded set of features and a set of features extracted using the preprocessing method defined above. We evaluate Multi-Linear regression, Lasso, Support Vector Regression, and a Neural Network to understand the benefits and drawbacks of each, as well as their relative accuracies. For all models our accuracy comparison is done using the root-mean-squared-log error as this provides an even measure of error between low and high values of the sale price variable."
      ]
    },
    {
      "cell_type": "code",
      "metadata": {
        "id": "IbGivXuSyyTS",
        "colab_type": "code",
        "colab": {}
      },
      "source": [
        "results = []"
      ],
      "execution_count": 0,
      "outputs": []
    },
    {
      "cell_type": "markdown",
      "metadata": {
        "id": "LZD85yp4IEi0",
        "colab_type": "text"
      },
      "source": [
        "First we look at a simple multi-linear regression using all features and a one-hot encoding on all categorical features. The effort to do this is quite low, and we see that the error suffers accordingly."
      ]
    },
    {
      "cell_type": "code",
      "metadata": {
        "id": "w0Nq_x1zaIka",
        "colab_type": "code",
        "outputId": "b9a4fba7-93dd-42cb-e809-639694eb04e6",
        "colab": {
          "base_uri": "https://localhost:8080/",
          "height": 34
        }
      },
      "source": [
        "# dumb linear model with all features converting all categorical variables to simple dummies\n",
        "dummies = pd.get_dummies(train_data).dropna()\n",
        "X = dummies.drop(['SalePrice', 'Id'], axis=1)\n",
        "y = dummies['SalePrice']\n",
        "lm = LinearRegression()\n",
        "lm.fit(X,y)\n",
        "dummies_test = pd.get_dummies(test_data).dropna()\n",
        "dummies_test = fix_cols(dummies, dummies_test)\n",
        "X_test = dummies_test.drop(['SalePrice', 'Id'], axis=1)\n",
        "y_pred = lm.predict(X_test)\n",
        "err = get_error(dummies_test['SalePrice'], y_pred)\n",
        "print(err)\n",
        "results.append(['dummy linear', err])"
      ],
      "execution_count": 10,
      "outputs": [
        {
          "output_type": "stream",
          "text": [
            "0.6186596200867076\n"
          ],
          "name": "stdout"
        }
      ]
    },
    {
      "cell_type": "markdown",
      "metadata": {
        "id": "9F-CY87sIvdC",
        "colab_type": "text"
      },
      "source": [
        "Next we do the same multi-linear regression on the set of features preprocessed with our method above. It is interesting to see that the error of this is actually greater than the one-hot encoded model, indicating the power of one-hot encoding. This also tells us that there may be an issue with some of our one-hot encoded features and that it may not be a good idea to blindly use all features. Some of this may be due to multi-colinearity as at this point we have a number of duplicative features included in the model."
      ]
    },
    {
      "cell_type": "code",
      "metadata": {
        "id": "Ol0k3cI7jPZN",
        "colab_type": "code",
        "outputId": "ee715d54-4e67-46f0-af6f-2cac02a350f3",
        "colab": {
          "base_uri": "https://localhost:8080/",
          "height": 34
        }
      },
      "source": [
        "X = processed.drop(['SalePrice'], axis=1)\n",
        "y = processed['SalePrice']\n",
        "lm = LinearRegression()\n",
        "lm.fit(X,y)\n",
        "X_test = processed_test.drop(['SalePrice'], axis=1)\n",
        "y_pred = lm.predict(X_test)\n",
        "y_test = processed_test['SalePrice']\n",
        "err = get_error(y_test, y_pred)\n",
        "print(err)\n",
        "results.append(['processed linear', err])"
      ],
      "execution_count": 12,
      "outputs": [
        {
          "output_type": "stream",
          "text": [
            "0.5937700153887229\n"
          ],
          "name": "stdout"
        }
      ]
    },
    {
      "cell_type": "markdown",
      "metadata": {
        "id": "Mz5wPJkfJt78",
        "colab_type": "text"
      },
      "source": [
        "To understand what features might be good candidates to select we next look at the correlations of our preprocessed features with the SalePrice variable. This helps us see that a number of the features have close to zero correlation which means that the inclusion of these in our model is likely hurting our model."
      ]
    },
    {
      "cell_type": "code",
      "metadata": {
        "id": "sBNr646tjz7X",
        "colab_type": "code",
        "outputId": "0b936f7c-7d1c-4780-ddaa-c3f1c45b81f0",
        "colab": {
          "base_uri": "https://localhost:8080/",
          "height": 581
        }
      },
      "source": [
        "# inspect correlations of new features\n",
        "corr = processed.corr()\n",
        "corr['SalePrice']\n",
        "fig, ax = plt.subplots(figsize=(8, 8))\n",
        "ax.hist(corr['SalePrice'], bins = 50)\n",
        "ax.set_title('Histogram of Correllation Coefficients with SalePrice')\n",
        "ax.set_xlabel('Correlation Coefficient')\n",
        "ax.set_ylabel('Num Features')\n",
        "fig.show()"
      ],
      "execution_count": 13,
      "outputs": [
        {
          "output_type": "stream",
          "text": [
            "/usr/local/lib/python3.6/dist-packages/numpy/lib/histograms.py:839: RuntimeWarning: invalid value encountered in greater_equal\n",
            "  keep = (tmp_a >= first_edge)\n",
            "/usr/local/lib/python3.6/dist-packages/numpy/lib/histograms.py:840: RuntimeWarning: invalid value encountered in less_equal\n",
            "  keep &= (tmp_a <= last_edge)\n"
          ],
          "name": "stderr"
        },
        {
          "output_type": "display_data",
          "data": {
            "image/png": "[encoded data removed]",
            "text/plain": [
              "<Figure size 576x576 with 1 Axes>"
            ]
          },
          "metadata": {
            "tags": []
          }
        }
      ]
    },
    {
      "cell_type": "markdown",
      "metadata": {
        "id": "yXn-VE8wKHMM",
        "colab_type": "text"
      },
      "source": [
        "Seeing the above, our first step is to attempt to create our model in an automated way using the correlations seen above. Using a linear regression with only the features with correlation far from zero drastically reduces our error metric as expected. We will notice later on that with just this simple feature selection technique we have achieved a very good relative error score."
      ]
    },
    {
      "cell_type": "code",
      "metadata": {
        "id": "e6NwY9AilsQr",
        "colab_type": "code",
        "outputId": "ee6b61b0-0b77-4e77-ef77-28e153aab7ef",
        "colab": {
          "base_uri": "https://localhost:8080/",
          "height": 34
        }
      },
      "source": [
        "# try choosing features based on corr coeficients with SalePrice\n",
        "colsToUse = corr.index[(corr['SalePrice'] > 0.3) | (corr['SalePrice'] < -0.3)].tolist()\n",
        "X = processed[colsToUse].drop(['SalePrice'], axis=1)\n",
        "y = processed['SalePrice']\n",
        "lm = LinearRegression()\n",
        "lm.fit(X,y)\n",
        "X_test = processed_test[colsToUse].drop(['SalePrice'], axis=1)\n",
        "y_pred = lm.predict(X_test)\n",
        "y_test = processed_test['SalePrice']\n",
        "err = get_error(y_test, y_pred)\n",
        "print(err)\n",
        "results.append(['linear corr cols', err])"
      ],
      "execution_count": 14,
      "outputs": [
        {
          "output_type": "stream",
          "text": [
            "0.17308336258997753\n"
          ],
          "name": "stdout"
        }
      ]
    },
    {
      "cell_type": "markdown",
      "metadata": {
        "id": "FcxdKNQiKvct",
        "colab_type": "text"
      },
      "source": [
        "Next we try our hand at some manual feature selection using the correlation coefficients generated above. First we visualize the correlations of the features with the top coefficients and then we make manual selections to try to produce an even better model."
      ]
    },
    {
      "cell_type": "code",
      "metadata": {
        "id": "c-A_A2NzMPiO",
        "colab_type": "code",
        "outputId": "c65ede00-ab88-4a0d-f158-46c6edc5f1d6",
        "colab": {
          "base_uri": "https://localhost:8080/",
          "height": 879
        }
      },
      "source": [
        "# visualize features with highest correllations\n",
        "num_cols = 35\n",
        "topcorrs = corr[['SalePrice']].sort_values('SalePrice', ascending=False).index[1:num_cols+1]\n",
        "\n",
        "fig = plt.figure(figsize=(21,15))\n",
        "plt.subplots_adjust(hspace=0.4)\n",
        "for idx,col in enumerate(topcorrs, start=1):\n",
        "  ax = fig.add_subplot(5,7,idx)\n",
        "  ax.scatter(processed[col], processed['SalePrice'])\n",
        "  plt.yscale('log') # added after the fact because plots had larger dispersion at high SalePrice\n",
        "  ax.set_title(col)\n",
        "fig.show()"
      ],
      "execution_count": 15,
      "outputs": [
        {
          "output_type": "display_data",
          "data": {
            "image/png": "[encoded data removed]",
            "text/plain": [
              "<Figure size 1512x1080 with 35 Axes>"
            ]
          },
          "metadata": {
            "tags": []
          }
        }
      ]
    },
    {
      "cell_type": "markdown",
      "metadata": {
        "id": "3D44a6NEelR1",
        "colab_type": "text"
      },
      "source": [
        "After looking at the plots above, from here on we predict to log(SalePrice) in our linear models. First, for comparison, we construct a basic model using all 35 features with the highest correlation with the SalePrice variable."
      ]
    },
    {
      "cell_type": "code",
      "metadata": {
        "id": "64gcVEq8kNBG",
        "colab_type": "code",
        "outputId": "59338b0d-ee3b-4756-da0f-bbacfb649713",
        "colab": {
          "base_uri": "https://localhost:8080/",
          "height": 34
        }
      },
      "source": [
        "# take all top 35 features\n",
        "X = processed[topcorrs]\n",
        "y = processed[['SalePrice']]\n",
        "y_log = y.apply(lambda x: log(x), axis=1)\n",
        "lm = LinearRegression()\n",
        "lm.fit(X,y_log)\n",
        "X_test = processed_test[topcorrs]\n",
        "y_pred_log = lm.predict(X_test)\n",
        "y_pred = np.array([exp(x) for x in y_pred_log])\n",
        "y_test = processed_test['SalePrice']\n",
        "err = get_error(y_test, y_pred)\n",
        "print(err)\n",
        "results.append(['top corrs linear (vs log(SP))', err])"
      ],
      "execution_count": 16,
      "outputs": [
        {
          "output_type": "stream",
          "text": [
            "0.18002182273141681\n"
          ],
          "name": "stdout"
        }
      ]
    },
    {
      "cell_type": "markdown",
      "metadata": {
        "id": "CvkBHLtiMTaG",
        "colab_type": "text"
      },
      "source": [
        "Next we'd like to do some manual feature selection. Before we do this we inspect more closely the LotArea variable. We would think this variable has a high correlation with the SalePrice, but it is not showing up in our list of top correlations. Let inspect the scatter plot:"
      ]
    },
    {
      "cell_type": "code",
      "metadata": {
        "id": "ZaVinL7VNpmD",
        "colab_type": "code",
        "colab": {
          "base_uri": "https://localhost:8080/",
          "height": 499
        },
        "outputId": "c56cd30f-c8f2-4e42-9398-7c7f1e09b37f"
      },
      "source": [
        "# visualize features with highest correllations\n",
        "colsToVisualize = ['LotArea']\n",
        "\n",
        "fig = plt.figure(figsize=(8,8))\n",
        "plt.subplots_adjust(hspace=0.4)\n",
        "for idx,col in enumerate(colsToVisualize, start=1):\n",
        "  ax = fig.add_subplot(1,1,idx)\n",
        "  ax.scatter(processed[col], processed['SalePrice'])\n",
        "  plt.yscale('log') # added after the fact because plots had larger dispersion at high SalePrice\n",
        "  ax.set_title(col)\n",
        "fig.show()"
      ],
      "execution_count": 18,
      "outputs": [
        {
          "output_type": "display_data",
          "data": {
            "image/png": "[encoded data removed]",
            "text/plain": [
              "<Figure size 576x576 with 1 Axes>"
            ]
          },
          "metadata": {
            "tags": []
          }
        }
      ]
    },
    {
      "cell_type": "markdown",
      "metadata": {
        "id": "CRJI0ItSPZ7t",
        "colab_type": "text"
      },
      "source": [
        "We see that we have some major outliers, let's remove these and investigate the change in the correlation:"
      ]
    },
    {
      "cell_type": "code",
      "metadata": {
        "id": "s_bl9g5ZPhM2",
        "colab_type": "code",
        "colab": {
          "base_uri": "https://localhost:8080/",
          "height": 51
        },
        "outputId": "bb33ae3a-594c-4126-8518-c59db35dc223"
      },
      "source": [
        "print('correlation with outliers:' + str(corr[['SalePrice']].loc['LotArea', :]))"
      ],
      "execution_count": 26,
      "outputs": [
        {
          "output_type": "stream",
          "text": [
            "correlation with outliers:SalePrice    0.262708\n",
            "Name: LotArea, dtype: float64\n"
          ],
          "name": "stdout"
        }
      ]
    },
    {
      "cell_type": "code",
      "metadata": {
        "id": "zcS-WQYYPzhA",
        "colab_type": "code",
        "colab": {
          "base_uri": "https://localhost:8080/",
          "height": 533
        },
        "outputId": "2f264fbd-ee0a-45dc-f8d2-172b48717440"
      },
      "source": [
        "noLotAreaOutliers = processed.loc[processed['LotArea'] < 100000, :]\n",
        "colsToVisualize = ['LotArea']\n",
        "\n",
        "fig = plt.figure(figsize=(8,8))\n",
        "plt.subplots_adjust(hspace=0.4)\n",
        "for idx,col in enumerate(colsToVisualize, start=1):\n",
        "  ax = fig.add_subplot(1,1,idx)\n",
        "  ax.scatter(noLotAreaOutliers[col], noLotAreaOutliers['SalePrice'])\n",
        "  plt.yscale('log') # added after the fact because plots had larger dispersion at high SalePrice\n",
        "  ax.set_title(col)\n",
        "fig.show()\n",
        "newCorr = noLotAreaOutliers.corr()\n",
        "print('correlation without outliers:' + str(newCorr[['SalePrice']].loc['LotArea', :]))"
      ],
      "execution_count": 36,
      "outputs": [
        {
          "output_type": "stream",
          "text": [
            "correlation without outliers:SalePrice    0.363627\n",
            "Name: LotArea, dtype: float64\n"
          ],
          "name": "stdout"
        },
        {
          "output_type": "display_data",
          "data": {
            "image/png": "[encoded data removed]",
            "text/plain": [
              "<Figure size 576x576 with 1 Axes>"
            ]
          },
          "metadata": {
            "tags": []
          }
        }
      ]
    },
    {
      "cell_type": "markdown",
      "metadata": {
        "id": "rK51W99KSPJA",
        "colab_type": "text"
      },
      "source": [
        "Now we do some manual feature selection and investigate what the difference in our error is when we include this filter vs not:"
      ]
    },
    {
      "cell_type": "code",
      "metadata": {
        "id": "ru0HHgZcMVXt",
        "colab_type": "code",
        "outputId": "b98b720c-0c9b-4981-ffeb-1e8e5a430dfb",
        "colab": {
          "base_uri": "https://localhost:8080/",
          "height": 34
        }
      },
      "source": [
        "# choose features based manually based on scatter plots\n",
        "colsToUse_scatter = ['OverallQual', 'GrLivArea', '1stFlrSF', 'FinBsmtArea', \n",
        "             'Neighborhood_NridgHt', 'Neighborhood_NoRidge', 'WoodDeckSF', \n",
        "             '2ndFlrSF', 'LotArea']\n",
        "X = processed[colsToUse_scatter]\n",
        "y = processed[['SalePrice']]\n",
        "y_log = y.apply(lambda x: log(x), axis=1)\n",
        "lm = LinearRegression()\n",
        "lm.fit(X,y_log)\n",
        "X_test = processed_test[colsToUse_scatter]\n",
        "y_pred_log = lm.predict(X_test)\n",
        "y_pred = np.array([exp(x) for x in y_pred_log])\n",
        "y_test = processed_test['SalePrice']\n",
        "err = get_error(y_test, y_pred)\n",
        "print(err)\n",
        "results.append(['scatter visual linear (vs log(SP))', err])"
      ],
      "execution_count": 37,
      "outputs": [
        {
          "output_type": "stream",
          "text": [
            "0.2027896940971626\n"
          ],
          "name": "stdout"
        }
      ]
    },
    {
      "cell_type": "code",
      "metadata": {
        "id": "fFeYO5izSm_8",
        "colab_type": "code",
        "colab": {
          "base_uri": "https://localhost:8080/",
          "height": 34
        },
        "outputId": "5ff865ba-002f-4f94-f78c-572e001746b4"
      },
      "source": [
        "# choose features based manually based on scatter plots\n",
        "colsToUse_scatter = ['OverallQual', 'GrLivArea', 'ExtQual', 'KitchQual', 'GarageArea', \n",
        "             '1stFlrSF', 'BsmtQ', 'FullBath', 'GarageFin', 'TotRmsAbvGrd', \n",
        "             'YearRemodAdd', 'MasVnrArea', 'FinBsmtArea', \n",
        "             'Neighborhood_NridgHt', 'Neighborhood_NoRidge', 'WoodDeckSF', \n",
        "             '2ndFlrSF', 'LotArea']\n",
        "X = noLotAreaOutliers[colsToUse_scatter]\n",
        "y = noLotAreaOutliers[['SalePrice']]\n",
        "y_log = y.apply(lambda x: log(x), axis=1)\n",
        "lm = LinearRegression()\n",
        "lm.fit(X,y_log)\n",
        "X_test = processed_test[colsToUse_scatter]\n",
        "y_pred_log = lm.predict(X_test)\n",
        "y_pred = np.array([exp(x) for x in y_pred_log])\n",
        "y_test = processed_test['SalePrice']\n",
        "err = get_error(y_test, y_pred)\n",
        "print(err)\n",
        "results.append(['scatter visual linear filered LotArea (vs log(SP))', err])"
      ],
      "execution_count": 38,
      "outputs": [
        {
          "output_type": "stream",
          "text": [
            "0.18760267424433563\n"
          ],
          "name": "stdout"
        }
      ]
    },
    {
      "cell_type": "markdown",
      "metadata": {
        "id": "P977R06ETeND",
        "colab_type": "text"
      },
      "source": [
        "We see that this filter did help increase our accuracy. A follow up to this project would be to do similar analysis on other features with outliers to try to further improve accuracy.\n",
        "\n",
        "Next we attempt to choose features based on intuition rather than our correlation based approach above:"
      ]
    },
    {
      "cell_type": "code",
      "metadata": {
        "id": "irbQuqOQ0eFz",
        "colab_type": "code",
        "outputId": "528c99cb-7297-4050-c988-d936fbbf7321",
        "colab": {
          "base_uri": "https://localhost:8080/",
          "height": 34
        }
      },
      "source": [
        "# manually choose features based on intuition\n",
        "colsToUse_intuit = ['LotArea','OverallQual','OverallCond','YearRemodAdd','1stFlrSF',\n",
        " '2ndFlrSF','FullBath','HalfBath','BedroomAbvGr','KitchenAbvGr','TotRmsAbvGrd','Fireplaces',\n",
        " 'GarageArea','WoodDeckSF','OpenPorchSF','EnclosedPorch','3SsnPorch','ScreenPorch',\n",
        " 'PoolArea','Utils','PosProxScore','NegProxScore','ExtQual','ExtCond','BsmtQ',\n",
        " 'BsmtC','HeatingQual','CentrlAir','Elec','KitchQual','HomeFunct','FireplQual',\n",
        " 'GarageQ','GarageC','Neighborhood_Blmngtn','Neighborhood_BrDale',\n",
        " 'Neighborhood_BrkSide','Neighborhood_ClearCr','Neighborhood_CollgCr','Neighborhood_Crawfor',\n",
        " 'Neighborhood_Edwards','Neighborhood_Gilbert','Neighborhood_IDOTRR','Neighborhood_MeadowV',\n",
        " 'Neighborhood_Mitchel','Neighborhood_NAmes','Neighborhood_NPkVill','Neighborhood_NWAmes',\n",
        " 'Neighborhood_NoRidge','Neighborhood_NridgHt','Neighborhood_OldTown','Neighborhood_SWISU',\n",
        " 'Neighborhood_Sawyer','Neighborhood_SawyerW','Neighborhood_Somerst','Neighborhood_StoneBr',\n",
        " 'Neighborhood_Timber','Neighborhood_Veenker',\n",
        " ]\n",
        "X = processed[colsToUse_intuit]\n",
        "y = processed[['SalePrice']]\n",
        "y_log = y.apply(lambda x: log(x), axis=1)\n",
        "lm = LinearRegression()\n",
        "lm.fit(X,y_log)\n",
        "X_test = processed_test[colsToUse_intuit]\n",
        "y_pred_log = lm.predict(X_test)\n",
        "y_pred = np.array([exp(x) for x in y_pred_log])\n",
        "y_test = processed_test['SalePrice']\n",
        "err = get_error(y_test, y_pred)\n",
        "print(err)\n",
        "results.append(['intuitive linear (vs log(SP))', err])"
      ],
      "execution_count": 40,
      "outputs": [
        {
          "output_type": "stream",
          "text": [
            "0.1572381379478021\n"
          ],
          "name": "stdout"
        }
      ]
    },
    {
      "cell_type": "markdown",
      "metadata": {
        "id": "BPug1qwOUNuA",
        "colab_type": "text"
      },
      "source": [
        "Here we see a better accuracy than we have seen yet, indicating that an intuition based approach has a lot to offer over some of the more automated but less customized pure machine learning methods.\n",
        "\n",
        "Next we see if we can improve upon our correlation based approach by applying PCA to our preprocessed dataset. First we examine the relationship between percentage of explained variance and the number of pca components included:"
      ]
    },
    {
      "cell_type": "code",
      "metadata": {
        "id": "lyhWrxiifxHk",
        "colab_type": "code",
        "colab": {}
      },
      "source": [
        "def get_expvar_by_ncomp(pca):\n",
        "  total_exp_var = 0.0\n",
        "  points = np.empty([pca.n_components_, 2])\n",
        "  for (i, var) in enumerate(pca.explained_variance_ratio_):\n",
        "    total_exp_var += var\n",
        "    points[i,0] = i\n",
        "    points[i,1] = total_exp_var\n",
        "  return points\n"
      ],
      "execution_count": 0,
      "outputs": []
    },
    {
      "cell_type": "code",
      "metadata": {
        "id": "UA4B7S1Gzu7s",
        "colab_type": "code",
        "outputId": "0171d0b0-061a-424c-92f7-6ee54133ae3b",
        "colab": {
          "base_uri": "https://localhost:8080/",
          "height": 513
        }
      },
      "source": [
        "# try PCA with different values of n_components\n",
        "pca = PCA(n_components=50)\n",
        "pca.fit(processed.drop(['SalePrice'], axis=1))\n",
        "points = get_expvar_by_ncomp(pca)\n",
        "x, y = points.T\n",
        "\n",
        "fig = plt.figure(figsize=(8,8))\n",
        "ax = fig.add_subplot(1,1,1)\n",
        "ax.plot(x, y)\n",
        "ax.set_title('Explained Variance vs Num PCA Components')\n",
        "ax.set_xlabel('Num Components')\n",
        "ax.set_ylabel('Explained Variance')\n",
        "fig.show()"
      ],
      "execution_count": 43,
      "outputs": [
        {
          "output_type": "display_data",
          "data": {
            "image/png": "[encoded data removed]",
            "text/plain": [
              "<Figure size 576x576 with 1 Axes>"
            ]
          },
          "metadata": {
            "tags": []
          }
        }
      ]
    },
    {
      "cell_type": "markdown",
      "metadata": {
        "id": "ZxJIb5PqU9wL",
        "colab_type": "text"
      },
      "source": [
        "We see that with less than 10 components we quickly reach over 99.9% explained variance in our dataset. Let's examine the results of applying PCA for feature selection using just a small subset of components. Through testing various number of components I have found that 20 seems to yield the best results striking a balance between over fitting and included features. We see in the model following that the error increases significantly when we include a large number of components likely due to overfitting."
      ]
    },
    {
      "cell_type": "code",
      "metadata": {
        "id": "WwQCjjpUjDM2",
        "colab_type": "code",
        "outputId": "8e3b8f1c-278e-49ed-f25c-c5390e27efc2",
        "colab": {
          "base_uri": "https://localhost:8080/",
          "height": 34
        }
      },
      "source": [
        "# use PCA to reduce feature space dramatically\n",
        "pca = PCA(n_components=20)\n",
        "X = pca.fit_transform(processed.drop(['SalePrice'], axis=1))\n",
        "y = processed[['SalePrice']]\n",
        "y_log = y.apply(lambda x: log(x), axis=1)\n",
        "lm = LinearRegression()\n",
        "lm.fit(X,y_log)\n",
        "X_test = pca.transform(processed_test.drop(['SalePrice'], axis=1))\n",
        "y_pred_log = lm.predict(X_test)\n",
        "y_pred = np.array([exp(x) for x in y_pred_log])\n",
        "y_test = processed_test['SalePrice']\n",
        "err = get_error(y_test, y_pred)\n",
        "print(err)\n",
        "results.append(['pca (vs log(SP))', err])"
      ],
      "execution_count": 56,
      "outputs": [
        {
          "output_type": "stream",
          "text": [
            "0.22044690536858846\n"
          ],
          "name": "stdout"
        }
      ]
    },
    {
      "cell_type": "code",
      "metadata": {
        "id": "1HX2voDhlOKJ",
        "colab_type": "code",
        "outputId": "2fa6a13d-7756-447d-8494-9c70b1d1dbea",
        "colab": {
          "base_uri": "https://localhost:8080/",
          "height": 34
        }
      },
      "source": [
        "# PCA error increases dramatically at the 22nd component and above, why is that?\n",
        "pca = PCA(n_components=50)\n",
        "X = pca.fit_transform(processed.drop(['SalePrice'], axis=1))\n",
        "y = processed[['SalePrice']]\n",
        "y_log = y.apply(lambda x: log(x), axis=1)\n",
        "lm = LinearRegression()\n",
        "lm.fit(X,y_log)\n",
        "X_test = pca.transform(processed_test.drop(['SalePrice'], axis=1))\n",
        "y_pred_log = lm.predict(X_test)\n",
        "y_pred = np.array([exp(x) for x in y_pred_log])\n",
        "y_test = processed_test['SalePrice']\n",
        "err = get_error(y_test, y_pred)\n",
        "print(err)\n",
        "results.append(['bad pca (vs log(SP))', err])"
      ],
      "execution_count": 0,
      "outputs": [
        {
          "output_type": "stream",
          "text": [
            "14.188795718733877\n"
          ],
          "name": "stdout"
        }
      ]
    },
    {
      "cell_type": "markdown",
      "metadata": {
        "id": "_ElJPTaBWO01",
        "colab_type": "text"
      },
      "source": [
        "Next we try a few other advanced regression techniques to see if any can produce better results than our simple Linear Regression model. We see that none produce better results than our manually selected Linear regression model shown above. A follow up to this project could explore more variations on these more advanced models to understand what tuning can be done to improve performance."
      ]
    },
    {
      "cell_type": "code",
      "metadata": {
        "id": "XjXbi2Et5KcI",
        "colab_type": "code",
        "outputId": "b4d0d9ab-be8f-416d-faec-35b4616fb48b",
        "colab": {
          "base_uri": "https://localhost:8080/",
          "height": 34
        }
      },
      "source": [
        "# Support Vector Regression\n",
        "svr = SVR(gamma='scale', kernel='rbf')\n",
        "X = processed.drop(['SalePrice'], axis=1)\n",
        "y = processed[['SalePrice']]\n",
        "y_log = y.apply(lambda x: log(x), axis=1)\n",
        "svr.fit(X, y_log)\n",
        "X_test = processed_test.drop(['SalePrice'], axis=1)\n",
        "y_pred_log = svr.predict(X_test)\n",
        "y_pred = np.array([exp(x) for x in y_pred_log])\n",
        "y_test = processed_test['SalePrice']\n",
        "err = get_error(y_test, y_pred)\n",
        "print(err)\n",
        "results.append(['SVR (vs log(SP))', err])"
      ],
      "execution_count": 57,
      "outputs": [
        {
          "output_type": "stream",
          "text": [
            "0.2322264729707224\n"
          ],
          "name": "stdout"
        }
      ]
    },
    {
      "cell_type": "code",
      "metadata": {
        "id": "BYJi7HX36jjI",
        "colab_type": "code",
        "outputId": "5d2f3deb-2045-4912-c871-ff32c2c81411",
        "colab": {
          "base_uri": "https://localhost:8080/",
          "height": 34
        }
      },
      "source": [
        "# lasso \n",
        "lasso = Lasso(alpha=0.01, max_iter=100000)\n",
        "X = processed.drop(['SalePrice'], axis=1)\n",
        "y = processed[['SalePrice']]\n",
        "y_log = y.apply(lambda x: log(x), axis=1)\n",
        "lasso.fit(X,y_log)\n",
        "X_test = processed_test.drop(['SalePrice'], axis=1)\n",
        "y_pred_log = lasso.predict(X_test)\n",
        "y_pred = np.array([exp(x) for x in y_pred_log])\n",
        "y_test = processed_test['SalePrice']\n",
        "err = get_error(y_test, y_pred)\n",
        "print(err)\n",
        "results.append(['Lasso (vs log(SP))', err])"
      ],
      "execution_count": 58,
      "outputs": [
        {
          "output_type": "stream",
          "text": [
            "0.20322693150593818\n"
          ],
          "name": "stdout"
        }
      ]
    },
    {
      "cell_type": "code",
      "metadata": {
        "id": "u4wVSsX-7jQa",
        "colab_type": "code",
        "outputId": "781653b6-c086-45f1-939d-b85c6f061781",
        "colab": {
          "base_uri": "https://localhost:8080/",
          "height": 34
        }
      },
      "source": [
        "# lasso with model selection\n",
        "lasso = LassoCV(cv=10, alphas=np.array([n/1000.0 for n in range(1,100,1)]), max_iter=100000)\n",
        "X = processed.drop(['SalePrice'], axis=1)\n",
        "y = processed[['SalePrice']]\n",
        "y_log = y.apply(lambda x: log(x), axis=1)\n",
        "lasso.fit(X,y_log)\n",
        "X_test = processed_test.drop(['SalePrice'], axis=1)\n",
        "y_pred_log = lasso.predict(X_test)\n",
        "y_pred = np.array([exp(x) for x in y_pred_log])\n",
        "y_test = processed_test['SalePrice']\n",
        "err = get_error(y_test, y_pred)\n",
        "print(err)\n",
        "results.append(['LassoCV (vs log(SP))', err])"
      ],
      "execution_count": 59,
      "outputs": [
        {
          "output_type": "stream",
          "text": [
            "0.22656484050465367\n"
          ],
          "name": "stdout"
        }
      ]
    },
    {
      "cell_type": "markdown",
      "metadata": {
        "id": "Jd80ZFAAXgkD",
        "colab_type": "text"
      },
      "source": [
        "Finally we attempt to train a neural net on this training dataset. We find that the results of the neural network are worse than those of the linear regression with manually selected features. This shows one of the downsides of the neural network based approach: it requires a lot of tuning in order to produce a more effective model than simpler methods. Even the simple neural network below takes an order of magnitude longer to train, not to mention the manual tuning into the number of layers and size of each layer. This leads us to believe that given limited time resources the simple linear regression gives us a better bang for our buck."
      ]
    },
    {
      "cell_type": "code",
      "metadata": {
        "id": "RbQarVkS8ZMU",
        "colab_type": "code",
        "outputId": "94a4eb2a-48e4-4a4f-bc9a-253cc7737bf2",
        "colab": {
          "base_uri": "https://localhost:8080/",
          "height": 34
        }
      },
      "source": [
        "# neural net on preprocessed features\n",
        "net = MLPRegressor(hidden_layer_sizes=(50,50), max_iter=10000)\n",
        "X = processed.drop(['SalePrice'], axis=1)\n",
        "y = processed['SalePrice']\n",
        "net.fit(X, y)\n",
        "X_test = processed_test.drop(['SalePrice'], axis=1)\n",
        "y_pred = net.predict(X_test)\n",
        "y_test = processed_test['SalePrice']\n",
        "err = get_error(y_test, y_pred)\n",
        "print(err)\n",
        "results.append(['neural net preprocessed', err])"
      ],
      "execution_count": 60,
      "outputs": [
        {
          "output_type": "stream",
          "text": [
            "0.20294831953868483\n"
          ],
          "name": "stdout"
        }
      ]
    },
    {
      "cell_type": "code",
      "metadata": {
        "id": "erO_ucRu-ub7",
        "colab_type": "code",
        "outputId": "61124e67-6155-4d87-fdac-6fb53ec8dad6",
        "colab": {
          "base_uri": "https://localhost:8080/",
          "height": 34
        }
      },
      "source": [
        "# neural net on simple one-hot features\n",
        "net = MLPRegressor(hidden_layer_sizes=(50,50), max_iter=10000)\n",
        "dummies = pd.get_dummies(train_data).dropna()\n",
        "X = dummies.drop(['SalePrice', 'Id'], axis=1)\n",
        "y = dummies['SalePrice']\n",
        "net.fit(X,y)\n",
        "dummies_test = pd.get_dummies(test_data).dropna()\n",
        "dummies_test = fix_cols(dummies, dummies_test)\n",
        "X_test = dummies_test.drop(['SalePrice', 'Id'], axis=1)\n",
        "y_pred = net.predict(X_test)\n",
        "err = get_error(dummies_test['SalePrice'], y_pred)\n",
        "print(err)\n",
        "results.append(['neural net one-hot encoded', err])"
      ],
      "execution_count": 61,
      "outputs": [
        {
          "output_type": "stream",
          "text": [
            "0.2102308634620406\n"
          ],
          "name": "stdout"
        }
      ]
    },
    {
      "cell_type": "markdown",
      "metadata": {
        "id": "fAPJizx2YrlW",
        "colab_type": "text"
      },
      "source": [
        "Finally for comparison's sake we come back to our linear regresion models with all features included predicting against the log of our SalePrice variable this time."
      ]
    },
    {
      "cell_type": "code",
      "metadata": {
        "id": "5FvAM667_3hq",
        "colab_type": "code",
        "outputId": "1e7cc917-e485-45ad-b626-3b169f5a9bdf",
        "colab": {
          "base_uri": "https://localhost:8080/",
          "height": 34
        }
      },
      "source": [
        "# regression on log(SalePrice) with all dummies\n",
        "dummies = pd.get_dummies(train_data).dropna()\n",
        "X = dummies.drop(['SalePrice', 'Id'], axis=1)\n",
        "y = dummies[['SalePrice']]\n",
        "y_log = y.apply(lambda x: log(x), axis=1)\n",
        "lm = LinearRegression()\n",
        "lm.fit(X,y_log)\n",
        "dummies_test = pd.get_dummies(test_data).dropna()\n",
        "dummies_test = fix_cols(dummies, dummies_test)\n",
        "X_test = dummies_test.drop(['SalePrice', 'Id'], axis=1)\n",
        "y_pred_log = lm.predict(X_test)\n",
        "y_pred = np.array([exp(x) for x in y_pred_log])\n",
        "err = get_error(dummies_test['SalePrice'], y_pred)\n",
        "print(err)\n",
        "results.append(['dummy linear (vs log(SP))', err])"
      ],
      "execution_count": 62,
      "outputs": [
        {
          "output_type": "stream",
          "text": [
            "0.4853525960836292\n"
          ],
          "name": "stdout"
        }
      ]
    },
    {
      "cell_type": "code",
      "metadata": {
        "id": "dI1KcEUbD6M-",
        "colab_type": "code",
        "outputId": "2ea8693f-d217-4779-c129-daeb6242e914",
        "colab": {
          "base_uri": "https://localhost:8080/",
          "height": 34
        }
      },
      "source": [
        "# regression on log(SalePrice) with all preprocessed feats\n",
        "X = processed.drop(['SalePrice'], axis=1)\n",
        "y = processed[['SalePrice']]\n",
        "y_log = y.apply(lambda x: log(x), axis=1)\n",
        "lm = LinearRegression()\n",
        "lm.fit(X,y_log)\n",
        "X_test = processed_test.drop(['SalePrice'], axis=1)\n",
        "y_pred_log = lm.predict(X_test)\n",
        "y_pred = np.array([exp(x) for x in y_pred_log])\n",
        "y_test = processed_test['SalePrice']\n",
        "err = get_error(y_test, y_pred)\n",
        "print(err)\n",
        "results.append(['processed linear (vs log(SP))', err])"
      ],
      "execution_count": 63,
      "outputs": [
        {
          "output_type": "stream",
          "text": [
            "6.485710122265511\n"
          ],
          "name": "stdout"
        }
      ]
    },
    {
      "cell_type": "code",
      "metadata": {
        "id": "05-YLCuB1fPm",
        "colab_type": "code",
        "outputId": "42013093-e790-42ee-f685-556ea7f11e2c",
        "colab": {
          "base_uri": "https://localhost:8080/",
          "height": 514
        }
      },
      "source": [
        "pd.DataFrame(results, columns=['Method', 'MeanSquaredLogError']).sort_values('MeanSquaredLogError')"
      ],
      "execution_count": 0,
      "outputs": [
        {
          "output_type": "execute_result",
          "data": {
            "text/html": [
              "<div>\n",
              "<style scoped>\n",
              "    .dataframe tbody tr th:only-of-type {\n",
              "        vertical-align: middle;\n",
              "    }\n",
              "\n",
              "    .dataframe tbody tr th {\n",
              "        vertical-align: top;\n",
              "    }\n",
              "\n",
              "    .dataframe thead th {\n",
              "        text-align: right;\n",
              "    }\n",
              "</style>\n",
              "<table border=\"1\" class=\"dataframe\">\n",
              "  <thead>\n",
              "    <tr style=\"text-align: right;\">\n",
              "      <th></th>\n",
              "      <th>Method</th>\n",
              "      <th>MeanSquaredLogError</th>\n",
              "    </tr>\n",
              "  </thead>\n",
              "  <tbody>\n",
              "    <tr>\n",
              "      <th>5</th>\n",
              "      <td>intuitive linear (vs log(SP))</td>\n",
              "      <td>0.123676</td>\n",
              "    </tr>\n",
              "    <tr>\n",
              "      <th>3</th>\n",
              "      <td>top corrs linear (vs log(SP))</td>\n",
              "      <td>0.137465</td>\n",
              "    </tr>\n",
              "    <tr>\n",
              "      <th>4</th>\n",
              "      <td>scatter visual linear (vs log(SP))</td>\n",
              "      <td>0.142129</td>\n",
              "    </tr>\n",
              "    <tr>\n",
              "      <th>9</th>\n",
              "      <td>Lasso (vs log(SP))</td>\n",
              "      <td>0.154287</td>\n",
              "    </tr>\n",
              "    <tr>\n",
              "      <th>2</th>\n",
              "      <td>linear corr cols</td>\n",
              "      <td>0.157462</td>\n",
              "    </tr>\n",
              "    <tr>\n",
              "      <th>10</th>\n",
              "      <td>LassoCV (vs log(SP))</td>\n",
              "      <td>0.161438</td>\n",
              "    </tr>\n",
              "    <tr>\n",
              "      <th>6</th>\n",
              "      <td>pca (vs log(SP))</td>\n",
              "      <td>0.172419</td>\n",
              "    </tr>\n",
              "    <tr>\n",
              "      <th>11</th>\n",
              "      <td>neural net preprocessed</td>\n",
              "      <td>0.188654</td>\n",
              "    </tr>\n",
              "    <tr>\n",
              "      <th>12</th>\n",
              "      <td>neural net one-hot encoded</td>\n",
              "      <td>0.199638</td>\n",
              "    </tr>\n",
              "    <tr>\n",
              "      <th>8</th>\n",
              "      <td>SVR (vs log(SP))</td>\n",
              "      <td>0.228101</td>\n",
              "    </tr>\n",
              "    <tr>\n",
              "      <th>13</th>\n",
              "      <td>dummy linear (vs log(SP))</td>\n",
              "      <td>0.639603</td>\n",
              "    </tr>\n",
              "    <tr>\n",
              "      <th>0</th>\n",
              "      <td>dummy linear</td>\n",
              "      <td>1.137582</td>\n",
              "    </tr>\n",
              "    <tr>\n",
              "      <th>1</th>\n",
              "      <td>processed linear</td>\n",
              "      <td>1.421287</td>\n",
              "    </tr>\n",
              "    <tr>\n",
              "      <th>14</th>\n",
              "      <td>processed linear (vs log(SP))</td>\n",
              "      <td>9.965038</td>\n",
              "    </tr>\n",
              "    <tr>\n",
              "      <th>7</th>\n",
              "      <td>bad pca (vs log(SP))</td>\n",
              "      <td>14.188796</td>\n",
              "    </tr>\n",
              "  </tbody>\n",
              "</table>\n",
              "</div>"
            ],
            "text/plain": [
              "                                Method  MeanSquaredLogError\n",
              "5        intuitive linear (vs log(SP))             0.123676\n",
              "3        top corrs linear (vs log(SP))             0.137465\n",
              "4   scatter visual linear (vs log(SP))             0.142129\n",
              "9                   Lasso (vs log(SP))             0.154287\n",
              "2                     linear corr cols             0.157462\n",
              "10                LassoCV (vs log(SP))             0.161438\n",
              "6                     pca (vs log(SP))             0.172419\n",
              "11             neural net preprocessed             0.188654\n",
              "12          neural net one-hot encoded             0.199638\n",
              "8                     SVR (vs log(SP))             0.228101\n",
              "13           dummy linear (vs log(SP))             0.639603\n",
              "0                         dummy linear             1.137582\n",
              "1                     processed linear             1.421287\n",
              "14       processed linear (vs log(SP))             9.965038\n",
              "7                 bad pca (vs log(SP))            14.188796"
            ]
          },
          "metadata": {
            "tags": []
          },
          "execution_count": 34
        }
      ]
    },
    {
      "cell_type": "markdown",
      "metadata": {
        "id": "dobxYjmLSIz7",
        "colab_type": "text"
      },
      "source": [
        "From the above analysis we notice a few key things to point out:\n",
        "\n",
        "\n",
        "*   The algorithm with the best accuracy is the intuitive linear regression model\n",
        "*   Simple LinearRegression models work better than more complex ones like Neural Networks in many cases (especially when you don't have the time to do the necessary fine tuning neural networks require)\n",
        "*   Best to have domain knowledge\n",
        "*   \"Black Box\" Algorithms are hard to debug\n",
        "*   Large feature spaces are hard to debug and could decrease accuracy\n",
        "\n",
        "This gives us some good intuition about the type of models that work well for this problem and the relative level of effort needed for each to produce good results. Our main finding is that inuitive approaches are very practical and seem to produce better results than simple models where we throw in all our features into a black-box type algorithm like a neural network.\n",
        "\n",
        "\n"
      ]
    },
    {
      "cell_type": "markdown",
      "metadata": {
        "id": "Ox4fuZ8HZ-7-",
        "colab_type": "text"
      },
      "source": [
        "## Appendix A\n",
        "### Initial EDA"
      ]
    },
    {
      "cell_type": "markdown",
      "metadata": {
        "id": "BH4ANDCois50",
        "colab_type": "text"
      },
      "source": [
        "Below is my original step by step analysis/processing of each feature. This has since been modified and added to the preprocess_data function but is kept here for reference."
      ]
    },
    {
      "cell_type": "code",
      "metadata": {
        "id": "qib3RFt5xa6C",
        "colab_type": "code",
        "outputId": "042a4631-b6e0-4c5a-9f44-e35acf0cbdf2",
        "colab": {
          "base_uri": "https://localhost:8080/",
          "height": 102
        }
      },
      "source": [
        "# drop Id column it shouldn't matter\n",
        "train_data.drop('Id', axis=1, inplace=True)"
      ],
      "execution_count": 0,
      "outputs": [
        {
          "output_type": "stream",
          "text": [
            "/usr/local/lib/python3.6/dist-packages/pandas/core/frame.py:4117: SettingWithCopyWarning: \n",
            "A value is trying to be set on a copy of a slice from a DataFrame\n",
            "\n",
            "See the caveats in the documentation: http://pandas.pydata.org/pandas-docs/stable/user_guide/indexing.html#returning-a-view-versus-a-copy\n",
            "  errors=errors,\n"
          ],
          "name": "stderr"
        }
      ]
    },
    {
      "cell_type": "code",
      "metadata": {
        "id": "h95c_bRvLvje",
        "colab_type": "code",
        "outputId": "6791ae31-34f4-446b-fe6b-b77aa6dbe6ed",
        "colab": {
          "base_uri": "https://localhost:8080/",
          "height": 102
        }
      },
      "source": [
        "# MSSubClass is an int but it really represents a set of categories\n",
        "# the information in the categories is mostly contained in other features so let's drop it\n",
        "train_data.drop('MSSubClass', axis=1, inplace=True)"
      ],
      "execution_count": 0,
      "outputs": [
        {
          "output_type": "stream",
          "text": [
            "/usr/local/lib/python3.6/dist-packages/pandas/core/frame.py:4117: SettingWithCopyWarning: \n",
            "A value is trying to be set on a copy of a slice from a DataFrame\n",
            "\n",
            "See the caveats in the documentation: http://pandas.pydata.org/pandas-docs/stable/user_guide/indexing.html#returning-a-view-versus-a-copy\n",
            "  errors=errors,\n"
          ],
          "name": "stderr"
        }
      ]
    },
    {
      "cell_type": "code",
      "metadata": {
        "id": "2FdFehtgre4C",
        "colab_type": "code",
        "outputId": "1d791298-c3c1-4ed2-ccae-3ddb8f81866a",
        "colab": {
          "base_uri": "https://localhost:8080/",
          "height": 34
        }
      },
      "source": [
        "train_data['MSZoning'].unique()"
      ],
      "execution_count": 0,
      "outputs": [
        {
          "output_type": "execute_result",
          "data": {
            "text/plain": [
              "array(['RL', 'RM', 'RH', 'FV', 'C (all)'], dtype=object)"
            ]
          },
          "metadata": {
            "tags": []
          },
          "execution_count": 37
        }
      ]
    },
    {
      "cell_type": "code",
      "metadata": {
        "id": "FGYnXRVS37IW",
        "colab_type": "code",
        "outputId": "73352f4e-4f5f-43a8-d497-a8a4feb44440",
        "colab": {
          "base_uri": "https://localhost:8080/",
          "height": 323
        }
      },
      "source": [
        "res_zones = ['FV','RH','RL','RP','RM']\n",
        "train_data['ResZoned'] = train_data['MSZoning'].isin(res_zones)\n",
        "train_data['Density'] = train_data.apply(lambda x: 4, axis= 1)\n",
        "train_data.loc[train_data['MSZoning'].isin(['RL', 'RP', 'A']), 'Density'] = 1\n",
        "train_data.loc[train_data['MSZoning'].isin(['RM', 'FV']), 'Density'] = 2\n",
        "train_data.loc[train_data['MSZoning'] == 'RH', 'Density'] = 3"
      ],
      "execution_count": 0,
      "outputs": [
        {
          "output_type": "stream",
          "text": [
            "/usr/local/lib/python3.6/dist-packages/ipykernel_launcher.py:2: SettingWithCopyWarning: \n",
            "A value is trying to be set on a copy of a slice from a DataFrame.\n",
            "Try using .loc[row_indexer,col_indexer] = value instead\n",
            "\n",
            "See the caveats in the documentation: http://pandas.pydata.org/pandas-docs/stable/user_guide/indexing.html#returning-a-view-versus-a-copy\n",
            "  \n",
            "/usr/local/lib/python3.6/dist-packages/ipykernel_launcher.py:3: SettingWithCopyWarning: \n",
            "A value is trying to be set on a copy of a slice from a DataFrame.\n",
            "Try using .loc[row_indexer,col_indexer] = value instead\n",
            "\n",
            "See the caveats in the documentation: http://pandas.pydata.org/pandas-docs/stable/user_guide/indexing.html#returning-a-view-versus-a-copy\n",
            "  This is separate from the ipykernel package so we can avoid doing imports until\n",
            "/usr/local/lib/python3.6/dist-packages/pandas/core/indexing.py:494: SettingWithCopyWarning: \n",
            "A value is trying to be set on a copy of a slice from a DataFrame.\n",
            "Try using .loc[row_indexer,col_indexer] = value instead\n",
            "\n",
            "See the caveats in the documentation: http://pandas.pydata.org/pandas-docs/stable/user_guide/indexing.html#returning-a-view-versus-a-copy\n",
            "  self.obj[item] = s\n"
          ],
          "name": "stderr"
        }
      ]
    },
    {
      "cell_type": "code",
      "metadata": {
        "id": "Qa4CdCrb4kUS",
        "colab_type": "code",
        "outputId": "65c8aa19-e48a-42cc-d2b7-e63646639276",
        "colab": {
          "base_uri": "https://localhost:8080/",
          "height": 102
        }
      },
      "source": [
        "train_data.drop('MSZoning', axis=1, inplace=True)"
      ],
      "execution_count": 0,
      "outputs": [
        {
          "output_type": "stream",
          "text": [
            "/usr/local/lib/python3.6/dist-packages/pandas/core/frame.py:4117: SettingWithCopyWarning: \n",
            "A value is trying to be set on a copy of a slice from a DataFrame\n",
            "\n",
            "See the caveats in the documentation: http://pandas.pydata.org/pandas-docs/stable/user_guide/indexing.html#returning-a-view-versus-a-copy\n",
            "  errors=errors,\n"
          ],
          "name": "stderr"
        }
      ]
    },
    {
      "cell_type": "code",
      "metadata": {
        "id": "LoVghrWi9jpy",
        "colab_type": "code",
        "colab": {}
      },
      "source": [
        "le = LabelEncoder()"
      ],
      "execution_count": 0,
      "outputs": []
    },
    {
      "cell_type": "code",
      "metadata": {
        "id": "9YlzHtBx8g1P",
        "colab_type": "code",
        "outputId": "73e18bdd-9235-4de8-961a-f9b85aa9a25a",
        "colab": {
          "base_uri": "https://localhost:8080/",
          "height": 119
        }
      },
      "source": [
        "train_data['RoadType'] = train_data[['Street']].apply(lambda col: le.fit_transform(col))"
      ],
      "execution_count": 0,
      "outputs": [
        {
          "output_type": "stream",
          "text": [
            "/usr/local/lib/python3.6/dist-packages/ipykernel_launcher.py:1: SettingWithCopyWarning: \n",
            "A value is trying to be set on a copy of a slice from a DataFrame.\n",
            "Try using .loc[row_indexer,col_indexer] = value instead\n",
            "\n",
            "See the caveats in the documentation: http://pandas.pydata.org/pandas-docs/stable/user_guide/indexing.html#returning-a-view-versus-a-copy\n",
            "  \"\"\"Entry point for launching an IPython kernel.\n"
          ],
          "name": "stderr"
        }
      ]
    },
    {
      "cell_type": "code",
      "metadata": {
        "id": "4OLarzTW9vsm",
        "colab_type": "code",
        "outputId": "d18f384f-64b9-4112-ce87-6a4f129cd605",
        "colab": {
          "base_uri": "https://localhost:8080/",
          "height": 102
        }
      },
      "source": [
        "train_data.drop('Street', axis=1, inplace=True)"
      ],
      "execution_count": 0,
      "outputs": [
        {
          "output_type": "stream",
          "text": [
            "/usr/local/lib/python3.6/dist-packages/pandas/core/frame.py:4117: SettingWithCopyWarning: \n",
            "A value is trying to be set on a copy of a slice from a DataFrame\n",
            "\n",
            "See the caveats in the documentation: http://pandas.pydata.org/pandas-docs/stable/user_guide/indexing.html#returning-a-view-versus-a-copy\n",
            "  errors=errors,\n"
          ],
          "name": "stderr"
        }
      ]
    },
    {
      "cell_type": "code",
      "metadata": {
        "id": "jMv4a9De98FB",
        "colab_type": "code",
        "outputId": "7331981a-f872-4a6c-e92f-b3b254145064",
        "colab": {
          "base_uri": "https://localhost:8080/",
          "height": 119
        }
      },
      "source": [
        "train_data['HasAlley'] = train_data['Alley'].isin(['Grvl','Pave'])"
      ],
      "execution_count": 0,
      "outputs": [
        {
          "output_type": "stream",
          "text": [
            "/usr/local/lib/python3.6/dist-packages/ipykernel_launcher.py:1: SettingWithCopyWarning: \n",
            "A value is trying to be set on a copy of a slice from a DataFrame.\n",
            "Try using .loc[row_indexer,col_indexer] = value instead\n",
            "\n",
            "See the caveats in the documentation: http://pandas.pydata.org/pandas-docs/stable/user_guide/indexing.html#returning-a-view-versus-a-copy\n",
            "  \"\"\"Entry point for launching an IPython kernel.\n"
          ],
          "name": "stderr"
        }
      ]
    },
    {
      "cell_type": "code",
      "metadata": {
        "id": "095mS9yT-aZR",
        "colab_type": "code",
        "outputId": "5ad4d15b-a9b0-4220-8c7c-f41cf7d3c455",
        "colab": {
          "base_uri": "https://localhost:8080/",
          "height": 102
        }
      },
      "source": [
        "train_data.drop('Alley', axis=1, inplace=True)"
      ],
      "execution_count": 0,
      "outputs": [
        {
          "output_type": "stream",
          "text": [
            "/usr/local/lib/python3.6/dist-packages/pandas/core/frame.py:4117: SettingWithCopyWarning: \n",
            "A value is trying to be set on a copy of a slice from a DataFrame\n",
            "\n",
            "See the caveats in the documentation: http://pandas.pydata.org/pandas-docs/stable/user_guide/indexing.html#returning-a-view-versus-a-copy\n",
            "  errors=errors,\n"
          ],
          "name": "stderr"
        }
      ]
    },
    {
      "cell_type": "code",
      "metadata": {
        "id": "gu5uFtfz-d2h",
        "colab_type": "code",
        "outputId": "39f0f956-a683-467f-8ca2-152374377db4",
        "colab": {
          "base_uri": "https://localhost:8080/",
          "height": 119
        }
      },
      "source": [
        "oeShape = OrdinalEncoder(categories=[['Reg', 'IR1', 'IR2', 'IR3']])\n",
        "train_data['Shape'] = oeShape.fit_transform(train_data[['LotShape']])"
      ],
      "execution_count": 0,
      "outputs": [
        {
          "output_type": "stream",
          "text": [
            "/usr/local/lib/python3.6/dist-packages/ipykernel_launcher.py:2: SettingWithCopyWarning: \n",
            "A value is trying to be set on a copy of a slice from a DataFrame.\n",
            "Try using .loc[row_indexer,col_indexer] = value instead\n",
            "\n",
            "See the caveats in the documentation: http://pandas.pydata.org/pandas-docs/stable/user_guide/indexing.html#returning-a-view-versus-a-copy\n",
            "  \n"
          ],
          "name": "stderr"
        }
      ]
    },
    {
      "cell_type": "code",
      "metadata": {
        "id": "27Ieku-rA7TH",
        "colab_type": "code",
        "outputId": "e09e2d09-11b2-4dc9-a923-d932f5feb832",
        "colab": {
          "base_uri": "https://localhost:8080/",
          "height": 102
        }
      },
      "source": [
        "train_data.drop('LotShape', axis=1, inplace=True)"
      ],
      "execution_count": 0,
      "outputs": [
        {
          "output_type": "stream",
          "text": [
            "/usr/local/lib/python3.6/dist-packages/pandas/core/frame.py:4117: SettingWithCopyWarning: \n",
            "A value is trying to be set on a copy of a slice from a DataFrame\n",
            "\n",
            "See the caveats in the documentation: http://pandas.pydata.org/pandas-docs/stable/user_guide/indexing.html#returning-a-view-versus-a-copy\n",
            "  errors=errors,\n"
          ],
          "name": "stderr"
        }
      ]
    },
    {
      "cell_type": "code",
      "metadata": {
        "id": "sxXYecBrBfa4",
        "colab_type": "code",
        "outputId": "3c5b3824-51bd-4de7-eaff-e283ec30d07c",
        "colab": {
          "base_uri": "https://localhost:8080/",
          "height": 102
        }
      },
      "source": [
        "train_data.drop('LandContour', axis=1, inplace=True)"
      ],
      "execution_count": 0,
      "outputs": [
        {
          "output_type": "stream",
          "text": [
            "/usr/local/lib/python3.6/dist-packages/pandas/core/frame.py:4117: SettingWithCopyWarning: \n",
            "A value is trying to be set on a copy of a slice from a DataFrame\n",
            "\n",
            "See the caveats in the documentation: http://pandas.pydata.org/pandas-docs/stable/user_guide/indexing.html#returning-a-view-versus-a-copy\n",
            "  errors=errors,\n"
          ],
          "name": "stderr"
        }
      ]
    },
    {
      "cell_type": "code",
      "metadata": {
        "id": "YN3vlhYgCDnR",
        "colab_type": "code",
        "outputId": "216f6d9d-359f-4bd1-b635-07d8a9dc6cd0",
        "colab": {
          "base_uri": "https://localhost:8080/",
          "height": 119
        }
      },
      "source": [
        "oeUtil = OrdinalEncoder(categories=[['ELO', 'NoSeWa', 'NoSewr', 'AllPub']])\n",
        "train_data['Utils'] = oeUtil.fit_transform(train_data[['Utilities']])"
      ],
      "execution_count": 0,
      "outputs": [
        {
          "output_type": "stream",
          "text": [
            "/usr/local/lib/python3.6/dist-packages/ipykernel_launcher.py:2: SettingWithCopyWarning: \n",
            "A value is trying to be set on a copy of a slice from a DataFrame.\n",
            "Try using .loc[row_indexer,col_indexer] = value instead\n",
            "\n",
            "See the caveats in the documentation: http://pandas.pydata.org/pandas-docs/stable/user_guide/indexing.html#returning-a-view-versus-a-copy\n",
            "  \n"
          ],
          "name": "stderr"
        }
      ]
    },
    {
      "cell_type": "code",
      "metadata": {
        "id": "fArXWJgBCohq",
        "colab_type": "code",
        "outputId": "7656c277-025e-4a7a-d51e-c81a68e7a006",
        "colab": {
          "base_uri": "https://localhost:8080/",
          "height": 102
        }
      },
      "source": [
        "train_data.drop('Utilities', axis=1, inplace=True)"
      ],
      "execution_count": 0,
      "outputs": [
        {
          "output_type": "stream",
          "text": [
            "/usr/local/lib/python3.6/dist-packages/pandas/core/frame.py:4117: SettingWithCopyWarning: \n",
            "A value is trying to be set on a copy of a slice from a DataFrame\n",
            "\n",
            "See the caveats in the documentation: http://pandas.pydata.org/pandas-docs/stable/user_guide/indexing.html#returning-a-view-versus-a-copy\n",
            "  errors=errors,\n"
          ],
          "name": "stderr"
        }
      ]
    },
    {
      "cell_type": "code",
      "metadata": {
        "id": "FM7YbN20CtMY",
        "colab_type": "code",
        "outputId": "24572feb-b24f-4d4d-c7a4-e8ddc0d83537",
        "colab": {
          "base_uri": "https://localhost:8080/",
          "height": 221
        }
      },
      "source": [
        "train_data['IsCulDSac'] = train_data['LotConfig'] == 'CulDSac'\n",
        "train_data['HasFrontage'] = train_data['LotConfig'].isin(['FR2', 'FR3'])"
      ],
      "execution_count": 0,
      "outputs": [
        {
          "output_type": "stream",
          "text": [
            "/usr/local/lib/python3.6/dist-packages/ipykernel_launcher.py:1: SettingWithCopyWarning: \n",
            "A value is trying to be set on a copy of a slice from a DataFrame.\n",
            "Try using .loc[row_indexer,col_indexer] = value instead\n",
            "\n",
            "See the caveats in the documentation: http://pandas.pydata.org/pandas-docs/stable/user_guide/indexing.html#returning-a-view-versus-a-copy\n",
            "  \"\"\"Entry point for launching an IPython kernel.\n",
            "/usr/local/lib/python3.6/dist-packages/ipykernel_launcher.py:2: SettingWithCopyWarning: \n",
            "A value is trying to be set on a copy of a slice from a DataFrame.\n",
            "Try using .loc[row_indexer,col_indexer] = value instead\n",
            "\n",
            "See the caveats in the documentation: http://pandas.pydata.org/pandas-docs/stable/user_guide/indexing.html#returning-a-view-versus-a-copy\n",
            "  \n"
          ],
          "name": "stderr"
        }
      ]
    },
    {
      "cell_type": "code",
      "metadata": {
        "id": "VJmA4mFEEDlR",
        "colab_type": "code",
        "outputId": "dda4271b-190b-4f92-fe75-6546d44e9b74",
        "colab": {
          "base_uri": "https://localhost:8080/",
          "height": 102
        }
      },
      "source": [
        "train_data.drop('LotConfig', axis=1, inplace=True)"
      ],
      "execution_count": 0,
      "outputs": [
        {
          "output_type": "stream",
          "text": [
            "/usr/local/lib/python3.6/dist-packages/pandas/core/frame.py:4117: SettingWithCopyWarning: \n",
            "A value is trying to be set on a copy of a slice from a DataFrame\n",
            "\n",
            "See the caveats in the documentation: http://pandas.pydata.org/pandas-docs/stable/user_guide/indexing.html#returning-a-view-versus-a-copy\n",
            "  errors=errors,\n"
          ],
          "name": "stderr"
        }
      ]
    },
    {
      "cell_type": "code",
      "metadata": {
        "id": "hw6YpdxyEHJg",
        "colab_type": "code",
        "outputId": "29f25aba-9210-4dab-e9c5-cc5dc2bba61d",
        "colab": {
          "base_uri": "https://localhost:8080/",
          "height": 119
        }
      },
      "source": [
        "oeSlope = OrdinalEncoder(categories=[['Gtl', 'Mod', 'Sev']])\n",
        "train_data['Slope'] = oeSlope.fit_transform(train_data[['LandSlope']])"
      ],
      "execution_count": 0,
      "outputs": [
        {
          "output_type": "stream",
          "text": [
            "/usr/local/lib/python3.6/dist-packages/ipykernel_launcher.py:2: SettingWithCopyWarning: \n",
            "A value is trying to be set on a copy of a slice from a DataFrame.\n",
            "Try using .loc[row_indexer,col_indexer] = value instead\n",
            "\n",
            "See the caveats in the documentation: http://pandas.pydata.org/pandas-docs/stable/user_guide/indexing.html#returning-a-view-versus-a-copy\n",
            "  \n"
          ],
          "name": "stderr"
        }
      ]
    },
    {
      "cell_type": "code",
      "metadata": {
        "id": "OqphsdF3EaZ5",
        "colab_type": "code",
        "outputId": "5acfef8c-a81e-412f-a31a-6dad6f93cfae",
        "colab": {
          "base_uri": "https://localhost:8080/",
          "height": 102
        }
      },
      "source": [
        "train_data.drop('LandSlope', axis=1, inplace=True)"
      ],
      "execution_count": 0,
      "outputs": [
        {
          "output_type": "stream",
          "text": [
            "/usr/local/lib/python3.6/dist-packages/pandas/core/frame.py:4117: SettingWithCopyWarning: \n",
            "A value is trying to be set on a copy of a slice from a DataFrame\n",
            "\n",
            "See the caveats in the documentation: http://pandas.pydata.org/pandas-docs/stable/user_guide/indexing.html#returning-a-view-versus-a-copy\n",
            "  errors=errors,\n"
          ],
          "name": "stderr"
        }
      ]
    },
    {
      "cell_type": "code",
      "metadata": {
        "id": "-2VzZuLYEiKp",
        "colab_type": "code",
        "colab": {}
      },
      "source": [
        "train_data = pd.concat([train_data, pd.get_dummies(train_data['Neighborhood'])], axis=1)"
      ],
      "execution_count": 0,
      "outputs": []
    },
    {
      "cell_type": "code",
      "metadata": {
        "id": "ec_TdYzXFOdx",
        "colab_type": "code",
        "colab": {}
      },
      "source": [
        "train_data.drop('Neighborhood', axis=1, inplace=True)"
      ],
      "execution_count": 0,
      "outputs": []
    },
    {
      "cell_type": "code",
      "metadata": {
        "id": "hdoi_ttvFQh6",
        "colab_type": "code",
        "colab": {}
      },
      "source": [
        "def get_prox_num(x):\n",
        "  pos = 0\n",
        "  neg = 0\n",
        "  if(x['Condition1'] == 'RRAn' or x['Condition1'] == 'RRAe'  or x['Condition2'] == 'RRAn' or x['Condition2'] == 'RRAe'):\n",
        "    neg = -2\n",
        "  elif(x['Condition1'] == 'RRNn' or x['Condition1'] == 'RRNe'  or x['Condition2'] == 'RRNn' or x['Condition2'] == 'RRNe'):\n",
        "    neg = -1\n",
        "  \n",
        "  if(x['Condition1'] == 'PosA'  or x['Condition2'] == 'PosA'):\n",
        "    pos = 2\n",
        "  elif(x['Condition1'] == 'PosN'  or x['Condition2'] == 'PosN'):\n",
        "    pos = 1\n",
        "\n",
        "  return pos + neg"
      ],
      "execution_count": 0,
      "outputs": []
    },
    {
      "cell_type": "code",
      "metadata": {
        "id": "JYruO0voGZxp",
        "colab_type": "code",
        "colab": {}
      },
      "source": [
        "train_data['ProximityScore'] = train_data.apply(lambda x: get_prox_num(x), axis=1)"
      ],
      "execution_count": 0,
      "outputs": []
    },
    {
      "cell_type": "code",
      "metadata": {
        "id": "Ec0DLbt_ii9m",
        "colab_type": "code",
        "colab": {}
      },
      "source": [
        "train_data.drop(['Condition1', 'Condition2'], axis=1, inplace=True)"
      ],
      "execution_count": 0,
      "outputs": []
    },
    {
      "cell_type": "code",
      "metadata": {
        "id": "hANj8cSooYk_",
        "colab_type": "code",
        "colab": {}
      },
      "source": [
        "\n",
        "oeBldg = OrdinalEncoder(categories=[['2FmCon', 'TwnhsI', 'TwnhsE', 'Duplx', '1Fam']])\n",
        "train_data.loc[train_data['BldgType'] == '2fmCon', 'BldgType'] = '2FmCon'\n",
        "train_data.loc[train_data['BldgType'] == 'Twnhs', 'BldgType'] = 'TwnhsI'\n",
        "train_data.loc[train_data['BldgType'] == 'Duplex', 'BldgType'] = 'Duplx'\n",
        "train_data['Bldg'] = oeBldg.fit_transform(train_data[['BldgType']])"
      ],
      "execution_count": 0,
      "outputs": []
    },
    {
      "cell_type": "code",
      "metadata": {
        "id": "upuDl1x-hm5x",
        "colab_type": "code",
        "colab": {}
      },
      "source": [
        "train_data.drop('BldgType', axis=1, inplace=True)"
      ],
      "execution_count": 0,
      "outputs": []
    },
    {
      "cell_type": "code",
      "metadata": {
        "id": "SehZnrIeiuHw",
        "colab_type": "code",
        "colab": {}
      },
      "source": [
        "oeHouse = OrdinalEncoder(categories=[['1Story', '1.5Unf', '1.5Fin', 'SFoyer', 'SLvl', '2Story', '2.5Unf', '2.5Fin']])\n",
        "train_data['House'] = oeHouse.fit_transform(train_data[['HouseStyle']])"
      ],
      "execution_count": 0,
      "outputs": []
    },
    {
      "cell_type": "code",
      "metadata": {
        "id": "pue86d_1i2Tv",
        "colab_type": "code",
        "colab": {}
      },
      "source": [
        "train_data.drop('HouseStyle', axis=1, inplace=True)"
      ],
      "execution_count": 0,
      "outputs": []
    },
    {
      "cell_type": "code",
      "metadata": {
        "id": "mQ5W-zHEi7rD",
        "colab_type": "code",
        "outputId": "bc2b91bc-2cd2-47f4-e193-75e57fc9e0aa",
        "colab": {
          "base_uri": "https://localhost:8080/",
          "height": 85
        }
      },
      "source": [
        "print(train_data['YearBuilt'].min())\n",
        "print(train_data['YearRemodAdd'].min())\n",
        "print(train_data['YearBuilt'].max())\n",
        "print(train_data['YearRemodAdd'].max())"
      ],
      "execution_count": 0,
      "outputs": [
        {
          "output_type": "stream",
          "text": [
            "1875\n",
            "1950\n",
            "2010\n",
            "2010\n"
          ],
          "name": "stdout"
        }
      ]
    },
    {
      "cell_type": "code",
      "metadata": {
        "id": "53j1-w24mUZr",
        "colab_type": "code",
        "outputId": "1d3adb0b-9a2d-4069-a785-cb0af774cf16",
        "colab": {
          "base_uri": "https://localhost:8080/",
          "height": 320
        }
      },
      "source": [
        "fig, ax = plt.subplots(figsize=(5, 5))\n",
        "ax.hist(train_data['YearBuilt'], bins = 50)\n",
        "fig.show()"
      ],
      "execution_count": 0,
      "outputs": [
        {
          "output_type": "display_data",
          "data": {
            "image/png": "[encoded data removed]",
            "text/plain": [
              "<Figure size 360x360 with 1 Axes>"
            ]
          },
          "metadata": {
            "tags": []
          }
        }
      ]
    },
    {
      "cell_type": "code",
      "metadata": {
        "id": "_6ubvsPHmxWE",
        "colab_type": "code",
        "colab": {}
      },
      "source": [
        "train_data.drop('RoofStyle', axis=1, inplace=True)"
      ],
      "execution_count": 0,
      "outputs": []
    },
    {
      "cell_type": "code",
      "metadata": {
        "id": "bHVwmnW7onpj",
        "colab_type": "code",
        "outputId": "dd525d19-707a-4835-d740-3d13c20a1d2c",
        "colab": {
          "base_uri": "https://localhost:8080/",
          "height": 512
        }
      },
      "source": [
        "fig = plt.figure(figsize=(16,8))\n",
        "mats = train_data['RoofMatl'].unique()\n",
        "for idx,mat in enumerate(mats, start=1):\n",
        "  ax = fig.add_subplot(2,4,idx)\n",
        "  ax.hist(train_data.loc[train_data['RoofMatl'] == mat, 'SalePrice'], bins = 20)\n",
        "  ax.set_title(mat)\n",
        "fig.show()"
      ],
      "execution_count": 0,
      "outputs": [
        {
          "output_type": "display_data",
          "data": {
            "image/png": "[encoded data removed]",
            "text/plain": [
              "<Figure size 1152x576 with 8 Axes>"
            ]
          },
          "metadata": {
            "tags": []
          }
        }
      ]
    },
    {
      "cell_type": "code",
      "metadata": {
        "id": "mH_gZeIMph93",
        "colab_type": "code",
        "outputId": "e978c2c3-6672-4d97-8937-3dbe4a97f94d",
        "colab": {
          "base_uri": "https://localhost:8080/",
          "height": 85
        }
      },
      "source": [
        "print(len(train_data.loc[train_data['RoofMatl'] == 'Metal']))\n",
        "print(len(train_data.loc[train_data['RoofMatl'] == 'Membran']))\n",
        "print(len(train_data.loc[train_data['RoofMatl'] == 'Roll']))\n",
        "print(len(train_data.loc[train_data['RoofMatl'] == 'ClyTile']))"
      ],
      "execution_count": 0,
      "outputs": [
        {
          "output_type": "stream",
          "text": [
            "1\n",
            "1\n",
            "1\n",
            "1\n"
          ],
          "name": "stdout"
        }
      ]
    },
    {
      "cell_type": "code",
      "metadata": {
        "id": "AlG8vvsZrSFR",
        "colab_type": "code",
        "colab": {}
      },
      "source": [
        "# not enough distribution on the values besides CompShg\n",
        "train_data.drop('RoofMatl', axis=1, inplace=True)"
      ],
      "execution_count": 0,
      "outputs": []
    },
    {
      "cell_type": "code",
      "metadata": {
        "id": "1tpWj5oUsEmh",
        "colab_type": "code",
        "colab": {}
      },
      "source": [
        "ext_dummies = pd.get_dummies(train_data[['Exterior1st', 'Exterior2nd']], {'Exterior1st': 'Ext', 'Exterior2nd': 'Ext2'}, columns=['Exterior1st', 'Exterior2nd'])\n",
        "\n",
        "rmvCols = []\n",
        "for col in ext_dummies.columns:\n",
        "  if 'Ext2' in col:\n",
        "    mat = col.split('_')[1]\n",
        "    if mat == 'Brk Cmn':\n",
        "      mat = 'BrkComm'\n",
        "    if mat == 'CmentBd':\n",
        "      mat = 'CemntBd'\n",
        "    if mat == 'Wd Shng':\n",
        "      mat = 'WdShing'\n",
        "    extCol = 'Ext_' + mat\n",
        "    if extCol not in ext_dummies.columns:\n",
        "      ext_dummies[extCol] = ext_dummies[col]\n",
        "    ext_dummies[extCol] = ext_dummies[extCol] | ext_dummies[col]\n",
        "    rmvCols.append(col)\n",
        "ext_dummies.drop(rmvCols, axis=1, inplace=True)\n",
        "\n",
        "train_data = pd.concat([train_data, ext_dummies], axis=1)"
      ],
      "execution_count": 0,
      "outputs": []
    },
    {
      "cell_type": "code",
      "metadata": {
        "id": "ZNqldN5Sx2Ky",
        "colab_type": "code",
        "colab": {}
      },
      "source": [
        "train_data.drop(['Exterior1st', 'Exterior2nd'], axis=1, inplace=True)"
      ],
      "execution_count": 0,
      "outputs": []
    },
    {
      "cell_type": "code",
      "metadata": {
        "id": "_2eDKsuc1toM",
        "colab_type": "code",
        "colab": {}
      },
      "source": [
        "train_data.loc[train_data['MasVnrType'].isna(), 'MasVnrType'] = 'None'\n",
        "oeMasonry = OrdinalEncoder(categories=[['CBlock', 'None', 'BrkCmn', 'BrkFace', 'Stone']])\n",
        "train_data['Masonry'] = oeMasonry.fit_transform(train_data[['MasVnrType']])"
      ],
      "execution_count": 0,
      "outputs": []
    },
    {
      "cell_type": "code",
      "metadata": {
        "id": "kPD5FsK42gEL",
        "colab_type": "code",
        "colab": {}
      },
      "source": [
        "train_data.drop('MasVnrType', axis=1, inplace=True)"
      ],
      "execution_count": 0,
      "outputs": []
    },
    {
      "cell_type": "code",
      "metadata": {
        "id": "FfBBS5Cm9aHp",
        "colab_type": "code",
        "colab": {}
      },
      "source": [
        "train_data.loc[train_data['MasVnrArea'].isna(), 'MasVnrArea'] = 0"
      ],
      "execution_count": 0,
      "outputs": []
    },
    {
      "cell_type": "code",
      "metadata": {
        "id": "kOK8inRZ9h36",
        "colab_type": "code",
        "colab": {}
      },
      "source": [
        "oeExtQ = OrdinalEncoder(categories=[['Po', 'Fa', 'TA', 'Gd', 'Ex']])\n",
        "train_data['ExtQual'] = oeExtQ.fit_transform(train_data[['ExterQual']])\n",
        "train_data['ExtCond'] = oeExtQ.fit_transform(train_data[['ExterCond']])"
      ],
      "execution_count": 0,
      "outputs": []
    },
    {
      "cell_type": "code",
      "metadata": {
        "id": "HQVc8DMN-jHX",
        "colab_type": "code",
        "colab": {}
      },
      "source": [
        "train_data.drop(['ExterQual', 'ExterCond'], axis=1, inplace=True)"
      ],
      "execution_count": 0,
      "outputs": []
    },
    {
      "cell_type": "code",
      "metadata": {
        "id": "7cWIpChZ-nGy",
        "colab_type": "code",
        "outputId": "506ac071-fa68-42f7-f4ab-53cd8f846c23",
        "colab": {
          "base_uri": "https://localhost:8080/",
          "height": 601
        }
      },
      "source": [
        "fig = plt.figure(figsize=(18,8))\n",
        "mats = train_data['Foundation'].unique()\n",
        "for idx,mat in enumerate(mats, start=1):\n",
        "  ax = fig.add_subplot(2,3,idx)\n",
        "  ax.hist(train_data.loc[train_data['Foundation'] == mat, 'SalePrice'], bins = 20)\n",
        "  ax.set_title(mat)\n",
        "  print(mat + ' mean= ' + str(train_data.loc[train_data['Foundation'] == mat, 'SalePrice'].mean()))\n",
        "fig.show()"
      ],
      "execution_count": 0,
      "outputs": [
        {
          "output_type": "stream",
          "text": [
            "CBlock mean= 151068.08735632183\n",
            "Stone mean= 178595.8\n",
            "PConc mean= 220316.32488479262\n",
            "BrkTil mean= 130749.92523364486\n",
            "Wood mean= 196500.0\n",
            "Slab mean= 109386.76470588235\n"
          ],
          "name": "stdout"
        },
        {
          "output_type": "display_data",
          "data": {
            "image/png": "[encoded data removed]",
            "text/plain": [
              "<Figure size 1296x576 with 6 Axes>"
            ]
          },
          "metadata": {
            "tags": []
          }
        }
      ]
    },
    {
      "cell_type": "code",
      "metadata": {
        "id": "rz9iUiZ__Am4",
        "colab_type": "code",
        "colab": {}
      },
      "source": [
        "oeFound = OrdinalEncoder(categories=[['Slab', 'BrkTil', 'CBlock', 'Stone', 'Wood', 'PConc']])\n",
        "train_data['FoundationMat'] = oeFound.fit_transform(train_data[['Foundation']])"
      ],
      "execution_count": 0,
      "outputs": []
    },
    {
      "cell_type": "code",
      "metadata": {
        "id": "DB07Y5tdAoKG",
        "colab_type": "code",
        "colab": {}
      },
      "source": [
        "train_data.drop('Foundation', axis=1, inplace=True)"
      ],
      "execution_count": 0,
      "outputs": []
    },
    {
      "cell_type": "code",
      "metadata": {
        "id": "7VQa0XefAs8E",
        "colab_type": "code",
        "colab": {}
      },
      "source": [
        "train_data.loc[train_data['BsmtQual'].isna(), 'BsmtQual'] = 'NA'\n",
        "train_data.loc[train_data['BsmtCond'].isna(), 'BsmtCond'] = 'NA'\n",
        "oeBsmtQ = OrdinalEncoder(categories=[['NA', 'Po', 'Fa', 'TA', 'Gd', 'Ex']])\n",
        "train_data['BsmtQ'] = oeBsmtQ.fit_transform(train_data[['BsmtQual']])\n",
        "train_data['BsmtC'] = oeBsmtQ.fit_transform(train_data[['BsmtCond']])"
      ],
      "execution_count": 0,
      "outputs": []
    },
    {
      "cell_type": "code",
      "metadata": {
        "id": "kVz1_gpyBkz8",
        "colab_type": "code",
        "colab": {}
      },
      "source": [
        "train_data.drop(['BsmtQual', 'BsmtCond'], axis=1, inplace=True)"
      ],
      "execution_count": 0,
      "outputs": []
    },
    {
      "cell_type": "code",
      "metadata": {
        "id": "AxdgUG8gCEUS",
        "colab_type": "code",
        "colab": {}
      },
      "source": [
        "train_data.loc[train_data['BsmtExposure'].isna(), 'BsmtExposure'] = 'NA'\n",
        "oeBsmtExp = OrdinalEncoder(categories=[['NA', 'No', 'Mn', 'Av', 'Gd']])\n",
        "train_data['BsmtExp'] = oeBsmtExp.fit_transform(train_data[['BsmtExposure']])"
      ],
      "execution_count": 0,
      "outputs": []
    },
    {
      "cell_type": "code",
      "metadata": {
        "id": "y5Txt9hNCvIk",
        "colab_type": "code",
        "colab": {}
      },
      "source": [
        "train_data.drop('BsmtExposure', axis=1, inplace=True)"
      ],
      "execution_count": 0,
      "outputs": []
    },
    {
      "cell_type": "code",
      "metadata": {
        "id": "a9lElF51DDwc",
        "colab_type": "code",
        "colab": {}
      },
      "source": [
        "train_data['FinBsmtArea'] = train_data['TotalBsmtSF'] - train_data['BsmtUnfSF']"
      ],
      "execution_count": 0,
      "outputs": []
    },
    {
      "cell_type": "code",
      "metadata": {
        "id": "dxOx1HDQEb5E",
        "colab_type": "code",
        "colab": {}
      },
      "source": [
        "train_data.drop(['BsmtFinType1', 'BsmtFinSF1', 'BsmtFinType2', 'BsmtFinSF2', 'TotalBsmtSF', 'BsmtUnfSF'], axis=1, inplace=True)"
      ],
      "execution_count": 0,
      "outputs": []
    },
    {
      "cell_type": "code",
      "metadata": {
        "id": "MPs_M6JNEt1a",
        "colab_type": "code",
        "colab": {}
      },
      "source": [
        "oeHeat = OrdinalEncoder(categories=[['Po', 'Fa', 'TA', 'Gd', 'Ex']])\n",
        "train_data['HeatingQual'] = oeHeat.fit_transform(train_data[['HeatingQC']])"
      ],
      "execution_count": 0,
      "outputs": []
    },
    {
      "cell_type": "code",
      "metadata": {
        "id": "J4pdcjH3FX5k",
        "colab_type": "code",
        "colab": {}
      },
      "source": [
        "train_data.drop(['HeatingQC', 'Heating'], axis=1, inplace=True)"
      ],
      "execution_count": 0,
      "outputs": []
    },
    {
      "cell_type": "code",
      "metadata": {
        "id": "jMhcD2h-GCvS",
        "colab_type": "code",
        "colab": {}
      },
      "source": [
        "train_data['CentrlAir'] = train_data[['CentralAir']].apply(lambda col: le.fit_transform(col))"
      ],
      "execution_count": 0,
      "outputs": []
    },
    {
      "cell_type": "code",
      "metadata": {
        "id": "sCJ7jY-cGhK7",
        "colab_type": "code",
        "colab": {}
      },
      "source": [
        "train_data.drop('CentralAir', axis=1, inplace=True)"
      ],
      "execution_count": 0,
      "outputs": []
    },
    {
      "cell_type": "code",
      "metadata": {
        "id": "IQnNZuULGskd",
        "colab_type": "code",
        "colab": {}
      },
      "source": [
        "train_data.loc[train_data['Electrical'].isna(), 'Electrical'] = 'NA'\n",
        "oeElec = OrdinalEncoder(categories=[['NA', 'FuseP', 'FuseF', 'Mix', 'FuseA', 'SBrkr']])\n",
        "train_data['Elec'] = oeElec.fit_transform(train_data[['Electrical']])"
      ],
      "execution_count": 0,
      "outputs": []
    },
    {
      "cell_type": "code",
      "metadata": {
        "id": "M5ORDKbiHMUM",
        "colab_type": "code",
        "colab": {}
      },
      "source": [
        "train_data.drop('Electrical', axis=1, inplace=True)"
      ],
      "execution_count": 0,
      "outputs": []
    },
    {
      "cell_type": "code",
      "metadata": {
        "id": "F6d_uyGUHg0C",
        "colab_type": "code",
        "colab": {}
      },
      "source": [
        "oeKitch = OrdinalEncoder(categories=[['Po', 'Fa', 'TA', 'Gd', 'Ex']])\n",
        "train_data['KitchQual'] = oeKitch.fit_transform(train_data[['KitchenQual']])"
      ],
      "execution_count": 0,
      "outputs": []
    },
    {
      "cell_type": "code",
      "metadata": {
        "id": "6ENjObWNIBjs",
        "colab_type": "code",
        "colab": {}
      },
      "source": [
        "train_data.drop('KitchenQual', axis=1, inplace=True)"
      ],
      "execution_count": 0,
      "outputs": []
    },
    {
      "cell_type": "code",
      "metadata": {
        "id": "GbZRKSnBIDn8",
        "colab_type": "code",
        "colab": {}
      },
      "source": [
        "oeFunc = OrdinalEncoder(categories=[['Sal', 'Sev', 'Maj2', 'Maj1', 'Mod', 'Min2', 'Min1', 'Typ']])\n",
        "train_data['HomeFunct'] = oeFunc.fit_transform(train_data[['Functional']])"
      ],
      "execution_count": 0,
      "outputs": []
    },
    {
      "cell_type": "code",
      "metadata": {
        "id": "AKJyyldRIldM",
        "colab_type": "code",
        "colab": {}
      },
      "source": [
        "train_data.drop('Functional', axis=1, inplace=True)"
      ],
      "execution_count": 0,
      "outputs": []
    },
    {
      "cell_type": "code",
      "metadata": {
        "id": "xNzoHe9XIowr",
        "colab_type": "code",
        "colab": {}
      },
      "source": [
        "train_data.loc[train_data['FireplaceQu'].isna(), 'FireplaceQu'] = 'NA'\n",
        "oeFireQ = OrdinalEncoder(categories=[['NA', 'Po', 'Fa', 'TA', 'Gd', 'Ex']])\n",
        "train_data['FireplQual'] = oeFireQ.fit_transform(train_data[['FireplaceQu']])"
      ],
      "execution_count": 0,
      "outputs": []
    },
    {
      "cell_type": "code",
      "metadata": {
        "id": "8SQJC9KfI9Se",
        "colab_type": "code",
        "colab": {}
      },
      "source": [
        "train_data.drop('FireplaceQu', axis=1, inplace=True)"
      ],
      "execution_count": 0,
      "outputs": []
    },
    {
      "cell_type": "code",
      "metadata": {
        "id": "zU3zGPmeJMC8",
        "colab_type": "code",
        "colab": {}
      },
      "source": [
        "train_data.loc[train_data['GarageQual'].isna(), 'GarageQual'] = 'NA'\n",
        "train_data.loc[train_data['GarageCond'].isna(), 'GarageCond'] = 'NA'\n",
        "oeGarage = OrdinalEncoder(categories=[['NA', 'Po', 'Fa', 'TA', 'Gd', 'Ex']])\n",
        "train_data['GarageQ'] = oeGarage.fit_transform(train_data[['GarageQual']])\n",
        "train_data['GarageC'] = oeGarage.fit_transform(train_data[['GarageCond']])"
      ],
      "execution_count": 0,
      "outputs": []
    },
    {
      "cell_type": "code",
      "metadata": {
        "id": "IAykf_OyKFX0",
        "colab_type": "code",
        "colab": {}
      },
      "source": [
        "train_data.loc[train_data['GarageFinish'].isna(), 'GarageFinish'] = 'NA'\n",
        "oeGarageFin = OrdinalEncoder(categories=[['NA', 'Unf', 'RFn', 'Fin']])\n",
        "train_data['GarageFin'] = oeGarageFin.fit_transform(train_data[['GarageFinish']])"
      ],
      "execution_count": 0,
      "outputs": []
    },
    {
      "cell_type": "code",
      "metadata": {
        "id": "LGcRi6L2Kdr7",
        "colab_type": "code",
        "colab": {}
      },
      "source": [
        "train_data.drop(['GarageType','GarageFinish','GarageQual','GarageCond'], axis=1, inplace=True)"
      ],
      "execution_count": 0,
      "outputs": []
    },
    {
      "cell_type": "code",
      "metadata": {
        "id": "ERw7X1uQK_Qc",
        "colab_type": "code",
        "colab": {}
      },
      "source": [
        "oeDrive = OrdinalEncoder(categories=[['N', 'P', 'Y']])\n",
        "train_data['Driveway'] = oeDrive.fit_transform(train_data[['PavedDrive']])"
      ],
      "execution_count": 0,
      "outputs": []
    },
    {
      "cell_type": "code",
      "metadata": {
        "id": "AwIUfgCNLQkc",
        "colab_type": "code",
        "colab": {}
      },
      "source": [
        "train_data.drop('PavedDrive', axis=1, inplace=True)"
      ],
      "execution_count": 0,
      "outputs": []
    },
    {
      "cell_type": "code",
      "metadata": {
        "id": "0a_2By4XLTc0",
        "colab_type": "code",
        "colab": {}
      },
      "source": [
        "train_data.loc[train_data['PoolQC'].isna(), 'PoolQC'] = 'NA'\n",
        "oePool = OrdinalEncoder(categories=[['NA', 'Fa', 'TA', 'Gd', 'Ex']])\n",
        "train_data['PoolQual'] = oePool.fit_transform(train_data[['PoolQC']])"
      ],
      "execution_count": 0,
      "outputs": []
    },
    {
      "cell_type": "code",
      "metadata": {
        "id": "MuRvf89SLzS1",
        "colab_type": "code",
        "colab": {}
      },
      "source": [
        "train_data.drop('PoolQC', axis=1, inplace=True)"
      ],
      "execution_count": 0,
      "outputs": []
    },
    {
      "cell_type": "code",
      "metadata": {
        "id": "K5p8LkQeL5Pt",
        "colab_type": "code",
        "colab": {}
      },
      "source": [
        "train_data.loc[train_data['Fence'].isna(), 'Fence'] = 'NA'\n",
        "oeFence = OrdinalEncoder(categories=[['NA', 'MnWw', 'GdWo', 'MnPrv', 'GdPrv']])\n",
        "train_data['FenceQual'] = oeFence.fit_transform(train_data[['Fence']])"
      ],
      "execution_count": 0,
      "outputs": []
    },
    {
      "cell_type": "code",
      "metadata": {
        "id": "q3HdKb61MPID",
        "colab_type": "code",
        "colab": {}
      },
      "source": [
        "train_data.drop('Fence', axis=1, inplace=True)"
      ],
      "execution_count": 0,
      "outputs": []
    },
    {
      "cell_type": "code",
      "metadata": {
        "id": "w2xNF2K7MTJE",
        "colab_type": "code",
        "colab": {}
      },
      "source": [
        "train_data = pd.get_dummies(train_data, columns=['MiscFeature', 'SaleType', 'SaleCondition'])"
      ],
      "execution_count": 0,
      "outputs": []
    },
    {
      "cell_type": "code",
      "metadata": {
        "id": "ygx7bzc5Mt18",
        "colab_type": "code",
        "outputId": "1ce39f8c-25c8-433b-a9d7-5d5e2242eb3f",
        "colab": {
          "base_uri": "https://localhost:8080/",
          "height": 1000
        }
      },
      "source": [
        "pd.options.display.max_rows = 200\n",
        "print(train_data.isna().any())\n",
        "pd.options.display.max_rows = 60"
      ],
      "execution_count": 0,
      "outputs": [
        {
          "output_type": "stream",
          "text": [
            "LotFrontage               True\n",
            "LotArea                  False\n",
            "OverallQual              False\n",
            "OverallCond              False\n",
            "YearBuilt                False\n",
            "YearRemodAdd             False\n",
            "MasVnrArea               False\n",
            "1stFlrSF                 False\n",
            "2ndFlrSF                 False\n",
            "LowQualFinSF             False\n",
            "GrLivArea                False\n",
            "BsmtFullBath             False\n",
            "BsmtHalfBath             False\n",
            "FullBath                 False\n",
            "HalfBath                 False\n",
            "BedroomAbvGr             False\n",
            "KitchenAbvGr             False\n",
            "TotRmsAbvGrd             False\n",
            "Fireplaces               False\n",
            "GarageYrBlt               True\n",
            "GarageCars               False\n",
            "GarageArea               False\n",
            "WoodDeckSF               False\n",
            "OpenPorchSF              False\n",
            "EnclosedPorch            False\n",
            "3SsnPorch                False\n",
            "ScreenPorch              False\n",
            "PoolArea                 False\n",
            "MiscVal                  False\n",
            "MoSold                   False\n",
            "YrSold                   False\n",
            "SalePrice                False\n",
            "ResZoned                 False\n",
            "Density                  False\n",
            "RoadType                 False\n",
            "HasAlley                 False\n",
            "Shape                    False\n",
            "Utils                    False\n",
            "IsCulDSac                False\n",
            "HasFrontage              False\n",
            "Slope                    False\n",
            "Blmngtn                  False\n",
            "Blueste                  False\n",
            "BrDale                   False\n",
            "BrkSide                  False\n",
            "ClearCr                  False\n",
            "CollgCr                  False\n",
            "Crawfor                  False\n",
            "Edwards                  False\n",
            "Gilbert                  False\n",
            "IDOTRR                   False\n",
            "MeadowV                  False\n",
            "Mitchel                  False\n",
            "NAmes                    False\n",
            "NPkVill                  False\n",
            "NWAmes                   False\n",
            "NoRidge                  False\n",
            "NridgHt                  False\n",
            "OldTown                  False\n",
            "SWISU                    False\n",
            "Sawyer                   False\n",
            "SawyerW                  False\n",
            "Somerst                  False\n",
            "StoneBr                  False\n",
            "Timber                   False\n",
            "Veenker                  False\n",
            "ProximityScore           False\n",
            "Bldg                     False\n",
            "House                    False\n",
            "Ext_AsbShng              False\n",
            "Ext_AsphShn              False\n",
            "Ext_BrkComm              False\n",
            "Ext_BrkFace              False\n",
            "Ext_CBlock               False\n",
            "Ext_CemntBd              False\n",
            "Ext_HdBoard              False\n",
            "Ext_ImStucc              False\n",
            "Ext_MetalSd              False\n",
            "Ext_Plywood              False\n",
            "Ext_Stone                False\n",
            "Ext_Stucco               False\n",
            "Ext_VinylSd              False\n",
            "Ext_Wd Sdng              False\n",
            "Ext_WdShing              False\n",
            "Ext_Other                False\n",
            "Masonry                  False\n",
            "ExtQual                  False\n",
            "ExtCond                  False\n",
            "FoundationMat            False\n",
            "BsmtQ                    False\n",
            "BsmtC                    False\n",
            "BsmtExp                  False\n",
            "FinBsmtArea              False\n",
            "HeatingQual              False\n",
            "CentrlAir                False\n",
            "Elec                     False\n",
            "KitchQual                False\n",
            "HomeFunct                False\n",
            "FireplQual               False\n",
            "GarageQ                  False\n",
            "GarageC                  False\n",
            "GarageFin                False\n",
            "Driveway                 False\n",
            "PoolQual                 False\n",
            "FenceQual                False\n",
            "MiscFeature_Gar2         False\n",
            "MiscFeature_Othr         False\n",
            "MiscFeature_Shed         False\n",
            "MiscFeature_TenC         False\n",
            "SaleType_COD             False\n",
            "SaleType_CWD             False\n",
            "SaleType_Con             False\n",
            "SaleType_ConLD           False\n",
            "SaleType_ConLI           False\n",
            "SaleType_ConLw           False\n",
            "SaleType_New             False\n",
            "SaleType_Oth             False\n",
            "SaleType_WD              False\n",
            "SaleCondition_Abnorml    False\n",
            "SaleCondition_AdjLand    False\n",
            "SaleCondition_Alloca     False\n",
            "SaleCondition_Family     False\n",
            "SaleCondition_Normal     False\n",
            "SaleCondition_Partial    False\n",
            "dtype: bool\n"
          ],
          "name": "stdout"
        }
      ]
    },
    {
      "cell_type": "code",
      "metadata": {
        "id": "meWG7aNEQZKH",
        "colab_type": "code",
        "colab": {}
      },
      "source": [
        "train_data.loc[train_data['LotFrontage'].isna(), 'LotFrontage'] = 0\n",
        "train_data.loc[train_data['GarageYrBlt'].isna(), 'GarageYrBlt'] = train_data.loc[train_data['GarageYrBlt'].isna(), 'YearBuilt']\n"
      ],
      "execution_count": 0,
      "outputs": []
    },
    {
      "cell_type": "code",
      "metadata": {
        "id": "fiOlWFyPOcAl",
        "colab_type": "code",
        "outputId": "133d3b5f-3404-4f18-bbec-c9e2a3b595ca",
        "colab": {
          "base_uri": "https://localhost:8080/",
          "height": 34
        }
      },
      "source": [
        "X = train_data.drop(['SalePrice'], axis=1)\n",
        "y = train_data['SalePrice']\n",
        "lm = LinearRegression()\n",
        "lm.fit(X,y)\n",
        "y_pred = lm.predict(X)\n",
        "sqrt(mean_squared_log_error(y, y_pred))"
      ],
      "execution_count": 0,
      "outputs": [
        {
          "output_type": "execute_result",
          "data": {
            "text/plain": [
              "0.1503808011524099"
            ]
          },
          "metadata": {
            "tags": []
          },
          "execution_count": 109
        }
      ]
    },
    {
      "cell_type": "code",
      "metadata": {
        "id": "-W8QWP1JPdqd",
        "colab_type": "code",
        "colab": {}
      },
      "source": [
        ""
      ],
      "execution_count": 0,
      "outputs": []
    }
  ]
}