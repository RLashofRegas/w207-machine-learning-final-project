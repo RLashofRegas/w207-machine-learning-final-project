{
  "nbformat": 4,
  "nbformat_minor": 0,
  "metadata": {
    "colab": {
      "name": "Untitled0.ipynb",
      "provenance": [],
      "collapsed_sections": []
    },
    "kernelspec": {
      "name": "python3",
      "display_name": "Python 3"
    }
  },
  "cells": [
    {
      "cell_type": "code",
      "metadata": {
        "id": "zifcD9RhmIoS",
        "colab_type": "code",
        "outputId": "4e88de06-889c-4993-9c69-74e7db77f716",
        "colab": {
          "resources": {
            "http://localhost:8080/nbextensions/google.colab/files.js": {
              "data": "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",
              "ok": true,
              "headers": [
                [
                  "content-type",
                  "application/javascript"
                ]
              ],
              "status": 200,
              "status_text": ""
            }
          },
          "base_uri": "https://localhost:8080/",
          "height": 74
        }
      },
      "source": [
        "# load data files\n",
        "# execute this cell and choose train.csv\n",
        "from google.colab import files\n",
        "uploaded = files.upload()"
      ],
      "execution_count": 3,
      "outputs": [
        {
          "output_type": "display_data",
          "data": {
            "text/html": [
              "\n",
              "     <input type=\"file\" id=\"files-82de34e7-d6d9-4679-a338-e65705d9c63e\" name=\"files[]\" multiple disabled />\n",
              "     <output id=\"result-82de34e7-d6d9-4679-a338-e65705d9c63e\">\n",
              "      Upload widget is only available when the cell has been executed in the\n",
              "      current browser session. Please rerun this cell to enable.\n",
              "      </output>\n",
              "      <script src=\"/nbextensions/google.colab/files.js\"></script> "
            ],
            "text/plain": [
              "<IPython.core.display.HTML object>"
            ]
          },
          "metadata": {
            "tags": []
          }
        },
        {
          "output_type": "stream",
          "text": [
            "Saving train.csv to train (2).csv\n"
          ],
          "name": "stdout"
        }
      ]
    },
    {
      "cell_type": "code",
      "metadata": {
        "id": "3rfqUoGix3xL",
        "colab_type": "code",
        "colab": {}
      },
      "source": [
        "# imports\n",
        "import pandas as pd\n",
        "import io\n",
        "import seaborn as sb\n",
        "import numpy as np\n",
        "import matplotlib.pyplot as plt\n",
        "from sklearn.linear_model import LinearRegression, Lasso, LassoCV\n",
        "from sklearn.metrics import mean_squared_log_error\n",
        "from math import sqrt, log, exp\n",
        "from sklearn.preprocessing import LabelEncoder, OrdinalEncoder\n",
        "from sklearn.decomposition import PCA\n",
        "from sklearn.svm import SVR\n",
        "from sklearn.neural_network import MLPRegressor"
      ],
      "execution_count": 0,
      "outputs": []
    },
    {
      "cell_type": "code",
      "metadata": {
        "id": "r9oo9GJvySZ9",
        "colab_type": "code",
        "colab": {}
      },
      "source": [
        "# load data into dataframes\n",
        "train_raw = pd.read_csv(io.StringIO(uploaded['train.csv'].decode('utf-8'))).sample(frac=1).reset_index(drop=True)\n",
        "train_data = train_raw[:1000]\n",
        "test_data = train_raw[1000:]"
      ],
      "execution_count": 0,
      "outputs": []
    },
    {
      "cell_type": "code",
      "metadata": {
        "id": "mMSf1_imPlPH",
        "colab_type": "code",
        "outputId": "df6028e4-b007-4644-e0da-4a2d4e290a4b",
        "colab": {
          "base_uri": "https://localhost:8080/",
          "height": 439
        }
      },
      "source": [
        "# inspect columns\n",
        "train_data"
      ],
      "execution_count": 6,
      "outputs": [
        {
          "output_type": "execute_result",
          "data": {
            "text/html": [
              "<div>\n",
              "<style scoped>\n",
              "    .dataframe tbody tr th:only-of-type {\n",
              "        vertical-align: middle;\n",
              "    }\n",
              "\n",
              "    .dataframe tbody tr th {\n",
              "        vertical-align: top;\n",
              "    }\n",
              "\n",
              "    .dataframe thead th {\n",
              "        text-align: right;\n",
              "    }\n",
              "</style>\n",
              "<table border=\"1\" class=\"dataframe\">\n",
              "  <thead>\n",
              "    <tr style=\"text-align: right;\">\n",
              "      <th></th>\n",
              "      <th>Id</th>\n",
              "      <th>MSSubClass</th>\n",
              "      <th>MSZoning</th>\n",
              "      <th>LotFrontage</th>\n",
              "      <th>LotArea</th>\n",
              "      <th>Street</th>\n",
              "      <th>Alley</th>\n",
              "      <th>LotShape</th>\n",
              "      <th>LandContour</th>\n",
              "      <th>Utilities</th>\n",
              "      <th>LotConfig</th>\n",
              "      <th>LandSlope</th>\n",
              "      <th>Neighborhood</th>\n",
              "      <th>Condition1</th>\n",
              "      <th>Condition2</th>\n",
              "      <th>BldgType</th>\n",
              "      <th>HouseStyle</th>\n",
              "      <th>OverallQual</th>\n",
              "      <th>OverallCond</th>\n",
              "      <th>YearBuilt</th>\n",
              "      <th>YearRemodAdd</th>\n",
              "      <th>RoofStyle</th>\n",
              "      <th>RoofMatl</th>\n",
              "      <th>Exterior1st</th>\n",
              "      <th>Exterior2nd</th>\n",
              "      <th>MasVnrType</th>\n",
              "      <th>MasVnrArea</th>\n",
              "      <th>ExterQual</th>\n",
              "      <th>ExterCond</th>\n",
              "      <th>Foundation</th>\n",
              "      <th>BsmtQual</th>\n",
              "      <th>BsmtCond</th>\n",
              "      <th>BsmtExposure</th>\n",
              "      <th>BsmtFinType1</th>\n",
              "      <th>BsmtFinSF1</th>\n",
              "      <th>BsmtFinType2</th>\n",
              "      <th>BsmtFinSF2</th>\n",
              "      <th>BsmtUnfSF</th>\n",
              "      <th>TotalBsmtSF</th>\n",
              "      <th>Heating</th>\n",
              "      <th>...</th>\n",
              "      <th>CentralAir</th>\n",
              "      <th>Electrical</th>\n",
              "      <th>1stFlrSF</th>\n",
              "      <th>2ndFlrSF</th>\n",
              "      <th>LowQualFinSF</th>\n",
              "      <th>GrLivArea</th>\n",
              "      <th>BsmtFullBath</th>\n",
              "      <th>BsmtHalfBath</th>\n",
              "      <th>FullBath</th>\n",
              "      <th>HalfBath</th>\n",
              "      <th>BedroomAbvGr</th>\n",
              "      <th>KitchenAbvGr</th>\n",
              "      <th>KitchenQual</th>\n",
              "      <th>TotRmsAbvGrd</th>\n",
              "      <th>Functional</th>\n",
              "      <th>Fireplaces</th>\n",
              "      <th>FireplaceQu</th>\n",
              "      <th>GarageType</th>\n",
              "      <th>GarageYrBlt</th>\n",
              "      <th>GarageFinish</th>\n",
              "      <th>GarageCars</th>\n",
              "      <th>GarageArea</th>\n",
              "      <th>GarageQual</th>\n",
              "      <th>GarageCond</th>\n",
              "      <th>PavedDrive</th>\n",
              "      <th>WoodDeckSF</th>\n",
              "      <th>OpenPorchSF</th>\n",
              "      <th>EnclosedPorch</th>\n",
              "      <th>3SsnPorch</th>\n",
              "      <th>ScreenPorch</th>\n",
              "      <th>PoolArea</th>\n",
              "      <th>PoolQC</th>\n",
              "      <th>Fence</th>\n",
              "      <th>MiscFeature</th>\n",
              "      <th>MiscVal</th>\n",
              "      <th>MoSold</th>\n",
              "      <th>YrSold</th>\n",
              "      <th>SaleType</th>\n",
              "      <th>SaleCondition</th>\n",
              "      <th>SalePrice</th>\n",
              "    </tr>\n",
              "  </thead>\n",
              "  <tbody>\n",
              "    <tr>\n",
              "      <th>0</th>\n",
              "      <td>789</td>\n",
              "      <td>20</td>\n",
              "      <td>RM</td>\n",
              "      <td>50.0</td>\n",
              "      <td>6000</td>\n",
              "      <td>Pave</td>\n",
              "      <td>NaN</td>\n",
              "      <td>Reg</td>\n",
              "      <td>Lvl</td>\n",
              "      <td>AllPub</td>\n",
              "      <td>Corner</td>\n",
              "      <td>Gtl</td>\n",
              "      <td>OldTown</td>\n",
              "      <td>Norm</td>\n",
              "      <td>Norm</td>\n",
              "      <td>1Fam</td>\n",
              "      <td>1Story</td>\n",
              "      <td>4</td>\n",
              "      <td>7</td>\n",
              "      <td>1954</td>\n",
              "      <td>2000</td>\n",
              "      <td>Gable</td>\n",
              "      <td>CompShg</td>\n",
              "      <td>MetalSd</td>\n",
              "      <td>MetalSd</td>\n",
              "      <td>None</td>\n",
              "      <td>0.0</td>\n",
              "      <td>TA</td>\n",
              "      <td>TA</td>\n",
              "      <td>CBlock</td>\n",
              "      <td>TA</td>\n",
              "      <td>TA</td>\n",
              "      <td>No</td>\n",
              "      <td>Unf</td>\n",
              "      <td>0</td>\n",
              "      <td>Unf</td>\n",
              "      <td>0</td>\n",
              "      <td>901</td>\n",
              "      <td>901</td>\n",
              "      <td>GasA</td>\n",
              "      <td>...</td>\n",
              "      <td>Y</td>\n",
              "      <td>SBrkr</td>\n",
              "      <td>901</td>\n",
              "      <td>0</td>\n",
              "      <td>0</td>\n",
              "      <td>901</td>\n",
              "      <td>0</td>\n",
              "      <td>0</td>\n",
              "      <td>1</td>\n",
              "      <td>0</td>\n",
              "      <td>2</td>\n",
              "      <td>1</td>\n",
              "      <td>TA</td>\n",
              "      <td>4</td>\n",
              "      <td>Typ</td>\n",
              "      <td>0</td>\n",
              "      <td>NaN</td>\n",
              "      <td>Detchd</td>\n",
              "      <td>1954.0</td>\n",
              "      <td>Unf</td>\n",
              "      <td>1</td>\n",
              "      <td>281</td>\n",
              "      <td>Fa</td>\n",
              "      <td>TA</td>\n",
              "      <td>Y</td>\n",
              "      <td>0</td>\n",
              "      <td>0</td>\n",
              "      <td>0</td>\n",
              "      <td>0</td>\n",
              "      <td>0</td>\n",
              "      <td>0</td>\n",
              "      <td>NaN</td>\n",
              "      <td>NaN</td>\n",
              "      <td>NaN</td>\n",
              "      <td>0</td>\n",
              "      <td>8</td>\n",
              "      <td>2008</td>\n",
              "      <td>WD</td>\n",
              "      <td>Normal</td>\n",
              "      <td>107900</td>\n",
              "    </tr>\n",
              "    <tr>\n",
              "      <th>1</th>\n",
              "      <td>744</td>\n",
              "      <td>80</td>\n",
              "      <td>RL</td>\n",
              "      <td>70.0</td>\n",
              "      <td>12886</td>\n",
              "      <td>Pave</td>\n",
              "      <td>NaN</td>\n",
              "      <td>IR1</td>\n",
              "      <td>Lvl</td>\n",
              "      <td>AllPub</td>\n",
              "      <td>Inside</td>\n",
              "      <td>Gtl</td>\n",
              "      <td>Sawyer</td>\n",
              "      <td>Norm</td>\n",
              "      <td>Norm</td>\n",
              "      <td>1Fam</td>\n",
              "      <td>SLvl</td>\n",
              "      <td>5</td>\n",
              "      <td>6</td>\n",
              "      <td>1963</td>\n",
              "      <td>1999</td>\n",
              "      <td>Gable</td>\n",
              "      <td>CompShg</td>\n",
              "      <td>HdBoard</td>\n",
              "      <td>HdBoard</td>\n",
              "      <td>None</td>\n",
              "      <td>0.0</td>\n",
              "      <td>TA</td>\n",
              "      <td>TA</td>\n",
              "      <td>CBlock</td>\n",
              "      <td>Gd</td>\n",
              "      <td>TA</td>\n",
              "      <td>Av</td>\n",
              "      <td>ALQ</td>\n",
              "      <td>444</td>\n",
              "      <td>Unf</td>\n",
              "      <td>0</td>\n",
              "      <td>76</td>\n",
              "      <td>520</td>\n",
              "      <td>GasA</td>\n",
              "      <td>...</td>\n",
              "      <td>Y</td>\n",
              "      <td>SBrkr</td>\n",
              "      <td>1464</td>\n",
              "      <td>0</td>\n",
              "      <td>0</td>\n",
              "      <td>1464</td>\n",
              "      <td>0</td>\n",
              "      <td>1</td>\n",
              "      <td>2</td>\n",
              "      <td>0</td>\n",
              "      <td>3</td>\n",
              "      <td>1</td>\n",
              "      <td>TA</td>\n",
              "      <td>6</td>\n",
              "      <td>Min2</td>\n",
              "      <td>1</td>\n",
              "      <td>TA</td>\n",
              "      <td>Attchd</td>\n",
              "      <td>1997.0</td>\n",
              "      <td>RFn</td>\n",
              "      <td>2</td>\n",
              "      <td>480</td>\n",
              "      <td>TA</td>\n",
              "      <td>TA</td>\n",
              "      <td>Y</td>\n",
              "      <td>302</td>\n",
              "      <td>0</td>\n",
              "      <td>0</td>\n",
              "      <td>0</td>\n",
              "      <td>100</td>\n",
              "      <td>0</td>\n",
              "      <td>NaN</td>\n",
              "      <td>NaN</td>\n",
              "      <td>NaN</td>\n",
              "      <td>0</td>\n",
              "      <td>10</td>\n",
              "      <td>2009</td>\n",
              "      <td>WD</td>\n",
              "      <td>Normal</td>\n",
              "      <td>175000</td>\n",
              "    </tr>\n",
              "    <tr>\n",
              "      <th>2</th>\n",
              "      <td>1093</td>\n",
              "      <td>50</td>\n",
              "      <td>RL</td>\n",
              "      <td>60.0</td>\n",
              "      <td>8400</td>\n",
              "      <td>Pave</td>\n",
              "      <td>NaN</td>\n",
              "      <td>Reg</td>\n",
              "      <td>Bnk</td>\n",
              "      <td>AllPub</td>\n",
              "      <td>Inside</td>\n",
              "      <td>Gtl</td>\n",
              "      <td>SWISU</td>\n",
              "      <td>Norm</td>\n",
              "      <td>Norm</td>\n",
              "      <td>1Fam</td>\n",
              "      <td>1.5Fin</td>\n",
              "      <td>6</td>\n",
              "      <td>5</td>\n",
              "      <td>1925</td>\n",
              "      <td>1950</td>\n",
              "      <td>Gable</td>\n",
              "      <td>CompShg</td>\n",
              "      <td>MetalSd</td>\n",
              "      <td>MetalSd</td>\n",
              "      <td>None</td>\n",
              "      <td>0.0</td>\n",
              "      <td>TA</td>\n",
              "      <td>TA</td>\n",
              "      <td>PConc</td>\n",
              "      <td>TA</td>\n",
              "      <td>TA</td>\n",
              "      <td>No</td>\n",
              "      <td>Rec</td>\n",
              "      <td>423</td>\n",
              "      <td>Unf</td>\n",
              "      <td>0</td>\n",
              "      <td>758</td>\n",
              "      <td>1181</td>\n",
              "      <td>GasA</td>\n",
              "      <td>...</td>\n",
              "      <td>Y</td>\n",
              "      <td>SBrkr</td>\n",
              "      <td>1390</td>\n",
              "      <td>304</td>\n",
              "      <td>0</td>\n",
              "      <td>1694</td>\n",
              "      <td>0</td>\n",
              "      <td>0</td>\n",
              "      <td>2</td>\n",
              "      <td>0</td>\n",
              "      <td>4</td>\n",
              "      <td>1</td>\n",
              "      <td>TA</td>\n",
              "      <td>7</td>\n",
              "      <td>Typ</td>\n",
              "      <td>1</td>\n",
              "      <td>Gd</td>\n",
              "      <td>Detchd</td>\n",
              "      <td>1925.0</td>\n",
              "      <td>Unf</td>\n",
              "      <td>2</td>\n",
              "      <td>576</td>\n",
              "      <td>TA</td>\n",
              "      <td>TA</td>\n",
              "      <td>Y</td>\n",
              "      <td>342</td>\n",
              "      <td>0</td>\n",
              "      <td>128</td>\n",
              "      <td>0</td>\n",
              "      <td>0</td>\n",
              "      <td>0</td>\n",
              "      <td>NaN</td>\n",
              "      <td>NaN</td>\n",
              "      <td>NaN</td>\n",
              "      <td>0</td>\n",
              "      <td>6</td>\n",
              "      <td>2008</td>\n",
              "      <td>WD</td>\n",
              "      <td>Normal</td>\n",
              "      <td>136500</td>\n",
              "    </tr>\n",
              "    <tr>\n",
              "      <th>3</th>\n",
              "      <td>545</td>\n",
              "      <td>60</td>\n",
              "      <td>RL</td>\n",
              "      <td>58.0</td>\n",
              "      <td>17104</td>\n",
              "      <td>Pave</td>\n",
              "      <td>NaN</td>\n",
              "      <td>IR1</td>\n",
              "      <td>Lvl</td>\n",
              "      <td>AllPub</td>\n",
              "      <td>Inside</td>\n",
              "      <td>Gtl</td>\n",
              "      <td>Gilbert</td>\n",
              "      <td>Norm</td>\n",
              "      <td>Norm</td>\n",
              "      <td>1Fam</td>\n",
              "      <td>2Story</td>\n",
              "      <td>7</td>\n",
              "      <td>5</td>\n",
              "      <td>2006</td>\n",
              "      <td>2006</td>\n",
              "      <td>Gable</td>\n",
              "      <td>CompShg</td>\n",
              "      <td>VinylSd</td>\n",
              "      <td>VinylSd</td>\n",
              "      <td>None</td>\n",
              "      <td>0.0</td>\n",
              "      <td>Gd</td>\n",
              "      <td>TA</td>\n",
              "      <td>PConc</td>\n",
              "      <td>Gd</td>\n",
              "      <td>Gd</td>\n",
              "      <td>Av</td>\n",
              "      <td>GLQ</td>\n",
              "      <td>554</td>\n",
              "      <td>Unf</td>\n",
              "      <td>0</td>\n",
              "      <td>100</td>\n",
              "      <td>654</td>\n",
              "      <td>GasA</td>\n",
              "      <td>...</td>\n",
              "      <td>Y</td>\n",
              "      <td>SBrkr</td>\n",
              "      <td>664</td>\n",
              "      <td>832</td>\n",
              "      <td>0</td>\n",
              "      <td>1496</td>\n",
              "      <td>1</td>\n",
              "      <td>0</td>\n",
              "      <td>2</td>\n",
              "      <td>1</td>\n",
              "      <td>3</td>\n",
              "      <td>1</td>\n",
              "      <td>Gd</td>\n",
              "      <td>7</td>\n",
              "      <td>Typ</td>\n",
              "      <td>1</td>\n",
              "      <td>Gd</td>\n",
              "      <td>Attchd</td>\n",
              "      <td>2006.0</td>\n",
              "      <td>RFn</td>\n",
              "      <td>2</td>\n",
              "      <td>426</td>\n",
              "      <td>TA</td>\n",
              "      <td>TA</td>\n",
              "      <td>Y</td>\n",
              "      <td>100</td>\n",
              "      <td>24</td>\n",
              "      <td>0</td>\n",
              "      <td>0</td>\n",
              "      <td>0</td>\n",
              "      <td>0</td>\n",
              "      <td>NaN</td>\n",
              "      <td>NaN</td>\n",
              "      <td>NaN</td>\n",
              "      <td>0</td>\n",
              "      <td>9</td>\n",
              "      <td>2006</td>\n",
              "      <td>New</td>\n",
              "      <td>Partial</td>\n",
              "      <td>179665</td>\n",
              "    </tr>\n",
              "    <tr>\n",
              "      <th>4</th>\n",
              "      <td>1207</td>\n",
              "      <td>20</td>\n",
              "      <td>RH</td>\n",
              "      <td>NaN</td>\n",
              "      <td>8900</td>\n",
              "      <td>Pave</td>\n",
              "      <td>NaN</td>\n",
              "      <td>Reg</td>\n",
              "      <td>Lvl</td>\n",
              "      <td>AllPub</td>\n",
              "      <td>Inside</td>\n",
              "      <td>Gtl</td>\n",
              "      <td>SawyerW</td>\n",
              "      <td>Norm</td>\n",
              "      <td>Norm</td>\n",
              "      <td>1Fam</td>\n",
              "      <td>1Story</td>\n",
              "      <td>4</td>\n",
              "      <td>4</td>\n",
              "      <td>1966</td>\n",
              "      <td>1966</td>\n",
              "      <td>Gable</td>\n",
              "      <td>CompShg</td>\n",
              "      <td>HdBoard</td>\n",
              "      <td>HdBoard</td>\n",
              "      <td>None</td>\n",
              "      <td>0.0</td>\n",
              "      <td>TA</td>\n",
              "      <td>TA</td>\n",
              "      <td>CBlock</td>\n",
              "      <td>TA</td>\n",
              "      <td>TA</td>\n",
              "      <td>No</td>\n",
              "      <td>Rec</td>\n",
              "      <td>1056</td>\n",
              "      <td>Unf</td>\n",
              "      <td>0</td>\n",
              "      <td>0</td>\n",
              "      <td>1056</td>\n",
              "      <td>GasA</td>\n",
              "      <td>...</td>\n",
              "      <td>Y</td>\n",
              "      <td>SBrkr</td>\n",
              "      <td>1056</td>\n",
              "      <td>0</td>\n",
              "      <td>0</td>\n",
              "      <td>1056</td>\n",
              "      <td>1</td>\n",
              "      <td>0</td>\n",
              "      <td>1</td>\n",
              "      <td>0</td>\n",
              "      <td>2</td>\n",
              "      <td>1</td>\n",
              "      <td>TA</td>\n",
              "      <td>5</td>\n",
              "      <td>Typ</td>\n",
              "      <td>0</td>\n",
              "      <td>NaN</td>\n",
              "      <td>Detchd</td>\n",
              "      <td>1966.0</td>\n",
              "      <td>Unf</td>\n",
              "      <td>1</td>\n",
              "      <td>384</td>\n",
              "      <td>TA</td>\n",
              "      <td>TA</td>\n",
              "      <td>Y</td>\n",
              "      <td>0</td>\n",
              "      <td>42</td>\n",
              "      <td>0</td>\n",
              "      <td>0</td>\n",
              "      <td>0</td>\n",
              "      <td>0</td>\n",
              "      <td>NaN</td>\n",
              "      <td>MnPrv</td>\n",
              "      <td>NaN</td>\n",
              "      <td>0</td>\n",
              "      <td>11</td>\n",
              "      <td>2006</td>\n",
              "      <td>WD</td>\n",
              "      <td>Normal</td>\n",
              "      <td>107000</td>\n",
              "    </tr>\n",
              "    <tr>\n",
              "      <th>...</th>\n",
              "      <td>...</td>\n",
              "      <td>...</td>\n",
              "      <td>...</td>\n",
              "      <td>...</td>\n",
              "      <td>...</td>\n",
              "      <td>...</td>\n",
              "      <td>...</td>\n",
              "      <td>...</td>\n",
              "      <td>...</td>\n",
              "      <td>...</td>\n",
              "      <td>...</td>\n",
              "      <td>...</td>\n",
              "      <td>...</td>\n",
              "      <td>...</td>\n",
              "      <td>...</td>\n",
              "      <td>...</td>\n",
              "      <td>...</td>\n",
              "      <td>...</td>\n",
              "      <td>...</td>\n",
              "      <td>...</td>\n",
              "      <td>...</td>\n",
              "      <td>...</td>\n",
              "      <td>...</td>\n",
              "      <td>...</td>\n",
              "      <td>...</td>\n",
              "      <td>...</td>\n",
              "      <td>...</td>\n",
              "      <td>...</td>\n",
              "      <td>...</td>\n",
              "      <td>...</td>\n",
              "      <td>...</td>\n",
              "      <td>...</td>\n",
              "      <td>...</td>\n",
              "      <td>...</td>\n",
              "      <td>...</td>\n",
              "      <td>...</td>\n",
              "      <td>...</td>\n",
              "      <td>...</td>\n",
              "      <td>...</td>\n",
              "      <td>...</td>\n",
              "      <td>...</td>\n",
              "      <td>...</td>\n",
              "      <td>...</td>\n",
              "      <td>...</td>\n",
              "      <td>...</td>\n",
              "      <td>...</td>\n",
              "      <td>...</td>\n",
              "      <td>...</td>\n",
              "      <td>...</td>\n",
              "      <td>...</td>\n",
              "      <td>...</td>\n",
              "      <td>...</td>\n",
              "      <td>...</td>\n",
              "      <td>...</td>\n",
              "      <td>...</td>\n",
              "      <td>...</td>\n",
              "      <td>...</td>\n",
              "      <td>...</td>\n",
              "      <td>...</td>\n",
              "      <td>...</td>\n",
              "      <td>...</td>\n",
              "      <td>...</td>\n",
              "      <td>...</td>\n",
              "      <td>...</td>\n",
              "      <td>...</td>\n",
              "      <td>...</td>\n",
              "      <td>...</td>\n",
              "      <td>...</td>\n",
              "      <td>...</td>\n",
              "      <td>...</td>\n",
              "      <td>...</td>\n",
              "      <td>...</td>\n",
              "      <td>...</td>\n",
              "      <td>...</td>\n",
              "      <td>...</td>\n",
              "      <td>...</td>\n",
              "      <td>...</td>\n",
              "      <td>...</td>\n",
              "      <td>...</td>\n",
              "      <td>...</td>\n",
              "      <td>...</td>\n",
              "    </tr>\n",
              "    <tr>\n",
              "      <th>995</th>\n",
              "      <td>42</td>\n",
              "      <td>20</td>\n",
              "      <td>RL</td>\n",
              "      <td>115.0</td>\n",
              "      <td>16905</td>\n",
              "      <td>Pave</td>\n",
              "      <td>NaN</td>\n",
              "      <td>Reg</td>\n",
              "      <td>Lvl</td>\n",
              "      <td>AllPub</td>\n",
              "      <td>Inside</td>\n",
              "      <td>Gtl</td>\n",
              "      <td>Timber</td>\n",
              "      <td>Norm</td>\n",
              "      <td>Norm</td>\n",
              "      <td>1Fam</td>\n",
              "      <td>1Story</td>\n",
              "      <td>5</td>\n",
              "      <td>6</td>\n",
              "      <td>1959</td>\n",
              "      <td>1959</td>\n",
              "      <td>Gable</td>\n",
              "      <td>CompShg</td>\n",
              "      <td>VinylSd</td>\n",
              "      <td>VinylSd</td>\n",
              "      <td>None</td>\n",
              "      <td>0.0</td>\n",
              "      <td>TA</td>\n",
              "      <td>Gd</td>\n",
              "      <td>CBlock</td>\n",
              "      <td>TA</td>\n",
              "      <td>TA</td>\n",
              "      <td>Gd</td>\n",
              "      <td>BLQ</td>\n",
              "      <td>967</td>\n",
              "      <td>Unf</td>\n",
              "      <td>0</td>\n",
              "      <td>383</td>\n",
              "      <td>1350</td>\n",
              "      <td>GasA</td>\n",
              "      <td>...</td>\n",
              "      <td>Y</td>\n",
              "      <td>SBrkr</td>\n",
              "      <td>1328</td>\n",
              "      <td>0</td>\n",
              "      <td>0</td>\n",
              "      <td>1328</td>\n",
              "      <td>0</td>\n",
              "      <td>1</td>\n",
              "      <td>1</td>\n",
              "      <td>1</td>\n",
              "      <td>2</td>\n",
              "      <td>1</td>\n",
              "      <td>TA</td>\n",
              "      <td>5</td>\n",
              "      <td>Typ</td>\n",
              "      <td>2</td>\n",
              "      <td>Gd</td>\n",
              "      <td>Attchd</td>\n",
              "      <td>1959.0</td>\n",
              "      <td>RFn</td>\n",
              "      <td>1</td>\n",
              "      <td>308</td>\n",
              "      <td>TA</td>\n",
              "      <td>TA</td>\n",
              "      <td>P</td>\n",
              "      <td>0</td>\n",
              "      <td>104</td>\n",
              "      <td>0</td>\n",
              "      <td>0</td>\n",
              "      <td>0</td>\n",
              "      <td>0</td>\n",
              "      <td>NaN</td>\n",
              "      <td>NaN</td>\n",
              "      <td>NaN</td>\n",
              "      <td>0</td>\n",
              "      <td>7</td>\n",
              "      <td>2007</td>\n",
              "      <td>WD</td>\n",
              "      <td>Normal</td>\n",
              "      <td>170000</td>\n",
              "    </tr>\n",
              "    <tr>\n",
              "      <th>996</th>\n",
              "      <td>660</td>\n",
              "      <td>20</td>\n",
              "      <td>RL</td>\n",
              "      <td>75.0</td>\n",
              "      <td>9937</td>\n",
              "      <td>Pave</td>\n",
              "      <td>NaN</td>\n",
              "      <td>Reg</td>\n",
              "      <td>Lvl</td>\n",
              "      <td>AllPub</td>\n",
              "      <td>Corner</td>\n",
              "      <td>Gtl</td>\n",
              "      <td>Edwards</td>\n",
              "      <td>Norm</td>\n",
              "      <td>Norm</td>\n",
              "      <td>1Fam</td>\n",
              "      <td>1Story</td>\n",
              "      <td>5</td>\n",
              "      <td>7</td>\n",
              "      <td>1964</td>\n",
              "      <td>1999</td>\n",
              "      <td>Hip</td>\n",
              "      <td>CompShg</td>\n",
              "      <td>MetalSd</td>\n",
              "      <td>MetalSd</td>\n",
              "      <td>None</td>\n",
              "      <td>0.0</td>\n",
              "      <td>TA</td>\n",
              "      <td>Gd</td>\n",
              "      <td>PConc</td>\n",
              "      <td>TA</td>\n",
              "      <td>TA</td>\n",
              "      <td>No</td>\n",
              "      <td>BLQ</td>\n",
              "      <td>637</td>\n",
              "      <td>Unf</td>\n",
              "      <td>0</td>\n",
              "      <td>849</td>\n",
              "      <td>1486</td>\n",
              "      <td>GasA</td>\n",
              "      <td>...</td>\n",
              "      <td>Y</td>\n",
              "      <td>SBrkr</td>\n",
              "      <td>1486</td>\n",
              "      <td>0</td>\n",
              "      <td>0</td>\n",
              "      <td>1486</td>\n",
              "      <td>1</td>\n",
              "      <td>0</td>\n",
              "      <td>1</td>\n",
              "      <td>0</td>\n",
              "      <td>3</td>\n",
              "      <td>1</td>\n",
              "      <td>TA</td>\n",
              "      <td>7</td>\n",
              "      <td>Typ</td>\n",
              "      <td>0</td>\n",
              "      <td>NaN</td>\n",
              "      <td>Detchd</td>\n",
              "      <td>1968.0</td>\n",
              "      <td>Fin</td>\n",
              "      <td>2</td>\n",
              "      <td>480</td>\n",
              "      <td>TA</td>\n",
              "      <td>TA</td>\n",
              "      <td>Y</td>\n",
              "      <td>0</td>\n",
              "      <td>0</td>\n",
              "      <td>0</td>\n",
              "      <td>0</td>\n",
              "      <td>0</td>\n",
              "      <td>0</td>\n",
              "      <td>NaN</td>\n",
              "      <td>MnPrv</td>\n",
              "      <td>NaN</td>\n",
              "      <td>0</td>\n",
              "      <td>3</td>\n",
              "      <td>2009</td>\n",
              "      <td>WD</td>\n",
              "      <td>Normal</td>\n",
              "      <td>167000</td>\n",
              "    </tr>\n",
              "    <tr>\n",
              "      <th>997</th>\n",
              "      <td>310</td>\n",
              "      <td>20</td>\n",
              "      <td>RL</td>\n",
              "      <td>90.0</td>\n",
              "      <td>12378</td>\n",
              "      <td>Pave</td>\n",
              "      <td>NaN</td>\n",
              "      <td>IR1</td>\n",
              "      <td>Lvl</td>\n",
              "      <td>AllPub</td>\n",
              "      <td>Inside</td>\n",
              "      <td>Gtl</td>\n",
              "      <td>NridgHt</td>\n",
              "      <td>Norm</td>\n",
              "      <td>Norm</td>\n",
              "      <td>1Fam</td>\n",
              "      <td>1Story</td>\n",
              "      <td>9</td>\n",
              "      <td>5</td>\n",
              "      <td>2003</td>\n",
              "      <td>2004</td>\n",
              "      <td>Gable</td>\n",
              "      <td>CompShg</td>\n",
              "      <td>VinylSd</td>\n",
              "      <td>VinylSd</td>\n",
              "      <td>None</td>\n",
              "      <td>0.0</td>\n",
              "      <td>Gd</td>\n",
              "      <td>TA</td>\n",
              "      <td>PConc</td>\n",
              "      <td>Ex</td>\n",
              "      <td>TA</td>\n",
              "      <td>Gd</td>\n",
              "      <td>GLQ</td>\n",
              "      <td>1274</td>\n",
              "      <td>Unf</td>\n",
              "      <td>0</td>\n",
              "      <td>622</td>\n",
              "      <td>1896</td>\n",
              "      <td>GasA</td>\n",
              "      <td>...</td>\n",
              "      <td>Y</td>\n",
              "      <td>SBrkr</td>\n",
              "      <td>1944</td>\n",
              "      <td>0</td>\n",
              "      <td>0</td>\n",
              "      <td>1944</td>\n",
              "      <td>1</td>\n",
              "      <td>0</td>\n",
              "      <td>2</td>\n",
              "      <td>0</td>\n",
              "      <td>3</td>\n",
              "      <td>1</td>\n",
              "      <td>Ex</td>\n",
              "      <td>8</td>\n",
              "      <td>Typ</td>\n",
              "      <td>3</td>\n",
              "      <td>Ex</td>\n",
              "      <td>Attchd</td>\n",
              "      <td>2003.0</td>\n",
              "      <td>Fin</td>\n",
              "      <td>3</td>\n",
              "      <td>708</td>\n",
              "      <td>TA</td>\n",
              "      <td>TA</td>\n",
              "      <td>Y</td>\n",
              "      <td>208</td>\n",
              "      <td>175</td>\n",
              "      <td>0</td>\n",
              "      <td>0</td>\n",
              "      <td>0</td>\n",
              "      <td>0</td>\n",
              "      <td>NaN</td>\n",
              "      <td>NaN</td>\n",
              "      <td>NaN</td>\n",
              "      <td>0</td>\n",
              "      <td>11</td>\n",
              "      <td>2006</td>\n",
              "      <td>WD</td>\n",
              "      <td>Normal</td>\n",
              "      <td>360000</td>\n",
              "    </tr>\n",
              "    <tr>\n",
              "      <th>998</th>\n",
              "      <td>1088</td>\n",
              "      <td>60</td>\n",
              "      <td>FV</td>\n",
              "      <td>85.0</td>\n",
              "      <td>10574</td>\n",
              "      <td>Pave</td>\n",
              "      <td>NaN</td>\n",
              "      <td>Reg</td>\n",
              "      <td>Lvl</td>\n",
              "      <td>AllPub</td>\n",
              "      <td>Inside</td>\n",
              "      <td>Gtl</td>\n",
              "      <td>Somerst</td>\n",
              "      <td>Norm</td>\n",
              "      <td>Norm</td>\n",
              "      <td>1Fam</td>\n",
              "      <td>2Story</td>\n",
              "      <td>8</td>\n",
              "      <td>5</td>\n",
              "      <td>2005</td>\n",
              "      <td>2006</td>\n",
              "      <td>Gable</td>\n",
              "      <td>CompShg</td>\n",
              "      <td>VinylSd</td>\n",
              "      <td>VinylSd</td>\n",
              "      <td>None</td>\n",
              "      <td>0.0</td>\n",
              "      <td>Gd</td>\n",
              "      <td>TA</td>\n",
              "      <td>PConc</td>\n",
              "      <td>Gd</td>\n",
              "      <td>TA</td>\n",
              "      <td>Mn</td>\n",
              "      <td>Unf</td>\n",
              "      <td>0</td>\n",
              "      <td>Unf</td>\n",
              "      <td>0</td>\n",
              "      <td>1082</td>\n",
              "      <td>1082</td>\n",
              "      <td>GasA</td>\n",
              "      <td>...</td>\n",
              "      <td>Y</td>\n",
              "      <td>SBrkr</td>\n",
              "      <td>1082</td>\n",
              "      <td>871</td>\n",
              "      <td>0</td>\n",
              "      <td>1953</td>\n",
              "      <td>0</td>\n",
              "      <td>0</td>\n",
              "      <td>2</td>\n",
              "      <td>1</td>\n",
              "      <td>3</td>\n",
              "      <td>1</td>\n",
              "      <td>Gd</td>\n",
              "      <td>9</td>\n",
              "      <td>Typ</td>\n",
              "      <td>1</td>\n",
              "      <td>Gd</td>\n",
              "      <td>Attchd</td>\n",
              "      <td>2005.0</td>\n",
              "      <td>RFn</td>\n",
              "      <td>3</td>\n",
              "      <td>1043</td>\n",
              "      <td>TA</td>\n",
              "      <td>TA</td>\n",
              "      <td>Y</td>\n",
              "      <td>160</td>\n",
              "      <td>50</td>\n",
              "      <td>0</td>\n",
              "      <td>0</td>\n",
              "      <td>0</td>\n",
              "      <td>0</td>\n",
              "      <td>NaN</td>\n",
              "      <td>NaN</td>\n",
              "      <td>NaN</td>\n",
              "      <td>0</td>\n",
              "      <td>5</td>\n",
              "      <td>2009</td>\n",
              "      <td>WD</td>\n",
              "      <td>Normal</td>\n",
              "      <td>252000</td>\n",
              "    </tr>\n",
              "    <tr>\n",
              "      <th>999</th>\n",
              "      <td>1201</td>\n",
              "      <td>20</td>\n",
              "      <td>RL</td>\n",
              "      <td>71.0</td>\n",
              "      <td>9353</td>\n",
              "      <td>Pave</td>\n",
              "      <td>NaN</td>\n",
              "      <td>Reg</td>\n",
              "      <td>Lvl</td>\n",
              "      <td>AllPub</td>\n",
              "      <td>Inside</td>\n",
              "      <td>Gtl</td>\n",
              "      <td>NAmes</td>\n",
              "      <td>Norm</td>\n",
              "      <td>Norm</td>\n",
              "      <td>1Fam</td>\n",
              "      <td>1Story</td>\n",
              "      <td>4</td>\n",
              "      <td>5</td>\n",
              "      <td>1970</td>\n",
              "      <td>1970</td>\n",
              "      <td>Gable</td>\n",
              "      <td>CompShg</td>\n",
              "      <td>MetalSd</td>\n",
              "      <td>MetalSd</td>\n",
              "      <td>None</td>\n",
              "      <td>0.0</td>\n",
              "      <td>TA</td>\n",
              "      <td>TA</td>\n",
              "      <td>CBlock</td>\n",
              "      <td>TA</td>\n",
              "      <td>TA</td>\n",
              "      <td>No</td>\n",
              "      <td>Unf</td>\n",
              "      <td>0</td>\n",
              "      <td>Unf</td>\n",
              "      <td>0</td>\n",
              "      <td>864</td>\n",
              "      <td>864</td>\n",
              "      <td>GasA</td>\n",
              "      <td>...</td>\n",
              "      <td>Y</td>\n",
              "      <td>SBrkr</td>\n",
              "      <td>864</td>\n",
              "      <td>0</td>\n",
              "      <td>0</td>\n",
              "      <td>864</td>\n",
              "      <td>0</td>\n",
              "      <td>0</td>\n",
              "      <td>1</td>\n",
              "      <td>0</td>\n",
              "      <td>3</td>\n",
              "      <td>1</td>\n",
              "      <td>TA</td>\n",
              "      <td>5</td>\n",
              "      <td>Typ</td>\n",
              "      <td>0</td>\n",
              "      <td>NaN</td>\n",
              "      <td>Attchd</td>\n",
              "      <td>1972.0</td>\n",
              "      <td>Unf</td>\n",
              "      <td>1</td>\n",
              "      <td>280</td>\n",
              "      <td>TA</td>\n",
              "      <td>TA</td>\n",
              "      <td>Y</td>\n",
              "      <td>0</td>\n",
              "      <td>0</td>\n",
              "      <td>0</td>\n",
              "      <td>0</td>\n",
              "      <td>0</td>\n",
              "      <td>0</td>\n",
              "      <td>NaN</td>\n",
              "      <td>NaN</td>\n",
              "      <td>Shed</td>\n",
              "      <td>0</td>\n",
              "      <td>7</td>\n",
              "      <td>2006</td>\n",
              "      <td>Oth</td>\n",
              "      <td>Abnorml</td>\n",
              "      <td>116050</td>\n",
              "    </tr>\n",
              "  </tbody>\n",
              "</table>\n",
              "<p>1000 rows × 81 columns</p>\n",
              "</div>"
            ],
            "text/plain": [
              "       Id  MSSubClass MSZoning  ...  SaleType  SaleCondition SalePrice\n",
              "0     789          20       RM  ...        WD         Normal    107900\n",
              "1     744          80       RL  ...        WD         Normal    175000\n",
              "2    1093          50       RL  ...        WD         Normal    136500\n",
              "3     545          60       RL  ...       New        Partial    179665\n",
              "4    1207          20       RH  ...        WD         Normal    107000\n",
              "..    ...         ...      ...  ...       ...            ...       ...\n",
              "995    42          20       RL  ...        WD         Normal    170000\n",
              "996   660          20       RL  ...        WD         Normal    167000\n",
              "997   310          20       RL  ...        WD         Normal    360000\n",
              "998  1088          60       FV  ...        WD         Normal    252000\n",
              "999  1201          20       RL  ...       Oth        Abnorml    116050\n",
              "\n",
              "[1000 rows x 81 columns]"
            ]
          },
          "metadata": {
            "tags": []
          },
          "execution_count": 6
        }
      ]
    },
    {
      "cell_type": "code",
      "metadata": {
        "id": "L5zdULYgPmvG",
        "colab_type": "code",
        "outputId": "ba01e6db-58b1-4795-d7d5-27ca7ab5293d",
        "colab": {
          "base_uri": "https://localhost:8080/",
          "height": 317
        }
      },
      "source": [
        "# inspect column distributions\n",
        "train_data.describe()"
      ],
      "execution_count": 7,
      "outputs": [
        {
          "output_type": "execute_result",
          "data": {
            "text/html": [
              "<div>\n",
              "<style scoped>\n",
              "    .dataframe tbody tr th:only-of-type {\n",
              "        vertical-align: middle;\n",
              "    }\n",
              "\n",
              "    .dataframe tbody tr th {\n",
              "        vertical-align: top;\n",
              "    }\n",
              "\n",
              "    .dataframe thead th {\n",
              "        text-align: right;\n",
              "    }\n",
              "</style>\n",
              "<table border=\"1\" class=\"dataframe\">\n",
              "  <thead>\n",
              "    <tr style=\"text-align: right;\">\n",
              "      <th></th>\n",
              "      <th>Id</th>\n",
              "      <th>MSSubClass</th>\n",
              "      <th>LotFrontage</th>\n",
              "      <th>LotArea</th>\n",
              "      <th>OverallQual</th>\n",
              "      <th>OverallCond</th>\n",
              "      <th>YearBuilt</th>\n",
              "      <th>YearRemodAdd</th>\n",
              "      <th>MasVnrArea</th>\n",
              "      <th>BsmtFinSF1</th>\n",
              "      <th>BsmtFinSF2</th>\n",
              "      <th>BsmtUnfSF</th>\n",
              "      <th>TotalBsmtSF</th>\n",
              "      <th>1stFlrSF</th>\n",
              "      <th>2ndFlrSF</th>\n",
              "      <th>LowQualFinSF</th>\n",
              "      <th>GrLivArea</th>\n",
              "      <th>BsmtFullBath</th>\n",
              "      <th>BsmtHalfBath</th>\n",
              "      <th>FullBath</th>\n",
              "      <th>HalfBath</th>\n",
              "      <th>BedroomAbvGr</th>\n",
              "      <th>KitchenAbvGr</th>\n",
              "      <th>TotRmsAbvGrd</th>\n",
              "      <th>Fireplaces</th>\n",
              "      <th>GarageYrBlt</th>\n",
              "      <th>GarageCars</th>\n",
              "      <th>GarageArea</th>\n",
              "      <th>WoodDeckSF</th>\n",
              "      <th>OpenPorchSF</th>\n",
              "      <th>EnclosedPorch</th>\n",
              "      <th>3SsnPorch</th>\n",
              "      <th>ScreenPorch</th>\n",
              "      <th>PoolArea</th>\n",
              "      <th>MiscVal</th>\n",
              "      <th>MoSold</th>\n",
              "      <th>YrSold</th>\n",
              "      <th>SalePrice</th>\n",
              "    </tr>\n",
              "  </thead>\n",
              "  <tbody>\n",
              "    <tr>\n",
              "      <th>count</th>\n",
              "      <td>1000.000000</td>\n",
              "      <td>1000.000000</td>\n",
              "      <td>827.000000</td>\n",
              "      <td>1000.000000</td>\n",
              "      <td>1000.000000</td>\n",
              "      <td>1000.000000</td>\n",
              "      <td>1000.000000</td>\n",
              "      <td>1000.000000</td>\n",
              "      <td>995.000000</td>\n",
              "      <td>1000.000000</td>\n",
              "      <td>1000.00000</td>\n",
              "      <td>1000.00000</td>\n",
              "      <td>1000.000000</td>\n",
              "      <td>1000.000000</td>\n",
              "      <td>1000.000000</td>\n",
              "      <td>1000.000000</td>\n",
              "      <td>1000.000000</td>\n",
              "      <td>1000.000000</td>\n",
              "      <td>1000.00000</td>\n",
              "      <td>1000.000000</td>\n",
              "      <td>1000.000000</td>\n",
              "      <td>1000.000000</td>\n",
              "      <td>1000.0000</td>\n",
              "      <td>1000.000000</td>\n",
              "      <td>1000.000000</td>\n",
              "      <td>949.000000</td>\n",
              "      <td>1000.000000</td>\n",
              "      <td>1000.000000</td>\n",
              "      <td>1000.000000</td>\n",
              "      <td>1000.0000</td>\n",
              "      <td>1000.000000</td>\n",
              "      <td>1000.000000</td>\n",
              "      <td>1000.000000</td>\n",
              "      <td>1000.000000</td>\n",
              "      <td>1000.000000</td>\n",
              "      <td>1000.000000</td>\n",
              "      <td>1000.000000</td>\n",
              "      <td>1000.000000</td>\n",
              "    </tr>\n",
              "    <tr>\n",
              "      <th>mean</th>\n",
              "      <td>729.303000</td>\n",
              "      <td>56.395000</td>\n",
              "      <td>70.114873</td>\n",
              "      <td>10500.159000</td>\n",
              "      <td>6.060000</td>\n",
              "      <td>5.609000</td>\n",
              "      <td>1970.423000</td>\n",
              "      <td>1984.444000</td>\n",
              "      <td>101.518593</td>\n",
              "      <td>442.044000</td>\n",
              "      <td>48.12300</td>\n",
              "      <td>572.96500</td>\n",
              "      <td>1063.132000</td>\n",
              "      <td>1169.230000</td>\n",
              "      <td>340.612000</td>\n",
              "      <td>5.433000</td>\n",
              "      <td>1515.275000</td>\n",
              "      <td>0.422000</td>\n",
              "      <td>0.05100</td>\n",
              "      <td>1.550000</td>\n",
              "      <td>0.375000</td>\n",
              "      <td>2.867000</td>\n",
              "      <td>1.0520</td>\n",
              "      <td>6.503000</td>\n",
              "      <td>0.608000</td>\n",
              "      <td>1977.766070</td>\n",
              "      <td>1.767000</td>\n",
              "      <td>472.353000</td>\n",
              "      <td>92.631000</td>\n",
              "      <td>46.5870</td>\n",
              "      <td>23.215000</td>\n",
              "      <td>3.347000</td>\n",
              "      <td>15.624000</td>\n",
              "      <td>2.378000</td>\n",
              "      <td>49.194000</td>\n",
              "      <td>6.354000</td>\n",
              "      <td>2007.874000</td>\n",
              "      <td>179028.243000</td>\n",
              "    </tr>\n",
              "    <tr>\n",
              "      <th>std</th>\n",
              "      <td>421.790054</td>\n",
              "      <td>42.391343</td>\n",
              "      <td>24.804907</td>\n",
              "      <td>9866.140994</td>\n",
              "      <td>1.369041</td>\n",
              "      <td>1.101514</td>\n",
              "      <td>30.227865</td>\n",
              "      <td>20.666784</td>\n",
              "      <td>170.066499</td>\n",
              "      <td>458.741906</td>\n",
              "      <td>164.82918</td>\n",
              "      <td>448.05391</td>\n",
              "      <td>436.558126</td>\n",
              "      <td>378.551995</td>\n",
              "      <td>434.263162</td>\n",
              "      <td>47.087884</td>\n",
              "      <td>523.594571</td>\n",
              "      <td>0.519794</td>\n",
              "      <td>0.22461</td>\n",
              "      <td>0.543871</td>\n",
              "      <td>0.504608</td>\n",
              "      <td>0.812386</td>\n",
              "      <td>0.2266</td>\n",
              "      <td>1.602048</td>\n",
              "      <td>0.659371</td>\n",
              "      <td>24.828612</td>\n",
              "      <td>0.731605</td>\n",
              "      <td>209.550929</td>\n",
              "      <td>126.577623</td>\n",
              "      <td>67.8059</td>\n",
              "      <td>62.804643</td>\n",
              "      <td>27.849599</td>\n",
              "      <td>55.915268</td>\n",
              "      <td>38.116794</td>\n",
              "      <td>583.525808</td>\n",
              "      <td>2.653248</td>\n",
              "      <td>1.326606</td>\n",
              "      <td>74647.497859</td>\n",
              "    </tr>\n",
              "    <tr>\n",
              "      <th>min</th>\n",
              "      <td>1.000000</td>\n",
              "      <td>20.000000</td>\n",
              "      <td>21.000000</td>\n",
              "      <td>1300.000000</td>\n",
              "      <td>2.000000</td>\n",
              "      <td>2.000000</td>\n",
              "      <td>1872.000000</td>\n",
              "      <td>1950.000000</td>\n",
              "      <td>0.000000</td>\n",
              "      <td>0.000000</td>\n",
              "      <td>0.00000</td>\n",
              "      <td>0.00000</td>\n",
              "      <td>0.000000</td>\n",
              "      <td>372.000000</td>\n",
              "      <td>0.000000</td>\n",
              "      <td>0.000000</td>\n",
              "      <td>480.000000</td>\n",
              "      <td>0.000000</td>\n",
              "      <td>0.00000</td>\n",
              "      <td>0.000000</td>\n",
              "      <td>0.000000</td>\n",
              "      <td>0.000000</td>\n",
              "      <td>1.0000</td>\n",
              "      <td>3.000000</td>\n",
              "      <td>0.000000</td>\n",
              "      <td>1900.000000</td>\n",
              "      <td>0.000000</td>\n",
              "      <td>0.000000</td>\n",
              "      <td>0.000000</td>\n",
              "      <td>0.0000</td>\n",
              "      <td>0.000000</td>\n",
              "      <td>0.000000</td>\n",
              "      <td>0.000000</td>\n",
              "      <td>0.000000</td>\n",
              "      <td>0.000000</td>\n",
              "      <td>1.000000</td>\n",
              "      <td>2006.000000</td>\n",
              "      <td>34900.000000</td>\n",
              "    </tr>\n",
              "    <tr>\n",
              "      <th>25%</th>\n",
              "      <td>363.750000</td>\n",
              "      <td>20.000000</td>\n",
              "      <td>59.000000</td>\n",
              "      <td>7594.500000</td>\n",
              "      <td>5.000000</td>\n",
              "      <td>5.000000</td>\n",
              "      <td>1953.750000</td>\n",
              "      <td>1965.750000</td>\n",
              "      <td>0.000000</td>\n",
              "      <td>0.000000</td>\n",
              "      <td>0.00000</td>\n",
              "      <td>216.00000</td>\n",
              "      <td>807.750000</td>\n",
              "      <td>894.000000</td>\n",
              "      <td>0.000000</td>\n",
              "      <td>0.000000</td>\n",
              "      <td>1127.500000</td>\n",
              "      <td>0.000000</td>\n",
              "      <td>0.00000</td>\n",
              "      <td>1.000000</td>\n",
              "      <td>0.000000</td>\n",
              "      <td>2.000000</td>\n",
              "      <td>1.0000</td>\n",
              "      <td>5.000000</td>\n",
              "      <td>0.000000</td>\n",
              "      <td>1961.000000</td>\n",
              "      <td>1.000000</td>\n",
              "      <td>336.000000</td>\n",
              "      <td>0.000000</td>\n",
              "      <td>0.0000</td>\n",
              "      <td>0.000000</td>\n",
              "      <td>0.000000</td>\n",
              "      <td>0.000000</td>\n",
              "      <td>0.000000</td>\n",
              "      <td>0.000000</td>\n",
              "      <td>5.000000</td>\n",
              "      <td>2007.000000</td>\n",
              "      <td>129000.000000</td>\n",
              "    </tr>\n",
              "    <tr>\n",
              "      <th>50%</th>\n",
              "      <td>736.500000</td>\n",
              "      <td>50.000000</td>\n",
              "      <td>70.000000</td>\n",
              "      <td>9417.500000</td>\n",
              "      <td>6.000000</td>\n",
              "      <td>5.000000</td>\n",
              "      <td>1971.500000</td>\n",
              "      <td>1993.000000</td>\n",
              "      <td>0.000000</td>\n",
              "      <td>383.500000</td>\n",
              "      <td>0.00000</td>\n",
              "      <td>474.00000</td>\n",
              "      <td>1007.500000</td>\n",
              "      <td>1098.000000</td>\n",
              "      <td>0.000000</td>\n",
              "      <td>0.000000</td>\n",
              "      <td>1456.000000</td>\n",
              "      <td>0.000000</td>\n",
              "      <td>0.00000</td>\n",
              "      <td>2.000000</td>\n",
              "      <td>0.000000</td>\n",
              "      <td>3.000000</td>\n",
              "      <td>1.0000</td>\n",
              "      <td>6.000000</td>\n",
              "      <td>1.000000</td>\n",
              "      <td>1979.000000</td>\n",
              "      <td>2.000000</td>\n",
              "      <td>474.000000</td>\n",
              "      <td>0.000000</td>\n",
              "      <td>24.0000</td>\n",
              "      <td>0.000000</td>\n",
              "      <td>0.000000</td>\n",
              "      <td>0.000000</td>\n",
              "      <td>0.000000</td>\n",
              "      <td>0.000000</td>\n",
              "      <td>6.000000</td>\n",
              "      <td>2008.000000</td>\n",
              "      <td>160100.000000</td>\n",
              "    </tr>\n",
              "    <tr>\n",
              "      <th>75%</th>\n",
              "      <td>1087.250000</td>\n",
              "      <td>70.000000</td>\n",
              "      <td>80.000000</td>\n",
              "      <td>11503.000000</td>\n",
              "      <td>7.000000</td>\n",
              "      <td>6.000000</td>\n",
              "      <td>2000.000000</td>\n",
              "      <td>2003.000000</td>\n",
              "      <td>168.000000</td>\n",
              "      <td>700.500000</td>\n",
              "      <td>0.00000</td>\n",
              "      <td>831.25000</td>\n",
              "      <td>1302.500000</td>\n",
              "      <td>1391.000000</td>\n",
              "      <td>729.250000</td>\n",
              "      <td>0.000000</td>\n",
              "      <td>1788.000000</td>\n",
              "      <td>1.000000</td>\n",
              "      <td>0.00000</td>\n",
              "      <td>2.000000</td>\n",
              "      <td>1.000000</td>\n",
              "      <td>3.000000</td>\n",
              "      <td>1.0000</td>\n",
              "      <td>7.000000</td>\n",
              "      <td>1.000000</td>\n",
              "      <td>2001.000000</td>\n",
              "      <td>2.000000</td>\n",
              "      <td>576.000000</td>\n",
              "      <td>168.000000</td>\n",
              "      <td>68.0000</td>\n",
              "      <td>0.000000</td>\n",
              "      <td>0.000000</td>\n",
              "      <td>0.000000</td>\n",
              "      <td>0.000000</td>\n",
              "      <td>0.000000</td>\n",
              "      <td>8.000000</td>\n",
              "      <td>2009.000000</td>\n",
              "      <td>214125.000000</td>\n",
              "    </tr>\n",
              "    <tr>\n",
              "      <th>max</th>\n",
              "      <td>1460.000000</td>\n",
              "      <td>190.000000</td>\n",
              "      <td>313.000000</td>\n",
              "      <td>215245.000000</td>\n",
              "      <td>10.000000</td>\n",
              "      <td>9.000000</td>\n",
              "      <td>2010.000000</td>\n",
              "      <td>2010.000000</td>\n",
              "      <td>1129.000000</td>\n",
              "      <td>5644.000000</td>\n",
              "      <td>1474.00000</td>\n",
              "      <td>2336.00000</td>\n",
              "      <td>6110.000000</td>\n",
              "      <td>4692.000000</td>\n",
              "      <td>1611.000000</td>\n",
              "      <td>572.000000</td>\n",
              "      <td>5642.000000</td>\n",
              "      <td>2.000000</td>\n",
              "      <td>2.00000</td>\n",
              "      <td>3.000000</td>\n",
              "      <td>2.000000</td>\n",
              "      <td>6.000000</td>\n",
              "      <td>3.0000</td>\n",
              "      <td>12.000000</td>\n",
              "      <td>3.000000</td>\n",
              "      <td>2010.000000</td>\n",
              "      <td>4.000000</td>\n",
              "      <td>1418.000000</td>\n",
              "      <td>857.000000</td>\n",
              "      <td>547.0000</td>\n",
              "      <td>552.000000</td>\n",
              "      <td>407.000000</td>\n",
              "      <td>480.000000</td>\n",
              "      <td>738.000000</td>\n",
              "      <td>15500.000000</td>\n",
              "      <td>12.000000</td>\n",
              "      <td>2010.000000</td>\n",
              "      <td>611657.000000</td>\n",
              "    </tr>\n",
              "  </tbody>\n",
              "</table>\n",
              "</div>"
            ],
            "text/plain": [
              "                Id   MSSubClass  ...       YrSold      SalePrice\n",
              "count  1000.000000  1000.000000  ...  1000.000000    1000.000000\n",
              "mean    729.303000    56.395000  ...  2007.874000  179028.243000\n",
              "std     421.790054    42.391343  ...     1.326606   74647.497859\n",
              "min       1.000000    20.000000  ...  2006.000000   34900.000000\n",
              "25%     363.750000    20.000000  ...  2007.000000  129000.000000\n",
              "50%     736.500000    50.000000  ...  2008.000000  160100.000000\n",
              "75%    1087.250000    70.000000  ...  2009.000000  214125.000000\n",
              "max    1460.000000   190.000000  ...  2010.000000  611657.000000\n",
              "\n",
              "[8 rows x 38 columns]"
            ]
          },
          "metadata": {
            "tags": []
          },
          "execution_count": 7
        }
      ]
    },
    {
      "cell_type": "code",
      "metadata": {
        "id": "f9M9FJegvkTK",
        "colab_type": "code",
        "outputId": "4fcc3a02-2d30-49fc-fcbd-16cad72d94a3",
        "colab": {
          "base_uri": "https://localhost:8080/",
          "height": 1000
        }
      },
      "source": [
        "train_data.info()"
      ],
      "execution_count": 8,
      "outputs": [
        {
          "output_type": "stream",
          "text": [
            "<class 'pandas.core.frame.DataFrame'>\n",
            "RangeIndex: 1000 entries, 0 to 999\n",
            "Data columns (total 81 columns):\n",
            "Id               1000 non-null int64\n",
            "MSSubClass       1000 non-null int64\n",
            "MSZoning         1000 non-null object\n",
            "LotFrontage      827 non-null float64\n",
            "LotArea          1000 non-null int64\n",
            "Street           1000 non-null object\n",
            "Alley            62 non-null object\n",
            "LotShape         1000 non-null object\n",
            "LandContour      1000 non-null object\n",
            "Utilities        1000 non-null object\n",
            "LotConfig        1000 non-null object\n",
            "LandSlope        1000 non-null object\n",
            "Neighborhood     1000 non-null object\n",
            "Condition1       1000 non-null object\n",
            "Condition2       1000 non-null object\n",
            "BldgType         1000 non-null object\n",
            "HouseStyle       1000 non-null object\n",
            "OverallQual      1000 non-null int64\n",
            "OverallCond      1000 non-null int64\n",
            "YearBuilt        1000 non-null int64\n",
            "YearRemodAdd     1000 non-null int64\n",
            "RoofStyle        1000 non-null object\n",
            "RoofMatl         1000 non-null object\n",
            "Exterior1st      1000 non-null object\n",
            "Exterior2nd      1000 non-null object\n",
            "MasVnrType       995 non-null object\n",
            "MasVnrArea       995 non-null float64\n",
            "ExterQual        1000 non-null object\n",
            "ExterCond        1000 non-null object\n",
            "Foundation       1000 non-null object\n",
            "BsmtQual         975 non-null object\n",
            "BsmtCond         975 non-null object\n",
            "BsmtExposure     974 non-null object\n",
            "BsmtFinType1     975 non-null object\n",
            "BsmtFinSF1       1000 non-null int64\n",
            "BsmtFinType2     975 non-null object\n",
            "BsmtFinSF2       1000 non-null int64\n",
            "BsmtUnfSF        1000 non-null int64\n",
            "TotalBsmtSF      1000 non-null int64\n",
            "Heating          1000 non-null object\n",
            "HeatingQC        1000 non-null object\n",
            "CentralAir       1000 non-null object\n",
            "Electrical       1000 non-null object\n",
            "1stFlrSF         1000 non-null int64\n",
            "2ndFlrSF         1000 non-null int64\n",
            "LowQualFinSF     1000 non-null int64\n",
            "GrLivArea        1000 non-null int64\n",
            "BsmtFullBath     1000 non-null int64\n",
            "BsmtHalfBath     1000 non-null int64\n",
            "FullBath         1000 non-null int64\n",
            "HalfBath         1000 non-null int64\n",
            "BedroomAbvGr     1000 non-null int64\n",
            "KitchenAbvGr     1000 non-null int64\n",
            "KitchenQual      1000 non-null object\n",
            "TotRmsAbvGrd     1000 non-null int64\n",
            "Functional       1000 non-null object\n",
            "Fireplaces       1000 non-null int64\n",
            "FireplaceQu      515 non-null object\n",
            "GarageType       949 non-null object\n",
            "GarageYrBlt      949 non-null float64\n",
            "GarageFinish     949 non-null object\n",
            "GarageCars       1000 non-null int64\n",
            "GarageArea       1000 non-null int64\n",
            "GarageQual       949 non-null object\n",
            "GarageCond       949 non-null object\n",
            "PavedDrive       1000 non-null object\n",
            "WoodDeckSF       1000 non-null int64\n",
            "OpenPorchSF      1000 non-null int64\n",
            "EnclosedPorch    1000 non-null int64\n",
            "3SsnPorch        1000 non-null int64\n",
            "ScreenPorch      1000 non-null int64\n",
            "PoolArea         1000 non-null int64\n",
            "PoolQC           4 non-null object\n",
            "Fence            194 non-null object\n",
            "MiscFeature      37 non-null object\n",
            "MiscVal          1000 non-null int64\n",
            "MoSold           1000 non-null int64\n",
            "YrSold           1000 non-null int64\n",
            "SaleType         1000 non-null object\n",
            "SaleCondition    1000 non-null object\n",
            "SalePrice        1000 non-null int64\n",
            "dtypes: float64(3), int64(35), object(43)\n",
            "memory usage: 632.9+ KB\n"
          ],
          "name": "stdout"
        }
      ]
    },
    {
      "cell_type": "markdown",
      "metadata": {
        "id": "hXNP8MHyxxWp",
        "colab_type": "text"
      },
      "source": [
        "Now analyze features 1 by 1 and decide if they are needed or if any changes are needed"
      ]
    },
    {
      "cell_type": "code",
      "metadata": {
        "id": "KBuHPXJwTMRU",
        "colab_type": "code",
        "colab": {}
      },
      "source": [
        "def get_pos_prox_score(x):\n",
        "  pos = 0\n",
        "  if(x['Condition1'] == 'PosA'  or x['Condition2'] == 'PosA'):\n",
        "    pos = 2\n",
        "  elif(x['Condition1'] == 'PosN'  or x['Condition2'] == 'PosN'):\n",
        "    pos = 1\n",
        "  return pos\n",
        "\n",
        "def get_neg_prox_score(x):\n",
        "  neg = 0\n",
        "  if(x['Condition1'] == 'RRAn' or x['Condition1'] == 'RRAe'  or x['Condition2'] == 'RRAn' or x['Condition2'] == 'RRAe'):\n",
        "    neg = 2\n",
        "  elif(x['Condition1'] == 'RRNn' or x['Condition1'] == 'RRNe'  or x['Condition2'] == 'RRNn' or x['Condition2'] == 'RRNe'):\n",
        "    neg = 1\n",
        "  return neg\n",
        "\n",
        "def preprocess_data(df):\n",
        "  train_data = df.copy()\n",
        "  one_hot_cols = ['MSSubClass', 'Neighborhood', 'RoofStyle', 'RoofMatl', \n",
        "                  'BsmtFinType1', 'BsmtFinType2', 'Heating', 'GarageType',\n",
        "                  'MiscFeature', 'SaleType', 'SaleCondition']\n",
        "  dropCols = ['Id', 'MSZoning', 'Street', 'Alley', 'LotShape', 'LandContour', \n",
        "              'Utilities', 'LotConfig', 'LandSlope', 'Condition1', 'Condition2',\n",
        "              'BldgType', 'HouseStyle', 'Exterior1st', 'Exterior2nd', \n",
        "              'MasVnrType', 'ExterQual', 'ExterCond', 'Foundation', 'BsmtQual',\n",
        "              'BsmtCond', 'BsmtExposure', 'TotalBsmtSF', 'HeatingQC', 'CentralAir',\n",
        "              'Electrical', 'KitchenQual', 'FireplaceQu', 'Functional', 'GarageQual',\n",
        "              'GarageCond', 'GarageFinish', 'PavedDrive', 'PoolQC', 'Fence'] \n",
        "\n",
        "  le = LabelEncoder()\n",
        "\n",
        "  # create two new features from MSZoning column\n",
        "  res_zones = ['FV','RH','RL','RP','RM']\n",
        "  train_data['ResZoned'] = train_data['MSZoning'].isin(res_zones)\n",
        "  train_data['Density'] = train_data.apply(lambda x: 4, axis= 1)\n",
        "  train_data.loc[train_data['MSZoning'].isin(['RL', 'RP', 'A']), 'Density'] = 1\n",
        "  train_data.loc[train_data['MSZoning'].isin(['RM', 'FV']), 'Density'] = 2\n",
        "  train_data.loc[train_data['MSZoning'] == 'RH', 'Density'] = 3\n",
        "\n",
        "  # street just has two possible values\n",
        "  train_data['RoadType'] = train_data[['Street']].apply(lambda col: le.fit_transform(col))\n",
        "\n",
        "  # add feature based on has alley, what type probably doesn't matter\n",
        "  train_data['HasAlley'] = train_data['Alley'].isin(['Grvl','Pave'])\n",
        "\n",
        "  # ordered feature for lot shape\n",
        "  oeShape = OrdinalEncoder(categories=[['Reg', 'IR1', 'IR2', 'IR3']])\n",
        "  train_data['Shape'] = oeShape.fit_transform(train_data[['LotShape']])\n",
        "\n",
        "  # ordered feature for what utilities are available\n",
        "  oeUtil = OrdinalEncoder(categories=[['ELO', 'NoSeWa', 'NoSewr', 'AllPub']])\n",
        "  train_data['Utils'] = oeUtil.fit_transform(train_data[['Utilities']])\n",
        "\n",
        "  # two new features based on lot_config\n",
        "  train_data['IsCulDSac'] = train_data['LotConfig'] == 'CulDSac'\n",
        "  train_data['HasFrontage'] = train_data['LotConfig'].isin(['FR2', 'FR3'])\n",
        "\n",
        "  # ordered feature for lot slope\n",
        "  oeSlope = OrdinalEncoder(categories=[['Gtl', 'Mod', 'Sev']])\n",
        "  train_data['Slope'] = oeSlope.fit_transform(train_data[['LandSlope']])\n",
        "\n",
        "  # get two new features for proximity\n",
        "  train_data['PosProxScore'] = train_data.apply(lambda x: get_pos_prox_score(x), axis=1)\n",
        "  train_data['NegProxScore'] = train_data.apply(lambda x: get_neg_prox_score(x), axis=1)\n",
        "\n",
        "  # get new feature for building type while fixing incorrect labels\n",
        "  oeBldg = OrdinalEncoder(categories=[['2FmCon', 'TwnhsI', 'TwnhsE', 'Duplx', '1Fam']])\n",
        "  train_data.loc[train_data['BldgType'] == '2fmCon', 'BldgType'] = '2FmCon'\n",
        "  train_data.loc[train_data['BldgType'] == 'Twnhs', 'BldgType'] = 'TwnhsI'\n",
        "  train_data.loc[train_data['BldgType'] == 'Duplex', 'BldgType'] = 'Duplx'\n",
        "  train_data['Bldg'] = oeBldg.fit_transform(train_data[['BldgType']])\n",
        "\n",
        "  # ordered feature for house style\n",
        "  oeHouse = OrdinalEncoder(categories=[['1Story', '1.5Unf', '1.5Fin', 'SFoyer', 'SLvl', '2Story', '2.5Unf', '2.5Fin']])\n",
        "  train_data['House'] = oeHouse.fit_transform(train_data[['HouseStyle']])\n",
        "\n",
        "  # combine dummies across these two columns (also fix incorrect labels)\n",
        "  ext_dummies = pd.get_dummies(train_data[['Exterior1st', 'Exterior2nd']], {'Exterior1st': 'Ext', 'Exterior2nd': 'Ext2'}, columns=['Exterior1st', 'Exterior2nd'])\n",
        "  rmvCols = []\n",
        "  for col in ext_dummies.columns:\n",
        "    if 'Ext2' in col:\n",
        "      mat = col.split('_')[1]\n",
        "      if mat == 'Brk Cmn':\n",
        "        mat = 'BrkComm'\n",
        "      if mat == 'CmentBd':\n",
        "        mat = 'CemntBd'\n",
        "      if mat == 'Wd Shng':\n",
        "        mat = 'WdShing'\n",
        "      extCol = 'Ext_' + mat\n",
        "      if extCol not in ext_dummies.columns:\n",
        "        ext_dummies[extCol] = ext_dummies[col]\n",
        "      ext_dummies[extCol] = ext_dummies[extCol] | ext_dummies[col]\n",
        "      rmvCols.append(col)\n",
        "  ext_dummies.drop(rmvCols, axis=1, inplace=True)\n",
        "  train_data = pd.concat([train_data, ext_dummies], axis=1)\n",
        "\n",
        "  # ordered column for masonry\n",
        "  train_data.loc[train_data['MasVnrType'].isna(), 'MasVnrType'] = 'None'\n",
        "  oeMasonry = OrdinalEncoder(categories=[['CBlock', 'None', 'BrkCmn', 'BrkFace', 'Stone']])\n",
        "  train_data['Masonry'] = oeMasonry.fit_transform(train_data[['MasVnrType']])\n",
        "\n",
        "  # ordered features for exterior qualit/condition\n",
        "  oeExtQ = OrdinalEncoder(categories=[['Po', 'Fa', 'TA', 'Gd', 'Ex']])\n",
        "  train_data['ExtQual'] = oeExtQ.fit_transform(train_data[['ExterQual']])\n",
        "  train_data['ExtCond'] = oeExtQ.fit_transform(train_data[['ExterCond']])\n",
        "\n",
        "  # ordered feature for foundation by mean of SalePrice distribution\n",
        "  oeFound = OrdinalEncoder(categories=[['Slab', 'BrkTil', 'CBlock', 'Stone', 'Wood', 'PConc']])\n",
        "  train_data['FoundationMat'] = oeFound.fit_transform(train_data[['Foundation']])\n",
        "\n",
        "  # ordered features for basement quality and condition\n",
        "  train_data.loc[train_data['BsmtQual'].isna(), 'BsmtQual'] = 'NA'\n",
        "  train_data.loc[train_data['BsmtCond'].isna(), 'BsmtCond'] = 'NA'\n",
        "  oeBsmtQ = OrdinalEncoder(categories=[['NA', 'Po', 'Fa', 'TA', 'Gd', 'Ex']])\n",
        "  train_data['BsmtQ'] = oeBsmtQ.fit_transform(train_data[['BsmtQual']])\n",
        "  train_data['BsmtC'] = oeBsmtQ.fit_transform(train_data[['BsmtCond']])\n",
        "\n",
        "  # ordered feature for basement exposure\n",
        "  train_data.loc[train_data['BsmtExposure'].isna(), 'BsmtExposure'] = 'NA'\n",
        "  oeBsmtExp = OrdinalEncoder(categories=[['NA', 'No', 'Mn', 'Av', 'Gd']])\n",
        "  train_data['BsmtExp'] = oeBsmtExp.fit_transform(train_data[['BsmtExposure']])\n",
        "\n",
        "  # add feature for finished bsmt area, also keep unfinished area\n",
        "  train_data['FinBsmtArea'] = train_data['TotalBsmtSF'] - train_data['BsmtUnfSF']\n",
        "\n",
        "  # ordered feature for heating quality\n",
        "  oeHeat = OrdinalEncoder(categories=[['Po', 'Fa', 'TA', 'Gd', 'Ex']])\n",
        "  train_data['HeatingQual'] = oeHeat.fit_transform(train_data[['HeatingQC']])\n",
        "\n",
        "  # only two values for central air\n",
        "  train_data['CentrlAir'] = train_data[['CentralAir']].apply(lambda col: le.fit_transform(col))\n",
        "\n",
        "  # ordered feature for fuse types\n",
        "  train_data.loc[train_data['Electrical'].isna(), 'Electrical'] = 'NA'\n",
        "  oeElec = OrdinalEncoder(categories=[['NA', 'FuseP', 'FuseF', 'Mix', 'FuseA', 'SBrkr']])\n",
        "  train_data['Elec'] = oeElec.fit_transform(train_data[['Electrical']])\n",
        "\n",
        "  # ordered feature for kitchen quality\n",
        "  oeKitch = OrdinalEncoder(categories=[['Po', 'Fa', 'TA', 'Gd', 'Ex']])\n",
        "  train_data['KitchQual'] = oeKitch.fit_transform(train_data[['KitchenQual']])\n",
        "\n",
        "  # ordered feature for home functionality\n",
        "  oeFunc = OrdinalEncoder(categories=[['Sal', 'Sev', 'Maj2', 'Maj1', 'Mod', 'Min2', 'Min1', 'Typ']])\n",
        "  train_data['HomeFunct'] = oeFunc.fit_transform(train_data[['Functional']])\n",
        "\n",
        "  # ordered feature for fireplace quality\n",
        "  train_data.loc[train_data['FireplaceQu'].isna(), 'FireplaceQu'] = 'NA'\n",
        "  oeFireQ = OrdinalEncoder(categories=[['NA', 'Po', 'Fa', 'TA', 'Gd', 'Ex']])\n",
        "  train_data['FireplQual'] = oeFireQ.fit_transform(train_data[['FireplaceQu']])\n",
        "\n",
        "  # ordered features for garage quality and condition\n",
        "  train_data.loc[train_data['GarageQual'].isna(), 'GarageQual'] = 'NA'\n",
        "  train_data.loc[train_data['GarageCond'].isna(), 'GarageCond'] = 'NA'\n",
        "  oeGarage = OrdinalEncoder(categories=[['NA', 'Po', 'Fa', 'TA', 'Gd', 'Ex']])\n",
        "  train_data['GarageQ'] = oeGarage.fit_transform(train_data[['GarageQual']])\n",
        "  train_data['GarageC'] = oeGarage.fit_transform(train_data[['GarageCond']])\n",
        "\n",
        "  # ordered feature for garage finish\n",
        "  train_data.loc[train_data['GarageFinish'].isna(), 'GarageFinish'] = 'NA'\n",
        "  oeGarageFin = OrdinalEncoder(categories=[['NA', 'Unf', 'RFn', 'Fin']])\n",
        "  train_data['GarageFin'] = oeGarageFin.fit_transform(train_data[['GarageFinish']])\n",
        "\n",
        "  # ordered feature for paved driveway\n",
        "  oeDrive = OrdinalEncoder(categories=[['N', 'P', 'Y']])\n",
        "  train_data['Driveway'] = oeDrive.fit_transform(train_data[['PavedDrive']])\n",
        "\n",
        "  # ordered feature for pool quality\n",
        "  train_data.loc[train_data['PoolQC'].isna(), 'PoolQC'] = 'NA'\n",
        "  oePool = OrdinalEncoder(categories=[['NA', 'Fa', 'TA', 'Gd', 'Ex']])\n",
        "  train_data['PoolQual'] = oePool.fit_transform(train_data[['PoolQC']])\n",
        "\n",
        "  # ordered feature for fence\n",
        "  train_data.loc[train_data['Fence'].isna(), 'Fence'] = 'NA'\n",
        "  oeFence = OrdinalEncoder(categories=[['NA', 'MnWw', 'GdWo', 'MnPrv', 'GdPrv']])\n",
        "  train_data['FenceQual'] = oeFence.fit_transform(train_data[['Fence']])\n",
        "\n",
        "  # fix NAs in numeric columns\n",
        "  train_data.loc[train_data['MasVnrArea'].isna(), 'MasVnrArea'] = 0\n",
        "  train_data.loc[train_data['LotFrontage'].isna(), 'LotFrontage'] = 0\n",
        "  train_data.loc[train_data['GarageYrBlt'].isna(), 'GarageYrBlt'] = train_data.loc[train_data['GarageYrBlt'].isna(), 'YearBuilt']\n",
        "\n",
        "  # one-hot encode columns with no obvious ordering\n",
        "  train_data = pd.get_dummies(train_data, columns=one_hot_cols)\n",
        "\n",
        "  # drop categorical features that we've extracted\n",
        "  train_data.drop(dropCols, axis=1, inplace=True)\n",
        "\n",
        "  return train_data"
      ],
      "execution_count": 0,
      "outputs": []
    },
    {
      "cell_type": "code",
      "metadata": {
        "id": "uHjzPoESylbE",
        "colab_type": "code",
        "outputId": "046242f0-a32a-4f68-bdbe-a634a94b97a3",
        "colab": {
          "base_uri": "https://localhost:8080/",
          "height": 625
        }
      },
      "source": [
        "# make heatmap of correllations\n",
        "corr = train_data.corr()\n",
        "\n",
        "mask = np.zeros_like(corr, dtype=np.bool)\n",
        "mask[np.triu_indices_from(mask)] = True\n",
        "\n",
        "fig, ax = plt.subplots(figsize=(9, 9))\n",
        "cmap = sb.diverging_palette(220, 10, as_cmap=True)\n",
        "sb.heatmap(corr, mask=mask, cmap=cmap, ax=ax,  square=True)\n",
        "fig.tight_layout()"
      ],
      "execution_count": 10,
      "outputs": [
        {
          "output_type": "display_data",
          "data": {
            "image/png": "[encoded data removed]",
            "text/plain": [
              "<Figure size 648x648 with 2 Axes>"
            ]
          },
          "metadata": {
            "tags": []
          }
        }
      ]
    },
    {
      "cell_type": "code",
      "metadata": {
        "id": "Nck72fHBTkeB",
        "colab_type": "code",
        "colab": {
          "base_uri": "https://localhost:8080/",
          "height": 483
        },
        "outputId": "e17bc6d1-3efb-4b92-a577-42ae44bac8fc"
      },
      "source": [
        "# histogram of target to check for major outliers or strange distributions\n",
        "fig = plt.figure(figsize=(8,8))\n",
        "ax = fig.add_subplot(1,1,1)\n",
        "ax.hist(train_data['SalePrice'], bins=50)\n",
        "fig.show()"
      ],
      "execution_count": 11,
      "outputs": [
        {
          "output_type": "display_data",
          "data": {
            "image/png": "[encoded data removed]",
            "text/plain": [
              "<Figure size 576x576 with 1 Axes>"
            ]
          },
          "metadata": {
            "tags": []
          }
        }
      ]
    },
    {
      "cell_type": "code",
      "metadata": {
        "id": "jBwtrf3yWqgt",
        "colab_type": "code",
        "colab": {}
      },
      "source": [
        "# helper functions for analyzing different models\n",
        "def fix_cols(df_train, df_test):\n",
        "  new_test = df_test.copy()\n",
        "  for col in new_test.columns:\n",
        "    if col not in df_train.columns:\n",
        "      new_test.drop(col, axis=1, inplace=True)\n",
        "  for col in df_train:\n",
        "    if col not in new_test.columns:\n",
        "      new_test[col] = 0\n",
        "  return new_test\n",
        "\n",
        "def get_error(y_true, y_pred):\n",
        "  y_new = y_true[y_pred > 0]\n",
        "  y_pred_new = y_pred[y_pred > 0]\n",
        "  return sqrt(mean_squared_log_error(y_new, y_pred_new))\n"
      ],
      "execution_count": 0,
      "outputs": []
    },
    {
      "cell_type": "code",
      "metadata": {
        "id": "M0cbIS3Ygvsy",
        "colab_type": "code",
        "colab": {}
      },
      "source": [
        "processed = preprocess_data(train_data)\n",
        "processed_test = preprocess_data(test_data)\n",
        "processed_test = fix_cols(processed, processed_test)"
      ],
      "execution_count": 0,
      "outputs": []
    },
    {
      "cell_type": "code",
      "metadata": {
        "id": "IbGivXuSyyTS",
        "colab_type": "code",
        "colab": {}
      },
      "source": [
        "results = []"
      ],
      "execution_count": 0,
      "outputs": []
    },
    {
      "cell_type": "code",
      "metadata": {
        "id": "w0Nq_x1zaIka",
        "colab_type": "code",
        "colab": {
          "base_uri": "https://localhost:8080/",
          "height": 51
        },
        "outputId": "98a57818-b809-4d2b-b8bb-5824d99d1d4c"
      },
      "source": [
        "# dumb linear model with all features converting all categorical variables to simple dummies\n",
        "dummies = pd.get_dummies(train_data).dropna()\n",
        "X = dummies.drop(['SalePrice', 'Id'], axis=1)\n",
        "y = dummies['SalePrice']\n",
        "lm = LinearRegression()\n",
        "lm.fit(X,y)\n",
        "dummies_test = pd.get_dummies(test_data).dropna()\n",
        "dummies_test = fix_cols(dummies, dummies_test)\n",
        "X_test = dummies_test.drop(['SalePrice', 'Id'], axis=1)\n",
        "y_pred = lm.predict(X_test)\n",
        "err = get_error(dummies_test['SalePrice'], y_pred)\n",
        "print(err)\n",
        "results.append(['dummy linear', err])"
      ],
      "execution_count": 15,
      "outputs": [
        {
          "output_type": "stream",
          "text": [
            "1.4475425923963228\n"
          ],
          "name": "stdout"
        },
        {
          "output_type": "execute_result",
          "data": {
            "text/plain": [
              "[['dummy linear', 1.4475425923963228]]"
            ]
          },
          "metadata": {
            "tags": []
          },
          "execution_count": 15
        }
      ]
    },
    {
      "cell_type": "code",
      "metadata": {
        "id": "Ol0k3cI7jPZN",
        "colab_type": "code",
        "colab": {
          "base_uri": "https://localhost:8080/",
          "height": 34
        },
        "outputId": "8a998a77-cc87-4181-8f65-4d8ea1b75dcc"
      },
      "source": [
        "X = processed.drop(['SalePrice'], axis=1)\n",
        "y = processed['SalePrice']\n",
        "lm = LinearRegression()\n",
        "lm.fit(X,y)\n",
        "X_test = processed_test.drop(['SalePrice'], axis=1)\n",
        "y_pred = lm.predict(X_test)\n",
        "y_test = processed_test['SalePrice']\n",
        "err = get_error(y_test, y_pred)\n",
        "print(err)\n",
        "results.append(['processed linear', err])"
      ],
      "execution_count": 16,
      "outputs": [
        {
          "output_type": "stream",
          "text": [
            "1.0571902646336409\n"
          ],
          "name": "stdout"
        }
      ]
    },
    {
      "cell_type": "code",
      "metadata": {
        "id": "sBNr646tjz7X",
        "colab_type": "code",
        "colab": {
          "base_uri": "https://localhost:8080/",
          "height": 320
        },
        "outputId": "94ac19e0-a013-43f6-9605-3c046aec6349"
      },
      "source": [
        "# inspect correlations of new features\n",
        "corr = processed.corr()\n",
        "corr['SalePrice']\n",
        "fig, ax = plt.subplots(figsize=(5, 5))\n",
        "ax.hist(corr['SalePrice'], bins = 50)\n",
        "fig.show()"
      ],
      "execution_count": 17,
      "outputs": [
        {
          "output_type": "display_data",
          "data": {
            "image/png": "[encoded data removed]",
            "text/plain": [
              "<Figure size 360x360 with 1 Axes>"
            ]
          },
          "metadata": {
            "tags": []
          }
        }
      ]
    },
    {
      "cell_type": "code",
      "metadata": {
        "id": "e6NwY9AilsQr",
        "colab_type": "code",
        "colab": {
          "base_uri": "https://localhost:8080/",
          "height": 34
        },
        "outputId": "9b559f00-e5a0-4b5e-dc5a-d2809e59002a"
      },
      "source": [
        "# try choosing features based on corr coeficients with SalePrice\n",
        "colsToUse = corr.index[(corr['SalePrice'] > 0.2) | (corr['SalePrice'] < -0.2)].tolist()\n",
        "X = processed[colsToUse].drop(['SalePrice'], axis=1)\n",
        "y = processed['SalePrice']\n",
        "lm = LinearRegression()\n",
        "lm.fit(X,y)\n",
        "X_test = processed_test[colsToUse].drop(['SalePrice'], axis=1)\n",
        "y_pred = lm.predict(X_test)\n",
        "y_test = processed_test['SalePrice']\n",
        "err = get_error(y_test, y_pred)\n",
        "print(err)\n",
        "results.append(['linear corr cols', err])"
      ],
      "execution_count": 18,
      "outputs": [
        {
          "output_type": "stream",
          "text": [
            "0.19128923217344895\n"
          ],
          "name": "stdout"
        }
      ]
    },
    {
      "cell_type": "code",
      "metadata": {
        "id": "c-A_A2NzMPiO",
        "colab_type": "code",
        "colab": {
          "base_uri": "https://localhost:8080/",
          "height": 934
        },
        "outputId": "dbd95ea3-e804-454c-d34c-c55a121ab91d"
      },
      "source": [
        "# visualize features with highest correllations\n",
        "num_cols = 32\n",
        "topcorrs = corr[['SalePrice']].sort_values('SalePrice', ascending=False).index[1:num_cols+1]\n",
        "\n",
        "fig = plt.figure(figsize=(16,16))\n",
        "for idx,col in enumerate(topcorrs, start=1):\n",
        "  ax = fig.add_subplot(8,4,idx)\n",
        "  ax.scatter(processed[col], processed['SalePrice'])\n",
        "  plt.yscale('log') # added after the fact because plots had larger dispersion at high SalePrice\n",
        "  ax.set_title(col)\n",
        "fig.show()"
      ],
      "execution_count": 19,
      "outputs": [
        {
          "output_type": "display_data",
          "data": {
            "image/png": "[encoded data removed]",
            "text/plain": [
              "<Figure size 1152x1152 with 32 Axes>"
            ]
          },
          "metadata": {
            "tags": []
          }
        }
      ]
    },
    {
      "cell_type": "markdown",
      "metadata": {
        "id": "3D44a6NEelR1",
        "colab_type": "text"
      },
      "source": [
        "After looking at the plots above, from here on we predict to log(SalePrice) in our linear models."
      ]
    },
    {
      "cell_type": "code",
      "metadata": {
        "id": "ru0HHgZcMVXt",
        "colab_type": "code",
        "colab": {
          "base_uri": "https://localhost:8080/",
          "height": 34
        },
        "outputId": "be1f0be4-58cc-417c-ecbd-eb95bb960af2"
      },
      "source": [
        "# choose features based manually based on scatter plots\n",
        "colsToUse_scatter = ['OverallQual', 'GrLivArea', 'ExtQual', 'KitchQual', 'GarageArea', \n",
        "             '1stFlrSF', 'BsmtQ', 'FullBath', 'GarageFin', 'TotRmsAbvGrd', \n",
        "             'YearRemodAdd', 'MasVnrArea', 'FinBsmtArea', \n",
        "             'Neighborhood_NridgHt', 'Neighborhood_NoRidge', 'WoodDeckSF', \n",
        "             '2ndFlrSF']\n",
        "X = processed[colsToUse_scatter]\n",
        "y = processed[['SalePrice']]\n",
        "y_log = y.apply(lambda x: log(x), axis=1)\n",
        "lm = LinearRegression()\n",
        "lm.fit(X,y_log)\n",
        "X_test = processed_test[colsToUse_scatter]\n",
        "y_pred_log = lm.predict(X_test)\n",
        "y_pred = np.array([exp(x) for x in y_pred_log])\n",
        "y_test = processed_test['SalePrice']\n",
        "err = get_error(y_test, y_pred)\n",
        "print(err)\n",
        "results.append(['scatter visual linear (vs log(SP))', err])"
      ],
      "execution_count": 20,
      "outputs": [
        {
          "output_type": "stream",
          "text": [
            "0.14784822772345912\n"
          ],
          "name": "stdout"
        }
      ]
    },
    {
      "cell_type": "code",
      "metadata": {
        "id": "irbQuqOQ0eFz",
        "colab_type": "code",
        "colab": {
          "base_uri": "https://localhost:8080/",
          "height": 34
        },
        "outputId": "c2d3cb40-3aee-4503-bd79-d54b10edf9bd"
      },
      "source": [
        "# manually choose features based on intuition\n",
        "colsToUse_intuit = ['LotArea','OverallQual','OverallCond','YearRemodAdd','1stFlrSF',\n",
        " '2ndFlrSF','FullBath','HalfBath','BedroomAbvGr','KitchenAbvGr','TotRmsAbvGrd','Fireplaces',\n",
        " 'GarageArea','WoodDeckSF','OpenPorchSF','EnclosedPorch','3SsnPorch','ScreenPorch',\n",
        " 'PoolArea','Utils','PosProxScore','NegProxScore','ExtQual','ExtCond','BsmtQ',\n",
        " 'BsmtC','HeatingQual','CentrlAir','Elec','KitchQual','HomeFunct','FireplQual',\n",
        " 'GarageQ','GarageC','Neighborhood_Blmngtn','Neighborhood_Blueste','Neighborhood_BrDale',\n",
        " 'Neighborhood_BrkSide','Neighborhood_ClearCr','Neighborhood_CollgCr','Neighborhood_Crawfor',\n",
        " 'Neighborhood_Edwards','Neighborhood_Gilbert','Neighborhood_IDOTRR','Neighborhood_MeadowV',\n",
        " 'Neighborhood_Mitchel','Neighborhood_NAmes','Neighborhood_NPkVill','Neighborhood_NWAmes',\n",
        " 'Neighborhood_NoRidge','Neighborhood_NridgHt','Neighborhood_OldTown','Neighborhood_SWISU',\n",
        " 'Neighborhood_Sawyer','Neighborhood_SawyerW','Neighborhood_Somerst','Neighborhood_StoneBr',\n",
        " 'Neighborhood_Timber','Neighborhood_Veenker',\n",
        " ]\n",
        "X = processed[colsToUse_intuit]\n",
        "y = processed[['SalePrice']]\n",
        "y_log = y.apply(lambda x: log(x), axis=1)\n",
        "lm = LinearRegression()\n",
        "lm.fit(X,y_log)\n",
        "X_test = processed_test[colsToUse_intuit]\n",
        "y_pred_log = lm.predict(X_test)\n",
        "y_pred = np.array([exp(x) for x in y_pred_log])\n",
        "y_test = processed_test['SalePrice']\n",
        "err = get_error(y_test, y_pred)\n",
        "print(err)\n",
        "results.append(['intuitive linear (vs log(SP))', err])"
      ],
      "execution_count": 21,
      "outputs": [
        {
          "output_type": "stream",
          "text": [
            "0.13323936790528026\n"
          ],
          "name": "stdout"
        }
      ]
    },
    {
      "cell_type": "code",
      "metadata": {
        "id": "lyhWrxiifxHk",
        "colab_type": "code",
        "colab": {}
      },
      "source": [
        "def get_expvar_by_ncomp(pca):\n",
        "  total_exp_var = 0.0\n",
        "  points = np.empty([pca.n_components_, 2])\n",
        "  for (i, var) in enumerate(pca.explained_variance_ratio_):\n",
        "    total_exp_var += var\n",
        "    points[i,0] = i\n",
        "    points[i,1] = total_exp_var\n",
        "  return points\n"
      ],
      "execution_count": 0,
      "outputs": []
    },
    {
      "cell_type": "code",
      "metadata": {
        "id": "UA4B7S1Gzu7s",
        "colab_type": "code",
        "colab": {
          "base_uri": "https://localhost:8080/",
          "height": 483
        },
        "outputId": "f58b34ff-533e-422f-f75f-94d283b34caa"
      },
      "source": [
        "# try PCA with different values of n_components\n",
        "pca = PCA(n_components=50)\n",
        "pca.fit(processed.drop(['SalePrice'], axis=1))\n",
        "points = get_expvar_by_ncomp(pca)\n",
        "x, y = points.T\n",
        "\n",
        "fig = plt.figure(figsize=(8,8))\n",
        "ax = fig.add_subplot(1,1,1)\n",
        "ax.plot(x, y)\n",
        "fig.show()"
      ],
      "execution_count": 23,
      "outputs": [
        {
          "output_type": "display_data",
          "data": {
            "image/png": "[encoded data removed]",
            "text/plain": [
              "<Figure size 576x576 with 1 Axes>"
            ]
          },
          "metadata": {
            "tags": []
          }
        }
      ]
    },
    {
      "cell_type": "code",
      "metadata": {
        "id": "WwQCjjpUjDM2",
        "colab_type": "code",
        "colab": {
          "base_uri": "https://localhost:8080/",
          "height": 34
        },
        "outputId": "f2255419-fea5-4d87-8d16-c46b9f663bb2"
      },
      "source": [
        "# use PCA to reduce feature space dramatically\n",
        "pca = PCA(n_components=21)\n",
        "X = pca.fit_transform(processed.drop(['SalePrice'], axis=1))\n",
        "y = processed[['SalePrice']]\n",
        "y_log = y.apply(lambda x: log(x), axis=1)\n",
        "lm = LinearRegression()\n",
        "lm.fit(X,y_log)\n",
        "X_test = pca.transform(processed_test.drop(['SalePrice'], axis=1))\n",
        "y_pred_log = lm.predict(X_test)\n",
        "y_pred = np.array([exp(x) for x in y_pred_log])\n",
        "y_test = processed_test['SalePrice']\n",
        "err = get_error(y_test, y_pred)\n",
        "print(err)\n",
        "results.append(['pca (vs log(SP))', err])"
      ],
      "execution_count": 24,
      "outputs": [
        {
          "output_type": "stream",
          "text": [
            "0.17662386186191906\n"
          ],
          "name": "stdout"
        }
      ]
    },
    {
      "cell_type": "code",
      "metadata": {
        "id": "1HX2voDhlOKJ",
        "colab_type": "code",
        "colab": {
          "base_uri": "https://localhost:8080/",
          "height": 34
        },
        "outputId": "86060151-0d99-4120-9a75-7d751c0943a5"
      },
      "source": [
        "# PCA error increases dramatically at the 22nd component and above, why is that?\n",
        "pca = PCA(n_components=50)\n",
        "X = pca.fit_transform(processed.drop(['SalePrice'], axis=1))\n",
        "y = processed[['SalePrice']]\n",
        "y_log = y.apply(lambda x: log(x), axis=1)\n",
        "lm = LinearRegression()\n",
        "lm.fit(X,y_log)\n",
        "X_test = pca.transform(processed_test.drop(['SalePrice'], axis=1))\n",
        "y_pred_log = lm.predict(X_test)\n",
        "y_pred = np.array([exp(x) for x in y_pred_log])\n",
        "y_test = processed_test['SalePrice']\n",
        "err = get_error(y_test, y_pred)\n",
        "print(err)\n",
        "results.append(['bad pca (vs log(SP))', err])"
      ],
      "execution_count": 25,
      "outputs": [
        {
          "output_type": "stream",
          "text": [
            "6.232470883359633\n"
          ],
          "name": "stdout"
        }
      ]
    },
    {
      "cell_type": "code",
      "metadata": {
        "id": "XjXbi2Et5KcI",
        "colab_type": "code",
        "colab": {
          "base_uri": "https://localhost:8080/",
          "height": 34
        },
        "outputId": "c660bd7d-0bab-4ff2-b728-1e6298c6d3d7"
      },
      "source": [
        "# Support Vector Regression\n",
        "svr = SVR(gamma='scale')\n",
        "X = processed.drop(['SalePrice'], axis=1)\n",
        "y = processed[['SalePrice']]\n",
        "y_log = y.apply(lambda x: log(x), axis=1)\n",
        "svr.fit(X, y_log)\n",
        "X_test = processed_test.drop(['SalePrice'], axis=1)\n",
        "y_pred_log = svr.predict(X_test)\n",
        "y_pred = np.array([exp(x) for x in y_pred_log])\n",
        "y_test = processed_test['SalePrice']\n",
        "err = get_error(y_test, y_pred)\n",
        "print(err)\n",
        "results.append(['SVR (vs log(SP))', err])"
      ],
      "execution_count": 26,
      "outputs": [
        {
          "output_type": "stream",
          "text": [
            "0.235582649185562\n"
          ],
          "name": "stdout"
        }
      ]
    },
    {
      "cell_type": "code",
      "metadata": {
        "id": "BYJi7HX36jjI",
        "colab_type": "code",
        "colab": {
          "base_uri": "https://localhost:8080/",
          "height": 34
        },
        "outputId": "75390dd9-a07e-473c-8dc5-83666bf3be91"
      },
      "source": [
        "# lasso \n",
        "lasso = Lasso(alpha=0.01, max_iter=100000)\n",
        "X = processed.drop(['SalePrice'], axis=1)\n",
        "y = processed[['SalePrice']]\n",
        "y_log = y.apply(lambda x: log(x), axis=1)\n",
        "lasso.fit(X,y_log)\n",
        "X_test = processed_test.drop(['SalePrice'], axis=1)\n",
        "y_pred_log = lasso.predict(X_test)\n",
        "y_pred = np.array([exp(x) for x in y_pred_log])\n",
        "y_test = processed_test['SalePrice']\n",
        "err = get_error(y_test, y_pred)\n",
        "print(err)\n",
        "results.append(['Lasso (vs log(SP))', err])"
      ],
      "execution_count": 27,
      "outputs": [
        {
          "output_type": "stream",
          "text": [
            "0.18070230387580022\n"
          ],
          "name": "stdout"
        }
      ]
    },
    {
      "cell_type": "code",
      "metadata": {
        "id": "u4wVSsX-7jQa",
        "colab_type": "code",
        "colab": {
          "base_uri": "https://localhost:8080/",
          "height": 34
        },
        "outputId": "2537d7b7-84ed-4c3e-b562-27af41b8701b"
      },
      "source": [
        "# lasso with model selection\n",
        "lasso = LassoCV(cv=10, alphas=np.array([n/1000.0 for n in range(1,100,1)]), max_iter=100000)\n",
        "X = processed.drop(['SalePrice'], axis=1)\n",
        "y = processed[['SalePrice']]\n",
        "y_log = y.apply(lambda x: log(x), axis=1)\n",
        "lasso.fit(X,y_log)\n",
        "X_test = processed_test.drop(['SalePrice'], axis=1)\n",
        "y_pred_log = lasso.predict(X_test)\n",
        "y_pred = np.array([exp(x) for x in y_pred_log])\n",
        "y_test = processed_test['SalePrice']\n",
        "err = get_error(y_test, y_pred)\n",
        "print(err)\n",
        "results.append(['LassoCV (vs log(SP))', err])"
      ],
      "execution_count": 28,
      "outputs": [
        {
          "output_type": "stream",
          "text": [
            "0.22962045708198725\n"
          ],
          "name": "stdout"
        }
      ]
    },
    {
      "cell_type": "code",
      "metadata": {
        "id": "RbQarVkS8ZMU",
        "colab_type": "code",
        "colab": {
          "base_uri": "https://localhost:8080/",
          "height": 34
        },
        "outputId": "d01c0916-8e46-4cb7-fc2e-0d0f5b961f97"
      },
      "source": [
        "# neural net on preprocessed features\n",
        "net = MLPRegressor(hidden_layer_sizes=(50,50), max_iter=10000)\n",
        "X = processed.drop(['SalePrice'], axis=1)\n",
        "y = processed['SalePrice']\n",
        "net.fit(X, y)\n",
        "X_test = processed_test.drop(['SalePrice'], axis=1)\n",
        "y_pred = net.predict(X_test)\n",
        "y_test = processed_test['SalePrice']\n",
        "err = get_error(y_test, y_pred)\n",
        "print(err)\n",
        "results.append(['neural net preprocessed', err])"
      ],
      "execution_count": 29,
      "outputs": [
        {
          "output_type": "stream",
          "text": [
            "0.190957457695371\n"
          ],
          "name": "stdout"
        }
      ]
    },
    {
      "cell_type": "code",
      "metadata": {
        "id": "erO_ucRu-ub7",
        "colab_type": "code",
        "colab": {
          "base_uri": "https://localhost:8080/",
          "height": 34
        },
        "outputId": "07823f58-b896-4105-f303-4cc8b075cfb8"
      },
      "source": [
        "# neural net on simple one-hot features\n",
        "net = MLPRegressor(hidden_layer_sizes=(50,50), max_iter=10000)\n",
        "dummies = pd.get_dummies(train_data).dropna()\n",
        "X = dummies.drop(['SalePrice', 'Id'], axis=1)\n",
        "y = dummies['SalePrice']\n",
        "net.fit(X,y)\n",
        "dummies_test = pd.get_dummies(test_data).dropna()\n",
        "dummies_test = fix_cols(dummies, dummies_test)\n",
        "X_test = dummies_test.drop(['SalePrice', 'Id'], axis=1)\n",
        "y_pred = net.predict(X_test)\n",
        "err = get_error(dummies_test['SalePrice'], y_pred)\n",
        "print(err)\n",
        "results.append(['neural net one-hot encoded', err])"
      ],
      "execution_count": 30,
      "outputs": [
        {
          "output_type": "stream",
          "text": [
            "0.2022311663373433\n"
          ],
          "name": "stdout"
        }
      ]
    },
    {
      "cell_type": "code",
      "metadata": {
        "id": "5FvAM667_3hq",
        "colab_type": "code",
        "colab": {
          "base_uri": "https://localhost:8080/",
          "height": 34
        },
        "outputId": "e326c811-c593-4fda-edef-d181164101ae"
      },
      "source": [
        "# regression on log(SalePrice) with all dummies\n",
        "dummies = pd.get_dummies(train_data).dropna()\n",
        "X = dummies.drop(['SalePrice', 'Id'], axis=1)\n",
        "y = dummies[['SalePrice']]\n",
        "y_log = y.apply(lambda x: log(x), axis=1)\n",
        "lm = LinearRegression()\n",
        "lm.fit(X,y_log)\n",
        "dummies_test = pd.get_dummies(test_data).dropna()\n",
        "dummies_test = fix_cols(dummies, dummies_test)\n",
        "X_test = dummies_test.drop(['SalePrice', 'Id'], axis=1)\n",
        "y_pred_log = lm.predict(X_test)\n",
        "y_pred = np.array([exp(x) for x in y_pred_log])\n",
        "err = get_error(dummies_test['SalePrice'], y_pred)\n",
        "print(err)\n",
        "results.append(['dummy linear (vs log(SP))', err])"
      ],
      "execution_count": 31,
      "outputs": [
        {
          "output_type": "stream",
          "text": [
            "1.0384134447896554\n"
          ],
          "name": "stdout"
        }
      ]
    },
    {
      "cell_type": "code",
      "metadata": {
        "id": "dI1KcEUbD6M-",
        "colab_type": "code",
        "colab": {
          "base_uri": "https://localhost:8080/",
          "height": 34
        },
        "outputId": "a467b37e-db70-4df2-c88c-f8e56bfe075e"
      },
      "source": [
        "# regression on log(SalePrice) with all preprocessed feats\n",
        "X = processed.drop(['SalePrice'], axis=1)\n",
        "y = processed[['SalePrice']]\n",
        "y_log = y.apply(lambda x: log(x), axis=1)\n",
        "lm = LinearRegression()\n",
        "lm.fit(X,y_log)\n",
        "X_test = processed_test.drop(['SalePrice'], axis=1)\n",
        "y_pred_log = lm.predict(X_test)\n",
        "y_pred = np.array([exp(x) for x in y_pred_log])\n",
        "y_test = processed_test['SalePrice']\n",
        "err = get_error(y_test, y_pred)\n",
        "print(err)\n",
        "results.append(['processed linear (vs log(SP))', err])"
      ],
      "execution_count": 32,
      "outputs": [
        {
          "output_type": "stream",
          "text": [
            "4.388239155057796\n"
          ],
          "name": "stdout"
        }
      ]
    },
    {
      "cell_type": "code",
      "metadata": {
        "id": "05-YLCuB1fPm",
        "colab_type": "code",
        "colab": {
          "base_uri": "https://localhost:8080/",
          "height": 483
        },
        "outputId": "8165b4ff-beab-4de7-a228-345152b86f1b"
      },
      "source": [
        "pd.DataFrame(results, columns=['Method', 'MeanSquaredLogError']).sort_values('MeanSquaredLogError')"
      ],
      "execution_count": 111,
      "outputs": [
        {
          "output_type": "execute_result",
          "data": {
            "text/html": [
              "<div>\n",
              "<style scoped>\n",
              "    .dataframe tbody tr th:only-of-type {\n",
              "        vertical-align: middle;\n",
              "    }\n",
              "\n",
              "    .dataframe tbody tr th {\n",
              "        vertical-align: top;\n",
              "    }\n",
              "\n",
              "    .dataframe thead th {\n",
              "        text-align: right;\n",
              "    }\n",
              "</style>\n",
              "<table border=\"1\" class=\"dataframe\">\n",
              "  <thead>\n",
              "    <tr style=\"text-align: right;\">\n",
              "      <th></th>\n",
              "      <th>Method</th>\n",
              "      <th>MeanSquaredLogError</th>\n",
              "    </tr>\n",
              "  </thead>\n",
              "  <tbody>\n",
              "    <tr>\n",
              "      <th>4</th>\n",
              "      <td>intuitive linear (vs log(SP))</td>\n",
              "      <td>0.133239</td>\n",
              "    </tr>\n",
              "    <tr>\n",
              "      <th>3</th>\n",
              "      <td>scatter visual linear (vs log(SP))</td>\n",
              "      <td>0.147848</td>\n",
              "    </tr>\n",
              "    <tr>\n",
              "      <th>5</th>\n",
              "      <td>pca (vs log(SP))</td>\n",
              "      <td>0.176624</td>\n",
              "    </tr>\n",
              "    <tr>\n",
              "      <th>8</th>\n",
              "      <td>Lasso (vs log(SP))</td>\n",
              "      <td>0.180702</td>\n",
              "    </tr>\n",
              "    <tr>\n",
              "      <th>10</th>\n",
              "      <td>neural net preprocessed</td>\n",
              "      <td>0.190957</td>\n",
              "    </tr>\n",
              "    <tr>\n",
              "      <th>2</th>\n",
              "      <td>linear corr cols</td>\n",
              "      <td>0.191289</td>\n",
              "    </tr>\n",
              "    <tr>\n",
              "      <th>11</th>\n",
              "      <td>neural net one-hot encoded</td>\n",
              "      <td>0.202231</td>\n",
              "    </tr>\n",
              "    <tr>\n",
              "      <th>9</th>\n",
              "      <td>LassoCV (vs log(SP))</td>\n",
              "      <td>0.229620</td>\n",
              "    </tr>\n",
              "    <tr>\n",
              "      <th>7</th>\n",
              "      <td>SVR (vs log(SP))</td>\n",
              "      <td>0.235583</td>\n",
              "    </tr>\n",
              "    <tr>\n",
              "      <th>12</th>\n",
              "      <td>dummy linear (vs log(SP))</td>\n",
              "      <td>1.038413</td>\n",
              "    </tr>\n",
              "    <tr>\n",
              "      <th>1</th>\n",
              "      <td>processed linear</td>\n",
              "      <td>1.057190</td>\n",
              "    </tr>\n",
              "    <tr>\n",
              "      <th>0</th>\n",
              "      <td>dummy linear</td>\n",
              "      <td>1.447543</td>\n",
              "    </tr>\n",
              "    <tr>\n",
              "      <th>13</th>\n",
              "      <td>processed linear (vs log(SP))</td>\n",
              "      <td>4.388239</td>\n",
              "    </tr>\n",
              "    <tr>\n",
              "      <th>6</th>\n",
              "      <td>bad pca (vs log(SP))</td>\n",
              "      <td>6.232471</td>\n",
              "    </tr>\n",
              "  </tbody>\n",
              "</table>\n",
              "</div>"
            ],
            "text/plain": [
              "                                Method  MeanSquaredLogError\n",
              "4        intuitive linear (vs log(SP))             0.133239\n",
              "3   scatter visual linear (vs log(SP))             0.147848\n",
              "5                     pca (vs log(SP))             0.176624\n",
              "8                   Lasso (vs log(SP))             0.180702\n",
              "10             neural net preprocessed             0.190957\n",
              "2                     linear corr cols             0.191289\n",
              "11          neural net one-hot encoded             0.202231\n",
              "9                 LassoCV (vs log(SP))             0.229620\n",
              "7                     SVR (vs log(SP))             0.235583\n",
              "12           dummy linear (vs log(SP))             1.038413\n",
              "1                     processed linear             1.057190\n",
              "0                         dummy linear             1.447543\n",
              "13       processed linear (vs log(SP))             4.388239\n",
              "6                 bad pca (vs log(SP))             6.232471"
            ]
          },
          "metadata": {
            "tags": []
          },
          "execution_count": 111
        }
      ]
    },
    {
      "cell_type": "markdown",
      "metadata": {
        "id": "dobxYjmLSIz7",
        "colab_type": "text"
      },
      "source": [
        "From the above analysis we notice a few key things to point out:\n",
        "\n",
        "\n",
        "*   The algorithm with the best accuracy is the intuitive linear regression model\n",
        "*   Simple One-Hot Encoding works very well\n",
        "*   Simple LinearRegression models work better than more complex ones like Neural Networks in many cases (especially when you don't have the time to do the necessary fine tuning neural networks require)\n",
        "*   Best to have domain knowledge\n",
        "*   \"Black Box\" Algorithms are hard to debug\n",
        "*   Large feature spaces are hard to debug and could decrease accuracy\n",
        "\n",
        "\n"
      ]
    },
    {
      "cell_type": "markdown",
      "metadata": {
        "id": "BH4ANDCois50",
        "colab_type": "text"
      },
      "source": [
        "Below is my original step by step analysis/processing of each feature. This has since been modified and added to the preprocess_data function but is kept here for reference."
      ]
    },
    {
      "cell_type": "code",
      "metadata": {
        "id": "qib3RFt5xa6C",
        "colab_type": "code",
        "colab": {
          "base_uri": "https://localhost:8080/",
          "height": 102
        },
        "outputId": "54b8f980-c02b-4221-b503-4a9fb75bc0d7"
      },
      "source": [
        "# drop Id column it shouldn't matter\n",
        "train_data.drop('Id', axis=1, inplace=True)"
      ],
      "execution_count": 34,
      "outputs": [
        {
          "output_type": "stream",
          "text": [
            "/usr/local/lib/python3.6/dist-packages/pandas/core/frame.py:4117: SettingWithCopyWarning: \n",
            "A value is trying to be set on a copy of a slice from a DataFrame\n",
            "\n",
            "See the caveats in the documentation: http://pandas.pydata.org/pandas-docs/stable/user_guide/indexing.html#returning-a-view-versus-a-copy\n",
            "  errors=errors,\n"
          ],
          "name": "stderr"
        }
      ]
    },
    {
      "cell_type": "code",
      "metadata": {
        "id": "h95c_bRvLvje",
        "colab_type": "code",
        "colab": {
          "base_uri": "https://localhost:8080/",
          "height": 102
        },
        "outputId": "ab01a8fc-0297-4fd3-ee77-f9d471bee120"
      },
      "source": [
        "# MSSubClass is an int but it really represents a set of categories\n",
        "# the information in the categories is mostly contained in other features so let's drop it\n",
        "train_data.drop('MSSubClass', axis=1, inplace=True)"
      ],
      "execution_count": 35,
      "outputs": [
        {
          "output_type": "stream",
          "text": [
            "/usr/local/lib/python3.6/dist-packages/pandas/core/frame.py:4117: SettingWithCopyWarning: \n",
            "A value is trying to be set on a copy of a slice from a DataFrame\n",
            "\n",
            "See the caveats in the documentation: http://pandas.pydata.org/pandas-docs/stable/user_guide/indexing.html#returning-a-view-versus-a-copy\n",
            "  errors=errors,\n"
          ],
          "name": "stderr"
        }
      ]
    },
    {
      "cell_type": "code",
      "metadata": {
        "id": "2FdFehtgre4C",
        "colab_type": "code",
        "outputId": "b5b175e1-fc94-4459-c92a-ca0589760756",
        "colab": {
          "base_uri": "https://localhost:8080/",
          "height": 34
        }
      },
      "source": [
        "train_data['MSZoning'].unique()"
      ],
      "execution_count": 36,
      "outputs": [
        {
          "output_type": "execute_result",
          "data": {
            "text/plain": [
              "array(['RM', 'RL', 'RH', 'FV', 'C (all)'], dtype=object)"
            ]
          },
          "metadata": {
            "tags": []
          },
          "execution_count": 36
        }
      ]
    },
    {
      "cell_type": "code",
      "metadata": {
        "id": "FGYnXRVS37IW",
        "colab_type": "code",
        "colab": {
          "base_uri": "https://localhost:8080/",
          "height": 323
        },
        "outputId": "b7c1821f-31e5-4529-a14a-f66cb99dd232"
      },
      "source": [
        "res_zones = ['FV','RH','RL','RP','RM']\n",
        "train_data['ResZoned'] = train_data['MSZoning'].isin(res_zones)\n",
        "train_data['Density'] = train_data.apply(lambda x: 4, axis= 1)\n",
        "train_data.loc[train_data['MSZoning'].isin(['RL', 'RP', 'A']), 'Density'] = 1\n",
        "train_data.loc[train_data['MSZoning'].isin(['RM', 'FV']), 'Density'] = 2\n",
        "train_data.loc[train_data['MSZoning'] == 'RH', 'Density'] = 3"
      ],
      "execution_count": 37,
      "outputs": [
        {
          "output_type": "stream",
          "text": [
            "/usr/local/lib/python3.6/dist-packages/ipykernel_launcher.py:2: SettingWithCopyWarning: \n",
            "A value is trying to be set on a copy of a slice from a DataFrame.\n",
            "Try using .loc[row_indexer,col_indexer] = value instead\n",
            "\n",
            "See the caveats in the documentation: http://pandas.pydata.org/pandas-docs/stable/user_guide/indexing.html#returning-a-view-versus-a-copy\n",
            "  \n",
            "/usr/local/lib/python3.6/dist-packages/ipykernel_launcher.py:3: SettingWithCopyWarning: \n",
            "A value is trying to be set on a copy of a slice from a DataFrame.\n",
            "Try using .loc[row_indexer,col_indexer] = value instead\n",
            "\n",
            "See the caveats in the documentation: http://pandas.pydata.org/pandas-docs/stable/user_guide/indexing.html#returning-a-view-versus-a-copy\n",
            "  This is separate from the ipykernel package so we can avoid doing imports until\n",
            "/usr/local/lib/python3.6/dist-packages/pandas/core/indexing.py:494: SettingWithCopyWarning: \n",
            "A value is trying to be set on a copy of a slice from a DataFrame.\n",
            "Try using .loc[row_indexer,col_indexer] = value instead\n",
            "\n",
            "See the caveats in the documentation: http://pandas.pydata.org/pandas-docs/stable/user_guide/indexing.html#returning-a-view-versus-a-copy\n",
            "  self.obj[item] = s\n"
          ],
          "name": "stderr"
        }
      ]
    },
    {
      "cell_type": "code",
      "metadata": {
        "id": "Qa4CdCrb4kUS",
        "colab_type": "code",
        "colab": {
          "base_uri": "https://localhost:8080/",
          "height": 102
        },
        "outputId": "ad710e29-73c0-47fc-c851-be4d3478b7eb"
      },
      "source": [
        "train_data.drop('MSZoning', axis=1, inplace=True)"
      ],
      "execution_count": 38,
      "outputs": [
        {
          "output_type": "stream",
          "text": [
            "/usr/local/lib/python3.6/dist-packages/pandas/core/frame.py:4117: SettingWithCopyWarning: \n",
            "A value is trying to be set on a copy of a slice from a DataFrame\n",
            "\n",
            "See the caveats in the documentation: http://pandas.pydata.org/pandas-docs/stable/user_guide/indexing.html#returning-a-view-versus-a-copy\n",
            "  errors=errors,\n"
          ],
          "name": "stderr"
        }
      ]
    },
    {
      "cell_type": "code",
      "metadata": {
        "id": "LoVghrWi9jpy",
        "colab_type": "code",
        "colab": {}
      },
      "source": [
        "le = LabelEncoder()"
      ],
      "execution_count": 0,
      "outputs": []
    },
    {
      "cell_type": "code",
      "metadata": {
        "id": "9YlzHtBx8g1P",
        "colab_type": "code",
        "colab": {
          "base_uri": "https://localhost:8080/",
          "height": 119
        },
        "outputId": "8e7832a5-1d90-4e66-be13-015c3a06df80"
      },
      "source": [
        "train_data['RoadType'] = train_data[['Street']].apply(lambda col: le.fit_transform(col))"
      ],
      "execution_count": 40,
      "outputs": [
        {
          "output_type": "stream",
          "text": [
            "/usr/local/lib/python3.6/dist-packages/ipykernel_launcher.py:1: SettingWithCopyWarning: \n",
            "A value is trying to be set on a copy of a slice from a DataFrame.\n",
            "Try using .loc[row_indexer,col_indexer] = value instead\n",
            "\n",
            "See the caveats in the documentation: http://pandas.pydata.org/pandas-docs/stable/user_guide/indexing.html#returning-a-view-versus-a-copy\n",
            "  \"\"\"Entry point for launching an IPython kernel.\n"
          ],
          "name": "stderr"
        }
      ]
    },
    {
      "cell_type": "code",
      "metadata": {
        "id": "4OLarzTW9vsm",
        "colab_type": "code",
        "colab": {
          "base_uri": "https://localhost:8080/",
          "height": 102
        },
        "outputId": "b35b1b62-9620-4ec8-ad50-980a0701c68a"
      },
      "source": [
        "train_data.drop('Street', axis=1, inplace=True)"
      ],
      "execution_count": 41,
      "outputs": [
        {
          "output_type": "stream",
          "text": [
            "/usr/local/lib/python3.6/dist-packages/pandas/core/frame.py:4117: SettingWithCopyWarning: \n",
            "A value is trying to be set on a copy of a slice from a DataFrame\n",
            "\n",
            "See the caveats in the documentation: http://pandas.pydata.org/pandas-docs/stable/user_guide/indexing.html#returning-a-view-versus-a-copy\n",
            "  errors=errors,\n"
          ],
          "name": "stderr"
        }
      ]
    },
    {
      "cell_type": "code",
      "metadata": {
        "id": "jMv4a9De98FB",
        "colab_type": "code",
        "colab": {
          "base_uri": "https://localhost:8080/",
          "height": 119
        },
        "outputId": "34e1141f-f20f-4c87-c778-eba0bbddea5c"
      },
      "source": [
        "train_data['HasAlley'] = train_data['Alley'].isin(['Grvl','Pave'])"
      ],
      "execution_count": 42,
      "outputs": [
        {
          "output_type": "stream",
          "text": [
            "/usr/local/lib/python3.6/dist-packages/ipykernel_launcher.py:1: SettingWithCopyWarning: \n",
            "A value is trying to be set on a copy of a slice from a DataFrame.\n",
            "Try using .loc[row_indexer,col_indexer] = value instead\n",
            "\n",
            "See the caveats in the documentation: http://pandas.pydata.org/pandas-docs/stable/user_guide/indexing.html#returning-a-view-versus-a-copy\n",
            "  \"\"\"Entry point for launching an IPython kernel.\n"
          ],
          "name": "stderr"
        }
      ]
    },
    {
      "cell_type": "code",
      "metadata": {
        "id": "095mS9yT-aZR",
        "colab_type": "code",
        "colab": {
          "base_uri": "https://localhost:8080/",
          "height": 102
        },
        "outputId": "97942911-9ee2-4f78-a8bb-aa29452589ee"
      },
      "source": [
        "train_data.drop('Alley', axis=1, inplace=True)"
      ],
      "execution_count": 43,
      "outputs": [
        {
          "output_type": "stream",
          "text": [
            "/usr/local/lib/python3.6/dist-packages/pandas/core/frame.py:4117: SettingWithCopyWarning: \n",
            "A value is trying to be set on a copy of a slice from a DataFrame\n",
            "\n",
            "See the caveats in the documentation: http://pandas.pydata.org/pandas-docs/stable/user_guide/indexing.html#returning-a-view-versus-a-copy\n",
            "  errors=errors,\n"
          ],
          "name": "stderr"
        }
      ]
    },
    {
      "cell_type": "code",
      "metadata": {
        "id": "gu5uFtfz-d2h",
        "colab_type": "code",
        "colab": {
          "base_uri": "https://localhost:8080/",
          "height": 119
        },
        "outputId": "2303ee86-7996-4e84-c0a6-56cf115a2d75"
      },
      "source": [
        "oeShape = OrdinalEncoder(categories=[['Reg', 'IR1', 'IR2', 'IR3']])\n",
        "train_data['Shape'] = oeShape.fit_transform(train_data[['LotShape']])"
      ],
      "execution_count": 44,
      "outputs": [
        {
          "output_type": "stream",
          "text": [
            "/usr/local/lib/python3.6/dist-packages/ipykernel_launcher.py:2: SettingWithCopyWarning: \n",
            "A value is trying to be set on a copy of a slice from a DataFrame.\n",
            "Try using .loc[row_indexer,col_indexer] = value instead\n",
            "\n",
            "See the caveats in the documentation: http://pandas.pydata.org/pandas-docs/stable/user_guide/indexing.html#returning-a-view-versus-a-copy\n",
            "  \n"
          ],
          "name": "stderr"
        }
      ]
    },
    {
      "cell_type": "code",
      "metadata": {
        "id": "27Ieku-rA7TH",
        "colab_type": "code",
        "colab": {
          "base_uri": "https://localhost:8080/",
          "height": 102
        },
        "outputId": "78808288-eb3d-4579-dc51-246954e05683"
      },
      "source": [
        "train_data.drop('LotShape', axis=1, inplace=True)"
      ],
      "execution_count": 45,
      "outputs": [
        {
          "output_type": "stream",
          "text": [
            "/usr/local/lib/python3.6/dist-packages/pandas/core/frame.py:4117: SettingWithCopyWarning: \n",
            "A value is trying to be set on a copy of a slice from a DataFrame\n",
            "\n",
            "See the caveats in the documentation: http://pandas.pydata.org/pandas-docs/stable/user_guide/indexing.html#returning-a-view-versus-a-copy\n",
            "  errors=errors,\n"
          ],
          "name": "stderr"
        }
      ]
    },
    {
      "cell_type": "code",
      "metadata": {
        "id": "sxXYecBrBfa4",
        "colab_type": "code",
        "colab": {
          "base_uri": "https://localhost:8080/",
          "height": 102
        },
        "outputId": "d68b48bb-ffb6-4705-85d0-249bcd9c22f0"
      },
      "source": [
        "train_data.drop('LandContour', axis=1, inplace=True)"
      ],
      "execution_count": 46,
      "outputs": [
        {
          "output_type": "stream",
          "text": [
            "/usr/local/lib/python3.6/dist-packages/pandas/core/frame.py:4117: SettingWithCopyWarning: \n",
            "A value is trying to be set on a copy of a slice from a DataFrame\n",
            "\n",
            "See the caveats in the documentation: http://pandas.pydata.org/pandas-docs/stable/user_guide/indexing.html#returning-a-view-versus-a-copy\n",
            "  errors=errors,\n"
          ],
          "name": "stderr"
        }
      ]
    },
    {
      "cell_type": "code",
      "metadata": {
        "id": "YN3vlhYgCDnR",
        "colab_type": "code",
        "colab": {
          "base_uri": "https://localhost:8080/",
          "height": 119
        },
        "outputId": "681bdeca-feda-4ab2-9579-0990927a07cb"
      },
      "source": [
        "oeUtil = OrdinalEncoder(categories=[['ELO', 'NoSeWa', 'NoSewr', 'AllPub']])\n",
        "train_data['Utils'] = oeUtil.fit_transform(train_data[['Utilities']])"
      ],
      "execution_count": 47,
      "outputs": [
        {
          "output_type": "stream",
          "text": [
            "/usr/local/lib/python3.6/dist-packages/ipykernel_launcher.py:2: SettingWithCopyWarning: \n",
            "A value is trying to be set on a copy of a slice from a DataFrame.\n",
            "Try using .loc[row_indexer,col_indexer] = value instead\n",
            "\n",
            "See the caveats in the documentation: http://pandas.pydata.org/pandas-docs/stable/user_guide/indexing.html#returning-a-view-versus-a-copy\n",
            "  \n"
          ],
          "name": "stderr"
        }
      ]
    },
    {
      "cell_type": "code",
      "metadata": {
        "id": "fArXWJgBCohq",
        "colab_type": "code",
        "colab": {
          "base_uri": "https://localhost:8080/",
          "height": 102
        },
        "outputId": "83b518d0-9c11-49a6-df80-4cce72215e14"
      },
      "source": [
        "train_data.drop('Utilities', axis=1, inplace=True)"
      ],
      "execution_count": 48,
      "outputs": [
        {
          "output_type": "stream",
          "text": [
            "/usr/local/lib/python3.6/dist-packages/pandas/core/frame.py:4117: SettingWithCopyWarning: \n",
            "A value is trying to be set on a copy of a slice from a DataFrame\n",
            "\n",
            "See the caveats in the documentation: http://pandas.pydata.org/pandas-docs/stable/user_guide/indexing.html#returning-a-view-versus-a-copy\n",
            "  errors=errors,\n"
          ],
          "name": "stderr"
        }
      ]
    },
    {
      "cell_type": "code",
      "metadata": {
        "id": "FM7YbN20CtMY",
        "colab_type": "code",
        "colab": {
          "base_uri": "https://localhost:8080/",
          "height": 221
        },
        "outputId": "5419914d-057d-401d-e93a-54567196856b"
      },
      "source": [
        "train_data['IsCulDSac'] = train_data['LotConfig'] == 'CulDSac'\n",
        "train_data['HasFrontage'] = train_data['LotConfig'].isin(['FR2', 'FR3'])"
      ],
      "execution_count": 49,
      "outputs": [
        {
          "output_type": "stream",
          "text": [
            "/usr/local/lib/python3.6/dist-packages/ipykernel_launcher.py:1: SettingWithCopyWarning: \n",
            "A value is trying to be set on a copy of a slice from a DataFrame.\n",
            "Try using .loc[row_indexer,col_indexer] = value instead\n",
            "\n",
            "See the caveats in the documentation: http://pandas.pydata.org/pandas-docs/stable/user_guide/indexing.html#returning-a-view-versus-a-copy\n",
            "  \"\"\"Entry point for launching an IPython kernel.\n",
            "/usr/local/lib/python3.6/dist-packages/ipykernel_launcher.py:2: SettingWithCopyWarning: \n",
            "A value is trying to be set on a copy of a slice from a DataFrame.\n",
            "Try using .loc[row_indexer,col_indexer] = value instead\n",
            "\n",
            "See the caveats in the documentation: http://pandas.pydata.org/pandas-docs/stable/user_guide/indexing.html#returning-a-view-versus-a-copy\n",
            "  \n"
          ],
          "name": "stderr"
        }
      ]
    },
    {
      "cell_type": "code",
      "metadata": {
        "id": "VJmA4mFEEDlR",
        "colab_type": "code",
        "colab": {
          "base_uri": "https://localhost:8080/",
          "height": 102
        },
        "outputId": "a3094647-4f61-41b1-e4d9-6d1e774636de"
      },
      "source": [
        "train_data.drop('LotConfig', axis=1, inplace=True)"
      ],
      "execution_count": 50,
      "outputs": [
        {
          "output_type": "stream",
          "text": [
            "/usr/local/lib/python3.6/dist-packages/pandas/core/frame.py:4117: SettingWithCopyWarning: \n",
            "A value is trying to be set on a copy of a slice from a DataFrame\n",
            "\n",
            "See the caveats in the documentation: http://pandas.pydata.org/pandas-docs/stable/user_guide/indexing.html#returning-a-view-versus-a-copy\n",
            "  errors=errors,\n"
          ],
          "name": "stderr"
        }
      ]
    },
    {
      "cell_type": "code",
      "metadata": {
        "id": "hw6YpdxyEHJg",
        "colab_type": "code",
        "colab": {
          "base_uri": "https://localhost:8080/",
          "height": 119
        },
        "outputId": "6cd35a5b-d13b-4634-e366-ec4060728d32"
      },
      "source": [
        "oeSlope = OrdinalEncoder(categories=[['Gtl', 'Mod', 'Sev']])\n",
        "train_data['Slope'] = oeSlope.fit_transform(train_data[['LandSlope']])"
      ],
      "execution_count": 51,
      "outputs": [
        {
          "output_type": "stream",
          "text": [
            "/usr/local/lib/python3.6/dist-packages/ipykernel_launcher.py:2: SettingWithCopyWarning: \n",
            "A value is trying to be set on a copy of a slice from a DataFrame.\n",
            "Try using .loc[row_indexer,col_indexer] = value instead\n",
            "\n",
            "See the caveats in the documentation: http://pandas.pydata.org/pandas-docs/stable/user_guide/indexing.html#returning-a-view-versus-a-copy\n",
            "  \n"
          ],
          "name": "stderr"
        }
      ]
    },
    {
      "cell_type": "code",
      "metadata": {
        "id": "OqphsdF3EaZ5",
        "colab_type": "code",
        "colab": {
          "base_uri": "https://localhost:8080/",
          "height": 102
        },
        "outputId": "383f0a2c-2824-429c-ac26-d37626533d93"
      },
      "source": [
        "train_data.drop('LandSlope', axis=1, inplace=True)"
      ],
      "execution_count": 52,
      "outputs": [
        {
          "output_type": "stream",
          "text": [
            "/usr/local/lib/python3.6/dist-packages/pandas/core/frame.py:4117: SettingWithCopyWarning: \n",
            "A value is trying to be set on a copy of a slice from a DataFrame\n",
            "\n",
            "See the caveats in the documentation: http://pandas.pydata.org/pandas-docs/stable/user_guide/indexing.html#returning-a-view-versus-a-copy\n",
            "  errors=errors,\n"
          ],
          "name": "stderr"
        }
      ]
    },
    {
      "cell_type": "code",
      "metadata": {
        "id": "-2VzZuLYEiKp",
        "colab_type": "code",
        "colab": {}
      },
      "source": [
        "train_data = pd.concat([train_data, pd.get_dummies(train_data['Neighborhood'])], axis=1)"
      ],
      "execution_count": 0,
      "outputs": []
    },
    {
      "cell_type": "code",
      "metadata": {
        "id": "ec_TdYzXFOdx",
        "colab_type": "code",
        "colab": {}
      },
      "source": [
        "train_data.drop('Neighborhood', axis=1, inplace=True)"
      ],
      "execution_count": 0,
      "outputs": []
    },
    {
      "cell_type": "code",
      "metadata": {
        "id": "hdoi_ttvFQh6",
        "colab_type": "code",
        "colab": {}
      },
      "source": [
        "def get_prox_num(x):\n",
        "  pos = 0\n",
        "  neg = 0\n",
        "  if(x['Condition1'] == 'RRAn' or x['Condition1'] == 'RRAe'  or x['Condition2'] == 'RRAn' or x['Condition2'] == 'RRAe'):\n",
        "    neg = -2\n",
        "  elif(x['Condition1'] == 'RRNn' or x['Condition1'] == 'RRNe'  or x['Condition2'] == 'RRNn' or x['Condition2'] == 'RRNe'):\n",
        "    neg = -1\n",
        "  \n",
        "  if(x['Condition1'] == 'PosA'  or x['Condition2'] == 'PosA'):\n",
        "    pos = 2\n",
        "  elif(x['Condition1'] == 'PosN'  or x['Condition2'] == 'PosN'):\n",
        "    pos = 1\n",
        "\n",
        "  return pos + neg"
      ],
      "execution_count": 0,
      "outputs": []
    },
    {
      "cell_type": "code",
      "metadata": {
        "id": "JYruO0voGZxp",
        "colab_type": "code",
        "colab": {}
      },
      "source": [
        "train_data['ProximityScore'] = train_data.apply(lambda x: get_prox_num(x), axis=1)"
      ],
      "execution_count": 0,
      "outputs": []
    },
    {
      "cell_type": "code",
      "metadata": {
        "id": "Ec0DLbt_ii9m",
        "colab_type": "code",
        "colab": {}
      },
      "source": [
        "train_data.drop(['Condition1', 'Condition2'], axis=1, inplace=True)"
      ],
      "execution_count": 0,
      "outputs": []
    },
    {
      "cell_type": "code",
      "metadata": {
        "id": "hANj8cSooYk_",
        "colab_type": "code",
        "colab": {}
      },
      "source": [
        "\n",
        "oeBldg = OrdinalEncoder(categories=[['2FmCon', 'TwnhsI', 'TwnhsE', 'Duplx', '1Fam']])\n",
        "train_data.loc[train_data['BldgType'] == '2fmCon', 'BldgType'] = '2FmCon'\n",
        "train_data.loc[train_data['BldgType'] == 'Twnhs', 'BldgType'] = 'TwnhsI'\n",
        "train_data.loc[train_data['BldgType'] == 'Duplex', 'BldgType'] = 'Duplx'\n",
        "train_data['Bldg'] = oeBldg.fit_transform(train_data[['BldgType']])"
      ],
      "execution_count": 0,
      "outputs": []
    },
    {
      "cell_type": "code",
      "metadata": {
        "id": "upuDl1x-hm5x",
        "colab_type": "code",
        "colab": {}
      },
      "source": [
        "train_data.drop('BldgType', axis=1, inplace=True)"
      ],
      "execution_count": 0,
      "outputs": []
    },
    {
      "cell_type": "code",
      "metadata": {
        "id": "SehZnrIeiuHw",
        "colab_type": "code",
        "colab": {}
      },
      "source": [
        "oeHouse = OrdinalEncoder(categories=[['1Story', '1.5Unf', '1.5Fin', 'SFoyer', 'SLvl', '2Story', '2.5Unf', '2.5Fin']])\n",
        "train_data['House'] = oeHouse.fit_transform(train_data[['HouseStyle']])"
      ],
      "execution_count": 0,
      "outputs": []
    },
    {
      "cell_type": "code",
      "metadata": {
        "id": "pue86d_1i2Tv",
        "colab_type": "code",
        "colab": {}
      },
      "source": [
        "train_data.drop('HouseStyle', axis=1, inplace=True)"
      ],
      "execution_count": 0,
      "outputs": []
    },
    {
      "cell_type": "code",
      "metadata": {
        "id": "mQ5W-zHEi7rD",
        "colab_type": "code",
        "outputId": "014f9925-7030-47c1-d6c1-c25cc0a7abe3",
        "colab": {
          "base_uri": "https://localhost:8080/",
          "height": 85
        }
      },
      "source": [
        "print(train_data['YearBuilt'].min())\n",
        "print(train_data['YearRemodAdd'].min())\n",
        "print(train_data['YearBuilt'].max())\n",
        "print(train_data['YearRemodAdd'].max())"
      ],
      "execution_count": 62,
      "outputs": [
        {
          "output_type": "stream",
          "text": [
            "1872\n",
            "1950\n",
            "2010\n",
            "2010\n"
          ],
          "name": "stdout"
        }
      ]
    },
    {
      "cell_type": "code",
      "metadata": {
        "id": "53j1-w24mUZr",
        "colab_type": "code",
        "outputId": "cfd70c89-315e-4023-c81a-36bcb9e501f7",
        "colab": {
          "base_uri": "https://localhost:8080/",
          "height": 320
        }
      },
      "source": [
        "fig, ax = plt.subplots(figsize=(5, 5))\n",
        "ax.hist(train_data['YearBuilt'], bins = 50)\n",
        "fig.show()"
      ],
      "execution_count": 63,
      "outputs": [
        {
          "output_type": "display_data",
          "data": {
            "image/png": "[encoded data removed]",
            "text/plain": [
              "<Figure size 360x360 with 1 Axes>"
            ]
          },
          "metadata": {
            "tags": []
          }
        }
      ]
    },
    {
      "cell_type": "code",
      "metadata": {
        "id": "_6ubvsPHmxWE",
        "colab_type": "code",
        "colab": {}
      },
      "source": [
        "train_data.drop('RoofStyle', axis=1, inplace=True)"
      ],
      "execution_count": 0,
      "outputs": []
    },
    {
      "cell_type": "code",
      "metadata": {
        "id": "bHVwmnW7onpj",
        "colab_type": "code",
        "outputId": "f087064b-b63b-438e-8c60-0b4401a5746f",
        "colab": {
          "base_uri": "https://localhost:8080/",
          "height": 512
        }
      },
      "source": [
        "fig = plt.figure(figsize=(16,8))\n",
        "mats = train_data['RoofMatl'].unique()\n",
        "for idx,mat in enumerate(mats, start=1):\n",
        "  ax = fig.add_subplot(2,4,idx)\n",
        "  ax.hist(train_data.loc[train_data['RoofMatl'] == mat, 'SalePrice'], bins = 20)\n",
        "  ax.set_title(mat)\n",
        "fig.show()"
      ],
      "execution_count": 65,
      "outputs": [
        {
          "output_type": "display_data",
          "data": {
            "image/png": "[encoded data removed]",
            "text/plain": [
              "<Figure size 1152x576 with 7 Axes>"
            ]
          },
          "metadata": {
            "tags": []
          }
        }
      ]
    },
    {
      "cell_type": "code",
      "metadata": {
        "id": "mH_gZeIMph93",
        "colab_type": "code",
        "outputId": "5f61e7cd-2f75-492c-d926-588db1407b1c",
        "colab": {
          "base_uri": "https://localhost:8080/",
          "height": 85
        }
      },
      "source": [
        "print(len(train_data.loc[train_data['RoofMatl'] == 'Metal']))\n",
        "print(len(train_data.loc[train_data['RoofMatl'] == 'Membran']))\n",
        "print(len(train_data.loc[train_data['RoofMatl'] == 'Roll']))\n",
        "print(len(train_data.loc[train_data['RoofMatl'] == 'ClyTile']))"
      ],
      "execution_count": 66,
      "outputs": [
        {
          "output_type": "stream",
          "text": [
            "1\n",
            "1\n",
            "0\n",
            "1\n"
          ],
          "name": "stdout"
        }
      ]
    },
    {
      "cell_type": "code",
      "metadata": {
        "id": "AlG8vvsZrSFR",
        "colab_type": "code",
        "colab": {}
      },
      "source": [
        "# not enough distribution on the values besides CompShg\n",
        "train_data.drop('RoofMatl', axis=1, inplace=True)"
      ],
      "execution_count": 0,
      "outputs": []
    },
    {
      "cell_type": "code",
      "metadata": {
        "id": "1tpWj5oUsEmh",
        "colab_type": "code",
        "colab": {}
      },
      "source": [
        "ext_dummies = pd.get_dummies(train_data[['Exterior1st', 'Exterior2nd']], {'Exterior1st': 'Ext', 'Exterior2nd': 'Ext2'}, columns=['Exterior1st', 'Exterior2nd'])\n",
        "\n",
        "rmvCols = []\n",
        "for col in ext_dummies.columns:\n",
        "  if 'Ext2' in col:\n",
        "    mat = col.split('_')[1]\n",
        "    if mat == 'Brk Cmn':\n",
        "      mat = 'BrkComm'\n",
        "    if mat == 'CmentBd':\n",
        "      mat = 'CemntBd'\n",
        "    if mat == 'Wd Shng':\n",
        "      mat = 'WdShing'\n",
        "    extCol = 'Ext_' + mat\n",
        "    if extCol not in ext_dummies.columns:\n",
        "      ext_dummies[extCol] = ext_dummies[col]\n",
        "    ext_dummies[extCol] = ext_dummies[extCol] | ext_dummies[col]\n",
        "    rmvCols.append(col)\n",
        "ext_dummies.drop(rmvCols, axis=1, inplace=True)\n",
        "\n",
        "train_data = pd.concat([train_data, ext_dummies], axis=1)"
      ],
      "execution_count": 0,
      "outputs": []
    },
    {
      "cell_type": "code",
      "metadata": {
        "id": "ZNqldN5Sx2Ky",
        "colab_type": "code",
        "colab": {}
      },
      "source": [
        "train_data.drop(['Exterior1st', 'Exterior2nd'], axis=1, inplace=True)"
      ],
      "execution_count": 0,
      "outputs": []
    },
    {
      "cell_type": "code",
      "metadata": {
        "id": "_2eDKsuc1toM",
        "colab_type": "code",
        "colab": {}
      },
      "source": [
        "train_data.loc[train_data['MasVnrType'].isna(), 'MasVnrType'] = 'None'\n",
        "oeMasonry = OrdinalEncoder(categories=[['CBlock', 'None', 'BrkCmn', 'BrkFace', 'Stone']])\n",
        "train_data['Masonry'] = oeMasonry.fit_transform(train_data[['MasVnrType']])"
      ],
      "execution_count": 0,
      "outputs": []
    },
    {
      "cell_type": "code",
      "metadata": {
        "id": "kPD5FsK42gEL",
        "colab_type": "code",
        "colab": {}
      },
      "source": [
        "train_data.drop('MasVnrType', axis=1, inplace=True)"
      ],
      "execution_count": 0,
      "outputs": []
    },
    {
      "cell_type": "code",
      "metadata": {
        "id": "FfBBS5Cm9aHp",
        "colab_type": "code",
        "colab": {}
      },
      "source": [
        "train_data.loc[train_data['MasVnrArea'].isna(), 'MasVnrArea'] = 0"
      ],
      "execution_count": 0,
      "outputs": []
    },
    {
      "cell_type": "code",
      "metadata": {
        "id": "kOK8inRZ9h36",
        "colab_type": "code",
        "colab": {}
      },
      "source": [
        "oeExtQ = OrdinalEncoder(categories=[['Po', 'Fa', 'TA', 'Gd', 'Ex']])\n",
        "train_data['ExtQual'] = oeExtQ.fit_transform(train_data[['ExterQual']])\n",
        "train_data['ExtCond'] = oeExtQ.fit_transform(train_data[['ExterCond']])"
      ],
      "execution_count": 0,
      "outputs": []
    },
    {
      "cell_type": "code",
      "metadata": {
        "id": "HQVc8DMN-jHX",
        "colab_type": "code",
        "colab": {}
      },
      "source": [
        "train_data.drop(['ExterQual', 'ExterCond'], axis=1, inplace=True)"
      ],
      "execution_count": 0,
      "outputs": []
    },
    {
      "cell_type": "code",
      "metadata": {
        "id": "7cWIpChZ-nGy",
        "colab_type": "code",
        "outputId": "39b3ba39-f048-4be5-c8ce-6c85f752ce35",
        "colab": {
          "base_uri": "https://localhost:8080/",
          "height": 601
        }
      },
      "source": [
        "fig = plt.figure(figsize=(18,8))\n",
        "mats = train_data['Foundation'].unique()\n",
        "for idx,mat in enumerate(mats, start=1):\n",
        "  ax = fig.add_subplot(2,3,idx)\n",
        "  ax.hist(train_data.loc[train_data['Foundation'] == mat, 'SalePrice'], bins = 20)\n",
        "  ax.set_title(mat)\n",
        "  print(mat + ' mean= ' + str(train_data.loc[train_data['Foundation'] == mat, 'SalePrice'].mean()))\n",
        "fig.show()"
      ],
      "execution_count": 75,
      "outputs": [
        {
          "output_type": "stream",
          "text": [
            "CBlock mean= 150200.06818181818\n",
            "PConc mean= 222221.55889145497\n",
            "BrkTil mean= 135067.76699029127\n",
            "Wood mean= 185666.66666666666\n",
            "Stone mean= 115819.0\n",
            "Slab mean= 105060.11764705883\n"
          ],
          "name": "stdout"
        },
        {
          "output_type": "display_data",
          "data": {
            "image/png": "[encoded data removed]",
            "text/plain": [
              "<Figure size 1296x576 with 6 Axes>"
            ]
          },
          "metadata": {
            "tags": []
          }
        }
      ]
    },
    {
      "cell_type": "code",
      "metadata": {
        "id": "rz9iUiZ__Am4",
        "colab_type": "code",
        "colab": {}
      },
      "source": [
        "oeFound = OrdinalEncoder(categories=[['Slab', 'BrkTil', 'CBlock', 'Stone', 'Wood', 'PConc']])\n",
        "train_data['FoundationMat'] = oeFound.fit_transform(train_data[['Foundation']])"
      ],
      "execution_count": 0,
      "outputs": []
    },
    {
      "cell_type": "code",
      "metadata": {
        "id": "DB07Y5tdAoKG",
        "colab_type": "code",
        "colab": {}
      },
      "source": [
        "train_data.drop('Foundation', axis=1, inplace=True)"
      ],
      "execution_count": 0,
      "outputs": []
    },
    {
      "cell_type": "code",
      "metadata": {
        "id": "7VQa0XefAs8E",
        "colab_type": "code",
        "colab": {}
      },
      "source": [
        "train_data.loc[train_data['BsmtQual'].isna(), 'BsmtQual'] = 'NA'\n",
        "train_data.loc[train_data['BsmtCond'].isna(), 'BsmtCond'] = 'NA'\n",
        "oeBsmtQ = OrdinalEncoder(categories=[['NA', 'Po', 'Fa', 'TA', 'Gd', 'Ex']])\n",
        "train_data['BsmtQ'] = oeBsmtQ.fit_transform(train_data[['BsmtQual']])\n",
        "train_data['BsmtC'] = oeBsmtQ.fit_transform(train_data[['BsmtCond']])"
      ],
      "execution_count": 0,
      "outputs": []
    },
    {
      "cell_type": "code",
      "metadata": {
        "id": "kVz1_gpyBkz8",
        "colab_type": "code",
        "colab": {}
      },
      "source": [
        "train_data.drop(['BsmtQual', 'BsmtCond'], axis=1, inplace=True)"
      ],
      "execution_count": 0,
      "outputs": []
    },
    {
      "cell_type": "code",
      "metadata": {
        "id": "AxdgUG8gCEUS",
        "colab_type": "code",
        "colab": {}
      },
      "source": [
        "train_data.loc[train_data['BsmtExposure'].isna(), 'BsmtExposure'] = 'NA'\n",
        "oeBsmtExp = OrdinalEncoder(categories=[['NA', 'No', 'Mn', 'Av', 'Gd']])\n",
        "train_data['BsmtExp'] = oeBsmtExp.fit_transform(train_data[['BsmtExposure']])"
      ],
      "execution_count": 0,
      "outputs": []
    },
    {
      "cell_type": "code",
      "metadata": {
        "id": "y5Txt9hNCvIk",
        "colab_type": "code",
        "colab": {}
      },
      "source": [
        "train_data.drop('BsmtExposure', axis=1, inplace=True)"
      ],
      "execution_count": 0,
      "outputs": []
    },
    {
      "cell_type": "code",
      "metadata": {
        "id": "a9lElF51DDwc",
        "colab_type": "code",
        "colab": {}
      },
      "source": [
        "train_data['FinBsmtArea'] = train_data['TotalBsmtSF'] - train_data['BsmtUnfSF']"
      ],
      "execution_count": 0,
      "outputs": []
    },
    {
      "cell_type": "code",
      "metadata": {
        "id": "dxOx1HDQEb5E",
        "colab_type": "code",
        "colab": {}
      },
      "source": [
        "train_data.drop(['BsmtFinType1', 'BsmtFinSF1', 'BsmtFinType2', 'BsmtFinSF2', 'TotalBsmtSF', 'BsmtUnfSF'], axis=1, inplace=True)"
      ],
      "execution_count": 0,
      "outputs": []
    },
    {
      "cell_type": "code",
      "metadata": {
        "id": "MPs_M6JNEt1a",
        "colab_type": "code",
        "colab": {}
      },
      "source": [
        "oeHeat = OrdinalEncoder(categories=[['Po', 'Fa', 'TA', 'Gd', 'Ex']])\n",
        "train_data['HeatingQual'] = oeHeat.fit_transform(train_data[['HeatingQC']])"
      ],
      "execution_count": 0,
      "outputs": []
    },
    {
      "cell_type": "code",
      "metadata": {
        "id": "J4pdcjH3FX5k",
        "colab_type": "code",
        "colab": {}
      },
      "source": [
        "train_data.drop(['HeatingQC', 'Heating'], axis=1, inplace=True)"
      ],
      "execution_count": 0,
      "outputs": []
    },
    {
      "cell_type": "code",
      "metadata": {
        "id": "jMhcD2h-GCvS",
        "colab_type": "code",
        "colab": {}
      },
      "source": [
        "train_data['CentrlAir'] = train_data[['CentralAir']].apply(lambda col: le.fit_transform(col))"
      ],
      "execution_count": 0,
      "outputs": []
    },
    {
      "cell_type": "code",
      "metadata": {
        "id": "sCJ7jY-cGhK7",
        "colab_type": "code",
        "colab": {}
      },
      "source": [
        "train_data.drop('CentralAir', axis=1, inplace=True)"
      ],
      "execution_count": 0,
      "outputs": []
    },
    {
      "cell_type": "code",
      "metadata": {
        "id": "IQnNZuULGskd",
        "colab_type": "code",
        "colab": {}
      },
      "source": [
        "train_data.loc[train_data['Electrical'].isna(), 'Electrical'] = 'NA'\n",
        "oeElec = OrdinalEncoder(categories=[['NA', 'FuseP', 'FuseF', 'Mix', 'FuseA', 'SBrkr']])\n",
        "train_data['Elec'] = oeElec.fit_transform(train_data[['Electrical']])"
      ],
      "execution_count": 0,
      "outputs": []
    },
    {
      "cell_type": "code",
      "metadata": {
        "id": "M5ORDKbiHMUM",
        "colab_type": "code",
        "colab": {}
      },
      "source": [
        "train_data.drop('Electrical', axis=1, inplace=True)"
      ],
      "execution_count": 0,
      "outputs": []
    },
    {
      "cell_type": "code",
      "metadata": {
        "id": "F6d_uyGUHg0C",
        "colab_type": "code",
        "colab": {}
      },
      "source": [
        "oeKitch = OrdinalEncoder(categories=[['Po', 'Fa', 'TA', 'Gd', 'Ex']])\n",
        "train_data['KitchQual'] = oeKitch.fit_transform(train_data[['KitchenQual']])"
      ],
      "execution_count": 0,
      "outputs": []
    },
    {
      "cell_type": "code",
      "metadata": {
        "id": "6ENjObWNIBjs",
        "colab_type": "code",
        "colab": {}
      },
      "source": [
        "train_data.drop('KitchenQual', axis=1, inplace=True)"
      ],
      "execution_count": 0,
      "outputs": []
    },
    {
      "cell_type": "code",
      "metadata": {
        "id": "GbZRKSnBIDn8",
        "colab_type": "code",
        "colab": {}
      },
      "source": [
        "oeFunc = OrdinalEncoder(categories=[['Sal', 'Sev', 'Maj2', 'Maj1', 'Mod', 'Min2', 'Min1', 'Typ']])\n",
        "train_data['HomeFunct'] = oeFunc.fit_transform(train_data[['Functional']])"
      ],
      "execution_count": 0,
      "outputs": []
    },
    {
      "cell_type": "code",
      "metadata": {
        "id": "AKJyyldRIldM",
        "colab_type": "code",
        "colab": {}
      },
      "source": [
        "train_data.drop('Functional', axis=1, inplace=True)"
      ],
      "execution_count": 0,
      "outputs": []
    },
    {
      "cell_type": "code",
      "metadata": {
        "id": "xNzoHe9XIowr",
        "colab_type": "code",
        "colab": {}
      },
      "source": [
        "train_data.loc[train_data['FireplaceQu'].isna(), 'FireplaceQu'] = 'NA'\n",
        "oeFireQ = OrdinalEncoder(categories=[['NA', 'Po', 'Fa', 'TA', 'Gd', 'Ex']])\n",
        "train_data['FireplQual'] = oeFireQ.fit_transform(train_data[['FireplaceQu']])"
      ],
      "execution_count": 0,
      "outputs": []
    },
    {
      "cell_type": "code",
      "metadata": {
        "id": "8SQJC9KfI9Se",
        "colab_type": "code",
        "colab": {}
      },
      "source": [
        "train_data.drop('FireplaceQu', axis=1, inplace=True)"
      ],
      "execution_count": 0,
      "outputs": []
    },
    {
      "cell_type": "code",
      "metadata": {
        "id": "zU3zGPmeJMC8",
        "colab_type": "code",
        "colab": {}
      },
      "source": [
        "train_data.loc[train_data['GarageQual'].isna(), 'GarageQual'] = 'NA'\n",
        "train_data.loc[train_data['GarageCond'].isna(), 'GarageCond'] = 'NA'\n",
        "oeGarage = OrdinalEncoder(categories=[['NA', 'Po', 'Fa', 'TA', 'Gd', 'Ex']])\n",
        "train_data['GarageQ'] = oeGarage.fit_transform(train_data[['GarageQual']])\n",
        "train_data['GarageC'] = oeGarage.fit_transform(train_data[['GarageCond']])"
      ],
      "execution_count": 0,
      "outputs": []
    },
    {
      "cell_type": "code",
      "metadata": {
        "id": "IAykf_OyKFX0",
        "colab_type": "code",
        "colab": {}
      },
      "source": [
        "train_data.loc[train_data['GarageFinish'].isna(), 'GarageFinish'] = 'NA'\n",
        "oeGarageFin = OrdinalEncoder(categories=[['NA', 'Unf', 'RFn', 'Fin']])\n",
        "train_data['GarageFin'] = oeGarageFin.fit_transform(train_data[['GarageFinish']])"
      ],
      "execution_count": 0,
      "outputs": []
    },
    {
      "cell_type": "code",
      "metadata": {
        "id": "LGcRi6L2Kdr7",
        "colab_type": "code",
        "colab": {}
      },
      "source": [
        "train_data.drop(['GarageType','GarageFinish','GarageQual','GarageCond'], axis=1, inplace=True)"
      ],
      "execution_count": 0,
      "outputs": []
    },
    {
      "cell_type": "code",
      "metadata": {
        "id": "ERw7X1uQK_Qc",
        "colab_type": "code",
        "colab": {}
      },
      "source": [
        "oeDrive = OrdinalEncoder(categories=[['N', 'P', 'Y']])\n",
        "train_data['Driveway'] = oeDrive.fit_transform(train_data[['PavedDrive']])"
      ],
      "execution_count": 0,
      "outputs": []
    },
    {
      "cell_type": "code",
      "metadata": {
        "id": "AwIUfgCNLQkc",
        "colab_type": "code",
        "colab": {}
      },
      "source": [
        "train_data.drop('PavedDrive', axis=1, inplace=True)"
      ],
      "execution_count": 0,
      "outputs": []
    },
    {
      "cell_type": "code",
      "metadata": {
        "id": "0a_2By4XLTc0",
        "colab_type": "code",
        "colab": {}
      },
      "source": [
        "train_data.loc[train_data['PoolQC'].isna(), 'PoolQC'] = 'NA'\n",
        "oePool = OrdinalEncoder(categories=[['NA', 'Fa', 'TA', 'Gd', 'Ex']])\n",
        "train_data['PoolQual'] = oePool.fit_transform(train_data[['PoolQC']])"
      ],
      "execution_count": 0,
      "outputs": []
    },
    {
      "cell_type": "code",
      "metadata": {
        "id": "MuRvf89SLzS1",
        "colab_type": "code",
        "colab": {}
      },
      "source": [
        "train_data.drop('PoolQC', axis=1, inplace=True)"
      ],
      "execution_count": 0,
      "outputs": []
    },
    {
      "cell_type": "code",
      "metadata": {
        "id": "K5p8LkQeL5Pt",
        "colab_type": "code",
        "colab": {}
      },
      "source": [
        "train_data.loc[train_data['Fence'].isna(), 'Fence'] = 'NA'\n",
        "oeFence = OrdinalEncoder(categories=[['NA', 'MnWw', 'GdWo', 'MnPrv', 'GdPrv']])\n",
        "train_data['FenceQual'] = oeFence.fit_transform(train_data[['Fence']])"
      ],
      "execution_count": 0,
      "outputs": []
    },
    {
      "cell_type": "code",
      "metadata": {
        "id": "q3HdKb61MPID",
        "colab_type": "code",
        "colab": {}
      },
      "source": [
        "train_data.drop('Fence', axis=1, inplace=True)"
      ],
      "execution_count": 0,
      "outputs": []
    },
    {
      "cell_type": "code",
      "metadata": {
        "id": "w2xNF2K7MTJE",
        "colab_type": "code",
        "colab": {}
      },
      "source": [
        "train_data = pd.get_dummies(train_data, columns=['MiscFeature', 'SaleType', 'SaleCondition'])"
      ],
      "execution_count": 0,
      "outputs": []
    },
    {
      "cell_type": "code",
      "metadata": {
        "id": "ygx7bzc5Mt18",
        "colab_type": "code",
        "outputId": "5e2a9685-c3a0-4bbe-d676-0a8fcbc386db",
        "colab": {
          "base_uri": "https://localhost:8080/",
          "height": 1000
        }
      },
      "source": [
        "pd.options.display.max_rows = 200\n",
        "print(train_data.isna().any())\n",
        "pd.options.display.max_rows = 60"
      ],
      "execution_count": 106,
      "outputs": [
        {
          "output_type": "stream",
          "text": [
            "LotFrontage               True\n",
            "LotArea                  False\n",
            "OverallQual              False\n",
            "OverallCond              False\n",
            "YearBuilt                False\n",
            "YearRemodAdd             False\n",
            "MasVnrArea               False\n",
            "1stFlrSF                 False\n",
            "2ndFlrSF                 False\n",
            "LowQualFinSF             False\n",
            "GrLivArea                False\n",
            "BsmtFullBath             False\n",
            "BsmtHalfBath             False\n",
            "FullBath                 False\n",
            "HalfBath                 False\n",
            "BedroomAbvGr             False\n",
            "KitchenAbvGr             False\n",
            "TotRmsAbvGrd             False\n",
            "Fireplaces               False\n",
            "GarageYrBlt               True\n",
            "GarageCars               False\n",
            "GarageArea               False\n",
            "WoodDeckSF               False\n",
            "OpenPorchSF              False\n",
            "EnclosedPorch            False\n",
            "3SsnPorch                False\n",
            "ScreenPorch              False\n",
            "PoolArea                 False\n",
            "MiscVal                  False\n",
            "MoSold                   False\n",
            "YrSold                   False\n",
            "SalePrice                False\n",
            "ResZoned                 False\n",
            "Density                  False\n",
            "RoadType                 False\n",
            "HasAlley                 False\n",
            "Shape                    False\n",
            "Utils                    False\n",
            "IsCulDSac                False\n",
            "HasFrontage              False\n",
            "Slope                    False\n",
            "Blmngtn                  False\n",
            "Blueste                  False\n",
            "BrDale                   False\n",
            "BrkSide                  False\n",
            "ClearCr                  False\n",
            "CollgCr                  False\n",
            "Crawfor                  False\n",
            "Edwards                  False\n",
            "Gilbert                  False\n",
            "IDOTRR                   False\n",
            "MeadowV                  False\n",
            "Mitchel                  False\n",
            "NAmes                    False\n",
            "NPkVill                  False\n",
            "NWAmes                   False\n",
            "NoRidge                  False\n",
            "NridgHt                  False\n",
            "OldTown                  False\n",
            "SWISU                    False\n",
            "Sawyer                   False\n",
            "SawyerW                  False\n",
            "Somerst                  False\n",
            "StoneBr                  False\n",
            "Timber                   False\n",
            "Veenker                  False\n",
            "ProximityScore           False\n",
            "Bldg                     False\n",
            "House                    False\n",
            "Ext_AsbShng              False\n",
            "Ext_AsphShn              False\n",
            "Ext_BrkComm              False\n",
            "Ext_BrkFace              False\n",
            "Ext_CBlock               False\n",
            "Ext_CemntBd              False\n",
            "Ext_HdBoard              False\n",
            "Ext_ImStucc              False\n",
            "Ext_MetalSd              False\n",
            "Ext_Plywood              False\n",
            "Ext_Stone                False\n",
            "Ext_Stucco               False\n",
            "Ext_VinylSd              False\n",
            "Ext_Wd Sdng              False\n",
            "Ext_WdShing              False\n",
            "Ext_Other                False\n",
            "Masonry                  False\n",
            "ExtQual                  False\n",
            "ExtCond                  False\n",
            "FoundationMat            False\n",
            "BsmtQ                    False\n",
            "BsmtC                    False\n",
            "BsmtExp                  False\n",
            "FinBsmtArea              False\n",
            "HeatingQual              False\n",
            "CentrlAir                False\n",
            "Elec                     False\n",
            "KitchQual                False\n",
            "HomeFunct                False\n",
            "FireplQual               False\n",
            "GarageQ                  False\n",
            "GarageC                  False\n",
            "GarageFin                False\n",
            "Driveway                 False\n",
            "PoolQual                 False\n",
            "FenceQual                False\n",
            "MiscFeature_Gar2         False\n",
            "MiscFeature_Othr         False\n",
            "MiscFeature_Shed         False\n",
            "SaleType_COD             False\n",
            "SaleType_CWD             False\n",
            "SaleType_Con             False\n",
            "SaleType_ConLD           False\n",
            "SaleType_ConLI           False\n",
            "SaleType_ConLw           False\n",
            "SaleType_New             False\n",
            "SaleType_Oth             False\n",
            "SaleType_WD              False\n",
            "SaleCondition_Abnorml    False\n",
            "SaleCondition_AdjLand    False\n",
            "SaleCondition_Alloca     False\n",
            "SaleCondition_Family     False\n",
            "SaleCondition_Normal     False\n",
            "SaleCondition_Partial    False\n",
            "dtype: bool\n"
          ],
          "name": "stdout"
        }
      ]
    },
    {
      "cell_type": "code",
      "metadata": {
        "id": "meWG7aNEQZKH",
        "colab_type": "code",
        "colab": {}
      },
      "source": [
        "train_data.loc[train_data['LotFrontage'].isna(), 'LotFrontage'] = 0\n",
        "train_data.loc[train_data['GarageYrBlt'].isna(), 'GarageYrBlt'] = train_data.loc[train_data['GarageYrBlt'].isna(), 'YearBuilt']\n"
      ],
      "execution_count": 0,
      "outputs": []
    },
    {
      "cell_type": "code",
      "metadata": {
        "id": "fiOlWFyPOcAl",
        "colab_type": "code",
        "outputId": "76baf6a0-5863-4d63-92b5-6f54115c320c",
        "colab": {
          "base_uri": "https://localhost:8080/",
          "height": 34
        }
      },
      "source": [
        "X = train_data.drop(['SalePrice'], axis=1)\n",
        "y = train_data['SalePrice']\n",
        "lm = LinearRegression()\n",
        "lm.fit(X,y)\n",
        "y_pred = lm.predict(X)\n",
        "sqrt(mean_squared_log_error(y, y_pred))"
      ],
      "execution_count": 108,
      "outputs": [
        {
          "output_type": "execute_result",
          "data": {
            "text/plain": [
              "0.14027818858111654"
            ]
          },
          "metadata": {
            "tags": []
          },
          "execution_count": 108
        }
      ]
    },
    {
      "cell_type": "code",
      "metadata": {
        "id": "-W8QWP1JPdqd",
        "colab_type": "code",
        "colab": {}
      },
      "source": [
        ""
      ],
      "execution_count": 0,
      "outputs": []
    }
  ]
}