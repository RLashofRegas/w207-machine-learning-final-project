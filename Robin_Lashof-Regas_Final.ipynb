{
  "nbformat": 4,
  "nbformat_minor": 0,
  "metadata": {
    "colab": {
      "name": "Untitled0.ipynb",
      "provenance": [],
      "collapsed_sections": []
    },
    "kernelspec": {
      "name": "python3",
      "display_name": "Python 3"
    }
  },
  "cells": [
    {
      "cell_type": "code",
      "metadata": {
        "id": "zifcD9RhmIoS",
        "colab_type": "code",
        "outputId": "7c42aca6-1c3e-4ea1-b8b5-e7425ae5a319",
        "colab": {
          "resources": {
            "http://localhost:8080/nbextensions/google.colab/files.js": {
              "data": "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",
              "ok": true,
              "headers": [
                [
                  "content-type",
                  "application/javascript"
                ]
              ],
              "status": 200,
              "status_text": ""
            }
          },
          "base_uri": "https://localhost:8080/",
          "height": 74
        }
      },
      "source": [
        "# load data files\n",
        "# execute this cell and choose train.csv\n",
        "from google.colab import files\n",
        "uploaded = files.upload()"
      ],
      "execution_count": 2,
      "outputs": [
        {
          "output_type": "display_data",
          "data": {
            "text/html": [
              "\n",
              "     <input type=\"file\" id=\"files-52b2c0a6-ca0e-4c24-94f0-330dcd344033\" name=\"files[]\" multiple disabled />\n",
              "     <output id=\"result-52b2c0a6-ca0e-4c24-94f0-330dcd344033\">\n",
              "      Upload widget is only available when the cell has been executed in the\n",
              "      current browser session. Please rerun this cell to enable.\n",
              "      </output>\n",
              "      <script src=\"/nbextensions/google.colab/files.js\"></script> "
            ],
            "text/plain": [
              "<IPython.core.display.HTML object>"
            ]
          },
          "metadata": {
            "tags": []
          }
        },
        {
          "output_type": "stream",
          "text": [
            "Saving train.csv to train (1).csv\n"
          ],
          "name": "stdout"
        }
      ]
    },
    {
      "cell_type": "code",
      "metadata": {
        "id": "3rfqUoGix3xL",
        "colab_type": "code",
        "colab": {}
      },
      "source": [
        "# imports\n",
        "import pandas as pd\n",
        "import io\n",
        "import seaborn as sb\n",
        "import numpy as np\n",
        "import matplotlib.pyplot as plt\n",
        "from sklearn.linear_model import LinearRegression, Lasso, LassoCV\n",
        "from sklearn.metrics import mean_squared_log_error\n",
        "from math import sqrt, log, exp\n",
        "from sklearn.preprocessing import LabelEncoder, OrdinalEncoder\n",
        "from sklearn.decomposition import PCA\n",
        "from sklearn.svm import SVR\n",
        "from sklearn.neural_network import MLPRegressor"
      ],
      "execution_count": 0,
      "outputs": []
    },
    {
      "cell_type": "code",
      "metadata": {
        "id": "r9oo9GJvySZ9",
        "colab_type": "code",
        "colab": {}
      },
      "source": [
        "# load data into dataframes\n",
        "train_raw = pd.read_csv(io.StringIO(uploaded['train.csv'].decode('utf-8'))).sample(frac=1).reset_index(drop=True)\n",
        "train_data = train_raw[:1000]\n",
        "test_data = train_raw[1000:]"
      ],
      "execution_count": 0,
      "outputs": []
    },
    {
      "cell_type": "code",
      "metadata": {
        "id": "mMSf1_imPlPH",
        "colab_type": "code",
        "outputId": "f8805b01-2f90-4e19-da1b-0e0b1b9c1b0a",
        "colab": {
          "base_uri": "https://localhost:8080/",
          "height": 439
        }
      },
      "source": [
        "# inspect columns\n",
        "train_data"
      ],
      "execution_count": 5,
      "outputs": [
        {
          "output_type": "execute_result",
          "data": {
            "text/html": [
              "<div>\n",
              "<style scoped>\n",
              "    .dataframe tbody tr th:only-of-type {\n",
              "        vertical-align: middle;\n",
              "    }\n",
              "\n",
              "    .dataframe tbody tr th {\n",
              "        vertical-align: top;\n",
              "    }\n",
              "\n",
              "    .dataframe thead th {\n",
              "        text-align: right;\n",
              "    }\n",
              "</style>\n",
              "<table border=\"1\" class=\"dataframe\">\n",
              "  <thead>\n",
              "    <tr style=\"text-align: right;\">\n",
              "      <th></th>\n",
              "      <th>Id</th>\n",
              "      <th>MSSubClass</th>\n",
              "      <th>MSZoning</th>\n",
              "      <th>LotFrontage</th>\n",
              "      <th>LotArea</th>\n",
              "      <th>Street</th>\n",
              "      <th>Alley</th>\n",
              "      <th>LotShape</th>\n",
              "      <th>LandContour</th>\n",
              "      <th>Utilities</th>\n",
              "      <th>LotConfig</th>\n",
              "      <th>LandSlope</th>\n",
              "      <th>Neighborhood</th>\n",
              "      <th>Condition1</th>\n",
              "      <th>Condition2</th>\n",
              "      <th>BldgType</th>\n",
              "      <th>HouseStyle</th>\n",
              "      <th>OverallQual</th>\n",
              "      <th>OverallCond</th>\n",
              "      <th>YearBuilt</th>\n",
              "      <th>YearRemodAdd</th>\n",
              "      <th>RoofStyle</th>\n",
              "      <th>RoofMatl</th>\n",
              "      <th>Exterior1st</th>\n",
              "      <th>Exterior2nd</th>\n",
              "      <th>MasVnrType</th>\n",
              "      <th>MasVnrArea</th>\n",
              "      <th>ExterQual</th>\n",
              "      <th>ExterCond</th>\n",
              "      <th>Foundation</th>\n",
              "      <th>BsmtQual</th>\n",
              "      <th>BsmtCond</th>\n",
              "      <th>BsmtExposure</th>\n",
              "      <th>BsmtFinType1</th>\n",
              "      <th>BsmtFinSF1</th>\n",
              "      <th>BsmtFinType2</th>\n",
              "      <th>BsmtFinSF2</th>\n",
              "      <th>BsmtUnfSF</th>\n",
              "      <th>TotalBsmtSF</th>\n",
              "      <th>Heating</th>\n",
              "      <th>...</th>\n",
              "      <th>CentralAir</th>\n",
              "      <th>Electrical</th>\n",
              "      <th>1stFlrSF</th>\n",
              "      <th>2ndFlrSF</th>\n",
              "      <th>LowQualFinSF</th>\n",
              "      <th>GrLivArea</th>\n",
              "      <th>BsmtFullBath</th>\n",
              "      <th>BsmtHalfBath</th>\n",
              "      <th>FullBath</th>\n",
              "      <th>HalfBath</th>\n",
              "      <th>BedroomAbvGr</th>\n",
              "      <th>KitchenAbvGr</th>\n",
              "      <th>KitchenQual</th>\n",
              "      <th>TotRmsAbvGrd</th>\n",
              "      <th>Functional</th>\n",
              "      <th>Fireplaces</th>\n",
              "      <th>FireplaceQu</th>\n",
              "      <th>GarageType</th>\n",
              "      <th>GarageYrBlt</th>\n",
              "      <th>GarageFinish</th>\n",
              "      <th>GarageCars</th>\n",
              "      <th>GarageArea</th>\n",
              "      <th>GarageQual</th>\n",
              "      <th>GarageCond</th>\n",
              "      <th>PavedDrive</th>\n",
              "      <th>WoodDeckSF</th>\n",
              "      <th>OpenPorchSF</th>\n",
              "      <th>EnclosedPorch</th>\n",
              "      <th>3SsnPorch</th>\n",
              "      <th>ScreenPorch</th>\n",
              "      <th>PoolArea</th>\n",
              "      <th>PoolQC</th>\n",
              "      <th>Fence</th>\n",
              "      <th>MiscFeature</th>\n",
              "      <th>MiscVal</th>\n",
              "      <th>MoSold</th>\n",
              "      <th>YrSold</th>\n",
              "      <th>SaleType</th>\n",
              "      <th>SaleCondition</th>\n",
              "      <th>SalePrice</th>\n",
              "    </tr>\n",
              "  </thead>\n",
              "  <tbody>\n",
              "    <tr>\n",
              "      <th>0</th>\n",
              "      <td>809</td>\n",
              "      <td>80</td>\n",
              "      <td>RL</td>\n",
              "      <td>85.0</td>\n",
              "      <td>13400</td>\n",
              "      <td>Pave</td>\n",
              "      <td>NaN</td>\n",
              "      <td>Reg</td>\n",
              "      <td>Lvl</td>\n",
              "      <td>AllPub</td>\n",
              "      <td>Inside</td>\n",
              "      <td>Gtl</td>\n",
              "      <td>NAmes</td>\n",
              "      <td>Norm</td>\n",
              "      <td>Norm</td>\n",
              "      <td>1Fam</td>\n",
              "      <td>SLvl</td>\n",
              "      <td>5</td>\n",
              "      <td>5</td>\n",
              "      <td>1966</td>\n",
              "      <td>1966</td>\n",
              "      <td>Gable</td>\n",
              "      <td>CompShg</td>\n",
              "      <td>VinylSd</td>\n",
              "      <td>VinylSd</td>\n",
              "      <td>BrkFace</td>\n",
              "      <td>1047.0</td>\n",
              "      <td>TA</td>\n",
              "      <td>TA</td>\n",
              "      <td>CBlock</td>\n",
              "      <td>TA</td>\n",
              "      <td>TA</td>\n",
              "      <td>Av</td>\n",
              "      <td>ALQ</td>\n",
              "      <td>516</td>\n",
              "      <td>BLQ</td>\n",
              "      <td>128</td>\n",
              "      <td>380</td>\n",
              "      <td>1024</td>\n",
              "      <td>GasA</td>\n",
              "      <td>...</td>\n",
              "      <td>Y</td>\n",
              "      <td>SBrkr</td>\n",
              "      <td>1086</td>\n",
              "      <td>0</td>\n",
              "      <td>0</td>\n",
              "      <td>1086</td>\n",
              "      <td>1</td>\n",
              "      <td>0</td>\n",
              "      <td>1</td>\n",
              "      <td>0</td>\n",
              "      <td>3</td>\n",
              "      <td>1</td>\n",
              "      <td>TA</td>\n",
              "      <td>6</td>\n",
              "      <td>Typ</td>\n",
              "      <td>1</td>\n",
              "      <td>Gd</td>\n",
              "      <td>Attchd</td>\n",
              "      <td>1966.0</td>\n",
              "      <td>RFn</td>\n",
              "      <td>2</td>\n",
              "      <td>484</td>\n",
              "      <td>TA</td>\n",
              "      <td>TA</td>\n",
              "      <td>Y</td>\n",
              "      <td>0</td>\n",
              "      <td>0</td>\n",
              "      <td>0</td>\n",
              "      <td>0</td>\n",
              "      <td>0</td>\n",
              "      <td>0</td>\n",
              "      <td>NaN</td>\n",
              "      <td>GdWo</td>\n",
              "      <td>NaN</td>\n",
              "      <td>0</td>\n",
              "      <td>6</td>\n",
              "      <td>2006</td>\n",
              "      <td>WD</td>\n",
              "      <td>Normal</td>\n",
              "      <td>159950</td>\n",
              "    </tr>\n",
              "    <tr>\n",
              "      <th>1</th>\n",
              "      <td>247</td>\n",
              "      <td>190</td>\n",
              "      <td>RM</td>\n",
              "      <td>69.0</td>\n",
              "      <td>9142</td>\n",
              "      <td>Pave</td>\n",
              "      <td>Grvl</td>\n",
              "      <td>Reg</td>\n",
              "      <td>Lvl</td>\n",
              "      <td>AllPub</td>\n",
              "      <td>Inside</td>\n",
              "      <td>Gtl</td>\n",
              "      <td>OldTown</td>\n",
              "      <td>Norm</td>\n",
              "      <td>Norm</td>\n",
              "      <td>2fmCon</td>\n",
              "      <td>2Story</td>\n",
              "      <td>6</td>\n",
              "      <td>8</td>\n",
              "      <td>1910</td>\n",
              "      <td>1950</td>\n",
              "      <td>Gable</td>\n",
              "      <td>CompShg</td>\n",
              "      <td>AsbShng</td>\n",
              "      <td>AsbShng</td>\n",
              "      <td>None</td>\n",
              "      <td>0.0</td>\n",
              "      <td>TA</td>\n",
              "      <td>Fa</td>\n",
              "      <td>Stone</td>\n",
              "      <td>Fa</td>\n",
              "      <td>TA</td>\n",
              "      <td>No</td>\n",
              "      <td>Unf</td>\n",
              "      <td>0</td>\n",
              "      <td>Unf</td>\n",
              "      <td>0</td>\n",
              "      <td>1020</td>\n",
              "      <td>1020</td>\n",
              "      <td>GasA</td>\n",
              "      <td>...</td>\n",
              "      <td>N</td>\n",
              "      <td>FuseP</td>\n",
              "      <td>908</td>\n",
              "      <td>1020</td>\n",
              "      <td>0</td>\n",
              "      <td>1928</td>\n",
              "      <td>0</td>\n",
              "      <td>0</td>\n",
              "      <td>2</td>\n",
              "      <td>0</td>\n",
              "      <td>4</td>\n",
              "      <td>2</td>\n",
              "      <td>Fa</td>\n",
              "      <td>9</td>\n",
              "      <td>Typ</td>\n",
              "      <td>0</td>\n",
              "      <td>NaN</td>\n",
              "      <td>Detchd</td>\n",
              "      <td>1910.0</td>\n",
              "      <td>Unf</td>\n",
              "      <td>1</td>\n",
              "      <td>440</td>\n",
              "      <td>Po</td>\n",
              "      <td>Po</td>\n",
              "      <td>Y</td>\n",
              "      <td>0</td>\n",
              "      <td>60</td>\n",
              "      <td>112</td>\n",
              "      <td>0</td>\n",
              "      <td>0</td>\n",
              "      <td>0</td>\n",
              "      <td>NaN</td>\n",
              "      <td>NaN</td>\n",
              "      <td>NaN</td>\n",
              "      <td>0</td>\n",
              "      <td>4</td>\n",
              "      <td>2006</td>\n",
              "      <td>WD</td>\n",
              "      <td>Normal</td>\n",
              "      <td>137000</td>\n",
              "    </tr>\n",
              "    <tr>\n",
              "      <th>2</th>\n",
              "      <td>304</td>\n",
              "      <td>20</td>\n",
              "      <td>RL</td>\n",
              "      <td>70.0</td>\n",
              "      <td>9800</td>\n",
              "      <td>Pave</td>\n",
              "      <td>NaN</td>\n",
              "      <td>Reg</td>\n",
              "      <td>Lvl</td>\n",
              "      <td>AllPub</td>\n",
              "      <td>Corner</td>\n",
              "      <td>Gtl</td>\n",
              "      <td>CollgCr</td>\n",
              "      <td>Norm</td>\n",
              "      <td>Norm</td>\n",
              "      <td>1Fam</td>\n",
              "      <td>1Story</td>\n",
              "      <td>5</td>\n",
              "      <td>7</td>\n",
              "      <td>1972</td>\n",
              "      <td>1972</td>\n",
              "      <td>Gable</td>\n",
              "      <td>CompShg</td>\n",
              "      <td>VinylSd</td>\n",
              "      <td>VinylSd</td>\n",
              "      <td>None</td>\n",
              "      <td>0.0</td>\n",
              "      <td>TA</td>\n",
              "      <td>TA</td>\n",
              "      <td>PConc</td>\n",
              "      <td>TA</td>\n",
              "      <td>TA</td>\n",
              "      <td>No</td>\n",
              "      <td>ALQ</td>\n",
              "      <td>894</td>\n",
              "      <td>Unf</td>\n",
              "      <td>0</td>\n",
              "      <td>0</td>\n",
              "      <td>894</td>\n",
              "      <td>GasA</td>\n",
              "      <td>...</td>\n",
              "      <td>Y</td>\n",
              "      <td>SBrkr</td>\n",
              "      <td>894</td>\n",
              "      <td>0</td>\n",
              "      <td>0</td>\n",
              "      <td>894</td>\n",
              "      <td>1</td>\n",
              "      <td>0</td>\n",
              "      <td>1</td>\n",
              "      <td>0</td>\n",
              "      <td>3</td>\n",
              "      <td>1</td>\n",
              "      <td>TA</td>\n",
              "      <td>5</td>\n",
              "      <td>Typ</td>\n",
              "      <td>0</td>\n",
              "      <td>NaN</td>\n",
              "      <td>Attchd</td>\n",
              "      <td>1975.0</td>\n",
              "      <td>Unf</td>\n",
              "      <td>2</td>\n",
              "      <td>552</td>\n",
              "      <td>TA</td>\n",
              "      <td>TA</td>\n",
              "      <td>Y</td>\n",
              "      <td>256</td>\n",
              "      <td>0</td>\n",
              "      <td>0</td>\n",
              "      <td>0</td>\n",
              "      <td>0</td>\n",
              "      <td>0</td>\n",
              "      <td>NaN</td>\n",
              "      <td>GdWo</td>\n",
              "      <td>NaN</td>\n",
              "      <td>0</td>\n",
              "      <td>7</td>\n",
              "      <td>2006</td>\n",
              "      <td>WD</td>\n",
              "      <td>Abnorml</td>\n",
              "      <td>149900</td>\n",
              "    </tr>\n",
              "    <tr>\n",
              "      <th>3</th>\n",
              "      <td>1236</td>\n",
              "      <td>70</td>\n",
              "      <td>RL</td>\n",
              "      <td>96.0</td>\n",
              "      <td>13132</td>\n",
              "      <td>Pave</td>\n",
              "      <td>NaN</td>\n",
              "      <td>Reg</td>\n",
              "      <td>Lvl</td>\n",
              "      <td>AllPub</td>\n",
              "      <td>Inside</td>\n",
              "      <td>Gtl</td>\n",
              "      <td>Crawfor</td>\n",
              "      <td>Norm</td>\n",
              "      <td>Norm</td>\n",
              "      <td>1Fam</td>\n",
              "      <td>2Story</td>\n",
              "      <td>5</td>\n",
              "      <td>5</td>\n",
              "      <td>1914</td>\n",
              "      <td>1950</td>\n",
              "      <td>Gable</td>\n",
              "      <td>CompShg</td>\n",
              "      <td>Wd Sdng</td>\n",
              "      <td>Wd Sdng</td>\n",
              "      <td>None</td>\n",
              "      <td>0.0</td>\n",
              "      <td>TA</td>\n",
              "      <td>TA</td>\n",
              "      <td>BrkTil</td>\n",
              "      <td>Gd</td>\n",
              "      <td>TA</td>\n",
              "      <td>Mn</td>\n",
              "      <td>Unf</td>\n",
              "      <td>0</td>\n",
              "      <td>Unf</td>\n",
              "      <td>0</td>\n",
              "      <td>747</td>\n",
              "      <td>747</td>\n",
              "      <td>GasA</td>\n",
              "      <td>...</td>\n",
              "      <td>Y</td>\n",
              "      <td>FuseF</td>\n",
              "      <td>892</td>\n",
              "      <td>892</td>\n",
              "      <td>0</td>\n",
              "      <td>1784</td>\n",
              "      <td>0</td>\n",
              "      <td>0</td>\n",
              "      <td>1</td>\n",
              "      <td>1</td>\n",
              "      <td>4</td>\n",
              "      <td>1</td>\n",
              "      <td>TA</td>\n",
              "      <td>9</td>\n",
              "      <td>Typ</td>\n",
              "      <td>0</td>\n",
              "      <td>NaN</td>\n",
              "      <td>Detchd</td>\n",
              "      <td>1914.0</td>\n",
              "      <td>Unf</td>\n",
              "      <td>1</td>\n",
              "      <td>180</td>\n",
              "      <td>Fa</td>\n",
              "      <td>Fa</td>\n",
              "      <td>N</td>\n",
              "      <td>203</td>\n",
              "      <td>40</td>\n",
              "      <td>0</td>\n",
              "      <td>0</td>\n",
              "      <td>0</td>\n",
              "      <td>0</td>\n",
              "      <td>NaN</td>\n",
              "      <td>NaN</td>\n",
              "      <td>NaN</td>\n",
              "      <td>0</td>\n",
              "      <td>7</td>\n",
              "      <td>2006</td>\n",
              "      <td>WD</td>\n",
              "      <td>Normal</td>\n",
              "      <td>138887</td>\n",
              "    </tr>\n",
              "    <tr>\n",
              "      <th>4</th>\n",
              "      <td>314</td>\n",
              "      <td>20</td>\n",
              "      <td>RL</td>\n",
              "      <td>150.0</td>\n",
              "      <td>215245</td>\n",
              "      <td>Pave</td>\n",
              "      <td>NaN</td>\n",
              "      <td>IR3</td>\n",
              "      <td>Low</td>\n",
              "      <td>AllPub</td>\n",
              "      <td>Inside</td>\n",
              "      <td>Sev</td>\n",
              "      <td>Timber</td>\n",
              "      <td>Norm</td>\n",
              "      <td>Norm</td>\n",
              "      <td>1Fam</td>\n",
              "      <td>1Story</td>\n",
              "      <td>7</td>\n",
              "      <td>5</td>\n",
              "      <td>1965</td>\n",
              "      <td>1965</td>\n",
              "      <td>Hip</td>\n",
              "      <td>CompShg</td>\n",
              "      <td>BrkFace</td>\n",
              "      <td>BrkFace</td>\n",
              "      <td>None</td>\n",
              "      <td>0.0</td>\n",
              "      <td>TA</td>\n",
              "      <td>TA</td>\n",
              "      <td>CBlock</td>\n",
              "      <td>Gd</td>\n",
              "      <td>TA</td>\n",
              "      <td>Gd</td>\n",
              "      <td>ALQ</td>\n",
              "      <td>1236</td>\n",
              "      <td>Rec</td>\n",
              "      <td>820</td>\n",
              "      <td>80</td>\n",
              "      <td>2136</td>\n",
              "      <td>GasW</td>\n",
              "      <td>...</td>\n",
              "      <td>Y</td>\n",
              "      <td>SBrkr</td>\n",
              "      <td>2036</td>\n",
              "      <td>0</td>\n",
              "      <td>0</td>\n",
              "      <td>2036</td>\n",
              "      <td>2</td>\n",
              "      <td>0</td>\n",
              "      <td>2</td>\n",
              "      <td>0</td>\n",
              "      <td>3</td>\n",
              "      <td>1</td>\n",
              "      <td>TA</td>\n",
              "      <td>8</td>\n",
              "      <td>Typ</td>\n",
              "      <td>2</td>\n",
              "      <td>Gd</td>\n",
              "      <td>Attchd</td>\n",
              "      <td>1965.0</td>\n",
              "      <td>RFn</td>\n",
              "      <td>2</td>\n",
              "      <td>513</td>\n",
              "      <td>TA</td>\n",
              "      <td>TA</td>\n",
              "      <td>Y</td>\n",
              "      <td>0</td>\n",
              "      <td>0</td>\n",
              "      <td>0</td>\n",
              "      <td>0</td>\n",
              "      <td>0</td>\n",
              "      <td>0</td>\n",
              "      <td>NaN</td>\n",
              "      <td>NaN</td>\n",
              "      <td>NaN</td>\n",
              "      <td>0</td>\n",
              "      <td>6</td>\n",
              "      <td>2009</td>\n",
              "      <td>WD</td>\n",
              "      <td>Normal</td>\n",
              "      <td>375000</td>\n",
              "    </tr>\n",
              "    <tr>\n",
              "      <th>...</th>\n",
              "      <td>...</td>\n",
              "      <td>...</td>\n",
              "      <td>...</td>\n",
              "      <td>...</td>\n",
              "      <td>...</td>\n",
              "      <td>...</td>\n",
              "      <td>...</td>\n",
              "      <td>...</td>\n",
              "      <td>...</td>\n",
              "      <td>...</td>\n",
              "      <td>...</td>\n",
              "      <td>...</td>\n",
              "      <td>...</td>\n",
              "      <td>...</td>\n",
              "      <td>...</td>\n",
              "      <td>...</td>\n",
              "      <td>...</td>\n",
              "      <td>...</td>\n",
              "      <td>...</td>\n",
              "      <td>...</td>\n",
              "      <td>...</td>\n",
              "      <td>...</td>\n",
              "      <td>...</td>\n",
              "      <td>...</td>\n",
              "      <td>...</td>\n",
              "      <td>...</td>\n",
              "      <td>...</td>\n",
              "      <td>...</td>\n",
              "      <td>...</td>\n",
              "      <td>...</td>\n",
              "      <td>...</td>\n",
              "      <td>...</td>\n",
              "      <td>...</td>\n",
              "      <td>...</td>\n",
              "      <td>...</td>\n",
              "      <td>...</td>\n",
              "      <td>...</td>\n",
              "      <td>...</td>\n",
              "      <td>...</td>\n",
              "      <td>...</td>\n",
              "      <td>...</td>\n",
              "      <td>...</td>\n",
              "      <td>...</td>\n",
              "      <td>...</td>\n",
              "      <td>...</td>\n",
              "      <td>...</td>\n",
              "      <td>...</td>\n",
              "      <td>...</td>\n",
              "      <td>...</td>\n",
              "      <td>...</td>\n",
              "      <td>...</td>\n",
              "      <td>...</td>\n",
              "      <td>...</td>\n",
              "      <td>...</td>\n",
              "      <td>...</td>\n",
              "      <td>...</td>\n",
              "      <td>...</td>\n",
              "      <td>...</td>\n",
              "      <td>...</td>\n",
              "      <td>...</td>\n",
              "      <td>...</td>\n",
              "      <td>...</td>\n",
              "      <td>...</td>\n",
              "      <td>...</td>\n",
              "      <td>...</td>\n",
              "      <td>...</td>\n",
              "      <td>...</td>\n",
              "      <td>...</td>\n",
              "      <td>...</td>\n",
              "      <td>...</td>\n",
              "      <td>...</td>\n",
              "      <td>...</td>\n",
              "      <td>...</td>\n",
              "      <td>...</td>\n",
              "      <td>...</td>\n",
              "      <td>...</td>\n",
              "      <td>...</td>\n",
              "      <td>...</td>\n",
              "      <td>...</td>\n",
              "      <td>...</td>\n",
              "      <td>...</td>\n",
              "    </tr>\n",
              "    <tr>\n",
              "      <th>995</th>\n",
              "      <td>770</td>\n",
              "      <td>60</td>\n",
              "      <td>RL</td>\n",
              "      <td>47.0</td>\n",
              "      <td>53504</td>\n",
              "      <td>Pave</td>\n",
              "      <td>NaN</td>\n",
              "      <td>IR2</td>\n",
              "      <td>HLS</td>\n",
              "      <td>AllPub</td>\n",
              "      <td>CulDSac</td>\n",
              "      <td>Mod</td>\n",
              "      <td>StoneBr</td>\n",
              "      <td>Norm</td>\n",
              "      <td>Norm</td>\n",
              "      <td>1Fam</td>\n",
              "      <td>2Story</td>\n",
              "      <td>8</td>\n",
              "      <td>5</td>\n",
              "      <td>2003</td>\n",
              "      <td>2003</td>\n",
              "      <td>Hip</td>\n",
              "      <td>CompShg</td>\n",
              "      <td>CemntBd</td>\n",
              "      <td>Wd Shng</td>\n",
              "      <td>BrkFace</td>\n",
              "      <td>603.0</td>\n",
              "      <td>Ex</td>\n",
              "      <td>TA</td>\n",
              "      <td>PConc</td>\n",
              "      <td>Gd</td>\n",
              "      <td>TA</td>\n",
              "      <td>Gd</td>\n",
              "      <td>ALQ</td>\n",
              "      <td>1416</td>\n",
              "      <td>Unf</td>\n",
              "      <td>0</td>\n",
              "      <td>234</td>\n",
              "      <td>1650</td>\n",
              "      <td>GasA</td>\n",
              "      <td>...</td>\n",
              "      <td>Y</td>\n",
              "      <td>SBrkr</td>\n",
              "      <td>1690</td>\n",
              "      <td>1589</td>\n",
              "      <td>0</td>\n",
              "      <td>3279</td>\n",
              "      <td>1</td>\n",
              "      <td>0</td>\n",
              "      <td>3</td>\n",
              "      <td>1</td>\n",
              "      <td>4</td>\n",
              "      <td>1</td>\n",
              "      <td>Ex</td>\n",
              "      <td>12</td>\n",
              "      <td>Mod</td>\n",
              "      <td>1</td>\n",
              "      <td>Gd</td>\n",
              "      <td>BuiltIn</td>\n",
              "      <td>2003.0</td>\n",
              "      <td>Fin</td>\n",
              "      <td>3</td>\n",
              "      <td>841</td>\n",
              "      <td>TA</td>\n",
              "      <td>TA</td>\n",
              "      <td>Y</td>\n",
              "      <td>503</td>\n",
              "      <td>36</td>\n",
              "      <td>0</td>\n",
              "      <td>0</td>\n",
              "      <td>210</td>\n",
              "      <td>0</td>\n",
              "      <td>NaN</td>\n",
              "      <td>NaN</td>\n",
              "      <td>NaN</td>\n",
              "      <td>0</td>\n",
              "      <td>6</td>\n",
              "      <td>2010</td>\n",
              "      <td>WD</td>\n",
              "      <td>Normal</td>\n",
              "      <td>538000</td>\n",
              "    </tr>\n",
              "    <tr>\n",
              "      <th>996</th>\n",
              "      <td>938</td>\n",
              "      <td>60</td>\n",
              "      <td>RL</td>\n",
              "      <td>75.0</td>\n",
              "      <td>9675</td>\n",
              "      <td>Pave</td>\n",
              "      <td>NaN</td>\n",
              "      <td>Reg</td>\n",
              "      <td>Lvl</td>\n",
              "      <td>AllPub</td>\n",
              "      <td>Inside</td>\n",
              "      <td>Gtl</td>\n",
              "      <td>Somerst</td>\n",
              "      <td>Norm</td>\n",
              "      <td>Norm</td>\n",
              "      <td>1Fam</td>\n",
              "      <td>2Story</td>\n",
              "      <td>7</td>\n",
              "      <td>5</td>\n",
              "      <td>2005</td>\n",
              "      <td>2005</td>\n",
              "      <td>Gable</td>\n",
              "      <td>CompShg</td>\n",
              "      <td>VinylSd</td>\n",
              "      <td>VinylSd</td>\n",
              "      <td>None</td>\n",
              "      <td>0.0</td>\n",
              "      <td>Gd</td>\n",
              "      <td>TA</td>\n",
              "      <td>PConc</td>\n",
              "      <td>Gd</td>\n",
              "      <td>TA</td>\n",
              "      <td>Mn</td>\n",
              "      <td>GLQ</td>\n",
              "      <td>341</td>\n",
              "      <td>Unf</td>\n",
              "      <td>0</td>\n",
              "      <td>772</td>\n",
              "      <td>1113</td>\n",
              "      <td>GasA</td>\n",
              "      <td>...</td>\n",
              "      <td>Y</td>\n",
              "      <td>SBrkr</td>\n",
              "      <td>1113</td>\n",
              "      <td>858</td>\n",
              "      <td>0</td>\n",
              "      <td>1971</td>\n",
              "      <td>0</td>\n",
              "      <td>0</td>\n",
              "      <td>2</td>\n",
              "      <td>1</td>\n",
              "      <td>3</td>\n",
              "      <td>1</td>\n",
              "      <td>Gd</td>\n",
              "      <td>8</td>\n",
              "      <td>Typ</td>\n",
              "      <td>1</td>\n",
              "      <td>Gd</td>\n",
              "      <td>Attchd</td>\n",
              "      <td>2005.0</td>\n",
              "      <td>RFn</td>\n",
              "      <td>2</td>\n",
              "      <td>689</td>\n",
              "      <td>TA</td>\n",
              "      <td>TA</td>\n",
              "      <td>Y</td>\n",
              "      <td>0</td>\n",
              "      <td>48</td>\n",
              "      <td>0</td>\n",
              "      <td>0</td>\n",
              "      <td>0</td>\n",
              "      <td>0</td>\n",
              "      <td>NaN</td>\n",
              "      <td>NaN</td>\n",
              "      <td>NaN</td>\n",
              "      <td>0</td>\n",
              "      <td>2</td>\n",
              "      <td>2009</td>\n",
              "      <td>WD</td>\n",
              "      <td>Normal</td>\n",
              "      <td>253000</td>\n",
              "    </tr>\n",
              "    <tr>\n",
              "      <th>997</th>\n",
              "      <td>886</td>\n",
              "      <td>120</td>\n",
              "      <td>FV</td>\n",
              "      <td>50.0</td>\n",
              "      <td>5119</td>\n",
              "      <td>Pave</td>\n",
              "      <td>NaN</td>\n",
              "      <td>IR1</td>\n",
              "      <td>Lvl</td>\n",
              "      <td>AllPub</td>\n",
              "      <td>CulDSac</td>\n",
              "      <td>Gtl</td>\n",
              "      <td>Somerst</td>\n",
              "      <td>Norm</td>\n",
              "      <td>Norm</td>\n",
              "      <td>TwnhsE</td>\n",
              "      <td>1Story</td>\n",
              "      <td>9</td>\n",
              "      <td>5</td>\n",
              "      <td>1999</td>\n",
              "      <td>2000</td>\n",
              "      <td>Gable</td>\n",
              "      <td>CompShg</td>\n",
              "      <td>MetalSd</td>\n",
              "      <td>MetalSd</td>\n",
              "      <td>BrkFace</td>\n",
              "      <td>60.0</td>\n",
              "      <td>Gd</td>\n",
              "      <td>TA</td>\n",
              "      <td>PConc</td>\n",
              "      <td>Ex</td>\n",
              "      <td>TA</td>\n",
              "      <td>Av</td>\n",
              "      <td>GLQ</td>\n",
              "      <td>1238</td>\n",
              "      <td>Unf</td>\n",
              "      <td>0</td>\n",
              "      <td>460</td>\n",
              "      <td>1698</td>\n",
              "      <td>GasA</td>\n",
              "      <td>...</td>\n",
              "      <td>Y</td>\n",
              "      <td>SBrkr</td>\n",
              "      <td>1709</td>\n",
              "      <td>0</td>\n",
              "      <td>0</td>\n",
              "      <td>1709</td>\n",
              "      <td>1</td>\n",
              "      <td>0</td>\n",
              "      <td>2</td>\n",
              "      <td>0</td>\n",
              "      <td>2</td>\n",
              "      <td>1</td>\n",
              "      <td>Gd</td>\n",
              "      <td>5</td>\n",
              "      <td>Typ</td>\n",
              "      <td>1</td>\n",
              "      <td>TA</td>\n",
              "      <td>Attchd</td>\n",
              "      <td>1999.0</td>\n",
              "      <td>Fin</td>\n",
              "      <td>2</td>\n",
              "      <td>506</td>\n",
              "      <td>TA</td>\n",
              "      <td>TA</td>\n",
              "      <td>Y</td>\n",
              "      <td>97</td>\n",
              "      <td>65</td>\n",
              "      <td>0</td>\n",
              "      <td>0</td>\n",
              "      <td>0</td>\n",
              "      <td>0</td>\n",
              "      <td>NaN</td>\n",
              "      <td>NaN</td>\n",
              "      <td>NaN</td>\n",
              "      <td>0</td>\n",
              "      <td>1</td>\n",
              "      <td>2008</td>\n",
              "      <td>CWD</td>\n",
              "      <td>Abnorml</td>\n",
              "      <td>328900</td>\n",
              "    </tr>\n",
              "    <tr>\n",
              "      <th>998</th>\n",
              "      <td>20</td>\n",
              "      <td>20</td>\n",
              "      <td>RL</td>\n",
              "      <td>70.0</td>\n",
              "      <td>7560</td>\n",
              "      <td>Pave</td>\n",
              "      <td>NaN</td>\n",
              "      <td>Reg</td>\n",
              "      <td>Lvl</td>\n",
              "      <td>AllPub</td>\n",
              "      <td>Inside</td>\n",
              "      <td>Gtl</td>\n",
              "      <td>NAmes</td>\n",
              "      <td>Norm</td>\n",
              "      <td>Norm</td>\n",
              "      <td>1Fam</td>\n",
              "      <td>1Story</td>\n",
              "      <td>5</td>\n",
              "      <td>6</td>\n",
              "      <td>1958</td>\n",
              "      <td>1965</td>\n",
              "      <td>Hip</td>\n",
              "      <td>CompShg</td>\n",
              "      <td>BrkFace</td>\n",
              "      <td>Plywood</td>\n",
              "      <td>None</td>\n",
              "      <td>0.0</td>\n",
              "      <td>TA</td>\n",
              "      <td>TA</td>\n",
              "      <td>CBlock</td>\n",
              "      <td>TA</td>\n",
              "      <td>TA</td>\n",
              "      <td>No</td>\n",
              "      <td>LwQ</td>\n",
              "      <td>504</td>\n",
              "      <td>Unf</td>\n",
              "      <td>0</td>\n",
              "      <td>525</td>\n",
              "      <td>1029</td>\n",
              "      <td>GasA</td>\n",
              "      <td>...</td>\n",
              "      <td>Y</td>\n",
              "      <td>SBrkr</td>\n",
              "      <td>1339</td>\n",
              "      <td>0</td>\n",
              "      <td>0</td>\n",
              "      <td>1339</td>\n",
              "      <td>0</td>\n",
              "      <td>0</td>\n",
              "      <td>1</td>\n",
              "      <td>0</td>\n",
              "      <td>3</td>\n",
              "      <td>1</td>\n",
              "      <td>TA</td>\n",
              "      <td>6</td>\n",
              "      <td>Min1</td>\n",
              "      <td>0</td>\n",
              "      <td>NaN</td>\n",
              "      <td>Attchd</td>\n",
              "      <td>1958.0</td>\n",
              "      <td>Unf</td>\n",
              "      <td>1</td>\n",
              "      <td>294</td>\n",
              "      <td>TA</td>\n",
              "      <td>TA</td>\n",
              "      <td>Y</td>\n",
              "      <td>0</td>\n",
              "      <td>0</td>\n",
              "      <td>0</td>\n",
              "      <td>0</td>\n",
              "      <td>0</td>\n",
              "      <td>0</td>\n",
              "      <td>NaN</td>\n",
              "      <td>MnPrv</td>\n",
              "      <td>NaN</td>\n",
              "      <td>0</td>\n",
              "      <td>5</td>\n",
              "      <td>2009</td>\n",
              "      <td>COD</td>\n",
              "      <td>Abnorml</td>\n",
              "      <td>139000</td>\n",
              "    </tr>\n",
              "    <tr>\n",
              "      <th>999</th>\n",
              "      <td>229</td>\n",
              "      <td>20</td>\n",
              "      <td>RL</td>\n",
              "      <td>70.0</td>\n",
              "      <td>8521</td>\n",
              "      <td>Pave</td>\n",
              "      <td>NaN</td>\n",
              "      <td>Reg</td>\n",
              "      <td>Lvl</td>\n",
              "      <td>AllPub</td>\n",
              "      <td>FR2</td>\n",
              "      <td>Gtl</td>\n",
              "      <td>Sawyer</td>\n",
              "      <td>Feedr</td>\n",
              "      <td>Norm</td>\n",
              "      <td>1Fam</td>\n",
              "      <td>1Story</td>\n",
              "      <td>5</td>\n",
              "      <td>5</td>\n",
              "      <td>1967</td>\n",
              "      <td>1967</td>\n",
              "      <td>Gable</td>\n",
              "      <td>CompShg</td>\n",
              "      <td>HdBoard</td>\n",
              "      <td>HdBoard</td>\n",
              "      <td>None</td>\n",
              "      <td>0.0</td>\n",
              "      <td>TA</td>\n",
              "      <td>TA</td>\n",
              "      <td>CBlock</td>\n",
              "      <td>TA</td>\n",
              "      <td>TA</td>\n",
              "      <td>No</td>\n",
              "      <td>ALQ</td>\n",
              "      <td>842</td>\n",
              "      <td>Unf</td>\n",
              "      <td>0</td>\n",
              "      <td>70</td>\n",
              "      <td>912</td>\n",
              "      <td>GasA</td>\n",
              "      <td>...</td>\n",
              "      <td>Y</td>\n",
              "      <td>SBrkr</td>\n",
              "      <td>912</td>\n",
              "      <td>0</td>\n",
              "      <td>0</td>\n",
              "      <td>912</td>\n",
              "      <td>0</td>\n",
              "      <td>0</td>\n",
              "      <td>1</td>\n",
              "      <td>0</td>\n",
              "      <td>3</td>\n",
              "      <td>1</td>\n",
              "      <td>TA</td>\n",
              "      <td>5</td>\n",
              "      <td>Typ</td>\n",
              "      <td>1</td>\n",
              "      <td>Fa</td>\n",
              "      <td>Detchd</td>\n",
              "      <td>1974.0</td>\n",
              "      <td>Unf</td>\n",
              "      <td>1</td>\n",
              "      <td>336</td>\n",
              "      <td>TA</td>\n",
              "      <td>TA</td>\n",
              "      <td>Y</td>\n",
              "      <td>0</td>\n",
              "      <td>0</td>\n",
              "      <td>0</td>\n",
              "      <td>0</td>\n",
              "      <td>0</td>\n",
              "      <td>0</td>\n",
              "      <td>NaN</td>\n",
              "      <td>MnPrv</td>\n",
              "      <td>NaN</td>\n",
              "      <td>0</td>\n",
              "      <td>5</td>\n",
              "      <td>2010</td>\n",
              "      <td>WD</td>\n",
              "      <td>Normal</td>\n",
              "      <td>125000</td>\n",
              "    </tr>\n",
              "  </tbody>\n",
              "</table>\n",
              "<p>1000 rows × 81 columns</p>\n",
              "</div>"
            ],
            "text/plain": [
              "       Id  MSSubClass MSZoning  ...  SaleType  SaleCondition SalePrice\n",
              "0     809          80       RL  ...        WD         Normal    159950\n",
              "1     247         190       RM  ...        WD         Normal    137000\n",
              "2     304          20       RL  ...        WD        Abnorml    149900\n",
              "3    1236          70       RL  ...        WD         Normal    138887\n",
              "4     314          20       RL  ...        WD         Normal    375000\n",
              "..    ...         ...      ...  ...       ...            ...       ...\n",
              "995   770          60       RL  ...        WD         Normal    538000\n",
              "996   938          60       RL  ...        WD         Normal    253000\n",
              "997   886         120       FV  ...       CWD        Abnorml    328900\n",
              "998    20          20       RL  ...       COD        Abnorml    139000\n",
              "999   229          20       RL  ...        WD         Normal    125000\n",
              "\n",
              "[1000 rows x 81 columns]"
            ]
          },
          "metadata": {
            "tags": []
          },
          "execution_count": 5
        }
      ]
    },
    {
      "cell_type": "code",
      "metadata": {
        "id": "L5zdULYgPmvG",
        "colab_type": "code",
        "outputId": "54446d84-088e-4b0d-e864-9511ce9e885d",
        "colab": {
          "base_uri": "https://localhost:8080/",
          "height": 317
        }
      },
      "source": [
        "# inspect column distributions\n",
        "train_data.describe()"
      ],
      "execution_count": 6,
      "outputs": [
        {
          "output_type": "execute_result",
          "data": {
            "text/html": [
              "<div>\n",
              "<style scoped>\n",
              "    .dataframe tbody tr th:only-of-type {\n",
              "        vertical-align: middle;\n",
              "    }\n",
              "\n",
              "    .dataframe tbody tr th {\n",
              "        vertical-align: top;\n",
              "    }\n",
              "\n",
              "    .dataframe thead th {\n",
              "        text-align: right;\n",
              "    }\n",
              "</style>\n",
              "<table border=\"1\" class=\"dataframe\">\n",
              "  <thead>\n",
              "    <tr style=\"text-align: right;\">\n",
              "      <th></th>\n",
              "      <th>Id</th>\n",
              "      <th>MSSubClass</th>\n",
              "      <th>LotFrontage</th>\n",
              "      <th>LotArea</th>\n",
              "      <th>OverallQual</th>\n",
              "      <th>OverallCond</th>\n",
              "      <th>YearBuilt</th>\n",
              "      <th>YearRemodAdd</th>\n",
              "      <th>MasVnrArea</th>\n",
              "      <th>BsmtFinSF1</th>\n",
              "      <th>BsmtFinSF2</th>\n",
              "      <th>BsmtUnfSF</th>\n",
              "      <th>TotalBsmtSF</th>\n",
              "      <th>1stFlrSF</th>\n",
              "      <th>2ndFlrSF</th>\n",
              "      <th>LowQualFinSF</th>\n",
              "      <th>GrLivArea</th>\n",
              "      <th>BsmtFullBath</th>\n",
              "      <th>BsmtHalfBath</th>\n",
              "      <th>FullBath</th>\n",
              "      <th>HalfBath</th>\n",
              "      <th>BedroomAbvGr</th>\n",
              "      <th>KitchenAbvGr</th>\n",
              "      <th>TotRmsAbvGrd</th>\n",
              "      <th>Fireplaces</th>\n",
              "      <th>GarageYrBlt</th>\n",
              "      <th>GarageCars</th>\n",
              "      <th>GarageArea</th>\n",
              "      <th>WoodDeckSF</th>\n",
              "      <th>OpenPorchSF</th>\n",
              "      <th>EnclosedPorch</th>\n",
              "      <th>3SsnPorch</th>\n",
              "      <th>ScreenPorch</th>\n",
              "      <th>PoolArea</th>\n",
              "      <th>MiscVal</th>\n",
              "      <th>MoSold</th>\n",
              "      <th>YrSold</th>\n",
              "      <th>SalePrice</th>\n",
              "    </tr>\n",
              "  </thead>\n",
              "  <tbody>\n",
              "    <tr>\n",
              "      <th>count</th>\n",
              "      <td>1000.000000</td>\n",
              "      <td>1000.000000</td>\n",
              "      <td>820.000000</td>\n",
              "      <td>1000.000000</td>\n",
              "      <td>1000.000000</td>\n",
              "      <td>1000.000000</td>\n",
              "      <td>1000.000000</td>\n",
              "      <td>1000.000000</td>\n",
              "      <td>995.000000</td>\n",
              "      <td>1000.000000</td>\n",
              "      <td>1000.000000</td>\n",
              "      <td>1000.000000</td>\n",
              "      <td>1000.000000</td>\n",
              "      <td>1000.000000</td>\n",
              "      <td>1000.000000</td>\n",
              "      <td>1000.000000</td>\n",
              "      <td>1000.000000</td>\n",
              "      <td>1000.000000</td>\n",
              "      <td>1000.000000</td>\n",
              "      <td>1000.000000</td>\n",
              "      <td>1000.000000</td>\n",
              "      <td>1000.000000</td>\n",
              "      <td>1000.000000</td>\n",
              "      <td>1000.000000</td>\n",
              "      <td>1000.000000</td>\n",
              "      <td>938.000000</td>\n",
              "      <td>1000.000000</td>\n",
              "      <td>1000.000000</td>\n",
              "      <td>1000.000000</td>\n",
              "      <td>1000.000000</td>\n",
              "      <td>1000.000000</td>\n",
              "      <td>1000.000000</td>\n",
              "      <td>1000.0000</td>\n",
              "      <td>1000.000000</td>\n",
              "      <td>1000.000000</td>\n",
              "      <td>1000.000000</td>\n",
              "      <td>1000.000000</td>\n",
              "      <td>1000.000000</td>\n",
              "    </tr>\n",
              "    <tr>\n",
              "      <th>mean</th>\n",
              "      <td>731.149000</td>\n",
              "      <td>56.720000</td>\n",
              "      <td>69.760976</td>\n",
              "      <td>10557.057000</td>\n",
              "      <td>6.065000</td>\n",
              "      <td>5.583000</td>\n",
              "      <td>1970.276000</td>\n",
              "      <td>1984.604000</td>\n",
              "      <td>101.298492</td>\n",
              "      <td>446.195000</td>\n",
              "      <td>45.155000</td>\n",
              "      <td>553.737000</td>\n",
              "      <td>1045.087000</td>\n",
              "      <td>1152.649000</td>\n",
              "      <td>344.057000</td>\n",
              "      <td>7.395000</td>\n",
              "      <td>1504.101000</td>\n",
              "      <td>0.430000</td>\n",
              "      <td>0.060000</td>\n",
              "      <td>1.551000</td>\n",
              "      <td>0.371000</td>\n",
              "      <td>2.856000</td>\n",
              "      <td>1.046000</td>\n",
              "      <td>6.469000</td>\n",
              "      <td>0.613000</td>\n",
              "      <td>1978.218550</td>\n",
              "      <td>1.740000</td>\n",
              "      <td>466.253000</td>\n",
              "      <td>90.464000</td>\n",
              "      <td>46.349000</td>\n",
              "      <td>23.992000</td>\n",
              "      <td>3.984000</td>\n",
              "      <td>15.4740</td>\n",
              "      <td>2.804000</td>\n",
              "      <td>49.084000</td>\n",
              "      <td>6.292000</td>\n",
              "      <td>2007.839000</td>\n",
              "      <td>178467.699000</td>\n",
              "    </tr>\n",
              "    <tr>\n",
              "      <th>std</th>\n",
              "      <td>427.784718</td>\n",
              "      <td>42.082806</td>\n",
              "      <td>25.178657</td>\n",
              "      <td>10012.496146</td>\n",
              "      <td>1.373558</td>\n",
              "      <td>1.136839</td>\n",
              "      <td>30.362142</td>\n",
              "      <td>20.774233</td>\n",
              "      <td>182.550526</td>\n",
              "      <td>467.839469</td>\n",
              "      <td>158.652815</td>\n",
              "      <td>430.108052</td>\n",
              "      <td>451.157392</td>\n",
              "      <td>391.558317</td>\n",
              "      <td>433.192007</td>\n",
              "      <td>55.279044</td>\n",
              "      <td>532.870338</td>\n",
              "      <td>0.526666</td>\n",
              "      <td>0.245887</td>\n",
              "      <td>0.558311</td>\n",
              "      <td>0.501608</td>\n",
              "      <td>0.837834</td>\n",
              "      <td>0.223459</td>\n",
              "      <td>1.635149</td>\n",
              "      <td>0.647804</td>\n",
              "      <td>24.623054</td>\n",
              "      <td>0.751642</td>\n",
              "      <td>215.200935</td>\n",
              "      <td>122.383219</td>\n",
              "      <td>68.150214</td>\n",
              "      <td>64.480366</td>\n",
              "      <td>32.593006</td>\n",
              "      <td>56.2086</td>\n",
              "      <td>40.103864</td>\n",
              "      <td>535.086623</td>\n",
              "      <td>2.687743</td>\n",
              "      <td>1.341223</td>\n",
              "      <td>79176.267449</td>\n",
              "    </tr>\n",
              "    <tr>\n",
              "      <th>min</th>\n",
              "      <td>1.000000</td>\n",
              "      <td>20.000000</td>\n",
              "      <td>21.000000</td>\n",
              "      <td>1300.000000</td>\n",
              "      <td>1.000000</td>\n",
              "      <td>1.000000</td>\n",
              "      <td>1875.000000</td>\n",
              "      <td>1950.000000</td>\n",
              "      <td>0.000000</td>\n",
              "      <td>0.000000</td>\n",
              "      <td>0.000000</td>\n",
              "      <td>0.000000</td>\n",
              "      <td>0.000000</td>\n",
              "      <td>372.000000</td>\n",
              "      <td>0.000000</td>\n",
              "      <td>0.000000</td>\n",
              "      <td>438.000000</td>\n",
              "      <td>0.000000</td>\n",
              "      <td>0.000000</td>\n",
              "      <td>0.000000</td>\n",
              "      <td>0.000000</td>\n",
              "      <td>0.000000</td>\n",
              "      <td>0.000000</td>\n",
              "      <td>3.000000</td>\n",
              "      <td>0.000000</td>\n",
              "      <td>1906.000000</td>\n",
              "      <td>0.000000</td>\n",
              "      <td>0.000000</td>\n",
              "      <td>0.000000</td>\n",
              "      <td>0.000000</td>\n",
              "      <td>0.000000</td>\n",
              "      <td>0.000000</td>\n",
              "      <td>0.0000</td>\n",
              "      <td>0.000000</td>\n",
              "      <td>0.000000</td>\n",
              "      <td>1.000000</td>\n",
              "      <td>2006.000000</td>\n",
              "      <td>34900.000000</td>\n",
              "    </tr>\n",
              "    <tr>\n",
              "      <th>25%</th>\n",
              "      <td>349.750000</td>\n",
              "      <td>20.000000</td>\n",
              "      <td>57.000000</td>\n",
              "      <td>7500.000000</td>\n",
              "      <td>5.000000</td>\n",
              "      <td>5.000000</td>\n",
              "      <td>1952.000000</td>\n",
              "      <td>1966.000000</td>\n",
              "      <td>0.000000</td>\n",
              "      <td>0.000000</td>\n",
              "      <td>0.000000</td>\n",
              "      <td>215.000000</td>\n",
              "      <td>780.000000</td>\n",
              "      <td>864.000000</td>\n",
              "      <td>0.000000</td>\n",
              "      <td>0.000000</td>\n",
              "      <td>1113.750000</td>\n",
              "      <td>0.000000</td>\n",
              "      <td>0.000000</td>\n",
              "      <td>1.000000</td>\n",
              "      <td>0.000000</td>\n",
              "      <td>2.000000</td>\n",
              "      <td>1.000000</td>\n",
              "      <td>5.000000</td>\n",
              "      <td>0.000000</td>\n",
              "      <td>1961.000000</td>\n",
              "      <td>1.000000</td>\n",
              "      <td>312.000000</td>\n",
              "      <td>0.000000</td>\n",
              "      <td>0.000000</td>\n",
              "      <td>0.000000</td>\n",
              "      <td>0.000000</td>\n",
              "      <td>0.0000</td>\n",
              "      <td>0.000000</td>\n",
              "      <td>0.000000</td>\n",
              "      <td>5.000000</td>\n",
              "      <td>2007.000000</td>\n",
              "      <td>128375.000000</td>\n",
              "    </tr>\n",
              "    <tr>\n",
              "      <th>50%</th>\n",
              "      <td>741.500000</td>\n",
              "      <td>50.000000</td>\n",
              "      <td>68.000000</td>\n",
              "      <td>9451.000000</td>\n",
              "      <td>6.000000</td>\n",
              "      <td>5.000000</td>\n",
              "      <td>1972.000000</td>\n",
              "      <td>1993.000000</td>\n",
              "      <td>0.000000</td>\n",
              "      <td>370.500000</td>\n",
              "      <td>0.000000</td>\n",
              "      <td>469.000000</td>\n",
              "      <td>973.500000</td>\n",
              "      <td>1070.500000</td>\n",
              "      <td>0.000000</td>\n",
              "      <td>0.000000</td>\n",
              "      <td>1456.000000</td>\n",
              "      <td>0.000000</td>\n",
              "      <td>0.000000</td>\n",
              "      <td>2.000000</td>\n",
              "      <td>0.000000</td>\n",
              "      <td>3.000000</td>\n",
              "      <td>1.000000</td>\n",
              "      <td>6.000000</td>\n",
              "      <td>1.000000</td>\n",
              "      <td>1980.000000</td>\n",
              "      <td>2.000000</td>\n",
              "      <td>474.000000</td>\n",
              "      <td>0.000000</td>\n",
              "      <td>24.000000</td>\n",
              "      <td>0.000000</td>\n",
              "      <td>0.000000</td>\n",
              "      <td>0.0000</td>\n",
              "      <td>0.000000</td>\n",
              "      <td>0.000000</td>\n",
              "      <td>6.000000</td>\n",
              "      <td>2008.000000</td>\n",
              "      <td>161750.000000</td>\n",
              "    </tr>\n",
              "    <tr>\n",
              "      <th>75%</th>\n",
              "      <td>1109.250000</td>\n",
              "      <td>70.000000</td>\n",
              "      <td>80.000000</td>\n",
              "      <td>11648.250000</td>\n",
              "      <td>7.000000</td>\n",
              "      <td>6.000000</td>\n",
              "      <td>2000.000000</td>\n",
              "      <td>2004.000000</td>\n",
              "      <td>153.500000</td>\n",
              "      <td>712.250000</td>\n",
              "      <td>0.000000</td>\n",
              "      <td>794.250000</td>\n",
              "      <td>1291.500000</td>\n",
              "      <td>1391.250000</td>\n",
              "      <td>720.000000</td>\n",
              "      <td>0.000000</td>\n",
              "      <td>1751.500000</td>\n",
              "      <td>1.000000</td>\n",
              "      <td>0.000000</td>\n",
              "      <td>2.000000</td>\n",
              "      <td>1.000000</td>\n",
              "      <td>3.000000</td>\n",
              "      <td>1.000000</td>\n",
              "      <td>7.000000</td>\n",
              "      <td>1.000000</td>\n",
              "      <td>2001.000000</td>\n",
              "      <td>2.000000</td>\n",
              "      <td>576.000000</td>\n",
              "      <td>165.000000</td>\n",
              "      <td>66.000000</td>\n",
              "      <td>0.000000</td>\n",
              "      <td>0.000000</td>\n",
              "      <td>0.0000</td>\n",
              "      <td>0.000000</td>\n",
              "      <td>0.000000</td>\n",
              "      <td>8.000000</td>\n",
              "      <td>2009.000000</td>\n",
              "      <td>211250.000000</td>\n",
              "    </tr>\n",
              "    <tr>\n",
              "      <th>max</th>\n",
              "      <td>1459.000000</td>\n",
              "      <td>190.000000</td>\n",
              "      <td>313.000000</td>\n",
              "      <td>215245.000000</td>\n",
              "      <td>10.000000</td>\n",
              "      <td>9.000000</td>\n",
              "      <td>2010.000000</td>\n",
              "      <td>2010.000000</td>\n",
              "      <td>1600.000000</td>\n",
              "      <td>5644.000000</td>\n",
              "      <td>1474.000000</td>\n",
              "      <td>2121.000000</td>\n",
              "      <td>6110.000000</td>\n",
              "      <td>4692.000000</td>\n",
              "      <td>2065.000000</td>\n",
              "      <td>572.000000</td>\n",
              "      <td>5642.000000</td>\n",
              "      <td>3.000000</td>\n",
              "      <td>2.000000</td>\n",
              "      <td>3.000000</td>\n",
              "      <td>2.000000</td>\n",
              "      <td>8.000000</td>\n",
              "      <td>3.000000</td>\n",
              "      <td>14.000000</td>\n",
              "      <td>3.000000</td>\n",
              "      <td>2010.000000</td>\n",
              "      <td>4.000000</td>\n",
              "      <td>1418.000000</td>\n",
              "      <td>857.000000</td>\n",
              "      <td>547.000000</td>\n",
              "      <td>552.000000</td>\n",
              "      <td>508.000000</td>\n",
              "      <td>480.0000</td>\n",
              "      <td>738.000000</td>\n",
              "      <td>15500.000000</td>\n",
              "      <td>12.000000</td>\n",
              "      <td>2010.000000</td>\n",
              "      <td>755000.000000</td>\n",
              "    </tr>\n",
              "  </tbody>\n",
              "</table>\n",
              "</div>"
            ],
            "text/plain": [
              "                Id   MSSubClass  ...       YrSold      SalePrice\n",
              "count  1000.000000  1000.000000  ...  1000.000000    1000.000000\n",
              "mean    731.149000    56.720000  ...  2007.839000  178467.699000\n",
              "std     427.784718    42.082806  ...     1.341223   79176.267449\n",
              "min       1.000000    20.000000  ...  2006.000000   34900.000000\n",
              "25%     349.750000    20.000000  ...  2007.000000  128375.000000\n",
              "50%     741.500000    50.000000  ...  2008.000000  161750.000000\n",
              "75%    1109.250000    70.000000  ...  2009.000000  211250.000000\n",
              "max    1459.000000   190.000000  ...  2010.000000  755000.000000\n",
              "\n",
              "[8 rows x 38 columns]"
            ]
          },
          "metadata": {
            "tags": []
          },
          "execution_count": 6
        }
      ]
    },
    {
      "cell_type": "code",
      "metadata": {
        "id": "f9M9FJegvkTK",
        "colab_type": "code",
        "outputId": "e1b06a23-6ea7-4261-d623-f9711b6d5165",
        "colab": {
          "base_uri": "https://localhost:8080/",
          "height": 1000
        }
      },
      "source": [
        "train_data.info()"
      ],
      "execution_count": 7,
      "outputs": [
        {
          "output_type": "stream",
          "text": [
            "<class 'pandas.core.frame.DataFrame'>\n",
            "RangeIndex: 1000 entries, 0 to 999\n",
            "Data columns (total 81 columns):\n",
            "Id               1000 non-null int64\n",
            "MSSubClass       1000 non-null int64\n",
            "MSZoning         1000 non-null object\n",
            "LotFrontage      820 non-null float64\n",
            "LotArea          1000 non-null int64\n",
            "Street           1000 non-null object\n",
            "Alley            67 non-null object\n",
            "LotShape         1000 non-null object\n",
            "LandContour      1000 non-null object\n",
            "Utilities        1000 non-null object\n",
            "LotConfig        1000 non-null object\n",
            "LandSlope        1000 non-null object\n",
            "Neighborhood     1000 non-null object\n",
            "Condition1       1000 non-null object\n",
            "Condition2       1000 non-null object\n",
            "BldgType         1000 non-null object\n",
            "HouseStyle       1000 non-null object\n",
            "OverallQual      1000 non-null int64\n",
            "OverallCond      1000 non-null int64\n",
            "YearBuilt        1000 non-null int64\n",
            "YearRemodAdd     1000 non-null int64\n",
            "RoofStyle        1000 non-null object\n",
            "RoofMatl         1000 non-null object\n",
            "Exterior1st      1000 non-null object\n",
            "Exterior2nd      1000 non-null object\n",
            "MasVnrType       995 non-null object\n",
            "MasVnrArea       995 non-null float64\n",
            "ExterQual        1000 non-null object\n",
            "ExterCond        1000 non-null object\n",
            "Foundation       1000 non-null object\n",
            "BsmtQual         973 non-null object\n",
            "BsmtCond         973 non-null object\n",
            "BsmtExposure     972 non-null object\n",
            "BsmtFinType1     973 non-null object\n",
            "BsmtFinSF1       1000 non-null int64\n",
            "BsmtFinType2     972 non-null object\n",
            "BsmtFinSF2       1000 non-null int64\n",
            "BsmtUnfSF        1000 non-null int64\n",
            "TotalBsmtSF      1000 non-null int64\n",
            "Heating          1000 non-null object\n",
            "HeatingQC        1000 non-null object\n",
            "CentralAir       1000 non-null object\n",
            "Electrical       999 non-null object\n",
            "1stFlrSF         1000 non-null int64\n",
            "2ndFlrSF         1000 non-null int64\n",
            "LowQualFinSF     1000 non-null int64\n",
            "GrLivArea        1000 non-null int64\n",
            "BsmtFullBath     1000 non-null int64\n",
            "BsmtHalfBath     1000 non-null int64\n",
            "FullBath         1000 non-null int64\n",
            "HalfBath         1000 non-null int64\n",
            "BedroomAbvGr     1000 non-null int64\n",
            "KitchenAbvGr     1000 non-null int64\n",
            "KitchenQual      1000 non-null object\n",
            "TotRmsAbvGrd     1000 non-null int64\n",
            "Functional       1000 non-null object\n",
            "Fireplaces       1000 non-null int64\n",
            "FireplaceQu      526 non-null object\n",
            "GarageType       938 non-null object\n",
            "GarageYrBlt      938 non-null float64\n",
            "GarageFinish     938 non-null object\n",
            "GarageCars       1000 non-null int64\n",
            "GarageArea       1000 non-null int64\n",
            "GarageQual       938 non-null object\n",
            "GarageCond       938 non-null object\n",
            "PavedDrive       1000 non-null object\n",
            "WoodDeckSF       1000 non-null int64\n",
            "OpenPorchSF      1000 non-null int64\n",
            "EnclosedPorch    1000 non-null int64\n",
            "3SsnPorch        1000 non-null int64\n",
            "ScreenPorch      1000 non-null int64\n",
            "PoolArea         1000 non-null int64\n",
            "PoolQC           5 non-null object\n",
            "Fence            205 non-null object\n",
            "MiscFeature      42 non-null object\n",
            "MiscVal          1000 non-null int64\n",
            "MoSold           1000 non-null int64\n",
            "YrSold           1000 non-null int64\n",
            "SaleType         1000 non-null object\n",
            "SaleCondition    1000 non-null object\n",
            "SalePrice        1000 non-null int64\n",
            "dtypes: float64(3), int64(35), object(43)\n",
            "memory usage: 632.9+ KB\n"
          ],
          "name": "stdout"
        }
      ]
    },
    {
      "cell_type": "markdown",
      "metadata": {
        "id": "hXNP8MHyxxWp",
        "colab_type": "text"
      },
      "source": [
        "Now analyze features 1 by 1 and decide if they are needed or if any changes are needed"
      ]
    },
    {
      "cell_type": "code",
      "metadata": {
        "id": "KBuHPXJwTMRU",
        "colab_type": "code",
        "colab": {}
      },
      "source": [
        "def get_pos_prox_score(x):\n",
        "  pos = 0\n",
        "  if(x['Condition1'] == 'PosA'  or x['Condition2'] == 'PosA'):\n",
        "    pos = 2\n",
        "  elif(x['Condition1'] == 'PosN'  or x['Condition2'] == 'PosN'):\n",
        "    pos = 1\n",
        "  return pos\n",
        "\n",
        "def get_neg_prox_score(x):\n",
        "  neg = 0\n",
        "  if(x['Condition1'] == 'RRAn' or x['Condition1'] == 'RRAe'  or x['Condition2'] == 'RRAn' or x['Condition2'] == 'RRAe'):\n",
        "    neg = 2\n",
        "  elif(x['Condition1'] == 'RRNn' or x['Condition1'] == 'RRNe'  or x['Condition2'] == 'RRNn' or x['Condition2'] == 'RRNe'):\n",
        "    neg = 1\n",
        "  return neg\n",
        "\n",
        "def preprocess_data(df):\n",
        "  train_data = df.copy()\n",
        "  one_hot_cols = ['MSSubClass', 'Neighborhood', 'RoofStyle', 'RoofMatl', \n",
        "                  'BsmtFinType1', 'BsmtFinType2', 'Heating', 'GarageType',\n",
        "                  'MiscFeature', 'SaleType', 'SaleCondition']\n",
        "  dropCols = ['Id', 'MSZoning', 'Street', 'Alley', 'LotShape', 'LandContour', \n",
        "              'Utilities', 'LotConfig', 'LandSlope', 'Condition1', 'Condition2',\n",
        "              'BldgType', 'HouseStyle', 'Exterior1st', 'Exterior2nd', \n",
        "              'MasVnrType', 'ExterQual', 'ExterCond', 'Foundation', 'BsmtQual',\n",
        "              'BsmtCond', 'BsmtExposure', 'TotalBsmtSF', 'HeatingQC', 'CentralAir',\n",
        "              'Electrical', 'KitchenQual', 'FireplaceQu', 'Functional', 'GarageQual',\n",
        "              'GarageCond', 'GarageFinish', 'PavedDrive', 'PoolQC', 'Fence'] \n",
        "\n",
        "  le = LabelEncoder()\n",
        "\n",
        "  # create two new features from MSZoning column\n",
        "  res_zones = ['FV','RH','RL','RP','RM']\n",
        "  train_data['ResZoned'] = train_data['MSZoning'].isin(res_zones)\n",
        "  train_data['Density'] = train_data.apply(lambda x: 4, axis= 1)\n",
        "  train_data.loc[train_data['MSZoning'].isin(['RL', 'RP', 'A']), 'Density'] = 1\n",
        "  train_data.loc[train_data['MSZoning'].isin(['RM', 'FV']), 'Density'] = 2\n",
        "  train_data.loc[train_data['MSZoning'] == 'RH', 'Density'] = 3\n",
        "\n",
        "  # street just has two possible values\n",
        "  train_data['RoadType'] = train_data[['Street']].apply(lambda col: le.fit_transform(col))\n",
        "\n",
        "  # add feature based on has alley, what type probably doesn't matter\n",
        "  train_data['HasAlley'] = train_data['Alley'].isin(['Grvl','Pave'])\n",
        "\n",
        "  # ordered feature for lot shape\n",
        "  oeShape = OrdinalEncoder(categories=[['Reg', 'IR1', 'IR2', 'IR3']])\n",
        "  train_data['Shape'] = oeShape.fit_transform(train_data[['LotShape']])\n",
        "\n",
        "  # ordered feature for what utilities are available\n",
        "  oeUtil = OrdinalEncoder(categories=[['ELO', 'NoSeWa', 'NoSewr', 'AllPub']])\n",
        "  train_data['Utils'] = oeUtil.fit_transform(train_data[['Utilities']])\n",
        "\n",
        "  # two new features based on lot_config\n",
        "  train_data['IsCulDSac'] = train_data['LotConfig'] == 'CulDSac'\n",
        "  train_data['HasFrontage'] = train_data['LotConfig'].isin(['FR2', 'FR3'])\n",
        "\n",
        "  # ordered feature for lot slope\n",
        "  oeSlope = OrdinalEncoder(categories=[['Gtl', 'Mod', 'Sev']])\n",
        "  train_data['Slope'] = oeSlope.fit_transform(train_data[['LandSlope']])\n",
        "\n",
        "  # get two new features for proximity\n",
        "  train_data['PosProxScore'] = train_data.apply(lambda x: get_pos_prox_score(x), axis=1)\n",
        "  train_data['NegProxScore'] = train_data.apply(lambda x: get_neg_prox_score(x), axis=1)\n",
        "\n",
        "  # get new feature for building type while fixing incorrect labels\n",
        "  oeBldg = OrdinalEncoder(categories=[['2FmCon', 'TwnhsI', 'TwnhsE', 'Duplx', '1Fam']])\n",
        "  train_data.loc[train_data['BldgType'] == '2fmCon', 'BldgType'] = '2FmCon'\n",
        "  train_data.loc[train_data['BldgType'] == 'Twnhs', 'BldgType'] = 'TwnhsI'\n",
        "  train_data.loc[train_data['BldgType'] == 'Duplex', 'BldgType'] = 'Duplx'\n",
        "  train_data['Bldg'] = oeBldg.fit_transform(train_data[['BldgType']])\n",
        "\n",
        "  # ordered feature for house style\n",
        "  oeHouse = OrdinalEncoder(categories=[['1Story', '1.5Unf', '1.5Fin', 'SFoyer', 'SLvl', '2Story', '2.5Unf', '2.5Fin']])\n",
        "  train_data['House'] = oeHouse.fit_transform(train_data[['HouseStyle']])\n",
        "\n",
        "  # combine dummies across these two columns (also fix incorrect labels)\n",
        "  ext_dummies = pd.get_dummies(train_data[['Exterior1st', 'Exterior2nd']], {'Exterior1st': 'Ext', 'Exterior2nd': 'Ext2'}, columns=['Exterior1st', 'Exterior2nd'])\n",
        "  rmvCols = []\n",
        "  for col in ext_dummies.columns:\n",
        "    if 'Ext2' in col:\n",
        "      mat = col.split('_')[1]\n",
        "      if mat == 'Brk Cmn':\n",
        "        mat = 'BrkComm'\n",
        "      if mat == 'CmentBd':\n",
        "        mat = 'CemntBd'\n",
        "      if mat == 'Wd Shng':\n",
        "        mat = 'WdShing'\n",
        "      extCol = 'Ext_' + mat\n",
        "      if extCol not in ext_dummies.columns:\n",
        "        ext_dummies[extCol] = ext_dummies[col]\n",
        "      ext_dummies[extCol] = ext_dummies[extCol] | ext_dummies[col]\n",
        "      rmvCols.append(col)\n",
        "  ext_dummies.drop(rmvCols, axis=1, inplace=True)\n",
        "  train_data = pd.concat([train_data, ext_dummies], axis=1)\n",
        "\n",
        "  # ordered column for masonry\n",
        "  train_data.loc[train_data['MasVnrType'].isna(), 'MasVnrType'] = 'None'\n",
        "  oeMasonry = OrdinalEncoder(categories=[['CBlock', 'None', 'BrkCmn', 'BrkFace', 'Stone']])\n",
        "  train_data['Masonry'] = oeMasonry.fit_transform(train_data[['MasVnrType']])\n",
        "\n",
        "  # ordered features for exterior qualit/condition\n",
        "  oeExtQ = OrdinalEncoder(categories=[['Po', 'Fa', 'TA', 'Gd', 'Ex']])\n",
        "  train_data['ExtQual'] = oeExtQ.fit_transform(train_data[['ExterQual']])\n",
        "  train_data['ExtCond'] = oeExtQ.fit_transform(train_data[['ExterCond']])\n",
        "\n",
        "  # ordered feature for foundation by mean of SalePrice distribution\n",
        "  oeFound = OrdinalEncoder(categories=[['Slab', 'BrkTil', 'CBlock', 'Stone', 'Wood', 'PConc']])\n",
        "  train_data['FoundationMat'] = oeFound.fit_transform(train_data[['Foundation']])\n",
        "\n",
        "  # ordered features for basement quality and condition\n",
        "  train_data.loc[train_data['BsmtQual'].isna(), 'BsmtQual'] = 'NA'\n",
        "  train_data.loc[train_data['BsmtCond'].isna(), 'BsmtCond'] = 'NA'\n",
        "  oeBsmtQ = OrdinalEncoder(categories=[['NA', 'Po', 'Fa', 'TA', 'Gd', 'Ex']])\n",
        "  train_data['BsmtQ'] = oeBsmtQ.fit_transform(train_data[['BsmtQual']])\n",
        "  train_data['BsmtC'] = oeBsmtQ.fit_transform(train_data[['BsmtCond']])\n",
        "\n",
        "  # ordered feature for basement exposure\n",
        "  train_data.loc[train_data['BsmtExposure'].isna(), 'BsmtExposure'] = 'NA'\n",
        "  oeBsmtExp = OrdinalEncoder(categories=[['NA', 'No', 'Mn', 'Av', 'Gd']])\n",
        "  train_data['BsmtExp'] = oeBsmtExp.fit_transform(train_data[['BsmtExposure']])\n",
        "\n",
        "  # add feature for finished bsmt area, also keep unfinished area\n",
        "  train_data['FinBsmtArea'] = train_data['TotalBsmtSF'] - train_data['BsmtUnfSF']\n",
        "\n",
        "  # ordered feature for heating quality\n",
        "  oeHeat = OrdinalEncoder(categories=[['Po', 'Fa', 'TA', 'Gd', 'Ex']])\n",
        "  train_data['HeatingQual'] = oeHeat.fit_transform(train_data[['HeatingQC']])\n",
        "\n",
        "  # only two values for central air\n",
        "  train_data['CentrlAir'] = train_data[['CentralAir']].apply(lambda col: le.fit_transform(col))\n",
        "\n",
        "  # ordered feature for fuse types\n",
        "  train_data.loc[train_data['Electrical'].isna(), 'Electrical'] = 'NA'\n",
        "  oeElec = OrdinalEncoder(categories=[['NA', 'FuseP', 'FuseF', 'Mix', 'FuseA', 'SBrkr']])\n",
        "  train_data['Elec'] = oeElec.fit_transform(train_data[['Electrical']])\n",
        "\n",
        "  # ordered feature for kitchen quality\n",
        "  oeKitch = OrdinalEncoder(categories=[['Po', 'Fa', 'TA', 'Gd', 'Ex']])\n",
        "  train_data['KitchQual'] = oeKitch.fit_transform(train_data[['KitchenQual']])\n",
        "\n",
        "  # ordered feature for home functionality\n",
        "  oeFunc = OrdinalEncoder(categories=[['Sal', 'Sev', 'Maj2', 'Maj1', 'Mod', 'Min2', 'Min1', 'Typ']])\n",
        "  train_data['HomeFunct'] = oeFunc.fit_transform(train_data[['Functional']])\n",
        "\n",
        "  # ordered feature for fireplace quality\n",
        "  train_data.loc[train_data['FireplaceQu'].isna(), 'FireplaceQu'] = 'NA'\n",
        "  oeFireQ = OrdinalEncoder(categories=[['NA', 'Po', 'Fa', 'TA', 'Gd', 'Ex']])\n",
        "  train_data['FireplQual'] = oeFireQ.fit_transform(train_data[['FireplaceQu']])\n",
        "\n",
        "  # ordered features for garage quality and condition\n",
        "  train_data.loc[train_data['GarageQual'].isna(), 'GarageQual'] = 'NA'\n",
        "  train_data.loc[train_data['GarageCond'].isna(), 'GarageCond'] = 'NA'\n",
        "  oeGarage = OrdinalEncoder(categories=[['NA', 'Po', 'Fa', 'TA', 'Gd', 'Ex']])\n",
        "  train_data['GarageQ'] = oeGarage.fit_transform(train_data[['GarageQual']])\n",
        "  train_data['GarageC'] = oeGarage.fit_transform(train_data[['GarageCond']])\n",
        "\n",
        "  # ordered feature for garage finish\n",
        "  train_data.loc[train_data['GarageFinish'].isna(), 'GarageFinish'] = 'NA'\n",
        "  oeGarageFin = OrdinalEncoder(categories=[['NA', 'Unf', 'RFn', 'Fin']])\n",
        "  train_data['GarageFin'] = oeGarageFin.fit_transform(train_data[['GarageFinish']])\n",
        "\n",
        "  # ordered feature for paved driveway\n",
        "  oeDrive = OrdinalEncoder(categories=[['N', 'P', 'Y']])\n",
        "  train_data['Driveway'] = oeDrive.fit_transform(train_data[['PavedDrive']])\n",
        "\n",
        "  # ordered feature for pool quality\n",
        "  train_data.loc[train_data['PoolQC'].isna(), 'PoolQC'] = 'NA'\n",
        "  oePool = OrdinalEncoder(categories=[['NA', 'Fa', 'TA', 'Gd', 'Ex']])\n",
        "  train_data['PoolQual'] = oePool.fit_transform(train_data[['PoolQC']])\n",
        "\n",
        "  # ordered feature for fence\n",
        "  train_data.loc[train_data['Fence'].isna(), 'Fence'] = 'NA'\n",
        "  oeFence = OrdinalEncoder(categories=[['NA', 'MnWw', 'GdWo', 'MnPrv', 'GdPrv']])\n",
        "  train_data['FenceQual'] = oeFence.fit_transform(train_data[['Fence']])\n",
        "\n",
        "  # fix NAs in numeric columns\n",
        "  train_data.loc[train_data['MasVnrArea'].isna(), 'MasVnrArea'] = 0\n",
        "  train_data.loc[train_data['LotFrontage'].isna(), 'LotFrontage'] = 0\n",
        "  train_data.loc[train_data['GarageYrBlt'].isna(), 'GarageYrBlt'] = train_data.loc[train_data['GarageYrBlt'].isna(), 'YearBuilt']\n",
        "\n",
        "  # one-hot encode columns with no obvious ordering\n",
        "  train_data = pd.get_dummies(train_data, columns=one_hot_cols)\n",
        "\n",
        "  # drop categorical features that we've extracted\n",
        "  train_data.drop(dropCols, axis=1, inplace=True)\n",
        "\n",
        "  return train_data"
      ],
      "execution_count": 0,
      "outputs": []
    },
    {
      "cell_type": "code",
      "metadata": {
        "id": "uHjzPoESylbE",
        "colab_type": "code",
        "outputId": "bd447f7b-dcf4-4218-dddd-4cccfe87091f",
        "colab": {
          "base_uri": "https://localhost:8080/",
          "height": 627
        }
      },
      "source": [
        "# make heatmap of correllations\n",
        "corr = train_data.corr()\n",
        "\n",
        "mask = np.zeros_like(corr, dtype=np.bool)\n",
        "mask[np.triu_indices_from(mask)] = True\n",
        "\n",
        "fig, ax = plt.subplots(figsize=(9, 9))\n",
        "cmap = sb.diverging_palette(220, 10, as_cmap=True)\n",
        "sb.heatmap(corr, mask=mask, cmap=cmap, ax=ax,  square=True)\n",
        "fig.tight_layout()"
      ],
      "execution_count": 9,
      "outputs": [
        {
          "output_type": "display_data",
          "data": {
            "image/png": "[encoded data removed]",
            "text/plain": [
              "<Figure size 648x648 with 2 Axes>"
            ]
          },
          "metadata": {
            "tags": []
          }
        }
      ]
    },
    {
      "cell_type": "code",
      "metadata": {
        "id": "Nck72fHBTkeB",
        "colab_type": "code",
        "outputId": "f4a5f5a9-3e04-4199-e80c-43a7cad9a277",
        "colab": {
          "base_uri": "https://localhost:8080/",
          "height": 499
        }
      },
      "source": [
        "# histogram of target to check for major outliers or strange distributions\n",
        "fig = plt.figure(figsize=(8,8))\n",
        "ax = fig.add_subplot(1,1,1)\n",
        "ax.hist(train_data['SalePrice'], bins=50)\n",
        "ax.set_title('Histogram of SalePrice')\n",
        "fig.show()"
      ],
      "execution_count": 10,
      "outputs": [
        {
          "output_type": "display_data",
          "data": {
            "image/png": "[encoded data removed]",
            "text/plain": [
              "<Figure size 576x576 with 1 Axes>"
            ]
          },
          "metadata": {
            "tags": []
          }
        }
      ]
    },
    {
      "cell_type": "code",
      "metadata": {
        "id": "jBwtrf3yWqgt",
        "colab_type": "code",
        "colab": {}
      },
      "source": [
        "# helper functions for analyzing different models\n",
        "def fix_cols(df_train, df_test):\n",
        "  new_test = df_test.copy()\n",
        "  for col in new_test.columns:\n",
        "    if col not in df_train.columns:\n",
        "      new_test.drop(col, axis=1, inplace=True)\n",
        "  for col in df_train:\n",
        "    if col not in new_test.columns:\n",
        "      new_test[col] = 0\n",
        "  return new_test\n",
        "\n",
        "def get_error(y_true, y_pred):\n",
        "  y_new = y_true[y_pred > 0]\n",
        "  y_pred_new = y_pred[y_pred > 0]\n",
        "  return sqrt(mean_squared_log_error(y_new, y_pred_new))\n"
      ],
      "execution_count": 0,
      "outputs": []
    },
    {
      "cell_type": "code",
      "metadata": {
        "id": "M0cbIS3Ygvsy",
        "colab_type": "code",
        "colab": {}
      },
      "source": [
        "processed = preprocess_data(train_data)\n",
        "processed_test = preprocess_data(test_data)\n",
        "processed_test = fix_cols(processed, processed_test)"
      ],
      "execution_count": 0,
      "outputs": []
    },
    {
      "cell_type": "code",
      "metadata": {
        "id": "IbGivXuSyyTS",
        "colab_type": "code",
        "colab": {}
      },
      "source": [
        "results = []"
      ],
      "execution_count": 0,
      "outputs": []
    },
    {
      "cell_type": "code",
      "metadata": {
        "id": "w0Nq_x1zaIka",
        "colab_type": "code",
        "outputId": "ce1510d1-d7fd-4cf9-d6b9-0fab17a6d87e",
        "colab": {
          "base_uri": "https://localhost:8080/",
          "height": 34
        }
      },
      "source": [
        "# dumb linear model with all features converting all categorical variables to simple dummies\n",
        "dummies = pd.get_dummies(train_data).dropna()\n",
        "X = dummies.drop(['SalePrice', 'Id'], axis=1)\n",
        "y = dummies['SalePrice']\n",
        "lm = LinearRegression()\n",
        "lm.fit(X,y)\n",
        "dummies_test = pd.get_dummies(test_data).dropna()\n",
        "dummies_test = fix_cols(dummies, dummies_test)\n",
        "X_test = dummies_test.drop(['SalePrice', 'Id'], axis=1)\n",
        "y_pred = lm.predict(X_test)\n",
        "err = get_error(dummies_test['SalePrice'], y_pred)\n",
        "print(err)\n",
        "results.append(['dummy linear', err])"
      ],
      "execution_count": 14,
      "outputs": [
        {
          "output_type": "stream",
          "text": [
            "1.1375823334943578\n"
          ],
          "name": "stdout"
        }
      ]
    },
    {
      "cell_type": "code",
      "metadata": {
        "id": "Ol0k3cI7jPZN",
        "colab_type": "code",
        "outputId": "9b7a74b0-bd07-46ee-ff9c-b3392e530060",
        "colab": {
          "base_uri": "https://localhost:8080/",
          "height": 34
        }
      },
      "source": [
        "X = processed.drop(['SalePrice'], axis=1)\n",
        "y = processed['SalePrice']\n",
        "lm = LinearRegression()\n",
        "lm.fit(X,y)\n",
        "X_test = processed_test.drop(['SalePrice'], axis=1)\n",
        "y_pred = lm.predict(X_test)\n",
        "y_test = processed_test['SalePrice']\n",
        "err = get_error(y_test, y_pred)\n",
        "print(err)\n",
        "results.append(['processed linear', err])"
      ],
      "execution_count": 15,
      "outputs": [
        {
          "output_type": "stream",
          "text": [
            "1.421286983761952\n"
          ],
          "name": "stdout"
        }
      ]
    },
    {
      "cell_type": "code",
      "metadata": {
        "id": "sBNr646tjz7X",
        "colab_type": "code",
        "outputId": "9f9cd2c5-c7ce-44f0-ce17-b959d207a762",
        "colab": {
          "base_uri": "https://localhost:8080/",
          "height": 513
        }
      },
      "source": [
        "# inspect correlations of new features\n",
        "corr = processed.corr()\n",
        "corr['SalePrice']\n",
        "fig, ax = plt.subplots(figsize=(8, 8))\n",
        "ax.hist(corr['SalePrice'], bins = 50)\n",
        "ax.set_title('Histogram of Correllation Coefficients with SalePrice')\n",
        "ax.set_xlabel('Correlation Coefficient')\n",
        "ax.set_ylabel('Num Features')\n",
        "fig.show()"
      ],
      "execution_count": 16,
      "outputs": [
        {
          "output_type": "display_data",
          "data": {
            "image/png": "[encoded data removed]",
            "text/plain": [
              "<Figure size 576x576 with 1 Axes>"
            ]
          },
          "metadata": {
            "tags": []
          }
        }
      ]
    },
    {
      "cell_type": "code",
      "metadata": {
        "id": "e6NwY9AilsQr",
        "colab_type": "code",
        "outputId": "d210a631-9333-4726-cbe5-06314d9cee56",
        "colab": {
          "base_uri": "https://localhost:8080/",
          "height": 34
        }
      },
      "source": [
        "# try choosing features based on corr coeficients with SalePrice\n",
        "colsToUse = corr.index[(corr['SalePrice'] > 0.3) | (corr['SalePrice'] < -0.3)].tolist()\n",
        "X = processed[colsToUse].drop(['SalePrice'], axis=1)\n",
        "y = processed['SalePrice']\n",
        "lm = LinearRegression()\n",
        "lm.fit(X,y)\n",
        "X_test = processed_test[colsToUse].drop(['SalePrice'], axis=1)\n",
        "y_pred = lm.predict(X_test)\n",
        "y_test = processed_test['SalePrice']\n",
        "err = get_error(y_test, y_pred)\n",
        "print(err)\n",
        "results.append(['linear corr cols', err])"
      ],
      "execution_count": 17,
      "outputs": [
        {
          "output_type": "stream",
          "text": [
            "0.157461611120384\n"
          ],
          "name": "stdout"
        }
      ]
    },
    {
      "cell_type": "code",
      "metadata": {
        "id": "c-A_A2NzMPiO",
        "colab_type": "code",
        "outputId": "6ad7907a-be5a-41e3-f54e-cac38909be2e",
        "colab": {
          "base_uri": "https://localhost:8080/",
          "height": 879
        }
      },
      "source": [
        "# visualize features with highest correllations\n",
        "num_cols = 35\n",
        "topcorrs = corr[['SalePrice']].sort_values('SalePrice', ascending=False).index[1:num_cols+1]\n",
        "\n",
        "fig = plt.figure(figsize=(21,15))\n",
        "plt.subplots_adjust(hspace=0.4)\n",
        "for idx,col in enumerate(topcorrs, start=1):\n",
        "  ax = fig.add_subplot(5,7,idx)\n",
        "  ax.scatter(processed[col], processed['SalePrice'])\n",
        "  plt.yscale('log') # added after the fact because plots had larger dispersion at high SalePrice\n",
        "  ax.set_title(col)\n",
        "fig.show()"
      ],
      "execution_count": 18,
      "outputs": [
        {
          "output_type": "display_data",
          "data": {
            "image/png": "[encoded data removed]",
            "text/plain": [
              "<Figure size 1512x1080 with 35 Axes>"
            ]
          },
          "metadata": {
            "tags": []
          }
        }
      ]
    },
    {
      "cell_type": "markdown",
      "metadata": {
        "id": "3D44a6NEelR1",
        "colab_type": "text"
      },
      "source": [
        "After looking at the plots above, from here on we predict to log(SalePrice) in our linear models."
      ]
    },
    {
      "cell_type": "code",
      "metadata": {
        "id": "64gcVEq8kNBG",
        "colab_type": "code",
        "colab": {
          "base_uri": "https://localhost:8080/",
          "height": 34
        },
        "outputId": "4bcb379a-313a-49f7-df1e-eae966b8dd1f"
      },
      "source": [
        "# take all top 35 features\n",
        "X = processed[topcorrs]\n",
        "y = processed[['SalePrice']]\n",
        "y_log = y.apply(lambda x: log(x), axis=1)\n",
        "lm = LinearRegression()\n",
        "lm.fit(X,y_log)\n",
        "X_test = processed_test[topcorrs]\n",
        "y_pred_log = lm.predict(X_test)\n",
        "y_pred = np.array([exp(x) for x in y_pred_log])\n",
        "y_test = processed_test['SalePrice']\n",
        "err = get_error(y_test, y_pred)\n",
        "print(err)\n",
        "results.append(['top corrs linear (vs log(SP))', err])"
      ],
      "execution_count": 19,
      "outputs": [
        {
          "output_type": "stream",
          "text": [
            "0.13746492193609375\n"
          ],
          "name": "stdout"
        }
      ]
    },
    {
      "cell_type": "code",
      "metadata": {
        "id": "Mx80p1vLk21i",
        "colab_type": "code",
        "colab": {
          "base_uri": "https://localhost:8080/",
          "height": 879
        },
        "outputId": "bf9063d2-6726-4534-f5f3-a04fcb3a1766"
      },
      "source": [
        "fig = plt.figure(figsize=(21,15))\n",
        "plt.subplots_adjust(hspace=0.4)\n",
        "y_train_pred_log = lm.predict(X)\n",
        "y_train_pred = np.array([exp(x) for x in y_train_pred_log])\n",
        "for idx,col in enumerate(topcorrs, start=1):\n",
        "  ax = fig.add_subplot(5,7,idx)\n",
        "  ax.scatter(processed[col], processed['SalePrice'], marker='.')\n",
        "  ax.scatter(X[col], y_train_pred, color='r', marker='.')\n",
        "  plt.yscale('log') # added after the fact because plots had larger dispersion at high SalePrice\n",
        "  ax.set_title(col)\n",
        "fig.show()"
      ],
      "execution_count": 20,
      "outputs": [
        {
          "output_type": "display_data",
          "data": {
            "image/png": "[encoded data removed]",
            "text/plain": [
              "<Figure size 1512x1080 with 35 Axes>"
            ]
          },
          "metadata": {
            "tags": []
          }
        }
      ]
    },
    {
      "cell_type": "code",
      "metadata": {
        "id": "ru0HHgZcMVXt",
        "colab_type": "code",
        "outputId": "514912bd-5b3a-4cb0-b29f-ee664188f368",
        "colab": {
          "base_uri": "https://localhost:8080/",
          "height": 34
        }
      },
      "source": [
        "# choose features based manually based on scatter plots\n",
        "colsToUse_scatter = ['OverallQual', 'GrLivArea', 'ExtQual', 'KitchQual', 'GarageArea', \n",
        "             '1stFlrSF', 'BsmtQ', 'FullBath', 'GarageFin', 'TotRmsAbvGrd', \n",
        "             'YearRemodAdd', 'MasVnrArea', 'FinBsmtArea', \n",
        "             'Neighborhood_NridgHt', 'Neighborhood_NoRidge', 'WoodDeckSF', \n",
        "             '2ndFlrSF']\n",
        "X = processed[colsToUse_scatter]\n",
        "y = processed[['SalePrice']]\n",
        "y_log = y.apply(lambda x: log(x), axis=1)\n",
        "lm = LinearRegression()\n",
        "lm.fit(X,y_log)\n",
        "X_test = processed_test[colsToUse_scatter]\n",
        "y_pred_log = lm.predict(X_test)\n",
        "y_pred = np.array([exp(x) for x in y_pred_log])\n",
        "y_test = processed_test['SalePrice']\n",
        "err = get_error(y_test, y_pred)\n",
        "print(err)\n",
        "results.append(['scatter visual linear (vs log(SP))', err])"
      ],
      "execution_count": 21,
      "outputs": [
        {
          "output_type": "stream",
          "text": [
            "0.1421290868339322\n"
          ],
          "name": "stdout"
        }
      ]
    },
    {
      "cell_type": "code",
      "metadata": {
        "id": "irbQuqOQ0eFz",
        "colab_type": "code",
        "outputId": "09ebb413-326a-40ce-ebcd-5124df1863f1",
        "colab": {
          "base_uri": "https://localhost:8080/",
          "height": 34
        }
      },
      "source": [
        "# manually choose features based on intuition\n",
        "colsToUse_intuit = ['LotArea','OverallQual','OverallCond','YearRemodAdd','1stFlrSF',\n",
        " '2ndFlrSF','FullBath','HalfBath','BedroomAbvGr','KitchenAbvGr','TotRmsAbvGrd','Fireplaces',\n",
        " 'GarageArea','WoodDeckSF','OpenPorchSF','EnclosedPorch','3SsnPorch','ScreenPorch',\n",
        " 'PoolArea','Utils','PosProxScore','NegProxScore','ExtQual','ExtCond','BsmtQ',\n",
        " 'BsmtC','HeatingQual','CentrlAir','Elec','KitchQual','HomeFunct','FireplQual',\n",
        " 'GarageQ','GarageC','Neighborhood_Blmngtn','Neighborhood_Blueste','Neighborhood_BrDale',\n",
        " 'Neighborhood_BrkSide','Neighborhood_ClearCr','Neighborhood_CollgCr','Neighborhood_Crawfor',\n",
        " 'Neighborhood_Edwards','Neighborhood_Gilbert','Neighborhood_IDOTRR','Neighborhood_MeadowV',\n",
        " 'Neighborhood_Mitchel','Neighborhood_NAmes','Neighborhood_NPkVill','Neighborhood_NWAmes',\n",
        " 'Neighborhood_NoRidge','Neighborhood_NridgHt','Neighborhood_OldTown','Neighborhood_SWISU',\n",
        " 'Neighborhood_Sawyer','Neighborhood_SawyerW','Neighborhood_Somerst','Neighborhood_StoneBr',\n",
        " 'Neighborhood_Timber','Neighborhood_Veenker',\n",
        " ]\n",
        "X = processed[colsToUse_intuit]\n",
        "y = processed[['SalePrice']]\n",
        "y_log = y.apply(lambda x: log(x), axis=1)\n",
        "lm = LinearRegression()\n",
        "lm.fit(X,y_log)\n",
        "X_test = processed_test[colsToUse_intuit]\n",
        "y_pred_log = lm.predict(X_test)\n",
        "y_pred = np.array([exp(x) for x in y_pred_log])\n",
        "y_test = processed_test['SalePrice']\n",
        "err = get_error(y_test, y_pred)\n",
        "print(err)\n",
        "results.append(['intuitive linear (vs log(SP))', err])"
      ],
      "execution_count": 22,
      "outputs": [
        {
          "output_type": "stream",
          "text": [
            "0.1236762789613893\n"
          ],
          "name": "stdout"
        }
      ]
    },
    {
      "cell_type": "code",
      "metadata": {
        "id": "lyhWrxiifxHk",
        "colab_type": "code",
        "colab": {}
      },
      "source": [
        "def get_expvar_by_ncomp(pca):\n",
        "  total_exp_var = 0.0\n",
        "  points = np.empty([pca.n_components_, 2])\n",
        "  for (i, var) in enumerate(pca.explained_variance_ratio_):\n",
        "    total_exp_var += var\n",
        "    points[i,0] = i\n",
        "    points[i,1] = total_exp_var\n",
        "  return points\n"
      ],
      "execution_count": 0,
      "outputs": []
    },
    {
      "cell_type": "code",
      "metadata": {
        "id": "UA4B7S1Gzu7s",
        "colab_type": "code",
        "outputId": "9abc18fa-fc03-4825-b264-07da04c847b6",
        "colab": {
          "base_uri": "https://localhost:8080/",
          "height": 513
        }
      },
      "source": [
        "# try PCA with different values of n_components\n",
        "pca = PCA(n_components=50)\n",
        "pca.fit(processed.drop(['SalePrice'], axis=1))\n",
        "points = get_expvar_by_ncomp(pca)\n",
        "x, y = points.T\n",
        "\n",
        "fig = plt.figure(figsize=(8,8))\n",
        "ax = fig.add_subplot(1,1,1)\n",
        "ax.plot(x, y)\n",
        "ax.set_title('Explained Variance vs Num PCA Components')\n",
        "ax.set_xlabel('Num Components')\n",
        "ax.set_ylabel('Explained Variance')\n",
        "fig.show()"
      ],
      "execution_count": 24,
      "outputs": [
        {
          "output_type": "display_data",
          "data": {
            "image/png": "[encoded data removed]",
            "text/plain": [
              "<Figure size 576x576 with 1 Axes>"
            ]
          },
          "metadata": {
            "tags": []
          }
        }
      ]
    },
    {
      "cell_type": "code",
      "metadata": {
        "id": "WwQCjjpUjDM2",
        "colab_type": "code",
        "outputId": "95b74f17-335b-4ec3-b7e3-91fed223329c",
        "colab": {
          "base_uri": "https://localhost:8080/",
          "height": 34
        }
      },
      "source": [
        "# use PCA to reduce feature space dramatically\n",
        "pca = PCA(n_components=21)\n",
        "X = pca.fit_transform(processed.drop(['SalePrice'], axis=1))\n",
        "y = processed[['SalePrice']]\n",
        "y_log = y.apply(lambda x: log(x), axis=1)\n",
        "lm = LinearRegression()\n",
        "lm.fit(X,y_log)\n",
        "X_test = pca.transform(processed_test.drop(['SalePrice'], axis=1))\n",
        "y_pred_log = lm.predict(X_test)\n",
        "y_pred = np.array([exp(x) for x in y_pred_log])\n",
        "y_test = processed_test['SalePrice']\n",
        "err = get_error(y_test, y_pred)\n",
        "print(err)\n",
        "results.append(['pca (vs log(SP))', err])"
      ],
      "execution_count": 25,
      "outputs": [
        {
          "output_type": "stream",
          "text": [
            "0.17241928484624433\n"
          ],
          "name": "stdout"
        }
      ]
    },
    {
      "cell_type": "code",
      "metadata": {
        "id": "1HX2voDhlOKJ",
        "colab_type": "code",
        "outputId": "2fa6a13d-7756-447d-8494-9c70b1d1dbea",
        "colab": {
          "base_uri": "https://localhost:8080/",
          "height": 34
        }
      },
      "source": [
        "# PCA error increases dramatically at the 22nd component and above, why is that?\n",
        "pca = PCA(n_components=50)\n",
        "X = pca.fit_transform(processed.drop(['SalePrice'], axis=1))\n",
        "y = processed[['SalePrice']]\n",
        "y_log = y.apply(lambda x: log(x), axis=1)\n",
        "lm = LinearRegression()\n",
        "lm.fit(X,y_log)\n",
        "X_test = pca.transform(processed_test.drop(['SalePrice'], axis=1))\n",
        "y_pred_log = lm.predict(X_test)\n",
        "y_pred = np.array([exp(x) for x in y_pred_log])\n",
        "y_test = processed_test['SalePrice']\n",
        "err = get_error(y_test, y_pred)\n",
        "print(err)\n",
        "results.append(['bad pca (vs log(SP))', err])"
      ],
      "execution_count": 26,
      "outputs": [
        {
          "output_type": "stream",
          "text": [
            "14.188795718733877\n"
          ],
          "name": "stdout"
        }
      ]
    },
    {
      "cell_type": "code",
      "metadata": {
        "id": "XjXbi2Et5KcI",
        "colab_type": "code",
        "outputId": "b085fd82-9157-4b8c-d365-4bb55e49ea4d",
        "colab": {
          "base_uri": "https://localhost:8080/",
          "height": 34
        }
      },
      "source": [
        "# Support Vector Regression\n",
        "svr = SVR(gamma='scale', kernel='rbf')\n",
        "X = processed.drop(['SalePrice'], axis=1)\n",
        "y = processed[['SalePrice']]\n",
        "y_log = y.apply(lambda x: log(x), axis=1)\n",
        "svr.fit(X, y_log)\n",
        "X_test = processed_test.drop(['SalePrice'], axis=1)\n",
        "y_pred_log = svr.predict(X_test)\n",
        "y_pred = np.array([exp(x) for x in y_pred_log])\n",
        "y_test = processed_test['SalePrice']\n",
        "err = get_error(y_test, y_pred)\n",
        "print(err)\n",
        "results.append(['SVR (vs log(SP))', err])"
      ],
      "execution_count": 27,
      "outputs": [
        {
          "output_type": "stream",
          "text": [
            "0.22810084339101383\n"
          ],
          "name": "stdout"
        }
      ]
    },
    {
      "cell_type": "code",
      "metadata": {
        "id": "BYJi7HX36jjI",
        "colab_type": "code",
        "outputId": "9c9e8a26-8eaa-4258-bff1-5161e1085b87",
        "colab": {
          "base_uri": "https://localhost:8080/",
          "height": 34
        }
      },
      "source": [
        "# lasso \n",
        "lasso = Lasso(alpha=0.01, max_iter=100000)\n",
        "X = processed.drop(['SalePrice'], axis=1)\n",
        "y = processed[['SalePrice']]\n",
        "y_log = y.apply(lambda x: log(x), axis=1)\n",
        "lasso.fit(X,y_log)\n",
        "X_test = processed_test.drop(['SalePrice'], axis=1)\n",
        "y_pred_log = lasso.predict(X_test)\n",
        "y_pred = np.array([exp(x) for x in y_pred_log])\n",
        "y_test = processed_test['SalePrice']\n",
        "err = get_error(y_test, y_pred)\n",
        "print(err)\n",
        "results.append(['Lasso (vs log(SP))', err])"
      ],
      "execution_count": 28,
      "outputs": [
        {
          "output_type": "stream",
          "text": [
            "0.1542873935415516\n"
          ],
          "name": "stdout"
        }
      ]
    },
    {
      "cell_type": "code",
      "metadata": {
        "id": "u4wVSsX-7jQa",
        "colab_type": "code",
        "outputId": "949986e0-1b46-4faa-c0fe-d1dc0e27a6df",
        "colab": {
          "base_uri": "https://localhost:8080/",
          "height": 34
        }
      },
      "source": [
        "# lasso with model selection\n",
        "lasso = LassoCV(cv=10, alphas=np.array([n/1000.0 for n in range(1,100,1)]), max_iter=100000)\n",
        "X = processed.drop(['SalePrice'], axis=1)\n",
        "y = processed[['SalePrice']]\n",
        "y_log = y.apply(lambda x: log(x), axis=1)\n",
        "lasso.fit(X,y_log)\n",
        "X_test = processed_test.drop(['SalePrice'], axis=1)\n",
        "y_pred_log = lasso.predict(X_test)\n",
        "y_pred = np.array([exp(x) for x in y_pred_log])\n",
        "y_test = processed_test['SalePrice']\n",
        "err = get_error(y_test, y_pred)\n",
        "print(err)\n",
        "results.append(['LassoCV (vs log(SP))', err])"
      ],
      "execution_count": 29,
      "outputs": [
        {
          "output_type": "stream",
          "text": [
            "0.16143811804691865\n"
          ],
          "name": "stdout"
        }
      ]
    },
    {
      "cell_type": "code",
      "metadata": {
        "id": "RbQarVkS8ZMU",
        "colab_type": "code",
        "outputId": "9e1fc623-edd8-4e2e-da5a-1dade199a898",
        "colab": {
          "base_uri": "https://localhost:8080/",
          "height": 34
        }
      },
      "source": [
        "# neural net on preprocessed features\n",
        "net = MLPRegressor(hidden_layer_sizes=(50,50), max_iter=10000)\n",
        "X = processed.drop(['SalePrice'], axis=1)\n",
        "y = processed['SalePrice']\n",
        "net.fit(X, y)\n",
        "X_test = processed_test.drop(['SalePrice'], axis=1)\n",
        "y_pred = net.predict(X_test)\n",
        "y_test = processed_test['SalePrice']\n",
        "err = get_error(y_test, y_pred)\n",
        "print(err)\n",
        "results.append(['neural net preprocessed', err])"
      ],
      "execution_count": 30,
      "outputs": [
        {
          "output_type": "stream",
          "text": [
            "0.18865353634797144\n"
          ],
          "name": "stdout"
        }
      ]
    },
    {
      "cell_type": "code",
      "metadata": {
        "id": "erO_ucRu-ub7",
        "colab_type": "code",
        "outputId": "11a1168c-5d5e-4526-9899-d5ebdbbdc271",
        "colab": {
          "base_uri": "https://localhost:8080/",
          "height": 34
        }
      },
      "source": [
        "# neural net on simple one-hot features\n",
        "net = MLPRegressor(hidden_layer_sizes=(50,50), max_iter=10000)\n",
        "dummies = pd.get_dummies(train_data).dropna()\n",
        "X = dummies.drop(['SalePrice', 'Id'], axis=1)\n",
        "y = dummies['SalePrice']\n",
        "net.fit(X,y)\n",
        "dummies_test = pd.get_dummies(test_data).dropna()\n",
        "dummies_test = fix_cols(dummies, dummies_test)\n",
        "X_test = dummies_test.drop(['SalePrice', 'Id'], axis=1)\n",
        "y_pred = net.predict(X_test)\n",
        "err = get_error(dummies_test['SalePrice'], y_pred)\n",
        "print(err)\n",
        "results.append(['neural net one-hot encoded', err])"
      ],
      "execution_count": 31,
      "outputs": [
        {
          "output_type": "stream",
          "text": [
            "0.19963792509009493\n"
          ],
          "name": "stdout"
        }
      ]
    },
    {
      "cell_type": "code",
      "metadata": {
        "id": "5FvAM667_3hq",
        "colab_type": "code",
        "outputId": "cc0f7f61-7a60-4074-a100-6dd42fff08cd",
        "colab": {
          "base_uri": "https://localhost:8080/",
          "height": 34
        }
      },
      "source": [
        "# regression on log(SalePrice) with all dummies\n",
        "dummies = pd.get_dummies(train_data).dropna()\n",
        "X = dummies.drop(['SalePrice', 'Id'], axis=1)\n",
        "y = dummies[['SalePrice']]\n",
        "y_log = y.apply(lambda x: log(x), axis=1)\n",
        "lm = LinearRegression()\n",
        "lm.fit(X,y_log)\n",
        "dummies_test = pd.get_dummies(test_data).dropna()\n",
        "dummies_test = fix_cols(dummies, dummies_test)\n",
        "X_test = dummies_test.drop(['SalePrice', 'Id'], axis=1)\n",
        "y_pred_log = lm.predict(X_test)\n",
        "y_pred = np.array([exp(x) for x in y_pred_log])\n",
        "err = get_error(dummies_test['SalePrice'], y_pred)\n",
        "print(err)\n",
        "results.append(['dummy linear (vs log(SP))', err])"
      ],
      "execution_count": 32,
      "outputs": [
        {
          "output_type": "stream",
          "text": [
            "0.6396027067065507\n"
          ],
          "name": "stdout"
        }
      ]
    },
    {
      "cell_type": "code",
      "metadata": {
        "id": "dI1KcEUbD6M-",
        "colab_type": "code",
        "outputId": "ec4786ef-6be9-421c-9585-9dc396834bf7",
        "colab": {
          "base_uri": "https://localhost:8080/",
          "height": 34
        }
      },
      "source": [
        "# regression on log(SalePrice) with all preprocessed feats\n",
        "X = processed.drop(['SalePrice'], axis=1)\n",
        "y = processed[['SalePrice']]\n",
        "y_log = y.apply(lambda x: log(x), axis=1)\n",
        "lm = LinearRegression()\n",
        "lm.fit(X,y_log)\n",
        "X_test = processed_test.drop(['SalePrice'], axis=1)\n",
        "y_pred_log = lm.predict(X_test)\n",
        "y_pred = np.array([exp(x) for x in y_pred_log])\n",
        "y_test = processed_test['SalePrice']\n",
        "err = get_error(y_test, y_pred)\n",
        "print(err)\n",
        "results.append(['processed linear (vs log(SP))', err])"
      ],
      "execution_count": 33,
      "outputs": [
        {
          "output_type": "stream",
          "text": [
            "9.965037929318065\n"
          ],
          "name": "stdout"
        }
      ]
    },
    {
      "cell_type": "code",
      "metadata": {
        "id": "05-YLCuB1fPm",
        "colab_type": "code",
        "outputId": "42013093-e790-42ee-f685-556ea7f11e2c",
        "colab": {
          "base_uri": "https://localhost:8080/",
          "height": 514
        }
      },
      "source": [
        "pd.DataFrame(results, columns=['Method', 'MeanSquaredLogError']).sort_values('MeanSquaredLogError')"
      ],
      "execution_count": 34,
      "outputs": [
        {
          "output_type": "execute_result",
          "data": {
            "text/html": [
              "<div>\n",
              "<style scoped>\n",
              "    .dataframe tbody tr th:only-of-type {\n",
              "        vertical-align: middle;\n",
              "    }\n",
              "\n",
              "    .dataframe tbody tr th {\n",
              "        vertical-align: top;\n",
              "    }\n",
              "\n",
              "    .dataframe thead th {\n",
              "        text-align: right;\n",
              "    }\n",
              "</style>\n",
              "<table border=\"1\" class=\"dataframe\">\n",
              "  <thead>\n",
              "    <tr style=\"text-align: right;\">\n",
              "      <th></th>\n",
              "      <th>Method</th>\n",
              "      <th>MeanSquaredLogError</th>\n",
              "    </tr>\n",
              "  </thead>\n",
              "  <tbody>\n",
              "    <tr>\n",
              "      <th>5</th>\n",
              "      <td>intuitive linear (vs log(SP))</td>\n",
              "      <td>0.123676</td>\n",
              "    </tr>\n",
              "    <tr>\n",
              "      <th>3</th>\n",
              "      <td>top corrs linear (vs log(SP))</td>\n",
              "      <td>0.137465</td>\n",
              "    </tr>\n",
              "    <tr>\n",
              "      <th>4</th>\n",
              "      <td>scatter visual linear (vs log(SP))</td>\n",
              "      <td>0.142129</td>\n",
              "    </tr>\n",
              "    <tr>\n",
              "      <th>9</th>\n",
              "      <td>Lasso (vs log(SP))</td>\n",
              "      <td>0.154287</td>\n",
              "    </tr>\n",
              "    <tr>\n",
              "      <th>2</th>\n",
              "      <td>linear corr cols</td>\n",
              "      <td>0.157462</td>\n",
              "    </tr>\n",
              "    <tr>\n",
              "      <th>10</th>\n",
              "      <td>LassoCV (vs log(SP))</td>\n",
              "      <td>0.161438</td>\n",
              "    </tr>\n",
              "    <tr>\n",
              "      <th>6</th>\n",
              "      <td>pca (vs log(SP))</td>\n",
              "      <td>0.172419</td>\n",
              "    </tr>\n",
              "    <tr>\n",
              "      <th>11</th>\n",
              "      <td>neural net preprocessed</td>\n",
              "      <td>0.188654</td>\n",
              "    </tr>\n",
              "    <tr>\n",
              "      <th>12</th>\n",
              "      <td>neural net one-hot encoded</td>\n",
              "      <td>0.199638</td>\n",
              "    </tr>\n",
              "    <tr>\n",
              "      <th>8</th>\n",
              "      <td>SVR (vs log(SP))</td>\n",
              "      <td>0.228101</td>\n",
              "    </tr>\n",
              "    <tr>\n",
              "      <th>13</th>\n",
              "      <td>dummy linear (vs log(SP))</td>\n",
              "      <td>0.639603</td>\n",
              "    </tr>\n",
              "    <tr>\n",
              "      <th>0</th>\n",
              "      <td>dummy linear</td>\n",
              "      <td>1.137582</td>\n",
              "    </tr>\n",
              "    <tr>\n",
              "      <th>1</th>\n",
              "      <td>processed linear</td>\n",
              "      <td>1.421287</td>\n",
              "    </tr>\n",
              "    <tr>\n",
              "      <th>14</th>\n",
              "      <td>processed linear (vs log(SP))</td>\n",
              "      <td>9.965038</td>\n",
              "    </tr>\n",
              "    <tr>\n",
              "      <th>7</th>\n",
              "      <td>bad pca (vs log(SP))</td>\n",
              "      <td>14.188796</td>\n",
              "    </tr>\n",
              "  </tbody>\n",
              "</table>\n",
              "</div>"
            ],
            "text/plain": [
              "                                Method  MeanSquaredLogError\n",
              "5        intuitive linear (vs log(SP))             0.123676\n",
              "3        top corrs linear (vs log(SP))             0.137465\n",
              "4   scatter visual linear (vs log(SP))             0.142129\n",
              "9                   Lasso (vs log(SP))             0.154287\n",
              "2                     linear corr cols             0.157462\n",
              "10                LassoCV (vs log(SP))             0.161438\n",
              "6                     pca (vs log(SP))             0.172419\n",
              "11             neural net preprocessed             0.188654\n",
              "12          neural net one-hot encoded             0.199638\n",
              "8                     SVR (vs log(SP))             0.228101\n",
              "13           dummy linear (vs log(SP))             0.639603\n",
              "0                         dummy linear             1.137582\n",
              "1                     processed linear             1.421287\n",
              "14       processed linear (vs log(SP))             9.965038\n",
              "7                 bad pca (vs log(SP))            14.188796"
            ]
          },
          "metadata": {
            "tags": []
          },
          "execution_count": 34
        }
      ]
    },
    {
      "cell_type": "markdown",
      "metadata": {
        "id": "dobxYjmLSIz7",
        "colab_type": "text"
      },
      "source": [
        "From the above analysis we notice a few key things to point out:\n",
        "\n",
        "\n",
        "*   The algorithm with the best accuracy is the intuitive linear regression model\n",
        "*   Simple One-Hot Encoding works very well\n",
        "*   Simple LinearRegression models work better than more complex ones like Neural Networks in many cases (especially when you don't have the time to do the necessary fine tuning neural networks require)\n",
        "*   Best to have domain knowledge\n",
        "*   \"Black Box\" Algorithms are hard to debug\n",
        "*   Large feature spaces are hard to debug and could decrease accuracy\n",
        "\n",
        "\n"
      ]
    },
    {
      "cell_type": "markdown",
      "metadata": {
        "id": "BH4ANDCois50",
        "colab_type": "text"
      },
      "source": [
        "Below is my original step by step analysis/processing of each feature. This has since been modified and added to the preprocess_data function but is kept here for reference."
      ]
    },
    {
      "cell_type": "code",
      "metadata": {
        "id": "qib3RFt5xa6C",
        "colab_type": "code",
        "outputId": "042a4631-b6e0-4c5a-9f44-e35acf0cbdf2",
        "colab": {
          "base_uri": "https://localhost:8080/",
          "height": 102
        }
      },
      "source": [
        "# drop Id column it shouldn't matter\n",
        "train_data.drop('Id', axis=1, inplace=True)"
      ],
      "execution_count": 35,
      "outputs": [
        {
          "output_type": "stream",
          "text": [
            "/usr/local/lib/python3.6/dist-packages/pandas/core/frame.py:4117: SettingWithCopyWarning: \n",
            "A value is trying to be set on a copy of a slice from a DataFrame\n",
            "\n",
            "See the caveats in the documentation: http://pandas.pydata.org/pandas-docs/stable/user_guide/indexing.html#returning-a-view-versus-a-copy\n",
            "  errors=errors,\n"
          ],
          "name": "stderr"
        }
      ]
    },
    {
      "cell_type": "code",
      "metadata": {
        "id": "h95c_bRvLvje",
        "colab_type": "code",
        "outputId": "6791ae31-34f4-446b-fe6b-b77aa6dbe6ed",
        "colab": {
          "base_uri": "https://localhost:8080/",
          "height": 102
        }
      },
      "source": [
        "# MSSubClass is an int but it really represents a set of categories\n",
        "# the information in the categories is mostly contained in other features so let's drop it\n",
        "train_data.drop('MSSubClass', axis=1, inplace=True)"
      ],
      "execution_count": 36,
      "outputs": [
        {
          "output_type": "stream",
          "text": [
            "/usr/local/lib/python3.6/dist-packages/pandas/core/frame.py:4117: SettingWithCopyWarning: \n",
            "A value is trying to be set on a copy of a slice from a DataFrame\n",
            "\n",
            "See the caveats in the documentation: http://pandas.pydata.org/pandas-docs/stable/user_guide/indexing.html#returning-a-view-versus-a-copy\n",
            "  errors=errors,\n"
          ],
          "name": "stderr"
        }
      ]
    },
    {
      "cell_type": "code",
      "metadata": {
        "id": "2FdFehtgre4C",
        "colab_type": "code",
        "outputId": "1d791298-c3c1-4ed2-ccae-3ddb8f81866a",
        "colab": {
          "base_uri": "https://localhost:8080/",
          "height": 34
        }
      },
      "source": [
        "train_data['MSZoning'].unique()"
      ],
      "execution_count": 37,
      "outputs": [
        {
          "output_type": "execute_result",
          "data": {
            "text/plain": [
              "array(['RL', 'RM', 'RH', 'FV', 'C (all)'], dtype=object)"
            ]
          },
          "metadata": {
            "tags": []
          },
          "execution_count": 37
        }
      ]
    },
    {
      "cell_type": "code",
      "metadata": {
        "id": "FGYnXRVS37IW",
        "colab_type": "code",
        "outputId": "73352f4e-4f5f-43a8-d497-a8a4feb44440",
        "colab": {
          "base_uri": "https://localhost:8080/",
          "height": 323
        }
      },
      "source": [
        "res_zones = ['FV','RH','RL','RP','RM']\n",
        "train_data['ResZoned'] = train_data['MSZoning'].isin(res_zones)\n",
        "train_data['Density'] = train_data.apply(lambda x: 4, axis= 1)\n",
        "train_data.loc[train_data['MSZoning'].isin(['RL', 'RP', 'A']), 'Density'] = 1\n",
        "train_data.loc[train_data['MSZoning'].isin(['RM', 'FV']), 'Density'] = 2\n",
        "train_data.loc[train_data['MSZoning'] == 'RH', 'Density'] = 3"
      ],
      "execution_count": 38,
      "outputs": [
        {
          "output_type": "stream",
          "text": [
            "/usr/local/lib/python3.6/dist-packages/ipykernel_launcher.py:2: SettingWithCopyWarning: \n",
            "A value is trying to be set on a copy of a slice from a DataFrame.\n",
            "Try using .loc[row_indexer,col_indexer] = value instead\n",
            "\n",
            "See the caveats in the documentation: http://pandas.pydata.org/pandas-docs/stable/user_guide/indexing.html#returning-a-view-versus-a-copy\n",
            "  \n",
            "/usr/local/lib/python3.6/dist-packages/ipykernel_launcher.py:3: SettingWithCopyWarning: \n",
            "A value is trying to be set on a copy of a slice from a DataFrame.\n",
            "Try using .loc[row_indexer,col_indexer] = value instead\n",
            "\n",
            "See the caveats in the documentation: http://pandas.pydata.org/pandas-docs/stable/user_guide/indexing.html#returning-a-view-versus-a-copy\n",
            "  This is separate from the ipykernel package so we can avoid doing imports until\n",
            "/usr/local/lib/python3.6/dist-packages/pandas/core/indexing.py:494: SettingWithCopyWarning: \n",
            "A value is trying to be set on a copy of a slice from a DataFrame.\n",
            "Try using .loc[row_indexer,col_indexer] = value instead\n",
            "\n",
            "See the caveats in the documentation: http://pandas.pydata.org/pandas-docs/stable/user_guide/indexing.html#returning-a-view-versus-a-copy\n",
            "  self.obj[item] = s\n"
          ],
          "name": "stderr"
        }
      ]
    },
    {
      "cell_type": "code",
      "metadata": {
        "id": "Qa4CdCrb4kUS",
        "colab_type": "code",
        "outputId": "65c8aa19-e48a-42cc-d2b7-e63646639276",
        "colab": {
          "base_uri": "https://localhost:8080/",
          "height": 102
        }
      },
      "source": [
        "train_data.drop('MSZoning', axis=1, inplace=True)"
      ],
      "execution_count": 39,
      "outputs": [
        {
          "output_type": "stream",
          "text": [
            "/usr/local/lib/python3.6/dist-packages/pandas/core/frame.py:4117: SettingWithCopyWarning: \n",
            "A value is trying to be set on a copy of a slice from a DataFrame\n",
            "\n",
            "See the caveats in the documentation: http://pandas.pydata.org/pandas-docs/stable/user_guide/indexing.html#returning-a-view-versus-a-copy\n",
            "  errors=errors,\n"
          ],
          "name": "stderr"
        }
      ]
    },
    {
      "cell_type": "code",
      "metadata": {
        "id": "LoVghrWi9jpy",
        "colab_type": "code",
        "colab": {}
      },
      "source": [
        "le = LabelEncoder()"
      ],
      "execution_count": 0,
      "outputs": []
    },
    {
      "cell_type": "code",
      "metadata": {
        "id": "9YlzHtBx8g1P",
        "colab_type": "code",
        "outputId": "73e18bdd-9235-4de8-961a-f9b85aa9a25a",
        "colab": {
          "base_uri": "https://localhost:8080/",
          "height": 119
        }
      },
      "source": [
        "train_data['RoadType'] = train_data[['Street']].apply(lambda col: le.fit_transform(col))"
      ],
      "execution_count": 41,
      "outputs": [
        {
          "output_type": "stream",
          "text": [
            "/usr/local/lib/python3.6/dist-packages/ipykernel_launcher.py:1: SettingWithCopyWarning: \n",
            "A value is trying to be set on a copy of a slice from a DataFrame.\n",
            "Try using .loc[row_indexer,col_indexer] = value instead\n",
            "\n",
            "See the caveats in the documentation: http://pandas.pydata.org/pandas-docs/stable/user_guide/indexing.html#returning-a-view-versus-a-copy\n",
            "  \"\"\"Entry point for launching an IPython kernel.\n"
          ],
          "name": "stderr"
        }
      ]
    },
    {
      "cell_type": "code",
      "metadata": {
        "id": "4OLarzTW9vsm",
        "colab_type": "code",
        "outputId": "d18f384f-64b9-4112-ce87-6a4f129cd605",
        "colab": {
          "base_uri": "https://localhost:8080/",
          "height": 102
        }
      },
      "source": [
        "train_data.drop('Street', axis=1, inplace=True)"
      ],
      "execution_count": 42,
      "outputs": [
        {
          "output_type": "stream",
          "text": [
            "/usr/local/lib/python3.6/dist-packages/pandas/core/frame.py:4117: SettingWithCopyWarning: \n",
            "A value is trying to be set on a copy of a slice from a DataFrame\n",
            "\n",
            "See the caveats in the documentation: http://pandas.pydata.org/pandas-docs/stable/user_guide/indexing.html#returning-a-view-versus-a-copy\n",
            "  errors=errors,\n"
          ],
          "name": "stderr"
        }
      ]
    },
    {
      "cell_type": "code",
      "metadata": {
        "id": "jMv4a9De98FB",
        "colab_type": "code",
        "outputId": "7331981a-f872-4a6c-e92f-b3b254145064",
        "colab": {
          "base_uri": "https://localhost:8080/",
          "height": 119
        }
      },
      "source": [
        "train_data['HasAlley'] = train_data['Alley'].isin(['Grvl','Pave'])"
      ],
      "execution_count": 43,
      "outputs": [
        {
          "output_type": "stream",
          "text": [
            "/usr/local/lib/python3.6/dist-packages/ipykernel_launcher.py:1: SettingWithCopyWarning: \n",
            "A value is trying to be set on a copy of a slice from a DataFrame.\n",
            "Try using .loc[row_indexer,col_indexer] = value instead\n",
            "\n",
            "See the caveats in the documentation: http://pandas.pydata.org/pandas-docs/stable/user_guide/indexing.html#returning-a-view-versus-a-copy\n",
            "  \"\"\"Entry point for launching an IPython kernel.\n"
          ],
          "name": "stderr"
        }
      ]
    },
    {
      "cell_type": "code",
      "metadata": {
        "id": "095mS9yT-aZR",
        "colab_type": "code",
        "outputId": "5ad4d15b-a9b0-4220-8c7c-f41cf7d3c455",
        "colab": {
          "base_uri": "https://localhost:8080/",
          "height": 102
        }
      },
      "source": [
        "train_data.drop('Alley', axis=1, inplace=True)"
      ],
      "execution_count": 44,
      "outputs": [
        {
          "output_type": "stream",
          "text": [
            "/usr/local/lib/python3.6/dist-packages/pandas/core/frame.py:4117: SettingWithCopyWarning: \n",
            "A value is trying to be set on a copy of a slice from a DataFrame\n",
            "\n",
            "See the caveats in the documentation: http://pandas.pydata.org/pandas-docs/stable/user_guide/indexing.html#returning-a-view-versus-a-copy\n",
            "  errors=errors,\n"
          ],
          "name": "stderr"
        }
      ]
    },
    {
      "cell_type": "code",
      "metadata": {
        "id": "gu5uFtfz-d2h",
        "colab_type": "code",
        "outputId": "39f0f956-a683-467f-8ca2-152374377db4",
        "colab": {
          "base_uri": "https://localhost:8080/",
          "height": 119
        }
      },
      "source": [
        "oeShape = OrdinalEncoder(categories=[['Reg', 'IR1', 'IR2', 'IR3']])\n",
        "train_data['Shape'] = oeShape.fit_transform(train_data[['LotShape']])"
      ],
      "execution_count": 45,
      "outputs": [
        {
          "output_type": "stream",
          "text": [
            "/usr/local/lib/python3.6/dist-packages/ipykernel_launcher.py:2: SettingWithCopyWarning: \n",
            "A value is trying to be set on a copy of a slice from a DataFrame.\n",
            "Try using .loc[row_indexer,col_indexer] = value instead\n",
            "\n",
            "See the caveats in the documentation: http://pandas.pydata.org/pandas-docs/stable/user_guide/indexing.html#returning-a-view-versus-a-copy\n",
            "  \n"
          ],
          "name": "stderr"
        }
      ]
    },
    {
      "cell_type": "code",
      "metadata": {
        "id": "27Ieku-rA7TH",
        "colab_type": "code",
        "outputId": "e09e2d09-11b2-4dc9-a923-d932f5feb832",
        "colab": {
          "base_uri": "https://localhost:8080/",
          "height": 102
        }
      },
      "source": [
        "train_data.drop('LotShape', axis=1, inplace=True)"
      ],
      "execution_count": 46,
      "outputs": [
        {
          "output_type": "stream",
          "text": [
            "/usr/local/lib/python3.6/dist-packages/pandas/core/frame.py:4117: SettingWithCopyWarning: \n",
            "A value is trying to be set on a copy of a slice from a DataFrame\n",
            "\n",
            "See the caveats in the documentation: http://pandas.pydata.org/pandas-docs/stable/user_guide/indexing.html#returning-a-view-versus-a-copy\n",
            "  errors=errors,\n"
          ],
          "name": "stderr"
        }
      ]
    },
    {
      "cell_type": "code",
      "metadata": {
        "id": "sxXYecBrBfa4",
        "colab_type": "code",
        "outputId": "3c5b3824-51bd-4de7-eaff-e283ec30d07c",
        "colab": {
          "base_uri": "https://localhost:8080/",
          "height": 102
        }
      },
      "source": [
        "train_data.drop('LandContour', axis=1, inplace=True)"
      ],
      "execution_count": 47,
      "outputs": [
        {
          "output_type": "stream",
          "text": [
            "/usr/local/lib/python3.6/dist-packages/pandas/core/frame.py:4117: SettingWithCopyWarning: \n",
            "A value is trying to be set on a copy of a slice from a DataFrame\n",
            "\n",
            "See the caveats in the documentation: http://pandas.pydata.org/pandas-docs/stable/user_guide/indexing.html#returning-a-view-versus-a-copy\n",
            "  errors=errors,\n"
          ],
          "name": "stderr"
        }
      ]
    },
    {
      "cell_type": "code",
      "metadata": {
        "id": "YN3vlhYgCDnR",
        "colab_type": "code",
        "outputId": "216f6d9d-359f-4bd1-b635-07d8a9dc6cd0",
        "colab": {
          "base_uri": "https://localhost:8080/",
          "height": 119
        }
      },
      "source": [
        "oeUtil = OrdinalEncoder(categories=[['ELO', 'NoSeWa', 'NoSewr', 'AllPub']])\n",
        "train_data['Utils'] = oeUtil.fit_transform(train_data[['Utilities']])"
      ],
      "execution_count": 48,
      "outputs": [
        {
          "output_type": "stream",
          "text": [
            "/usr/local/lib/python3.6/dist-packages/ipykernel_launcher.py:2: SettingWithCopyWarning: \n",
            "A value is trying to be set on a copy of a slice from a DataFrame.\n",
            "Try using .loc[row_indexer,col_indexer] = value instead\n",
            "\n",
            "See the caveats in the documentation: http://pandas.pydata.org/pandas-docs/stable/user_guide/indexing.html#returning-a-view-versus-a-copy\n",
            "  \n"
          ],
          "name": "stderr"
        }
      ]
    },
    {
      "cell_type": "code",
      "metadata": {
        "id": "fArXWJgBCohq",
        "colab_type": "code",
        "outputId": "7656c277-025e-4a7a-d51e-c81a68e7a006",
        "colab": {
          "base_uri": "https://localhost:8080/",
          "height": 102
        }
      },
      "source": [
        "train_data.drop('Utilities', axis=1, inplace=True)"
      ],
      "execution_count": 49,
      "outputs": [
        {
          "output_type": "stream",
          "text": [
            "/usr/local/lib/python3.6/dist-packages/pandas/core/frame.py:4117: SettingWithCopyWarning: \n",
            "A value is trying to be set on a copy of a slice from a DataFrame\n",
            "\n",
            "See the caveats in the documentation: http://pandas.pydata.org/pandas-docs/stable/user_guide/indexing.html#returning-a-view-versus-a-copy\n",
            "  errors=errors,\n"
          ],
          "name": "stderr"
        }
      ]
    },
    {
      "cell_type": "code",
      "metadata": {
        "id": "FM7YbN20CtMY",
        "colab_type": "code",
        "outputId": "24572feb-b24f-4d4d-c7a4-e8ddc0d83537",
        "colab": {
          "base_uri": "https://localhost:8080/",
          "height": 221
        }
      },
      "source": [
        "train_data['IsCulDSac'] = train_data['LotConfig'] == 'CulDSac'\n",
        "train_data['HasFrontage'] = train_data['LotConfig'].isin(['FR2', 'FR3'])"
      ],
      "execution_count": 50,
      "outputs": [
        {
          "output_type": "stream",
          "text": [
            "/usr/local/lib/python3.6/dist-packages/ipykernel_launcher.py:1: SettingWithCopyWarning: \n",
            "A value is trying to be set on a copy of a slice from a DataFrame.\n",
            "Try using .loc[row_indexer,col_indexer] = value instead\n",
            "\n",
            "See the caveats in the documentation: http://pandas.pydata.org/pandas-docs/stable/user_guide/indexing.html#returning-a-view-versus-a-copy\n",
            "  \"\"\"Entry point for launching an IPython kernel.\n",
            "/usr/local/lib/python3.6/dist-packages/ipykernel_launcher.py:2: SettingWithCopyWarning: \n",
            "A value is trying to be set on a copy of a slice from a DataFrame.\n",
            "Try using .loc[row_indexer,col_indexer] = value instead\n",
            "\n",
            "See the caveats in the documentation: http://pandas.pydata.org/pandas-docs/stable/user_guide/indexing.html#returning-a-view-versus-a-copy\n",
            "  \n"
          ],
          "name": "stderr"
        }
      ]
    },
    {
      "cell_type": "code",
      "metadata": {
        "id": "VJmA4mFEEDlR",
        "colab_type": "code",
        "outputId": "dda4271b-190b-4f92-fe75-6546d44e9b74",
        "colab": {
          "base_uri": "https://localhost:8080/",
          "height": 102
        }
      },
      "source": [
        "train_data.drop('LotConfig', axis=1, inplace=True)"
      ],
      "execution_count": 51,
      "outputs": [
        {
          "output_type": "stream",
          "text": [
            "/usr/local/lib/python3.6/dist-packages/pandas/core/frame.py:4117: SettingWithCopyWarning: \n",
            "A value is trying to be set on a copy of a slice from a DataFrame\n",
            "\n",
            "See the caveats in the documentation: http://pandas.pydata.org/pandas-docs/stable/user_guide/indexing.html#returning-a-view-versus-a-copy\n",
            "  errors=errors,\n"
          ],
          "name": "stderr"
        }
      ]
    },
    {
      "cell_type": "code",
      "metadata": {
        "id": "hw6YpdxyEHJg",
        "colab_type": "code",
        "outputId": "29f25aba-9210-4dab-e9c5-cc5dc2bba61d",
        "colab": {
          "base_uri": "https://localhost:8080/",
          "height": 119
        }
      },
      "source": [
        "oeSlope = OrdinalEncoder(categories=[['Gtl', 'Mod', 'Sev']])\n",
        "train_data['Slope'] = oeSlope.fit_transform(train_data[['LandSlope']])"
      ],
      "execution_count": 52,
      "outputs": [
        {
          "output_type": "stream",
          "text": [
            "/usr/local/lib/python3.6/dist-packages/ipykernel_launcher.py:2: SettingWithCopyWarning: \n",
            "A value is trying to be set on a copy of a slice from a DataFrame.\n",
            "Try using .loc[row_indexer,col_indexer] = value instead\n",
            "\n",
            "See the caveats in the documentation: http://pandas.pydata.org/pandas-docs/stable/user_guide/indexing.html#returning-a-view-versus-a-copy\n",
            "  \n"
          ],
          "name": "stderr"
        }
      ]
    },
    {
      "cell_type": "code",
      "metadata": {
        "id": "OqphsdF3EaZ5",
        "colab_type": "code",
        "outputId": "5acfef8c-a81e-412f-a31a-6dad6f93cfae",
        "colab": {
          "base_uri": "https://localhost:8080/",
          "height": 102
        }
      },
      "source": [
        "train_data.drop('LandSlope', axis=1, inplace=True)"
      ],
      "execution_count": 53,
      "outputs": [
        {
          "output_type": "stream",
          "text": [
            "/usr/local/lib/python3.6/dist-packages/pandas/core/frame.py:4117: SettingWithCopyWarning: \n",
            "A value is trying to be set on a copy of a slice from a DataFrame\n",
            "\n",
            "See the caveats in the documentation: http://pandas.pydata.org/pandas-docs/stable/user_guide/indexing.html#returning-a-view-versus-a-copy\n",
            "  errors=errors,\n"
          ],
          "name": "stderr"
        }
      ]
    },
    {
      "cell_type": "code",
      "metadata": {
        "id": "-2VzZuLYEiKp",
        "colab_type": "code",
        "colab": {}
      },
      "source": [
        "train_data = pd.concat([train_data, pd.get_dummies(train_data['Neighborhood'])], axis=1)"
      ],
      "execution_count": 0,
      "outputs": []
    },
    {
      "cell_type": "code",
      "metadata": {
        "id": "ec_TdYzXFOdx",
        "colab_type": "code",
        "colab": {}
      },
      "source": [
        "train_data.drop('Neighborhood', axis=1, inplace=True)"
      ],
      "execution_count": 0,
      "outputs": []
    },
    {
      "cell_type": "code",
      "metadata": {
        "id": "hdoi_ttvFQh6",
        "colab_type": "code",
        "colab": {}
      },
      "source": [
        "def get_prox_num(x):\n",
        "  pos = 0\n",
        "  neg = 0\n",
        "  if(x['Condition1'] == 'RRAn' or x['Condition1'] == 'RRAe'  or x['Condition2'] == 'RRAn' or x['Condition2'] == 'RRAe'):\n",
        "    neg = -2\n",
        "  elif(x['Condition1'] == 'RRNn' or x['Condition1'] == 'RRNe'  or x['Condition2'] == 'RRNn' or x['Condition2'] == 'RRNe'):\n",
        "    neg = -1\n",
        "  \n",
        "  if(x['Condition1'] == 'PosA'  or x['Condition2'] == 'PosA'):\n",
        "    pos = 2\n",
        "  elif(x['Condition1'] == 'PosN'  or x['Condition2'] == 'PosN'):\n",
        "    pos = 1\n",
        "\n",
        "  return pos + neg"
      ],
      "execution_count": 0,
      "outputs": []
    },
    {
      "cell_type": "code",
      "metadata": {
        "id": "JYruO0voGZxp",
        "colab_type": "code",
        "colab": {}
      },
      "source": [
        "train_data['ProximityScore'] = train_data.apply(lambda x: get_prox_num(x), axis=1)"
      ],
      "execution_count": 0,
      "outputs": []
    },
    {
      "cell_type": "code",
      "metadata": {
        "id": "Ec0DLbt_ii9m",
        "colab_type": "code",
        "colab": {}
      },
      "source": [
        "train_data.drop(['Condition1', 'Condition2'], axis=1, inplace=True)"
      ],
      "execution_count": 0,
      "outputs": []
    },
    {
      "cell_type": "code",
      "metadata": {
        "id": "hANj8cSooYk_",
        "colab_type": "code",
        "colab": {}
      },
      "source": [
        "\n",
        "oeBldg = OrdinalEncoder(categories=[['2FmCon', 'TwnhsI', 'TwnhsE', 'Duplx', '1Fam']])\n",
        "train_data.loc[train_data['BldgType'] == '2fmCon', 'BldgType'] = '2FmCon'\n",
        "train_data.loc[train_data['BldgType'] == 'Twnhs', 'BldgType'] = 'TwnhsI'\n",
        "train_data.loc[train_data['BldgType'] == 'Duplex', 'BldgType'] = 'Duplx'\n",
        "train_data['Bldg'] = oeBldg.fit_transform(train_data[['BldgType']])"
      ],
      "execution_count": 0,
      "outputs": []
    },
    {
      "cell_type": "code",
      "metadata": {
        "id": "upuDl1x-hm5x",
        "colab_type": "code",
        "colab": {}
      },
      "source": [
        "train_data.drop('BldgType', axis=1, inplace=True)"
      ],
      "execution_count": 0,
      "outputs": []
    },
    {
      "cell_type": "code",
      "metadata": {
        "id": "SehZnrIeiuHw",
        "colab_type": "code",
        "colab": {}
      },
      "source": [
        "oeHouse = OrdinalEncoder(categories=[['1Story', '1.5Unf', '1.5Fin', 'SFoyer', 'SLvl', '2Story', '2.5Unf', '2.5Fin']])\n",
        "train_data['House'] = oeHouse.fit_transform(train_data[['HouseStyle']])"
      ],
      "execution_count": 0,
      "outputs": []
    },
    {
      "cell_type": "code",
      "metadata": {
        "id": "pue86d_1i2Tv",
        "colab_type": "code",
        "colab": {}
      },
      "source": [
        "train_data.drop('HouseStyle', axis=1, inplace=True)"
      ],
      "execution_count": 0,
      "outputs": []
    },
    {
      "cell_type": "code",
      "metadata": {
        "id": "mQ5W-zHEi7rD",
        "colab_type": "code",
        "outputId": "bc2b91bc-2cd2-47f4-e193-75e57fc9e0aa",
        "colab": {
          "base_uri": "https://localhost:8080/",
          "height": 85
        }
      },
      "source": [
        "print(train_data['YearBuilt'].min())\n",
        "print(train_data['YearRemodAdd'].min())\n",
        "print(train_data['YearBuilt'].max())\n",
        "print(train_data['YearRemodAdd'].max())"
      ],
      "execution_count": 63,
      "outputs": [
        {
          "output_type": "stream",
          "text": [
            "1875\n",
            "1950\n",
            "2010\n",
            "2010\n"
          ],
          "name": "stdout"
        }
      ]
    },
    {
      "cell_type": "code",
      "metadata": {
        "id": "53j1-w24mUZr",
        "colab_type": "code",
        "outputId": "1d3adb0b-9a2d-4069-a785-cb0af774cf16",
        "colab": {
          "base_uri": "https://localhost:8080/",
          "height": 320
        }
      },
      "source": [
        "fig, ax = plt.subplots(figsize=(5, 5))\n",
        "ax.hist(train_data['YearBuilt'], bins = 50)\n",
        "fig.show()"
      ],
      "execution_count": 64,
      "outputs": [
        {
          "output_type": "display_data",
          "data": {
            "image/png": "[encoded data removed]",
            "text/plain": [
              "<Figure size 360x360 with 1 Axes>"
            ]
          },
          "metadata": {
            "tags": []
          }
        }
      ]
    },
    {
      "cell_type": "code",
      "metadata": {
        "id": "_6ubvsPHmxWE",
        "colab_type": "code",
        "colab": {}
      },
      "source": [
        "train_data.drop('RoofStyle', axis=1, inplace=True)"
      ],
      "execution_count": 0,
      "outputs": []
    },
    {
      "cell_type": "code",
      "metadata": {
        "id": "bHVwmnW7onpj",
        "colab_type": "code",
        "outputId": "dd525d19-707a-4835-d740-3d13c20a1d2c",
        "colab": {
          "base_uri": "https://localhost:8080/",
          "height": 512
        }
      },
      "source": [
        "fig = plt.figure(figsize=(16,8))\n",
        "mats = train_data['RoofMatl'].unique()\n",
        "for idx,mat in enumerate(mats, start=1):\n",
        "  ax = fig.add_subplot(2,4,idx)\n",
        "  ax.hist(train_data.loc[train_data['RoofMatl'] == mat, 'SalePrice'], bins = 20)\n",
        "  ax.set_title(mat)\n",
        "fig.show()"
      ],
      "execution_count": 66,
      "outputs": [
        {
          "output_type": "display_data",
          "data": {
            "image/png": "[encoded data removed]",
            "text/plain": [
              "<Figure size 1152x576 with 8 Axes>"
            ]
          },
          "metadata": {
            "tags": []
          }
        }
      ]
    },
    {
      "cell_type": "code",
      "metadata": {
        "id": "mH_gZeIMph93",
        "colab_type": "code",
        "outputId": "e978c2c3-6672-4d97-8937-3dbe4a97f94d",
        "colab": {
          "base_uri": "https://localhost:8080/",
          "height": 85
        }
      },
      "source": [
        "print(len(train_data.loc[train_data['RoofMatl'] == 'Metal']))\n",
        "print(len(train_data.loc[train_data['RoofMatl'] == 'Membran']))\n",
        "print(len(train_data.loc[train_data['RoofMatl'] == 'Roll']))\n",
        "print(len(train_data.loc[train_data['RoofMatl'] == 'ClyTile']))"
      ],
      "execution_count": 67,
      "outputs": [
        {
          "output_type": "stream",
          "text": [
            "1\n",
            "1\n",
            "1\n",
            "1\n"
          ],
          "name": "stdout"
        }
      ]
    },
    {
      "cell_type": "code",
      "metadata": {
        "id": "AlG8vvsZrSFR",
        "colab_type": "code",
        "colab": {}
      },
      "source": [
        "# not enough distribution on the values besides CompShg\n",
        "train_data.drop('RoofMatl', axis=1, inplace=True)"
      ],
      "execution_count": 0,
      "outputs": []
    },
    {
      "cell_type": "code",
      "metadata": {
        "id": "1tpWj5oUsEmh",
        "colab_type": "code",
        "colab": {}
      },
      "source": [
        "ext_dummies = pd.get_dummies(train_data[['Exterior1st', 'Exterior2nd']], {'Exterior1st': 'Ext', 'Exterior2nd': 'Ext2'}, columns=['Exterior1st', 'Exterior2nd'])\n",
        "\n",
        "rmvCols = []\n",
        "for col in ext_dummies.columns:\n",
        "  if 'Ext2' in col:\n",
        "    mat = col.split('_')[1]\n",
        "    if mat == 'Brk Cmn':\n",
        "      mat = 'BrkComm'\n",
        "    if mat == 'CmentBd':\n",
        "      mat = 'CemntBd'\n",
        "    if mat == 'Wd Shng':\n",
        "      mat = 'WdShing'\n",
        "    extCol = 'Ext_' + mat\n",
        "    if extCol not in ext_dummies.columns:\n",
        "      ext_dummies[extCol] = ext_dummies[col]\n",
        "    ext_dummies[extCol] = ext_dummies[extCol] | ext_dummies[col]\n",
        "    rmvCols.append(col)\n",
        "ext_dummies.drop(rmvCols, axis=1, inplace=True)\n",
        "\n",
        "train_data = pd.concat([train_data, ext_dummies], axis=1)"
      ],
      "execution_count": 0,
      "outputs": []
    },
    {
      "cell_type": "code",
      "metadata": {
        "id": "ZNqldN5Sx2Ky",
        "colab_type": "code",
        "colab": {}
      },
      "source": [
        "train_data.drop(['Exterior1st', 'Exterior2nd'], axis=1, inplace=True)"
      ],
      "execution_count": 0,
      "outputs": []
    },
    {
      "cell_type": "code",
      "metadata": {
        "id": "_2eDKsuc1toM",
        "colab_type": "code",
        "colab": {}
      },
      "source": [
        "train_data.loc[train_data['MasVnrType'].isna(), 'MasVnrType'] = 'None'\n",
        "oeMasonry = OrdinalEncoder(categories=[['CBlock', 'None', 'BrkCmn', 'BrkFace', 'Stone']])\n",
        "train_data['Masonry'] = oeMasonry.fit_transform(train_data[['MasVnrType']])"
      ],
      "execution_count": 0,
      "outputs": []
    },
    {
      "cell_type": "code",
      "metadata": {
        "id": "kPD5FsK42gEL",
        "colab_type": "code",
        "colab": {}
      },
      "source": [
        "train_data.drop('MasVnrType', axis=1, inplace=True)"
      ],
      "execution_count": 0,
      "outputs": []
    },
    {
      "cell_type": "code",
      "metadata": {
        "id": "FfBBS5Cm9aHp",
        "colab_type": "code",
        "colab": {}
      },
      "source": [
        "train_data.loc[train_data['MasVnrArea'].isna(), 'MasVnrArea'] = 0"
      ],
      "execution_count": 0,
      "outputs": []
    },
    {
      "cell_type": "code",
      "metadata": {
        "id": "kOK8inRZ9h36",
        "colab_type": "code",
        "colab": {}
      },
      "source": [
        "oeExtQ = OrdinalEncoder(categories=[['Po', 'Fa', 'TA', 'Gd', 'Ex']])\n",
        "train_data['ExtQual'] = oeExtQ.fit_transform(train_data[['ExterQual']])\n",
        "train_data['ExtCond'] = oeExtQ.fit_transform(train_data[['ExterCond']])"
      ],
      "execution_count": 0,
      "outputs": []
    },
    {
      "cell_type": "code",
      "metadata": {
        "id": "HQVc8DMN-jHX",
        "colab_type": "code",
        "colab": {}
      },
      "source": [
        "train_data.drop(['ExterQual', 'ExterCond'], axis=1, inplace=True)"
      ],
      "execution_count": 0,
      "outputs": []
    },
    {
      "cell_type": "code",
      "metadata": {
        "id": "7cWIpChZ-nGy",
        "colab_type": "code",
        "outputId": "506ac071-fa68-42f7-f4ab-53cd8f846c23",
        "colab": {
          "base_uri": "https://localhost:8080/",
          "height": 601
        }
      },
      "source": [
        "fig = plt.figure(figsize=(18,8))\n",
        "mats = train_data['Foundation'].unique()\n",
        "for idx,mat in enumerate(mats, start=1):\n",
        "  ax = fig.add_subplot(2,3,idx)\n",
        "  ax.hist(train_data.loc[train_data['Foundation'] == mat, 'SalePrice'], bins = 20)\n",
        "  ax.set_title(mat)\n",
        "  print(mat + ' mean= ' + str(train_data.loc[train_data['Foundation'] == mat, 'SalePrice'].mean()))\n",
        "fig.show()"
      ],
      "execution_count": 76,
      "outputs": [
        {
          "output_type": "stream",
          "text": [
            "CBlock mean= 151068.08735632183\n",
            "Stone mean= 178595.8\n",
            "PConc mean= 220316.32488479262\n",
            "BrkTil mean= 130749.92523364486\n",
            "Wood mean= 196500.0\n",
            "Slab mean= 109386.76470588235\n"
          ],
          "name": "stdout"
        },
        {
          "output_type": "display_data",
          "data": {
            "image/png": "[encoded data removed]",
            "text/plain": [
              "<Figure size 1296x576 with 6 Axes>"
            ]
          },
          "metadata": {
            "tags": []
          }
        }
      ]
    },
    {
      "cell_type": "code",
      "metadata": {
        "id": "rz9iUiZ__Am4",
        "colab_type": "code",
        "colab": {}
      },
      "source": [
        "oeFound = OrdinalEncoder(categories=[['Slab', 'BrkTil', 'CBlock', 'Stone', 'Wood', 'PConc']])\n",
        "train_data['FoundationMat'] = oeFound.fit_transform(train_data[['Foundation']])"
      ],
      "execution_count": 0,
      "outputs": []
    },
    {
      "cell_type": "code",
      "metadata": {
        "id": "DB07Y5tdAoKG",
        "colab_type": "code",
        "colab": {}
      },
      "source": [
        "train_data.drop('Foundation', axis=1, inplace=True)"
      ],
      "execution_count": 0,
      "outputs": []
    },
    {
      "cell_type": "code",
      "metadata": {
        "id": "7VQa0XefAs8E",
        "colab_type": "code",
        "colab": {}
      },
      "source": [
        "train_data.loc[train_data['BsmtQual'].isna(), 'BsmtQual'] = 'NA'\n",
        "train_data.loc[train_data['BsmtCond'].isna(), 'BsmtCond'] = 'NA'\n",
        "oeBsmtQ = OrdinalEncoder(categories=[['NA', 'Po', 'Fa', 'TA', 'Gd', 'Ex']])\n",
        "train_data['BsmtQ'] = oeBsmtQ.fit_transform(train_data[['BsmtQual']])\n",
        "train_data['BsmtC'] = oeBsmtQ.fit_transform(train_data[['BsmtCond']])"
      ],
      "execution_count": 0,
      "outputs": []
    },
    {
      "cell_type": "code",
      "metadata": {
        "id": "kVz1_gpyBkz8",
        "colab_type": "code",
        "colab": {}
      },
      "source": [
        "train_data.drop(['BsmtQual', 'BsmtCond'], axis=1, inplace=True)"
      ],
      "execution_count": 0,
      "outputs": []
    },
    {
      "cell_type": "code",
      "metadata": {
        "id": "AxdgUG8gCEUS",
        "colab_type": "code",
        "colab": {}
      },
      "source": [
        "train_data.loc[train_data['BsmtExposure'].isna(), 'BsmtExposure'] = 'NA'\n",
        "oeBsmtExp = OrdinalEncoder(categories=[['NA', 'No', 'Mn', 'Av', 'Gd']])\n",
        "train_data['BsmtExp'] = oeBsmtExp.fit_transform(train_data[['BsmtExposure']])"
      ],
      "execution_count": 0,
      "outputs": []
    },
    {
      "cell_type": "code",
      "metadata": {
        "id": "y5Txt9hNCvIk",
        "colab_type": "code",
        "colab": {}
      },
      "source": [
        "train_data.drop('BsmtExposure', axis=1, inplace=True)"
      ],
      "execution_count": 0,
      "outputs": []
    },
    {
      "cell_type": "code",
      "metadata": {
        "id": "a9lElF51DDwc",
        "colab_type": "code",
        "colab": {}
      },
      "source": [
        "train_data['FinBsmtArea'] = train_data['TotalBsmtSF'] - train_data['BsmtUnfSF']"
      ],
      "execution_count": 0,
      "outputs": []
    },
    {
      "cell_type": "code",
      "metadata": {
        "id": "dxOx1HDQEb5E",
        "colab_type": "code",
        "colab": {}
      },
      "source": [
        "train_data.drop(['BsmtFinType1', 'BsmtFinSF1', 'BsmtFinType2', 'BsmtFinSF2', 'TotalBsmtSF', 'BsmtUnfSF'], axis=1, inplace=True)"
      ],
      "execution_count": 0,
      "outputs": []
    },
    {
      "cell_type": "code",
      "metadata": {
        "id": "MPs_M6JNEt1a",
        "colab_type": "code",
        "colab": {}
      },
      "source": [
        "oeHeat = OrdinalEncoder(categories=[['Po', 'Fa', 'TA', 'Gd', 'Ex']])\n",
        "train_data['HeatingQual'] = oeHeat.fit_transform(train_data[['HeatingQC']])"
      ],
      "execution_count": 0,
      "outputs": []
    },
    {
      "cell_type": "code",
      "metadata": {
        "id": "J4pdcjH3FX5k",
        "colab_type": "code",
        "colab": {}
      },
      "source": [
        "train_data.drop(['HeatingQC', 'Heating'], axis=1, inplace=True)"
      ],
      "execution_count": 0,
      "outputs": []
    },
    {
      "cell_type": "code",
      "metadata": {
        "id": "jMhcD2h-GCvS",
        "colab_type": "code",
        "colab": {}
      },
      "source": [
        "train_data['CentrlAir'] = train_data[['CentralAir']].apply(lambda col: le.fit_transform(col))"
      ],
      "execution_count": 0,
      "outputs": []
    },
    {
      "cell_type": "code",
      "metadata": {
        "id": "sCJ7jY-cGhK7",
        "colab_type": "code",
        "colab": {}
      },
      "source": [
        "train_data.drop('CentralAir', axis=1, inplace=True)"
      ],
      "execution_count": 0,
      "outputs": []
    },
    {
      "cell_type": "code",
      "metadata": {
        "id": "IQnNZuULGskd",
        "colab_type": "code",
        "colab": {}
      },
      "source": [
        "train_data.loc[train_data['Electrical'].isna(), 'Electrical'] = 'NA'\n",
        "oeElec = OrdinalEncoder(categories=[['NA', 'FuseP', 'FuseF', 'Mix', 'FuseA', 'SBrkr']])\n",
        "train_data['Elec'] = oeElec.fit_transform(train_data[['Electrical']])"
      ],
      "execution_count": 0,
      "outputs": []
    },
    {
      "cell_type": "code",
      "metadata": {
        "id": "M5ORDKbiHMUM",
        "colab_type": "code",
        "colab": {}
      },
      "source": [
        "train_data.drop('Electrical', axis=1, inplace=True)"
      ],
      "execution_count": 0,
      "outputs": []
    },
    {
      "cell_type": "code",
      "metadata": {
        "id": "F6d_uyGUHg0C",
        "colab_type": "code",
        "colab": {}
      },
      "source": [
        "oeKitch = OrdinalEncoder(categories=[['Po', 'Fa', 'TA', 'Gd', 'Ex']])\n",
        "train_data['KitchQual'] = oeKitch.fit_transform(train_data[['KitchenQual']])"
      ],
      "execution_count": 0,
      "outputs": []
    },
    {
      "cell_type": "code",
      "metadata": {
        "id": "6ENjObWNIBjs",
        "colab_type": "code",
        "colab": {}
      },
      "source": [
        "train_data.drop('KitchenQual', axis=1, inplace=True)"
      ],
      "execution_count": 0,
      "outputs": []
    },
    {
      "cell_type": "code",
      "metadata": {
        "id": "GbZRKSnBIDn8",
        "colab_type": "code",
        "colab": {}
      },
      "source": [
        "oeFunc = OrdinalEncoder(categories=[['Sal', 'Sev', 'Maj2', 'Maj1', 'Mod', 'Min2', 'Min1', 'Typ']])\n",
        "train_data['HomeFunct'] = oeFunc.fit_transform(train_data[['Functional']])"
      ],
      "execution_count": 0,
      "outputs": []
    },
    {
      "cell_type": "code",
      "metadata": {
        "id": "AKJyyldRIldM",
        "colab_type": "code",
        "colab": {}
      },
      "source": [
        "train_data.drop('Functional', axis=1, inplace=True)"
      ],
      "execution_count": 0,
      "outputs": []
    },
    {
      "cell_type": "code",
      "metadata": {
        "id": "xNzoHe9XIowr",
        "colab_type": "code",
        "colab": {}
      },
      "source": [
        "train_data.loc[train_data['FireplaceQu'].isna(), 'FireplaceQu'] = 'NA'\n",
        "oeFireQ = OrdinalEncoder(categories=[['NA', 'Po', 'Fa', 'TA', 'Gd', 'Ex']])\n",
        "train_data['FireplQual'] = oeFireQ.fit_transform(train_data[['FireplaceQu']])"
      ],
      "execution_count": 0,
      "outputs": []
    },
    {
      "cell_type": "code",
      "metadata": {
        "id": "8SQJC9KfI9Se",
        "colab_type": "code",
        "colab": {}
      },
      "source": [
        "train_data.drop('FireplaceQu', axis=1, inplace=True)"
      ],
      "execution_count": 0,
      "outputs": []
    },
    {
      "cell_type": "code",
      "metadata": {
        "id": "zU3zGPmeJMC8",
        "colab_type": "code",
        "colab": {}
      },
      "source": [
        "train_data.loc[train_data['GarageQual'].isna(), 'GarageQual'] = 'NA'\n",
        "train_data.loc[train_data['GarageCond'].isna(), 'GarageCond'] = 'NA'\n",
        "oeGarage = OrdinalEncoder(categories=[['NA', 'Po', 'Fa', 'TA', 'Gd', 'Ex']])\n",
        "train_data['GarageQ'] = oeGarage.fit_transform(train_data[['GarageQual']])\n",
        "train_data['GarageC'] = oeGarage.fit_transform(train_data[['GarageCond']])"
      ],
      "execution_count": 0,
      "outputs": []
    },
    {
      "cell_type": "code",
      "metadata": {
        "id": "IAykf_OyKFX0",
        "colab_type": "code",
        "colab": {}
      },
      "source": [
        "train_data.loc[train_data['GarageFinish'].isna(), 'GarageFinish'] = 'NA'\n",
        "oeGarageFin = OrdinalEncoder(categories=[['NA', 'Unf', 'RFn', 'Fin']])\n",
        "train_data['GarageFin'] = oeGarageFin.fit_transform(train_data[['GarageFinish']])"
      ],
      "execution_count": 0,
      "outputs": []
    },
    {
      "cell_type": "code",
      "metadata": {
        "id": "LGcRi6L2Kdr7",
        "colab_type": "code",
        "colab": {}
      },
      "source": [
        "train_data.drop(['GarageType','GarageFinish','GarageQual','GarageCond'], axis=1, inplace=True)"
      ],
      "execution_count": 0,
      "outputs": []
    },
    {
      "cell_type": "code",
      "metadata": {
        "id": "ERw7X1uQK_Qc",
        "colab_type": "code",
        "colab": {}
      },
      "source": [
        "oeDrive = OrdinalEncoder(categories=[['N', 'P', 'Y']])\n",
        "train_data['Driveway'] = oeDrive.fit_transform(train_data[['PavedDrive']])"
      ],
      "execution_count": 0,
      "outputs": []
    },
    {
      "cell_type": "code",
      "metadata": {
        "id": "AwIUfgCNLQkc",
        "colab_type": "code",
        "colab": {}
      },
      "source": [
        "train_data.drop('PavedDrive', axis=1, inplace=True)"
      ],
      "execution_count": 0,
      "outputs": []
    },
    {
      "cell_type": "code",
      "metadata": {
        "id": "0a_2By4XLTc0",
        "colab_type": "code",
        "colab": {}
      },
      "source": [
        "train_data.loc[train_data['PoolQC'].isna(), 'PoolQC'] = 'NA'\n",
        "oePool = OrdinalEncoder(categories=[['NA', 'Fa', 'TA', 'Gd', 'Ex']])\n",
        "train_data['PoolQual'] = oePool.fit_transform(train_data[['PoolQC']])"
      ],
      "execution_count": 0,
      "outputs": []
    },
    {
      "cell_type": "code",
      "metadata": {
        "id": "MuRvf89SLzS1",
        "colab_type": "code",
        "colab": {}
      },
      "source": [
        "train_data.drop('PoolQC', axis=1, inplace=True)"
      ],
      "execution_count": 0,
      "outputs": []
    },
    {
      "cell_type": "code",
      "metadata": {
        "id": "K5p8LkQeL5Pt",
        "colab_type": "code",
        "colab": {}
      },
      "source": [
        "train_data.loc[train_data['Fence'].isna(), 'Fence'] = 'NA'\n",
        "oeFence = OrdinalEncoder(categories=[['NA', 'MnWw', 'GdWo', 'MnPrv', 'GdPrv']])\n",
        "train_data['FenceQual'] = oeFence.fit_transform(train_data[['Fence']])"
      ],
      "execution_count": 0,
      "outputs": []
    },
    {
      "cell_type": "code",
      "metadata": {
        "id": "q3HdKb61MPID",
        "colab_type": "code",
        "colab": {}
      },
      "source": [
        "train_data.drop('Fence', axis=1, inplace=True)"
      ],
      "execution_count": 0,
      "outputs": []
    },
    {
      "cell_type": "code",
      "metadata": {
        "id": "w2xNF2K7MTJE",
        "colab_type": "code",
        "colab": {}
      },
      "source": [
        "train_data = pd.get_dummies(train_data, columns=['MiscFeature', 'SaleType', 'SaleCondition'])"
      ],
      "execution_count": 0,
      "outputs": []
    },
    {
      "cell_type": "code",
      "metadata": {
        "id": "ygx7bzc5Mt18",
        "colab_type": "code",
        "outputId": "1ce39f8c-25c8-433b-a9d7-5d5e2242eb3f",
        "colab": {
          "base_uri": "https://localhost:8080/",
          "height": 1000
        }
      },
      "source": [
        "pd.options.display.max_rows = 200\n",
        "print(train_data.isna().any())\n",
        "pd.options.display.max_rows = 60"
      ],
      "execution_count": 107,
      "outputs": [
        {
          "output_type": "stream",
          "text": [
            "LotFrontage               True\n",
            "LotArea                  False\n",
            "OverallQual              False\n",
            "OverallCond              False\n",
            "YearBuilt                False\n",
            "YearRemodAdd             False\n",
            "MasVnrArea               False\n",
            "1stFlrSF                 False\n",
            "2ndFlrSF                 False\n",
            "LowQualFinSF             False\n",
            "GrLivArea                False\n",
            "BsmtFullBath             False\n",
            "BsmtHalfBath             False\n",
            "FullBath                 False\n",
            "HalfBath                 False\n",
            "BedroomAbvGr             False\n",
            "KitchenAbvGr             False\n",
            "TotRmsAbvGrd             False\n",
            "Fireplaces               False\n",
            "GarageYrBlt               True\n",
            "GarageCars               False\n",
            "GarageArea               False\n",
            "WoodDeckSF               False\n",
            "OpenPorchSF              False\n",
            "EnclosedPorch            False\n",
            "3SsnPorch                False\n",
            "ScreenPorch              False\n",
            "PoolArea                 False\n",
            "MiscVal                  False\n",
            "MoSold                   False\n",
            "YrSold                   False\n",
            "SalePrice                False\n",
            "ResZoned                 False\n",
            "Density                  False\n",
            "RoadType                 False\n",
            "HasAlley                 False\n",
            "Shape                    False\n",
            "Utils                    False\n",
            "IsCulDSac                False\n",
            "HasFrontage              False\n",
            "Slope                    False\n",
            "Blmngtn                  False\n",
            "Blueste                  False\n",
            "BrDale                   False\n",
            "BrkSide                  False\n",
            "ClearCr                  False\n",
            "CollgCr                  False\n",
            "Crawfor                  False\n",
            "Edwards                  False\n",
            "Gilbert                  False\n",
            "IDOTRR                   False\n",
            "MeadowV                  False\n",
            "Mitchel                  False\n",
            "NAmes                    False\n",
            "NPkVill                  False\n",
            "NWAmes                   False\n",
            "NoRidge                  False\n",
            "NridgHt                  False\n",
            "OldTown                  False\n",
            "SWISU                    False\n",
            "Sawyer                   False\n",
            "SawyerW                  False\n",
            "Somerst                  False\n",
            "StoneBr                  False\n",
            "Timber                   False\n",
            "Veenker                  False\n",
            "ProximityScore           False\n",
            "Bldg                     False\n",
            "House                    False\n",
            "Ext_AsbShng              False\n",
            "Ext_AsphShn              False\n",
            "Ext_BrkComm              False\n",
            "Ext_BrkFace              False\n",
            "Ext_CBlock               False\n",
            "Ext_CemntBd              False\n",
            "Ext_HdBoard              False\n",
            "Ext_ImStucc              False\n",
            "Ext_MetalSd              False\n",
            "Ext_Plywood              False\n",
            "Ext_Stone                False\n",
            "Ext_Stucco               False\n",
            "Ext_VinylSd              False\n",
            "Ext_Wd Sdng              False\n",
            "Ext_WdShing              False\n",
            "Ext_Other                False\n",
            "Masonry                  False\n",
            "ExtQual                  False\n",
            "ExtCond                  False\n",
            "FoundationMat            False\n",
            "BsmtQ                    False\n",
            "BsmtC                    False\n",
            "BsmtExp                  False\n",
            "FinBsmtArea              False\n",
            "HeatingQual              False\n",
            "CentrlAir                False\n",
            "Elec                     False\n",
            "KitchQual                False\n",
            "HomeFunct                False\n",
            "FireplQual               False\n",
            "GarageQ                  False\n",
            "GarageC                  False\n",
            "GarageFin                False\n",
            "Driveway                 False\n",
            "PoolQual                 False\n",
            "FenceQual                False\n",
            "MiscFeature_Gar2         False\n",
            "MiscFeature_Othr         False\n",
            "MiscFeature_Shed         False\n",
            "MiscFeature_TenC         False\n",
            "SaleType_COD             False\n",
            "SaleType_CWD             False\n",
            "SaleType_Con             False\n",
            "SaleType_ConLD           False\n",
            "SaleType_ConLI           False\n",
            "SaleType_ConLw           False\n",
            "SaleType_New             False\n",
            "SaleType_Oth             False\n",
            "SaleType_WD              False\n",
            "SaleCondition_Abnorml    False\n",
            "SaleCondition_AdjLand    False\n",
            "SaleCondition_Alloca     False\n",
            "SaleCondition_Family     False\n",
            "SaleCondition_Normal     False\n",
            "SaleCondition_Partial    False\n",
            "dtype: bool\n"
          ],
          "name": "stdout"
        }
      ]
    },
    {
      "cell_type": "code",
      "metadata": {
        "id": "meWG7aNEQZKH",
        "colab_type": "code",
        "colab": {}
      },
      "source": [
        "train_data.loc[train_data['LotFrontage'].isna(), 'LotFrontage'] = 0\n",
        "train_data.loc[train_data['GarageYrBlt'].isna(), 'GarageYrBlt'] = train_data.loc[train_data['GarageYrBlt'].isna(), 'YearBuilt']\n"
      ],
      "execution_count": 0,
      "outputs": []
    },
    {
      "cell_type": "code",
      "metadata": {
        "id": "fiOlWFyPOcAl",
        "colab_type": "code",
        "outputId": "133d3b5f-3404-4f18-bbec-c9e2a3b595ca",
        "colab": {
          "base_uri": "https://localhost:8080/",
          "height": 34
        }
      },
      "source": [
        "X = train_data.drop(['SalePrice'], axis=1)\n",
        "y = train_data['SalePrice']\n",
        "lm = LinearRegression()\n",
        "lm.fit(X,y)\n",
        "y_pred = lm.predict(X)\n",
        "sqrt(mean_squared_log_error(y, y_pred))"
      ],
      "execution_count": 109,
      "outputs": [
        {
          "output_type": "execute_result",
          "data": {
            "text/plain": [
              "0.1503808011524099"
            ]
          },
          "metadata": {
            "tags": []
          },
          "execution_count": 109
        }
      ]
    },
    {
      "cell_type": "code",
      "metadata": {
        "id": "-W8QWP1JPdqd",
        "colab_type": "code",
        "colab": {}
      },
      "source": [
        ""
      ],
      "execution_count": 0,
      "outputs": []
    }
  ]
}